{
 "cells": [
  {
   "cell_type": "markdown",
   "metadata": {},
   "source": [
    "# ***Описание проекта***\n",
    "\n",
    "Интернет-магазин «Стримчик», продаёт по всему миру компьютерные игры. Из открытых источников доступны исторические данные о продажах игр за 2016 год, оценки пользователей и экспертов, жанры и платформы (например, Xbox или PlayStation). Нужно выявить определяющие успешность игры закономерности. Это позволит сделать ставку на потенциально популярный продукт и спланировать рекламные кампании.\n",
    "\n",
    "# ***Описание данных***\n",
    " \n",
    "* `Name` — название игры\n",
    "* `Platform` — платформа\n",
    "* `Year_of_Release` — год выпуска\n",
    "* `Genre` — жанр игры\n",
    "* `NA_sales` — продажи в Северной Америке (миллионы проданных копий)\n",
    "* `EU_sales` — продажи в Европе (миллионы проданных копий)\n",
    "* `JP_sales` — продажи в Японии (миллионы проданных копий)\n",
    "* `Other_sales` — продажи в других странах (миллионы проданных копий)\n",
    "* `Critic_Score` — оценка критиков (максимум 100)\n",
    "* `User_Score` — оценка пользователей (максимум 10)\n",
    "* `Rating` — рейтинг от организации ESRB (англ. Entertainment Software Rating Board). Эта ассоциация определяет рейтинг компьютерных игр и присваивает им подходящую возрастную категорию.\n",
    "\n",
    "# ***План исследования***\n",
    "\n",
    "* Изучим общую информацию.\n",
    "\n",
    "\n",
    "* Подготовим данные:\n",
    "    - Приведем названия столбцов к нижнему регистру.\n",
    "    - Преобразуем данные в нужные типы.\n",
    "    - Обработаем пропуски при необходимости.\n",
    "    - Посчитаем суммы продаж во всех регионах.\n",
    " \n",
    " \n",
    "* Проведем исследовательский анализ данных:\n",
    "    - Посмотрим, сколько игр выпускалось в разные годы.\n",
    "    - Посмотрим, как менялись продажи по платформам. Выберем платформы с наибольшими суммарными продажами и построим распределение по годам.\n",
    "    - Определим какие платформы лидируют по продажам, растут или падают. Выберем несколько потенциально прибыльных платформ.\n",
    "    - Построим график «ящик с усами» по глобальным продажам игр в разбивке по платформам. Опишем результат.\n",
    "    - Посмотрим, как влияют на продажи внутри одной популярной платформы отзывы пользователей и критиков. Построим диаграмму рассеяния и посчитаем корреляцию между отзывами и продажами. Сформулируем выводы.\n",
    "    - Соотнесем выводы с продажами игр на других платформах.\n",
    "    - Посмотрим на общее распределение игр по жанрам.\n",
    "\n",
    "\n",
    "* Составим портрет пользователя каждого региона:\n",
    "    - Самые популярные платформы (топ-5).\n",
    "    - Самые популярные жанры (топ-5).\n",
    "    - Посмотрим влияет ли рейтинг ESRB на продажи в отдельном регионе.\n",
    "    \n",
    "\n",
    "* Проверим гипотезы:\n",
    "    - Средние пользовательские рейтинги платформ Xbox One и PC одинаковые.\n",
    "    - Средние пользовательские рейтинги жанров Action (англ. «действие», экшен-игры) и Sports (англ. «спортивные соревнования») разные.\n",
    "    \n",
    "\n",
    "* Общий вывод."
   ]
  },
  {
   "cell_type": "markdown",
   "metadata": {},
   "source": [
    "##   Изучим общую информацию."
   ]
  },
  {
   "cell_type": "code",
   "execution_count": 1,
   "metadata": {},
   "outputs": [],
   "source": [
    "# импортируем необходимые библиотеки\n",
    "\n",
    "import pandas as pd\n",
    "import numpy as np\n",
    "import seaborn as sns\n",
    "import matplotlib.pyplot as plt\n",
    "from scipy import stats as st\n",
    "\n",
    "pd.set_option('display.max_columns', None)"
   ]
  },
  {
   "cell_type": "code",
   "execution_count": 2,
   "metadata": {},
   "outputs": [],
   "source": [
    "# откроем файл с данными\n",
    "df = pd.read_csv('/datasets/games.csv')"
   ]
  },
  {
   "cell_type": "code",
   "execution_count": 3,
   "metadata": {},
   "outputs": [
    {
     "data": {
      "text/html": [
       "<div>\n",
       "<style scoped>\n",
       "    .dataframe tbody tr th:only-of-type {\n",
       "        vertical-align: middle;\n",
       "    }\n",
       "\n",
       "    .dataframe tbody tr th {\n",
       "        vertical-align: top;\n",
       "    }\n",
       "\n",
       "    .dataframe thead th {\n",
       "        text-align: right;\n",
       "    }\n",
       "</style>\n",
       "<table border=\"1\" class=\"dataframe\">\n",
       "  <thead>\n",
       "    <tr style=\"text-align: right;\">\n",
       "      <th></th>\n",
       "      <th>Name</th>\n",
       "      <th>Platform</th>\n",
       "      <th>Year_of_Release</th>\n",
       "      <th>Genre</th>\n",
       "      <th>NA_sales</th>\n",
       "      <th>EU_sales</th>\n",
       "      <th>JP_sales</th>\n",
       "      <th>Other_sales</th>\n",
       "      <th>Critic_Score</th>\n",
       "      <th>User_Score</th>\n",
       "      <th>Rating</th>\n",
       "    </tr>\n",
       "  </thead>\n",
       "  <tbody>\n",
       "    <tr>\n",
       "      <th>0</th>\n",
       "      <td>Wii Sports</td>\n",
       "      <td>Wii</td>\n",
       "      <td>2006.0</td>\n",
       "      <td>Sports</td>\n",
       "      <td>41.36</td>\n",
       "      <td>28.96</td>\n",
       "      <td>3.77</td>\n",
       "      <td>8.45</td>\n",
       "      <td>76.0</td>\n",
       "      <td>8</td>\n",
       "      <td>E</td>\n",
       "    </tr>\n",
       "    <tr>\n",
       "      <th>1</th>\n",
       "      <td>Super Mario Bros.</td>\n",
       "      <td>NES</td>\n",
       "      <td>1985.0</td>\n",
       "      <td>Platform</td>\n",
       "      <td>29.08</td>\n",
       "      <td>3.58</td>\n",
       "      <td>6.81</td>\n",
       "      <td>0.77</td>\n",
       "      <td>NaN</td>\n",
       "      <td>NaN</td>\n",
       "      <td>NaN</td>\n",
       "    </tr>\n",
       "    <tr>\n",
       "      <th>2</th>\n",
       "      <td>Mario Kart Wii</td>\n",
       "      <td>Wii</td>\n",
       "      <td>2008.0</td>\n",
       "      <td>Racing</td>\n",
       "      <td>15.68</td>\n",
       "      <td>12.76</td>\n",
       "      <td>3.79</td>\n",
       "      <td>3.29</td>\n",
       "      <td>82.0</td>\n",
       "      <td>8.3</td>\n",
       "      <td>E</td>\n",
       "    </tr>\n",
       "    <tr>\n",
       "      <th>3</th>\n",
       "      <td>Wii Sports Resort</td>\n",
       "      <td>Wii</td>\n",
       "      <td>2009.0</td>\n",
       "      <td>Sports</td>\n",
       "      <td>15.61</td>\n",
       "      <td>10.93</td>\n",
       "      <td>3.28</td>\n",
       "      <td>2.95</td>\n",
       "      <td>80.0</td>\n",
       "      <td>8</td>\n",
       "      <td>E</td>\n",
       "    </tr>\n",
       "    <tr>\n",
       "      <th>4</th>\n",
       "      <td>Pokemon Red/Pokemon Blue</td>\n",
       "      <td>GB</td>\n",
       "      <td>1996.0</td>\n",
       "      <td>Role-Playing</td>\n",
       "      <td>11.27</td>\n",
       "      <td>8.89</td>\n",
       "      <td>10.22</td>\n",
       "      <td>1.00</td>\n",
       "      <td>NaN</td>\n",
       "      <td>NaN</td>\n",
       "      <td>NaN</td>\n",
       "    </tr>\n",
       "  </tbody>\n",
       "</table>\n",
       "</div>"
      ],
      "text/plain": [
       "                       Name Platform  Year_of_Release         Genre  NA_sales  \\\n",
       "0                Wii Sports      Wii           2006.0        Sports     41.36   \n",
       "1         Super Mario Bros.      NES           1985.0      Platform     29.08   \n",
       "2            Mario Kart Wii      Wii           2008.0        Racing     15.68   \n",
       "3         Wii Sports Resort      Wii           2009.0        Sports     15.61   \n",
       "4  Pokemon Red/Pokemon Blue       GB           1996.0  Role-Playing     11.27   \n",
       "\n",
       "   EU_sales  JP_sales  Other_sales  Critic_Score User_Score Rating  \n",
       "0     28.96      3.77         8.45          76.0          8      E  \n",
       "1      3.58      6.81         0.77           NaN        NaN    NaN  \n",
       "2     12.76      3.79         3.29          82.0        8.3      E  \n",
       "3     10.93      3.28         2.95          80.0          8      E  \n",
       "4      8.89     10.22         1.00           NaN        NaN    NaN  "
      ]
     },
     "execution_count": 3,
     "metadata": {},
     "output_type": "execute_result"
    }
   ],
   "source": [
    "# посмотрим первые строки датафрейма\n",
    "df.head()"
   ]
  },
  {
   "cell_type": "code",
   "execution_count": 4,
   "metadata": {},
   "outputs": [
    {
     "name": "stdout",
     "output_type": "stream",
     "text": [
      "<class 'pandas.core.frame.DataFrame'>\n",
      "RangeIndex: 16715 entries, 0 to 16714\n",
      "Data columns (total 11 columns):\n",
      " #   Column           Non-Null Count  Dtype  \n",
      "---  ------           --------------  -----  \n",
      " 0   Name             16713 non-null  object \n",
      " 1   Platform         16715 non-null  object \n",
      " 2   Year_of_Release  16446 non-null  float64\n",
      " 3   Genre            16713 non-null  object \n",
      " 4   NA_sales         16715 non-null  float64\n",
      " 5   EU_sales         16715 non-null  float64\n",
      " 6   JP_sales         16715 non-null  float64\n",
      " 7   Other_sales      16715 non-null  float64\n",
      " 8   Critic_Score     8137 non-null   float64\n",
      " 9   User_Score       10014 non-null  object \n",
      " 10  Rating           9949 non-null   object \n",
      "dtypes: float64(6), object(5)\n",
      "memory usage: 1.4+ MB\n"
     ]
    }
   ],
   "source": [
    "# посмотрим общую информацию о датасете\n",
    "df.info()"
   ]
  },
  {
   "cell_type": "code",
   "execution_count": 5,
   "metadata": {},
   "outputs": [
    {
     "data": {
      "text/plain": [
       "Name                  2\n",
       "Platform              0\n",
       "Year_of_Release     269\n",
       "Genre                 2\n",
       "NA_sales              0\n",
       "EU_sales              0\n",
       "JP_sales              0\n",
       "Other_sales           0\n",
       "Critic_Score       8578\n",
       "User_Score         6701\n",
       "Rating             6766\n",
       "dtype: int64"
      ]
     },
     "execution_count": 5,
     "metadata": {},
     "output_type": "execute_result"
    }
   ],
   "source": [
    "# посчитаем количество пропусков данных по всем колонкам\n",
    "df.isna().sum()"
   ]
  },
  {
   "cell_type": "markdown",
   "metadata": {},
   "source": [
    "* В датафрейме есть колонки с пропусками:\n",
    "    * name - удалим так как нам нечем заполнить.\n",
    "    * year_of_release - удалим так как неоткуда взять эту информацию (кроме нескольких игр в названии которых есть год выпуска).\n",
    "    * genre - удалим так как нам нечем заполнить.\n",
    "    * critic_score - оставим без изменений, оценка не подлежит корректному заполнению синтетическими данными.\n",
    "    * user_score - оставим без изменений, оценка не подлежит корректному заполнению синтетическими данными.\n",
    "    * rating - заполним значением unknown.\n",
    "\n",
    "* В датафрейме есть колонки в которых решено заменить тип данных:\n",
    "    * year_of_release заменим тип на int (так как год это целочисленное значение)\n",
    "    * user_score заменим на float (так как данные представлены числами с плавающей запятой)"
   ]
  },
  {
   "cell_type": "markdown",
   "metadata": {},
   "source": [
    "## Подготовим данные"
   ]
  },
  {
   "cell_type": "code",
   "execution_count": 6,
   "metadata": {},
   "outputs": [],
   "source": [
    "# приведем названия колонок к нижнему регистру\n",
    "df.columns = df.columns.str.lower()"
   ]
  },
  {
   "cell_type": "code",
   "execution_count": 7,
   "metadata": {},
   "outputs": [
    {
     "data": {
      "text/plain": [
       "0"
      ]
     },
     "execution_count": 7,
     "metadata": {},
     "output_type": "execute_result"
    }
   ],
   "source": [
    "# проверим данные на наличие явных дубликатов\n",
    "df.duplicated().sum()"
   ]
  },
  {
   "cell_type": "code",
   "execution_count": 8,
   "metadata": {},
   "outputs": [],
   "source": [
    "# удалим пропуски в колонках name, year_of_release, genre\n",
    "df.dropna(subset=['name', 'year_of_release', 'genre'], inplace = True)\n",
    "\n",
    "# заполним пропуски в колонке rating значением \"unknown\"\n",
    "df['rating'].fillna('unknown', inplace=True)"
   ]
  },
  {
   "cell_type": "markdown",
   "metadata": {},
   "source": [
    "В колонке с пользовательскими оценками есть значения 'tbd' To Be Determined, то есть 'Будет определено', заменим эти значения на np.nan для возможности обработки данного столбца."
   ]
  },
  {
   "cell_type": "code",
   "execution_count": 9,
   "metadata": {},
   "outputs": [],
   "source": [
    "# заменим значения 'tbd' в колонке user_score на np.nan\n",
    "df['user_score'] = df['user_score'].replace('tbd', np.nan)"
   ]
  },
  {
   "cell_type": "code",
   "execution_count": 10,
   "metadata": {},
   "outputs": [
    {
     "name": "stdout",
     "output_type": "stream",
     "text": [
      "<class 'pandas.core.frame.DataFrame'>\n",
      "Int64Index: 16444 entries, 0 to 16714\n",
      "Data columns (total 11 columns):\n",
      " #   Column           Non-Null Count  Dtype  \n",
      "---  ------           --------------  -----  \n",
      " 0   name             16444 non-null  object \n",
      " 1   platform         16444 non-null  object \n",
      " 2   year_of_release  16444 non-null  int64  \n",
      " 3   genre            16444 non-null  object \n",
      " 4   na_sales         16444 non-null  float64\n",
      " 5   eu_sales         16444 non-null  float64\n",
      " 6   jp_sales         16444 non-null  float64\n",
      " 7   other_sales      16444 non-null  float64\n",
      " 8   critic_score     7983 non-null   float64\n",
      " 9   user_score       7463 non-null   float64\n",
      " 10  rating           16444 non-null  object \n",
      "dtypes: float64(6), int64(1), object(4)\n",
      "memory usage: 1.5+ MB\n"
     ]
    }
   ],
   "source": [
    "# заменим типы данных\n",
    "df['year_of_release'] = df['year_of_release'].astype('int')\n",
    "df['user_score'] = pd.to_numeric(df['user_score'], errors='coerce')\n",
    "\n",
    "df.info()"
   ]
  },
  {
   "cell_type": "code",
   "execution_count": 11,
   "metadata": {},
   "outputs": [
    {
     "data": {
      "text/plain": [
       "'platform'"
      ]
     },
     "metadata": {},
     "output_type": "display_data"
    },
    {
     "data": {
      "text/plain": [
       "31"
      ]
     },
     "metadata": {},
     "output_type": "display_data"
    },
    {
     "data": {
      "text/plain": [
       "array(['Wii', 'NES', 'GB', 'DS', 'X360', 'PS3', 'PS2', 'SNES', 'GBA',\n",
       "       'PS4', '3DS', 'N64', 'PS', 'XB', 'PC', '2600', 'PSP', 'XOne',\n",
       "       'WiiU', 'GC', 'GEN', 'DC', 'PSV', 'SAT', 'SCD', 'WS', 'NG', 'TG16',\n",
       "       '3DO', 'GG', 'PCFX'], dtype=object)"
      ]
     },
     "metadata": {},
     "output_type": "display_data"
    },
    {
     "data": {
      "text/plain": [
       "'year_of_release'"
      ]
     },
     "metadata": {},
     "output_type": "display_data"
    },
    {
     "data": {
      "text/plain": [
       "37"
      ]
     },
     "metadata": {},
     "output_type": "display_data"
    },
    {
     "data": {
      "text/plain": [
       "array([2006, 1985, 2008, 2009, 1996, 1989, 1984, 2005, 1999, 2007, 2010,\n",
       "       2013, 2004, 1990, 1988, 2002, 2001, 2011, 1998, 2015, 2012, 2014,\n",
       "       1992, 1997, 1993, 1994, 1982, 2016, 2003, 1986, 2000, 1995, 1991,\n",
       "       1981, 1987, 1980, 1983])"
      ]
     },
     "metadata": {},
     "output_type": "display_data"
    },
    {
     "data": {
      "text/plain": [
       "'genre'"
      ]
     },
     "metadata": {},
     "output_type": "display_data"
    },
    {
     "data": {
      "text/plain": [
       "12"
      ]
     },
     "metadata": {},
     "output_type": "display_data"
    },
    {
     "data": {
      "text/plain": [
       "array(['Sports', 'Platform', 'Racing', 'Role-Playing', 'Puzzle', 'Misc',\n",
       "       'Shooter', 'Simulation', 'Action', 'Fighting', 'Adventure',\n",
       "       'Strategy'], dtype=object)"
      ]
     },
     "metadata": {},
     "output_type": "display_data"
    },
    {
     "data": {
      "text/plain": [
       "'rating'"
      ]
     },
     "metadata": {},
     "output_type": "display_data"
    },
    {
     "data": {
      "text/plain": [
       "9"
      ]
     },
     "metadata": {},
     "output_type": "display_data"
    },
    {
     "data": {
      "text/plain": [
       "array(['E', 'unknown', 'M', 'T', 'E10+', 'K-A', 'AO', 'EC', 'RP'],\n",
       "      dtype=object)"
      ]
     },
     "metadata": {},
     "output_type": "display_data"
    }
   ],
   "source": [
    "# посмотрим на уникальные значения и их количество по колонкам platform, year_of_release, genre, rating\n",
    "for column in df[['platform', 'year_of_release', 'genre', 'rating']].columns:\n",
    "    display(column)\n",
    "    display(df[column].nunique())\n",
    "    display(df[column].unique())"
   ]
  },
  {
   "cell_type": "markdown",
   "metadata": {},
   "source": [
    "В рейтинге есть значение 'K-A' 'Kids to Adults', оно использовалось с 1994 по 1997 гг и далее было заменено на 'E' 'Everyone'. Заменим в наших данных значение 'K-A' на 'E'."
   ]
  },
  {
   "cell_type": "code",
   "execution_count": 12,
   "metadata": {},
   "outputs": [
    {
     "data": {
      "text/plain": [
       "array(['E', 'unknown', 'M', 'T', 'E10+', 'AO', 'EC', 'RP'], dtype=object)"
      ]
     },
     "execution_count": 12,
     "metadata": {},
     "output_type": "execute_result"
    }
   ],
   "source": [
    "# заменим в наших данных значение 'K-A' на 'E'\n",
    "df['rating'] = df['rating'].replace('K-A', 'E')\n",
    "\n",
    "# проверим изменения\n",
    "df['rating'].unique()"
   ]
  },
  {
   "cell_type": "code",
   "execution_count": 13,
   "metadata": {
    "scrolled": true
   },
   "outputs": [
    {
     "data": {
      "text/html": [
       "<div>\n",
       "<style scoped>\n",
       "    .dataframe tbody tr th:only-of-type {\n",
       "        vertical-align: middle;\n",
       "    }\n",
       "\n",
       "    .dataframe tbody tr th {\n",
       "        vertical-align: top;\n",
       "    }\n",
       "\n",
       "    .dataframe thead th {\n",
       "        text-align: right;\n",
       "    }\n",
       "</style>\n",
       "<table border=\"1\" class=\"dataframe\">\n",
       "  <thead>\n",
       "    <tr style=\"text-align: right;\">\n",
       "      <th></th>\n",
       "      <th>name</th>\n",
       "      <th>platform</th>\n",
       "      <th>year_of_release</th>\n",
       "      <th>genre</th>\n",
       "      <th>na_sales</th>\n",
       "      <th>eu_sales</th>\n",
       "      <th>jp_sales</th>\n",
       "      <th>other_sales</th>\n",
       "      <th>critic_score</th>\n",
       "      <th>user_score</th>\n",
       "      <th>rating</th>\n",
       "      <th>all_sales</th>\n",
       "    </tr>\n",
       "  </thead>\n",
       "  <tbody>\n",
       "    <tr>\n",
       "      <th>0</th>\n",
       "      <td>Wii Sports</td>\n",
       "      <td>Wii</td>\n",
       "      <td>2006</td>\n",
       "      <td>Sports</td>\n",
       "      <td>41.36</td>\n",
       "      <td>28.96</td>\n",
       "      <td>3.77</td>\n",
       "      <td>8.45</td>\n",
       "      <td>76.0</td>\n",
       "      <td>8.0</td>\n",
       "      <td>E</td>\n",
       "      <td>82.54</td>\n",
       "    </tr>\n",
       "    <tr>\n",
       "      <th>1</th>\n",
       "      <td>Super Mario Bros.</td>\n",
       "      <td>NES</td>\n",
       "      <td>1985</td>\n",
       "      <td>Platform</td>\n",
       "      <td>29.08</td>\n",
       "      <td>3.58</td>\n",
       "      <td>6.81</td>\n",
       "      <td>0.77</td>\n",
       "      <td>NaN</td>\n",
       "      <td>NaN</td>\n",
       "      <td>unknown</td>\n",
       "      <td>40.24</td>\n",
       "    </tr>\n",
       "    <tr>\n",
       "      <th>2</th>\n",
       "      <td>Mario Kart Wii</td>\n",
       "      <td>Wii</td>\n",
       "      <td>2008</td>\n",
       "      <td>Racing</td>\n",
       "      <td>15.68</td>\n",
       "      <td>12.76</td>\n",
       "      <td>3.79</td>\n",
       "      <td>3.29</td>\n",
       "      <td>82.0</td>\n",
       "      <td>8.3</td>\n",
       "      <td>E</td>\n",
       "      <td>35.52</td>\n",
       "    </tr>\n",
       "    <tr>\n",
       "      <th>3</th>\n",
       "      <td>Wii Sports Resort</td>\n",
       "      <td>Wii</td>\n",
       "      <td>2009</td>\n",
       "      <td>Sports</td>\n",
       "      <td>15.61</td>\n",
       "      <td>10.93</td>\n",
       "      <td>3.28</td>\n",
       "      <td>2.95</td>\n",
       "      <td>80.0</td>\n",
       "      <td>8.0</td>\n",
       "      <td>E</td>\n",
       "      <td>32.77</td>\n",
       "    </tr>\n",
       "    <tr>\n",
       "      <th>4</th>\n",
       "      <td>Pokemon Red/Pokemon Blue</td>\n",
       "      <td>GB</td>\n",
       "      <td>1996</td>\n",
       "      <td>Role-Playing</td>\n",
       "      <td>11.27</td>\n",
       "      <td>8.89</td>\n",
       "      <td>10.22</td>\n",
       "      <td>1.00</td>\n",
       "      <td>NaN</td>\n",
       "      <td>NaN</td>\n",
       "      <td>unknown</td>\n",
       "      <td>31.38</td>\n",
       "    </tr>\n",
       "  </tbody>\n",
       "</table>\n",
       "</div>"
      ],
      "text/plain": [
       "                       name platform  year_of_release         genre  na_sales  \\\n",
       "0                Wii Sports      Wii             2006        Sports     41.36   \n",
       "1         Super Mario Bros.      NES             1985      Platform     29.08   \n",
       "2            Mario Kart Wii      Wii             2008        Racing     15.68   \n",
       "3         Wii Sports Resort      Wii             2009        Sports     15.61   \n",
       "4  Pokemon Red/Pokemon Blue       GB             1996  Role-Playing     11.27   \n",
       "\n",
       "   eu_sales  jp_sales  other_sales  critic_score  user_score   rating  \\\n",
       "0     28.96      3.77         8.45          76.0         8.0        E   \n",
       "1      3.58      6.81         0.77           NaN         NaN  unknown   \n",
       "2     12.76      3.79         3.29          82.0         8.3        E   \n",
       "3     10.93      3.28         2.95          80.0         8.0        E   \n",
       "4      8.89     10.22         1.00           NaN         NaN  unknown   \n",
       "\n",
       "   all_sales  \n",
       "0      82.54  \n",
       "1      40.24  \n",
       "2      35.52  \n",
       "3      32.77  \n",
       "4      31.38  "
      ]
     },
     "execution_count": 13,
     "metadata": {},
     "output_type": "execute_result"
    }
   ],
   "source": [
    "# добавим новый столбец с суммарными продажами во всех регионах\n",
    "df['all_sales'] = df[['na_sales', 'eu_sales', 'jp_sales', 'other_sales']].sum(axis=1)\n",
    "\n",
    "# проверим результат\n",
    "df.head()"
   ]
  },
  {
   "cell_type": "markdown",
   "metadata": {},
   "source": [
    "Проверим на наличие аномальных значений наши числовые колонки."
   ]
  },
  {
   "cell_type": "code",
   "execution_count": 14,
   "metadata": {},
   "outputs": [
    {
     "data": {
      "text/plain": [
       "'na_sales'"
      ]
     },
     "metadata": {},
     "output_type": "display_data"
    },
    {
     "data": {
      "text/plain": [
       "count    16444.000000\n",
       "mean         0.264012\n",
       "std          0.818378\n",
       "min          0.000000\n",
       "25%          0.000000\n",
       "50%          0.080000\n",
       "75%          0.240000\n",
       "max         41.360000\n",
       "Name: na_sales, dtype: float64"
      ]
     },
     "metadata": {},
     "output_type": "display_data"
    },
    {
     "data": {
      "text/plain": [
       "'eu_sales'"
      ]
     },
     "metadata": {},
     "output_type": "display_data"
    },
    {
     "data": {
      "text/plain": [
       "count    16444.000000\n",
       "mean         0.145930\n",
       "std          0.506716\n",
       "min          0.000000\n",
       "25%          0.000000\n",
       "50%          0.020000\n",
       "75%          0.110000\n",
       "max         28.960000\n",
       "Name: eu_sales, dtype: float64"
      ]
     },
     "metadata": {},
     "output_type": "display_data"
    },
    {
     "data": {
      "text/plain": [
       "'jp_sales'"
      ]
     },
     "metadata": {},
     "output_type": "display_data"
    },
    {
     "data": {
      "text/plain": [
       "count    16444.000000\n",
       "mean         0.078487\n",
       "std          0.311100\n",
       "min          0.000000\n",
       "25%          0.000000\n",
       "50%          0.000000\n",
       "75%          0.040000\n",
       "max         10.220000\n",
       "Name: jp_sales, dtype: float64"
      ]
     },
     "metadata": {},
     "output_type": "display_data"
    },
    {
     "data": {
      "text/plain": [
       "'other_sales'"
      ]
     },
     "metadata": {},
     "output_type": "display_data"
    },
    {
     "data": {
      "text/plain": [
       "count    16444.000000\n",
       "mean         0.047594\n",
       "std          0.188005\n",
       "min          0.000000\n",
       "25%          0.000000\n",
       "50%          0.010000\n",
       "75%          0.030000\n",
       "max         10.570000\n",
       "Name: other_sales, dtype: float64"
      ]
     },
     "metadata": {},
     "output_type": "display_data"
    },
    {
     "data": {
      "text/plain": [
       "'all_sales'"
      ]
     },
     "metadata": {},
     "output_type": "display_data"
    },
    {
     "data": {
      "text/plain": [
       "count    16444.000000\n",
       "mean         0.536023\n",
       "std          1.558786\n",
       "min          0.000000\n",
       "25%          0.060000\n",
       "50%          0.170000\n",
       "75%          0.470000\n",
       "max         82.540000\n",
       "Name: all_sales, dtype: float64"
      ]
     },
     "metadata": {},
     "output_type": "display_data"
    },
    {
     "data": {
      "text/plain": [
       "'critic_score'"
      ]
     },
     "metadata": {},
     "output_type": "display_data"
    },
    {
     "data": {
      "text/plain": [
       "count    7983.000000\n",
       "mean       68.994363\n",
       "std        13.920060\n",
       "min        13.000000\n",
       "25%        60.000000\n",
       "50%        71.000000\n",
       "75%        79.000000\n",
       "max        98.000000\n",
       "Name: critic_score, dtype: float64"
      ]
     },
     "metadata": {},
     "output_type": "display_data"
    },
    {
     "data": {
      "text/plain": [
       "'user_score'"
      ]
     },
     "metadata": {},
     "output_type": "display_data"
    },
    {
     "data": {
      "text/plain": [
       "count    7463.000000\n",
       "mean        7.126330\n",
       "std         1.499447\n",
       "min         0.000000\n",
       "25%         6.400000\n",
       "50%         7.500000\n",
       "75%         8.200000\n",
       "max         9.700000\n",
       "Name: user_score, dtype: float64"
      ]
     },
     "metadata": {},
     "output_type": "display_data"
    }
   ],
   "source": [
    "# с помощью цикла применим метод describe к нужным колонкам\n",
    "for column in df[['na_sales', 'eu_sales', 'jp_sales', 'other_sales', 'all_sales', 'critic_score', 'user_score']].columns:\n",
    "    display(column)\n",
    "    display(df[column].describe())"
   ]
  },
  {
   "cell_type": "markdown",
   "metadata": {},
   "source": [
    "С помощью метода describe видно что по каждому региону продаж у многих игр нулевой показатель, также в общих продажах есть нулевые значения.\n",
    "\n",
    "\n",
    "В колонке user_score есть игры с показателем равным нулю. Проверим их количество. Если подобных игр мало то просто удалим данные о них."
   ]
  },
  {
   "cell_type": "code",
   "execution_count": 15,
   "metadata": {},
   "outputs": [
    {
     "data": {
      "text/html": [
       "<div>\n",
       "<style scoped>\n",
       "    .dataframe tbody tr th:only-of-type {\n",
       "        vertical-align: middle;\n",
       "    }\n",
       "\n",
       "    .dataframe tbody tr th {\n",
       "        vertical-align: top;\n",
       "    }\n",
       "\n",
       "    .dataframe thead th {\n",
       "        text-align: right;\n",
       "    }\n",
       "</style>\n",
       "<table border=\"1\" class=\"dataframe\">\n",
       "  <thead>\n",
       "    <tr style=\"text-align: right;\">\n",
       "      <th></th>\n",
       "      <th>name</th>\n",
       "      <th>platform</th>\n",
       "      <th>year_of_release</th>\n",
       "      <th>genre</th>\n",
       "      <th>na_sales</th>\n",
       "      <th>eu_sales</th>\n",
       "      <th>jp_sales</th>\n",
       "      <th>other_sales</th>\n",
       "      <th>critic_score</th>\n",
       "      <th>user_score</th>\n",
       "      <th>rating</th>\n",
       "      <th>all_sales</th>\n",
       "    </tr>\n",
       "  </thead>\n",
       "  <tbody>\n",
       "    <tr>\n",
       "      <th>2835</th>\n",
       "      <td>My Little Pony: Pinkie Pie's Party</td>\n",
       "      <td>DS</td>\n",
       "      <td>2008</td>\n",
       "      <td>Adventure</td>\n",
       "      <td>0.66</td>\n",
       "      <td>0.0</td>\n",
       "      <td>0.0</td>\n",
       "      <td>0.06</td>\n",
       "      <td>NaN</td>\n",
       "      <td>0.0</td>\n",
       "      <td>E</td>\n",
       "      <td>0.72</td>\n",
       "    </tr>\n",
       "  </tbody>\n",
       "</table>\n",
       "</div>"
      ],
      "text/plain": [
       "                                    name platform  year_of_release      genre  \\\n",
       "2835  My Little Pony: Pinkie Pie's Party       DS             2008  Adventure   \n",
       "\n",
       "      na_sales  eu_sales  jp_sales  other_sales  critic_score  user_score  \\\n",
       "2835      0.66       0.0       0.0         0.06           NaN         0.0   \n",
       "\n",
       "     rating  all_sales  \n",
       "2835      E       0.72  "
      ]
     },
     "execution_count": 15,
     "metadata": {},
     "output_type": "execute_result"
    }
   ],
   "source": [
    "# посмотрим количество игр с нулевыми оценками пользователей\n",
    "df.loc[df['user_score'] == 0]"
   ]
  },
  {
   "cell_type": "code",
   "execution_count": 16,
   "metadata": {},
   "outputs": [],
   "source": [
    "# удалим игру с нулевой пользовательской оценкой\n",
    "df = df.drop(2835)"
   ]
  },
  {
   "cell_type": "markdown",
   "metadata": {},
   "source": [
    "## Проведем исследовательский анализ данных"
   ]
  },
  {
   "cell_type": "markdown",
   "metadata": {},
   "source": [
    "### Посмотрим, сколько игр выпускалось в разные годы и важны ли данные за все периоды."
   ]
  },
  {
   "cell_type": "code",
   "execution_count": 17,
   "metadata": {},
   "outputs": [
    {
     "data": {
      "image/png": "[encoded data removed]",
      "text/plain": [
       "<Figure size 864x504 with 1 Axes>"
      ]
     },
     "metadata": {
      "needs_background": "light"
     },
     "output_type": "display_data"
    }
   ],
   "source": [
    "# построим график по распределению релиза игр по годам\n",
    "\n",
    "params = {\n",
    "          'axes.titlesize': 15,\n",
    "          'xtick.labelsize': 12,\n",
    "          'axes.labelsize': 15\n",
    "          }\n",
    "plt.rcParams.update(params)\n",
    "df['year_of_release'].value_counts().sort_index().plot(kind='bar', grid=True, figsize=(12, 7))\n",
    "plt.title('Распределение значений в столбце \"Год выпуска\"')\n",
    "plt.xlabel('Год релиза')\n",
    "plt.ylabel('Количество выпущенных игр')\n",
    "plt.show()"
   ]
  },
  {
   "cell_type": "markdown",
   "metadata": {},
   "source": [
    "До 1994 года выпускалось очень мало игр (отметку в 50 преодалели только в 1993 году). Начиная с 1994 года годовое производство игр превысило 120 и очень сильно росло ежегодно вплоть до 2009 года после чего пошло на спад. Данные за все периоды не важны для данного исследования так как платформы имеют свойство устаревать и на их смену приходят новые более технически продвинутые."
   ]
  },
  {
   "cell_type": "markdown",
   "metadata": {},
   "source": [
    "### Посмотрим, как менялись продажи по платформам. Выберем платформы с наибольшими суммарными продажами и построим распределение по годам. Определим за какой характерный срок появляются новые и исчезают старые платформы."
   ]
  },
  {
   "cell_type": "code",
   "execution_count": 18,
   "metadata": {
    "scrolled": true
   },
   "outputs": [
    {
     "data": {
      "text/html": [
       "<div>\n",
       "<style scoped>\n",
       "    .dataframe tbody tr th:only-of-type {\n",
       "        vertical-align: middle;\n",
       "    }\n",
       "\n",
       "    .dataframe tbody tr th {\n",
       "        vertical-align: top;\n",
       "    }\n",
       "\n",
       "    .dataframe thead th {\n",
       "        text-align: right;\n",
       "    }\n",
       "</style>\n",
       "<table border=\"1\" class=\"dataframe\">\n",
       "  <thead>\n",
       "    <tr style=\"text-align: right;\">\n",
       "      <th></th>\n",
       "      <th>all_sales</th>\n",
       "    </tr>\n",
       "    <tr>\n",
       "      <th>platform</th>\n",
       "      <th></th>\n",
       "    </tr>\n",
       "  </thead>\n",
       "  <tbody>\n",
       "    <tr>\n",
       "      <th>PS2</th>\n",
       "      <td>1233.56</td>\n",
       "    </tr>\n",
       "    <tr>\n",
       "      <th>X360</th>\n",
       "      <td>961.24</td>\n",
       "    </tr>\n",
       "    <tr>\n",
       "      <th>PS3</th>\n",
       "      <td>931.34</td>\n",
       "    </tr>\n",
       "    <tr>\n",
       "      <th>Wii</th>\n",
       "      <td>891.18</td>\n",
       "    </tr>\n",
       "    <tr>\n",
       "      <th>DS</th>\n",
       "      <td>802.06</td>\n",
       "    </tr>\n",
       "    <tr>\n",
       "      <th>PS</th>\n",
       "      <td>727.58</td>\n",
       "    </tr>\n",
       "    <tr>\n",
       "      <th>PS4</th>\n",
       "      <td>314.14</td>\n",
       "    </tr>\n",
       "    <tr>\n",
       "      <th>GBA</th>\n",
       "      <td>312.88</td>\n",
       "    </tr>\n",
       "    <tr>\n",
       "      <th>PSP</th>\n",
       "      <td>289.53</td>\n",
       "    </tr>\n",
       "    <tr>\n",
       "      <th>3DS</th>\n",
       "      <td>257.81</td>\n",
       "    </tr>\n",
       "  </tbody>\n",
       "</table>\n",
       "</div>"
      ],
      "text/plain": [
       "          all_sales\n",
       "platform           \n",
       "PS2         1233.56\n",
       "X360         961.24\n",
       "PS3          931.34\n",
       "Wii          891.18\n",
       "DS           802.06\n",
       "PS           727.58\n",
       "PS4          314.14\n",
       "GBA          312.88\n",
       "PSP          289.53\n",
       "3DS          257.81"
      ]
     },
     "metadata": {},
     "output_type": "display_data"
    },
    {
     "data": {
      "text/plain": [
       "['PS2', 'X360', 'PS3', 'Wii', 'DS', 'PS', 'PS4', 'GBA', 'PSP', '3DS']"
      ]
     },
     "execution_count": 18,
     "metadata": {},
     "output_type": "execute_result"
    }
   ],
   "source": [
    "# выберем 10 платформ с наибольшими суммарными продажами\n",
    "pivot_top_10 = df.pivot_table(index='platform',\n",
    "                              values='all_sales',\n",
    "                              aggfunc='sum').sort_values(by='all_sales', ascending=False).iloc[:10]\n",
    "\n",
    "# выведим на экран получившуюся таблицу\n",
    "display(pivot_top_10)\n",
    "\n",
    "# создадим список с топ-10 платформами\n",
    "top_platform = pivot_top_10.index.to_list()\n",
    "\n",
    "# проверим наш список\n",
    "top_platform"
   ]
  },
  {
   "cell_type": "code",
   "execution_count": 19,
   "metadata": {},
   "outputs": [
    {
     "data": {
      "text/html": [
       "<div>\n",
       "<style scoped>\n",
       "    .dataframe tbody tr th:only-of-type {\n",
       "        vertical-align: middle;\n",
       "    }\n",
       "\n",
       "    .dataframe tbody tr th {\n",
       "        vertical-align: top;\n",
       "    }\n",
       "\n",
       "    .dataframe thead th {\n",
       "        text-align: right;\n",
       "    }\n",
       "</style>\n",
       "<table border=\"1\" class=\"dataframe\">\n",
       "  <thead>\n",
       "    <tr style=\"text-align: right;\">\n",
       "      <th>platform</th>\n",
       "      <th>3DS</th>\n",
       "      <th>DS</th>\n",
       "      <th>GBA</th>\n",
       "      <th>PS</th>\n",
       "      <th>PS2</th>\n",
       "      <th>PS3</th>\n",
       "      <th>PS4</th>\n",
       "      <th>PSP</th>\n",
       "      <th>Wii</th>\n",
       "      <th>X360</th>\n",
       "    </tr>\n",
       "    <tr>\n",
       "      <th>year_of_release</th>\n",
       "      <th></th>\n",
       "      <th></th>\n",
       "      <th></th>\n",
       "      <th></th>\n",
       "      <th></th>\n",
       "      <th></th>\n",
       "      <th></th>\n",
       "      <th></th>\n",
       "      <th></th>\n",
       "      <th></th>\n",
       "    </tr>\n",
       "  </thead>\n",
       "  <tbody>\n",
       "    <tr>\n",
       "      <th>1985</th>\n",
       "      <td>NaN</td>\n",
       "      <td>0.02</td>\n",
       "      <td>NaN</td>\n",
       "      <td>NaN</td>\n",
       "      <td>NaN</td>\n",
       "      <td>NaN</td>\n",
       "      <td>NaN</td>\n",
       "      <td>NaN</td>\n",
       "      <td>NaN</td>\n",
       "      <td>NaN</td>\n",
       "    </tr>\n",
       "    <tr>\n",
       "      <th>1994</th>\n",
       "      <td>NaN</td>\n",
       "      <td>NaN</td>\n",
       "      <td>NaN</td>\n",
       "      <td>6.03</td>\n",
       "      <td>NaN</td>\n",
       "      <td>NaN</td>\n",
       "      <td>NaN</td>\n",
       "      <td>NaN</td>\n",
       "      <td>NaN</td>\n",
       "      <td>NaN</td>\n",
       "    </tr>\n",
       "    <tr>\n",
       "      <th>1995</th>\n",
       "      <td>NaN</td>\n",
       "      <td>NaN</td>\n",
       "      <td>NaN</td>\n",
       "      <td>35.96</td>\n",
       "      <td>NaN</td>\n",
       "      <td>NaN</td>\n",
       "      <td>NaN</td>\n",
       "      <td>NaN</td>\n",
       "      <td>NaN</td>\n",
       "      <td>NaN</td>\n",
       "    </tr>\n",
       "    <tr>\n",
       "      <th>1996</th>\n",
       "      <td>NaN</td>\n",
       "      <td>NaN</td>\n",
       "      <td>NaN</td>\n",
       "      <td>94.70</td>\n",
       "      <td>NaN</td>\n",
       "      <td>NaN</td>\n",
       "      <td>NaN</td>\n",
       "      <td>NaN</td>\n",
       "      <td>NaN</td>\n",
       "      <td>NaN</td>\n",
       "    </tr>\n",
       "    <tr>\n",
       "      <th>1997</th>\n",
       "      <td>NaN</td>\n",
       "      <td>NaN</td>\n",
       "      <td>NaN</td>\n",
       "      <td>136.17</td>\n",
       "      <td>NaN</td>\n",
       "      <td>NaN</td>\n",
       "      <td>NaN</td>\n",
       "      <td>NaN</td>\n",
       "      <td>NaN</td>\n",
       "      <td>NaN</td>\n",
       "    </tr>\n",
       "    <tr>\n",
       "      <th>1998</th>\n",
       "      <td>NaN</td>\n",
       "      <td>NaN</td>\n",
       "      <td>NaN</td>\n",
       "      <td>169.49</td>\n",
       "      <td>NaN</td>\n",
       "      <td>NaN</td>\n",
       "      <td>NaN</td>\n",
       "      <td>NaN</td>\n",
       "      <td>NaN</td>\n",
       "      <td>NaN</td>\n",
       "    </tr>\n",
       "    <tr>\n",
       "      <th>1999</th>\n",
       "      <td>NaN</td>\n",
       "      <td>NaN</td>\n",
       "      <td>NaN</td>\n",
       "      <td>144.53</td>\n",
       "      <td>NaN</td>\n",
       "      <td>NaN</td>\n",
       "      <td>NaN</td>\n",
       "      <td>NaN</td>\n",
       "      <td>NaN</td>\n",
       "      <td>NaN</td>\n",
       "    </tr>\n",
       "    <tr>\n",
       "      <th>2000</th>\n",
       "      <td>NaN</td>\n",
       "      <td>NaN</td>\n",
       "      <td>0.07</td>\n",
       "      <td>96.37</td>\n",
       "      <td>39.17</td>\n",
       "      <td>NaN</td>\n",
       "      <td>NaN</td>\n",
       "      <td>NaN</td>\n",
       "      <td>NaN</td>\n",
       "      <td>NaN</td>\n",
       "    </tr>\n",
       "    <tr>\n",
       "      <th>2001</th>\n",
       "      <td>NaN</td>\n",
       "      <td>NaN</td>\n",
       "      <td>61.53</td>\n",
       "      <td>35.59</td>\n",
       "      <td>166.43</td>\n",
       "      <td>NaN</td>\n",
       "      <td>NaN</td>\n",
       "      <td>NaN</td>\n",
       "      <td>NaN</td>\n",
       "      <td>NaN</td>\n",
       "    </tr>\n",
       "    <tr>\n",
       "      <th>2002</th>\n",
       "      <td>NaN</td>\n",
       "      <td>NaN</td>\n",
       "      <td>74.16</td>\n",
       "      <td>6.67</td>\n",
       "      <td>205.38</td>\n",
       "      <td>NaN</td>\n",
       "      <td>NaN</td>\n",
       "      <td>NaN</td>\n",
       "      <td>NaN</td>\n",
       "      <td>NaN</td>\n",
       "    </tr>\n",
       "    <tr>\n",
       "      <th>2003</th>\n",
       "      <td>NaN</td>\n",
       "      <td>NaN</td>\n",
       "      <td>56.67</td>\n",
       "      <td>2.07</td>\n",
       "      <td>184.31</td>\n",
       "      <td>NaN</td>\n",
       "      <td>NaN</td>\n",
       "      <td>NaN</td>\n",
       "      <td>NaN</td>\n",
       "      <td>NaN</td>\n",
       "    </tr>\n",
       "    <tr>\n",
       "      <th>2004</th>\n",
       "      <td>NaN</td>\n",
       "      <td>17.27</td>\n",
       "      <td>77.91</td>\n",
       "      <td>NaN</td>\n",
       "      <td>211.81</td>\n",
       "      <td>NaN</td>\n",
       "      <td>NaN</td>\n",
       "      <td>7.06</td>\n",
       "      <td>NaN</td>\n",
       "      <td>NaN</td>\n",
       "    </tr>\n",
       "    <tr>\n",
       "      <th>2005</th>\n",
       "      <td>NaN</td>\n",
       "      <td>130.14</td>\n",
       "      <td>33.86</td>\n",
       "      <td>NaN</td>\n",
       "      <td>160.66</td>\n",
       "      <td>NaN</td>\n",
       "      <td>NaN</td>\n",
       "      <td>43.84</td>\n",
       "      <td>NaN</td>\n",
       "      <td>8.25</td>\n",
       "    </tr>\n",
       "    <tr>\n",
       "      <th>2006</th>\n",
       "      <td>NaN</td>\n",
       "      <td>119.81</td>\n",
       "      <td>5.28</td>\n",
       "      <td>NaN</td>\n",
       "      <td>103.42</td>\n",
       "      <td>20.96</td>\n",
       "      <td>NaN</td>\n",
       "      <td>55.32</td>\n",
       "      <td>137.15</td>\n",
       "      <td>51.62</td>\n",
       "    </tr>\n",
       "    <tr>\n",
       "      <th>2007</th>\n",
       "      <td>NaN</td>\n",
       "      <td>146.94</td>\n",
       "      <td>3.40</td>\n",
       "      <td>NaN</td>\n",
       "      <td>75.99</td>\n",
       "      <td>73.19</td>\n",
       "      <td>NaN</td>\n",
       "      <td>46.93</td>\n",
       "      <td>152.77</td>\n",
       "      <td>95.41</td>\n",
       "    </tr>\n",
       "    <tr>\n",
       "      <th>2008</th>\n",
       "      <td>NaN</td>\n",
       "      <td>144.59</td>\n",
       "      <td>NaN</td>\n",
       "      <td>NaN</td>\n",
       "      <td>53.90</td>\n",
       "      <td>118.52</td>\n",
       "      <td>NaN</td>\n",
       "      <td>34.55</td>\n",
       "      <td>171.32</td>\n",
       "      <td>135.26</td>\n",
       "    </tr>\n",
       "    <tr>\n",
       "      <th>2009</th>\n",
       "      <td>NaN</td>\n",
       "      <td>119.54</td>\n",
       "      <td>NaN</td>\n",
       "      <td>NaN</td>\n",
       "      <td>26.40</td>\n",
       "      <td>130.93</td>\n",
       "      <td>NaN</td>\n",
       "      <td>37.78</td>\n",
       "      <td>206.97</td>\n",
       "      <td>120.29</td>\n",
       "    </tr>\n",
       "    <tr>\n",
       "      <th>2010</th>\n",
       "      <td>NaN</td>\n",
       "      <td>85.02</td>\n",
       "      <td>NaN</td>\n",
       "      <td>NaN</td>\n",
       "      <td>5.64</td>\n",
       "      <td>142.17</td>\n",
       "      <td>NaN</td>\n",
       "      <td>35.04</td>\n",
       "      <td>127.95</td>\n",
       "      <td>170.03</td>\n",
       "    </tr>\n",
       "    <tr>\n",
       "      <th>2011</th>\n",
       "      <td>63.20</td>\n",
       "      <td>26.18</td>\n",
       "      <td>NaN</td>\n",
       "      <td>NaN</td>\n",
       "      <td>0.45</td>\n",
       "      <td>156.78</td>\n",
       "      <td>NaN</td>\n",
       "      <td>17.82</td>\n",
       "      <td>59.65</td>\n",
       "      <td>143.84</td>\n",
       "    </tr>\n",
       "    <tr>\n",
       "      <th>2012</th>\n",
       "      <td>51.36</td>\n",
       "      <td>11.01</td>\n",
       "      <td>NaN</td>\n",
       "      <td>NaN</td>\n",
       "      <td>NaN</td>\n",
       "      <td>107.36</td>\n",
       "      <td>NaN</td>\n",
       "      <td>7.69</td>\n",
       "      <td>21.71</td>\n",
       "      <td>99.74</td>\n",
       "    </tr>\n",
       "    <tr>\n",
       "      <th>2013</th>\n",
       "      <td>56.57</td>\n",
       "      <td>1.54</td>\n",
       "      <td>NaN</td>\n",
       "      <td>NaN</td>\n",
       "      <td>NaN</td>\n",
       "      <td>113.25</td>\n",
       "      <td>25.99</td>\n",
       "      <td>3.14</td>\n",
       "      <td>8.59</td>\n",
       "      <td>88.58</td>\n",
       "    </tr>\n",
       "    <tr>\n",
       "      <th>2014</th>\n",
       "      <td>43.76</td>\n",
       "      <td>NaN</td>\n",
       "      <td>NaN</td>\n",
       "      <td>NaN</td>\n",
       "      <td>NaN</td>\n",
       "      <td>47.76</td>\n",
       "      <td>100.00</td>\n",
       "      <td>0.24</td>\n",
       "      <td>3.75</td>\n",
       "      <td>34.74</td>\n",
       "    </tr>\n",
       "    <tr>\n",
       "      <th>2015</th>\n",
       "      <td>27.78</td>\n",
       "      <td>NaN</td>\n",
       "      <td>NaN</td>\n",
       "      <td>NaN</td>\n",
       "      <td>NaN</td>\n",
       "      <td>16.82</td>\n",
       "      <td>118.90</td>\n",
       "      <td>0.12</td>\n",
       "      <td>1.14</td>\n",
       "      <td>11.96</td>\n",
       "    </tr>\n",
       "    <tr>\n",
       "      <th>2016</th>\n",
       "      <td>15.14</td>\n",
       "      <td>NaN</td>\n",
       "      <td>NaN</td>\n",
       "      <td>NaN</td>\n",
       "      <td>NaN</td>\n",
       "      <td>3.60</td>\n",
       "      <td>69.25</td>\n",
       "      <td>NaN</td>\n",
       "      <td>0.18</td>\n",
       "      <td>1.52</td>\n",
       "    </tr>\n",
       "  </tbody>\n",
       "</table>\n",
       "</div>"
      ],
      "text/plain": [
       "platform           3DS      DS    GBA      PS     PS2     PS3     PS4    PSP  \\\n",
       "year_of_release                                                                \n",
       "1985               NaN    0.02    NaN     NaN     NaN     NaN     NaN    NaN   \n",
       "1994               NaN     NaN    NaN    6.03     NaN     NaN     NaN    NaN   \n",
       "1995               NaN     NaN    NaN   35.96     NaN     NaN     NaN    NaN   \n",
       "1996               NaN     NaN    NaN   94.70     NaN     NaN     NaN    NaN   \n",
       "1997               NaN     NaN    NaN  136.17     NaN     NaN     NaN    NaN   \n",
       "1998               NaN     NaN    NaN  169.49     NaN     NaN     NaN    NaN   \n",
       "1999               NaN     NaN    NaN  144.53     NaN     NaN     NaN    NaN   \n",
       "2000               NaN     NaN   0.07   96.37   39.17     NaN     NaN    NaN   \n",
       "2001               NaN     NaN  61.53   35.59  166.43     NaN     NaN    NaN   \n",
       "2002               NaN     NaN  74.16    6.67  205.38     NaN     NaN    NaN   \n",
       "2003               NaN     NaN  56.67    2.07  184.31     NaN     NaN    NaN   \n",
       "2004               NaN   17.27  77.91     NaN  211.81     NaN     NaN   7.06   \n",
       "2005               NaN  130.14  33.86     NaN  160.66     NaN     NaN  43.84   \n",
       "2006               NaN  119.81   5.28     NaN  103.42   20.96     NaN  55.32   \n",
       "2007               NaN  146.94   3.40     NaN   75.99   73.19     NaN  46.93   \n",
       "2008               NaN  144.59    NaN     NaN   53.90  118.52     NaN  34.55   \n",
       "2009               NaN  119.54    NaN     NaN   26.40  130.93     NaN  37.78   \n",
       "2010               NaN   85.02    NaN     NaN    5.64  142.17     NaN  35.04   \n",
       "2011             63.20   26.18    NaN     NaN    0.45  156.78     NaN  17.82   \n",
       "2012             51.36   11.01    NaN     NaN     NaN  107.36     NaN   7.69   \n",
       "2013             56.57    1.54    NaN     NaN     NaN  113.25   25.99   3.14   \n",
       "2014             43.76     NaN    NaN     NaN     NaN   47.76  100.00   0.24   \n",
       "2015             27.78     NaN    NaN     NaN     NaN   16.82  118.90   0.12   \n",
       "2016             15.14     NaN    NaN     NaN     NaN    3.60   69.25    NaN   \n",
       "\n",
       "platform            Wii    X360  \n",
       "year_of_release                  \n",
       "1985                NaN     NaN  \n",
       "1994                NaN     NaN  \n",
       "1995                NaN     NaN  \n",
       "1996                NaN     NaN  \n",
       "1997                NaN     NaN  \n",
       "1998                NaN     NaN  \n",
       "1999                NaN     NaN  \n",
       "2000                NaN     NaN  \n",
       "2001                NaN     NaN  \n",
       "2002                NaN     NaN  \n",
       "2003                NaN     NaN  \n",
       "2004                NaN     NaN  \n",
       "2005                NaN    8.25  \n",
       "2006             137.15   51.62  \n",
       "2007             152.77   95.41  \n",
       "2008             171.32  135.26  \n",
       "2009             206.97  120.29  \n",
       "2010             127.95  170.03  \n",
       "2011              59.65  143.84  \n",
       "2012              21.71   99.74  \n",
       "2013               8.59   88.58  \n",
       "2014               3.75   34.74  \n",
       "2015               1.14   11.96  \n",
       "2016               0.18    1.52  "
      ]
     },
     "metadata": {},
     "output_type": "display_data"
    },
    {
     "data": {
      "image/png": "[encoded data removed]",
      "text/plain": [
       "<Figure size 1440x432 with 1 Axes>"
      ]
     },
     "metadata": {
      "needs_background": "light"
     },
     "output_type": "display_data"
    }
   ],
   "source": [
    "# сделаем сводную таблицу по топ 10 платформам с ежегодными продажами\n",
    "pivot_ten = df.loc[df['platform'].isin(top_platform)].pivot_table(index='year_of_release',\n",
    "                                                      columns = 'platform', \n",
    "                                                      values='all_sales', \n",
    "                                                      aggfunc='sum')\n",
    "\n",
    "# посмотрим нашу таблицу\n",
    "display(pivot_ten)\n",
    "\n",
    "# выведем линейный график по топ 10 платформам с ежегодными продажами\n",
    "pivot_ten.plot(grid=True, figsize=(20, 6))\n",
    "plt.ylabel('Продажи в млн')\n",
    "plt.xlabel('Год')\n",
    "plt.title('Распределение продаж по топ-10 платформам')\n",
    "plt.legend(fontsize=12)\n",
    "plt.xlim(1993, 2016)\n",
    "plt.show()"
   ]
  },
  {
   "cell_type": "markdown",
   "metadata": {},
   "source": [
    "Самая старая платформа в нашем топ-10 это 'PS', просуществовала 10 лет. Через 6 лет после старта продаж игр на 'PS' появились новые платформв: 'GBA' и 'PS2', первая из которых просуществовала 8 лет а вторая 12. В дальнейшем появление новых платформ ускорилось. Из данного графика можно сделать вывод что популярные платформы существуют примерно от 8 до 12 лет, и новые поколения платформ выходят на рынок в диапазоне от 4 до 6 лет."
   ]
  },
  {
   "cell_type": "markdown",
   "metadata": {},
   "source": [
    "### Возьмем данные за соответствующий актуальный период. Актуальный период определим по результате исследования предыдущих вопросов. Основной фактор — эти данные помогут построить прогноз на 2017 год."
   ]
  },
  {
   "cell_type": "markdown",
   "metadata": {},
   "source": [
    "По результатам исследования предидущих вопросов было решено использовать данные начиная с 2015 года, так как данные имеют свойство устаревать, тем более в такой быстроразвивающейся сфере как игровая индустрия, в эту выборку попадут консоли которые еще не потеряли своей актуальности и игры на них производятся в 2016 году. Считаю что периуд с 2015 по 2016 является наиболее подходящим для нашего исследования."
   ]
  },
  {
   "cell_type": "markdown",
   "metadata": {},
   "source": [
    "### Выясним какие платформы лидируют по продажам, растут или падают. Выберем несколько потенциально прибыльных платформ."
   ]
  },
  {
   "cell_type": "code",
   "execution_count": 20,
   "metadata": {},
   "outputs": [
    {
     "data": {
      "text/html": [
       "<div>\n",
       "<style scoped>\n",
       "    .dataframe tbody tr th:only-of-type {\n",
       "        vertical-align: middle;\n",
       "    }\n",
       "\n",
       "    .dataframe tbody tr th {\n",
       "        vertical-align: top;\n",
       "    }\n",
       "\n",
       "    .dataframe thead th {\n",
       "        text-align: right;\n",
       "    }\n",
       "</style>\n",
       "<table border=\"1\" class=\"dataframe\">\n",
       "  <thead>\n",
       "    <tr style=\"text-align: right;\">\n",
       "      <th></th>\n",
       "      <th>all_sales</th>\n",
       "    </tr>\n",
       "    <tr>\n",
       "      <th>platform</th>\n",
       "      <th></th>\n",
       "    </tr>\n",
       "  </thead>\n",
       "  <tbody>\n",
       "    <tr>\n",
       "      <th>PS4</th>\n",
       "      <td>188.15</td>\n",
       "    </tr>\n",
       "    <tr>\n",
       "      <th>XOne</th>\n",
       "      <td>86.29</td>\n",
       "    </tr>\n",
       "    <tr>\n",
       "      <th>3DS</th>\n",
       "      <td>42.92</td>\n",
       "    </tr>\n",
       "    <tr>\n",
       "      <th>WiiU</th>\n",
       "      <td>20.95</td>\n",
       "    </tr>\n",
       "    <tr>\n",
       "      <th>PS3</th>\n",
       "      <td>20.42</td>\n",
       "    </tr>\n",
       "    <tr>\n",
       "      <th>PC</th>\n",
       "      <td>13.77</td>\n",
       "    </tr>\n",
       "    <tr>\n",
       "      <th>X360</th>\n",
       "      <td>13.48</td>\n",
       "    </tr>\n",
       "    <tr>\n",
       "      <th>PSV</th>\n",
       "      <td>10.50</td>\n",
       "    </tr>\n",
       "    <tr>\n",
       "      <th>Wii</th>\n",
       "      <td>1.32</td>\n",
       "    </tr>\n",
       "    <tr>\n",
       "      <th>PSP</th>\n",
       "      <td>0.12</td>\n",
       "    </tr>\n",
       "  </tbody>\n",
       "</table>\n",
       "</div>"
      ],
      "text/plain": [
       "          all_sales\n",
       "platform           \n",
       "PS4          188.15\n",
       "XOne          86.29\n",
       "3DS           42.92\n",
       "WiiU          20.95\n",
       "PS3           20.42\n",
       "PC            13.77\n",
       "X360          13.48\n",
       "PSV           10.50\n",
       "Wii            1.32\n",
       "PSP            0.12"
      ]
     },
     "execution_count": 20,
     "metadata": {},
     "output_type": "execute_result"
    }
   ],
   "source": [
    "# посмотрим какие платформы лидируют по продажам с 2015 года\n",
    "df.loc[df['year_of_release'] >= 2015].pivot_table(index='platform', \n",
    "                                                  values='all_sales', \n",
    "                                                  aggfunc='sum').sort_values(by='all_sales', ascending=False)"
   ]
  },
  {
   "cell_type": "code",
   "execution_count": 21,
   "metadata": {},
   "outputs": [
    {
     "data": {
      "text/html": [
       "<div>\n",
       "<style scoped>\n",
       "    .dataframe tbody tr th:only-of-type {\n",
       "        vertical-align: middle;\n",
       "    }\n",
       "\n",
       "    .dataframe tbody tr th {\n",
       "        vertical-align: top;\n",
       "    }\n",
       "\n",
       "    .dataframe thead th {\n",
       "        text-align: right;\n",
       "    }\n",
       "</style>\n",
       "<table border=\"1\" class=\"dataframe\">\n",
       "  <thead>\n",
       "    <tr style=\"text-align: right;\">\n",
       "      <th>year_of_release</th>\n",
       "      <th>2015</th>\n",
       "      <th>2016</th>\n",
       "    </tr>\n",
       "    <tr>\n",
       "      <th>platform</th>\n",
       "      <th></th>\n",
       "      <th></th>\n",
       "    </tr>\n",
       "  </thead>\n",
       "  <tbody>\n",
       "    <tr>\n",
       "      <th>3DS</th>\n",
       "      <td>27.78</td>\n",
       "      <td>15.14</td>\n",
       "    </tr>\n",
       "    <tr>\n",
       "      <th>PC</th>\n",
       "      <td>8.52</td>\n",
       "      <td>5.25</td>\n",
       "    </tr>\n",
       "    <tr>\n",
       "      <th>PS3</th>\n",
       "      <td>16.82</td>\n",
       "      <td>3.60</td>\n",
       "    </tr>\n",
       "    <tr>\n",
       "      <th>PS4</th>\n",
       "      <td>118.90</td>\n",
       "      <td>69.25</td>\n",
       "    </tr>\n",
       "    <tr>\n",
       "      <th>PSP</th>\n",
       "      <td>0.12</td>\n",
       "      <td>NaN</td>\n",
       "    </tr>\n",
       "    <tr>\n",
       "      <th>PSV</th>\n",
       "      <td>6.25</td>\n",
       "      <td>4.25</td>\n",
       "    </tr>\n",
       "    <tr>\n",
       "      <th>Wii</th>\n",
       "      <td>1.14</td>\n",
       "      <td>0.18</td>\n",
       "    </tr>\n",
       "    <tr>\n",
       "      <th>WiiU</th>\n",
       "      <td>16.35</td>\n",
       "      <td>4.60</td>\n",
       "    </tr>\n",
       "    <tr>\n",
       "      <th>X360</th>\n",
       "      <td>11.96</td>\n",
       "      <td>1.52</td>\n",
       "    </tr>\n",
       "    <tr>\n",
       "      <th>XOne</th>\n",
       "      <td>60.14</td>\n",
       "      <td>26.15</td>\n",
       "    </tr>\n",
       "  </tbody>\n",
       "</table>\n",
       "</div>"
      ],
      "text/plain": [
       "year_of_release    2015   2016\n",
       "platform                      \n",
       "3DS               27.78  15.14\n",
       "PC                 8.52   5.25\n",
       "PS3               16.82   3.60\n",
       "PS4              118.90  69.25\n",
       "PSP                0.12    NaN\n",
       "PSV                6.25   4.25\n",
       "Wii                1.14   0.18\n",
       "WiiU              16.35   4.60\n",
       "X360              11.96   1.52\n",
       "XOne              60.14  26.15"
      ]
     },
     "execution_count": 21,
     "metadata": {},
     "output_type": "execute_result"
    }
   ],
   "source": [
    "# посмотрим на распределение продаж за интересующий нас период\n",
    "df.loc[df['year_of_release'] >= 2015].pivot_table(index='platform',\n",
    "                                                  columns='year_of_release',\n",
    "                                                  values='all_sales', \n",
    "                                                  aggfunc='sum')"
   ]
  },
  {
   "cell_type": "code",
   "execution_count": 22,
   "metadata": {},
   "outputs": [
    {
     "data": {
      "image/png": "[encoded data removed]",
      "text/plain": [
       "<Figure size 1080x432 with 1 Axes>"
      ]
     },
     "metadata": {
      "needs_background": "light"
     },
     "output_type": "display_data"
    }
   ],
   "source": [
    "# отрисуем график продаж с 2013 года по платформам\n",
    "df.loc[df['year_of_release'] >= 2015].pivot_table(index='year_of_release', \n",
    "                                                  columns = 'platform', \n",
    "                                                  values='all_sales', \n",
    "                                                  aggfunc='sum').plot(grid=True, figsize=(15, 6))\n",
    "\n",
    "plt.ylabel('Продажи в млн')\n",
    "plt.xlabel('Год')\n",
    "plt.title('Распределение продаж с 2013 г')\n",
    "plt.legend(fontsize=10)\n",
    "plt.show()"
   ]
  },
  {
   "cell_type": "markdown",
   "metadata": {},
   "source": [
    "По продажам можно выделить 4 лидирующие платформы: 'PS4', 'XOne', '3DS', 'WiiU'. По всем лидирующим платформам последнии 2 года продажи падают. Не смотря на падение продаж, потенциально прибыльными платформами можно назвать 'XOne' и 'PS4' так как это самые новые платформы из данного списка. Так же можно отметить '3DS' и 'WiiU' которые показывают не очень высокие но достаточно стабильные результаты. Но стоит учитывать появление новых платформ в ближайшие пару лет так как 'XOne' и 'PS4' существуют уже 4 года и пользовательский спрос на игры в последнии 2 года начал снижаться.\n",
    "\n",
    "Так же стоит отметить платформу 'PC', игры на нее будут выходить всегда хоть и пользуются меньшей популярностью (в топ платформ за последнии 2 года 'PC' занимает 6 место из 10 с показателем проданных коппий в 13.7 млн)"
   ]
  },
  {
   "cell_type": "markdown",
   "metadata": {},
   "source": [
    "### Построим график boxplot по глобальным продажам игр в разбивке по платформам. Опишем результат."
   ]
  },
  {
   "cell_type": "code",
   "execution_count": 23,
   "metadata": {},
   "outputs": [],
   "source": [
    "# создадим отдельный датафрейм для 2х топ платформ\n",
    "df_top2 = df.loc[df['platform'].isin(['PS4', 'XOne'])]"
   ]
  },
  {
   "cell_type": "code",
   "execution_count": 24,
   "metadata": {},
   "outputs": [
    {
     "data": {
      "image/png": "[encoded data removed]",
      "text/plain": [
       "<Figure size 432x288 with 1 Axes>"
      ]
     },
     "metadata": {
      "needs_background": "light"
     },
     "output_type": "display_data"
    }
   ],
   "source": [
    "# Построим boxplot распределения продаж игр по платформам 'PS4' и 'XOne'\n",
    "sns.boxplot(data=df_top2, x='platform', y='all_sales', hue='platform', dodge=False)\n",
    "plt.ylabel('Продажи в млн')\n",
    "plt.xlabel('Платформа')\n",
    "plt.title('Распределение продаж')\n",
    "plt.show()"
   ]
  },
  {
   "cell_type": "code",
   "execution_count": 25,
   "metadata": {},
   "outputs": [
    {
     "data": {
      "image/png": "[encoded data removed]",
      "text/plain": [
       "<Figure size 432x288 with 1 Axes>"
      ]
     },
     "metadata": {
      "needs_background": "light"
     },
     "output_type": "display_data"
    }
   ],
   "source": [
    "# Уменьшим диапазон по оси y для более детального рассмотрения\n",
    "sns.boxplot(data=df_top2, x='platform', y='all_sales', hue='platform', dodge=False)\n",
    "plt.ylim(0, 1)\n",
    "plt.ylabel('Продажи в млн')\n",
    "plt.xlabel('Платформа')\n",
    "plt.title('Распределение продаж')\n",
    "plt.show()"
   ]
  },
  {
   "cell_type": "markdown",
   "metadata": {},
   "source": [
    "По графикам видно что медианное значение продаж по обеим платформам находится на одном уровне но при этом у 'PS4', больше межквартильный размах что говорит нам о большей вариативности показателя продаж (большее количество игр по продажам сильнее отклоняется от средних показателей). Так же у 'PS4' намного больше выбросов вверх, есть даже 2 явных лидера с показателем проданых копий более 12 млн. И в целом у 'PS4' больше игр с высоким показателем продаж."
   ]
  },
  {
   "cell_type": "markdown",
   "metadata": {},
   "source": [
    "### Посмотрим, как влияют на продажи внутри одной популярной платформы отзывы пользователей и критиков. Построем диаграмму рассеяния и посчитаем корреляцию между отзывами и продажами. Сформулируем выводы."
   ]
  },
  {
   "cell_type": "code",
   "execution_count": 26,
   "metadata": {},
   "outputs": [
    {
     "data": {
      "image/png": "[encoded data removed]",
      "text/plain": [
       "<Figure size 432x432 with 3 Axes>"
      ]
     },
     "metadata": {
      "needs_background": "light"
     },
     "output_type": "display_data"
    }
   ],
   "source": [
    "# создадим отдельный датафрейм для дальнейшего исследования по 2015-2016 гг\n",
    "df_actual = df.loc[df['year_of_release'] >= 2015]\n",
    "\n",
    "# выделим продажи только по платформе 'PS4'\n",
    "df_ps4 = df_actual.loc[df_actual['platform'] == 'PS4']\n",
    "\n",
    "# построим график рассеивания critic_score и all_sales\n",
    "sns.jointplot(x='critic_score', y='all_sales', data=df_ps4, kind='reg')\n",
    "plt.show()"
   ]
  },
  {
   "cell_type": "code",
   "execution_count": 27,
   "metadata": {},
   "outputs": [
    {
     "data": {
      "text/plain": [
       "0.3928485555130601"
      ]
     },
     "execution_count": 27,
     "metadata": {},
     "output_type": "execute_result"
    }
   ],
   "source": [
    "# расчитаем коэффицент корреляции Пирсона\n",
    "df_ps4['critic_score'].corr(df_ps4['all_sales'])"
   ]
  },
  {
   "cell_type": "markdown",
   "metadata": {},
   "source": [
    "По графику заметна положительная линейная зависимость между оценкой критиков и общими продажами. Показатель корреляции по коэффиценту Пирсона 0.3928485555130601."
   ]
  },
  {
   "cell_type": "code",
   "execution_count": 28,
   "metadata": {},
   "outputs": [
    {
     "data": {
      "image/png": "[encoded data removed]",
      "text/plain": [
       "<Figure size 432x432 with 3 Axes>"
      ]
     },
     "metadata": {
      "needs_background": "light"
     },
     "output_type": "display_data"
    }
   ],
   "source": [
    "# построим график рассеивания user_score и all_sales\n",
    "sns.jointplot(x='user_score', y='all_sales', data=df_ps4, kind=\"reg\")\n",
    "plt.show()"
   ]
  },
  {
   "cell_type": "code",
   "execution_count": 29,
   "metadata": {},
   "outputs": [
    {
     "data": {
      "text/plain": [
       "-0.05973845712638215"
      ]
     },
     "execution_count": 29,
     "metadata": {},
     "output_type": "execute_result"
    }
   ],
   "source": [
    "# расчитаем коэффицент корреляции Пирсона\n",
    "df_ps4['all_sales'].corr(df_ps4['user_score'])"
   ]
  },
  {
   "cell_type": "markdown",
   "metadata": {},
   "source": [
    "По графику заметна очень слабая, отрицательная зависимость между оценкой пользователей и общими продажами. Показатель корреляции по коэффиценту Пирсона -0.05973845712638215. Можно считать что корреляция нулевая."
   ]
  },
  {
   "cell_type": "markdown",
   "metadata": {},
   "source": [
    "### Соотнесем выводы с продажами игр на других платформах."
   ]
  },
  {
   "cell_type": "markdown",
   "metadata": {},
   "source": [
    "Проверим влияние оценок критиков и пользователей еще на 2х потенциально прибыльных платформах 'XOne' и '3DS'."
   ]
  },
  {
   "cell_type": "code",
   "execution_count": 30,
   "metadata": {},
   "outputs": [
    {
     "data": {
      "image/png": "[encoded data removed]",
      "text/plain": [
       "<Figure size 432x432 with 3 Axes>"
      ]
     },
     "metadata": {
      "needs_background": "light"
     },
     "output_type": "display_data"
    }
   ],
   "source": [
    "# выделим продажи только по платформе 'XOne'\n",
    "df_xone = df_actual.loc[df_actual['platform'] == 'XOne']\n",
    "\n",
    "# построим график рассеивания critic_score и all_sales\n",
    "sns.jointplot(x='critic_score', y='all_sales', data=df_xone, kind='reg')\n",
    "plt.show()"
   ]
  },
  {
   "cell_type": "code",
   "execution_count": 31,
   "metadata": {},
   "outputs": [
    {
     "data": {
      "text/plain": [
       "0.43088874582136805"
      ]
     },
     "execution_count": 31,
     "metadata": {},
     "output_type": "execute_result"
    }
   ],
   "source": [
    "# расчитаем коэффицент корреляции Пирсона\n",
    "df_xone['critic_score'].corr(df_xone['all_sales'])"
   ]
  },
  {
   "cell_type": "markdown",
   "metadata": {},
   "source": [
    "По графику и по коэффиценту видим что что линейная зависимость показателя оценки критиков и общих продаж выше чем у 'PS4'. Показатель корреляции по коэффиценту Пирсона 0.43088874582136805."
   ]
  },
  {
   "cell_type": "code",
   "execution_count": 32,
   "metadata": {},
   "outputs": [
    {
     "data": {
      "image/png": "[encoded data removed]",
      "text/plain": [
       "<Figure size 432x432 with 3 Axes>"
      ]
     },
     "metadata": {
      "needs_background": "light"
     },
     "output_type": "display_data"
    }
   ],
   "source": [
    "# построим график рассеивания user_score и all_sales\n",
    "sns.jointplot(x='user_score', y='all_sales', data=df_xone, kind=\"reg\")\n",
    "plt.show()"
   ]
  },
  {
   "cell_type": "code",
   "execution_count": 33,
   "metadata": {},
   "outputs": [
    {
     "data": {
      "text/plain": [
       "-0.04146733387366271"
      ]
     },
     "execution_count": 33,
     "metadata": {},
     "output_type": "execute_result"
    }
   ],
   "source": [
    "# расчитаем коэффицент корреляции Пирсона\n",
    "df_xone['all_sales'].corr(df_xone['user_score'])"
   ]
  },
  {
   "cell_type": "markdown",
   "metadata": {},
   "source": [
    "Для 'XOne' так же как и в случае с 'PS4' корреляцию между пользовательскими оценками и продажами можно считать нулевой. Показатель корреляции по коэффиценту Пирсона -0.04146733387366271."
   ]
  },
  {
   "cell_type": "code",
   "execution_count": 34,
   "metadata": {},
   "outputs": [
    {
     "data": {
      "image/png": "[encoded data removed]",
      "text/plain": [
       "<Figure size 432x432 with 3 Axes>"
      ]
     },
     "metadata": {
      "needs_background": "light"
     },
     "output_type": "display_data"
    }
   ],
   "source": [
    "# выделим продажи только по платформе '3DS'\n",
    "df_3ds = df_actual.loc[df_actual['platform'] == '3DS']\n",
    "\n",
    "# построим график рассеивания critic_score и all_sales\n",
    "sns.jointplot(x='critic_score', y='all_sales', data=df_3ds, kind='reg')\n",
    "plt.show()"
   ]
  },
  {
   "cell_type": "code",
   "execution_count": 35,
   "metadata": {},
   "outputs": [
    {
     "data": {
      "text/plain": [
       "0.17757455046092874"
      ]
     },
     "execution_count": 35,
     "metadata": {},
     "output_type": "execute_result"
    }
   ],
   "source": [
    "# расчитаем коэффицент корреляции Пирсона\n",
    "df_3ds['critic_score'].corr(df_3ds['all_sales'])"
   ]
  },
  {
   "cell_type": "markdown",
   "metadata": {},
   "source": [
    "Для '3DS' заметна небольшая положительная линейная зависимость между оценками критиков и продажами. Показатель корреляции по коэффиценту Пирсона 0.17757455046092874."
   ]
  },
  {
   "cell_type": "code",
   "execution_count": 36,
   "metadata": {},
   "outputs": [
    {
     "data": {
      "image/png": "[encoded data removed]",
      "text/plain": [
       "<Figure size 432x432 with 3 Axes>"
      ]
     },
     "metadata": {
      "needs_background": "light"
     },
     "output_type": "display_data"
    }
   ],
   "source": [
    "# построим график рассеивания user_score и all_sales\n",
    "sns.jointplot(x='user_score', y='all_sales', data=df_3ds, kind=\"reg\")\n",
    "plt.show()"
   ]
  },
  {
   "cell_type": "code",
   "execution_count": 37,
   "metadata": {},
   "outputs": [
    {
     "data": {
      "text/plain": [
       "0.19879627008102985"
      ]
     },
     "execution_count": 37,
     "metadata": {},
     "output_type": "execute_result"
    }
   ],
   "source": [
    "# расчитаем коэффицент корреляции Пирсона\n",
    "df_3ds['all_sales'].corr(df_3ds['user_score'])"
   ]
  },
  {
   "cell_type": "markdown",
   "metadata": {},
   "source": [
    "И впервые из 3х изученных платформ у '3DS' заметна небольшая положительная зависимость между оценкой пользователей и уровнем продаж. Показатель корреляции по коэффиценту Пирсона 0.19879627008102985.\n",
    "\n",
    "По проведенному исследованию взаимосвязей оценок и продаж можно сказать что стоит обращать внимание на оценки критиков так как они имеют линейную связь с уровнем продаж в отличии от оценок пользователей."
   ]
  },
  {
   "cell_type": "markdown",
   "metadata": {},
   "source": [
    "### Посмотрим на общее распределение игр по жанрам. Что можно сказать о самых прибыльных жанрах? Выделяются ли жанры с высокими и низкими продажами."
   ]
  },
  {
   "cell_type": "code",
   "execution_count": 38,
   "metadata": {},
   "outputs": [
    {
     "data": {
      "image/png": "[encoded data removed]",
      "text/plain": [
       "<Figure size 432x288 with 1 Axes>"
      ]
     },
     "metadata": {
      "needs_background": "light"
     },
     "output_type": "display_data"
    }
   ],
   "source": [
    "# создадим таблицу жанров и количества игр\n",
    "genre = df_actual['genre'].value_counts()\n",
    "\n",
    "# построим график распределения игр по жанрам\n",
    "plt.title('Распределение жанров по количеству игр')\n",
    "labels = genre.index.unique()\n",
    "colors = dict(zip(labels, plt.cm.tab20.colors[:len(labels)]))\n",
    "plt.ylabel('Количество игр')\n",
    "plt.xticks(rotation=60, ha = 'right')\n",
    "plt.bar(genre.index, genre.values, color=[colors[key] for key in labels])\n",
    "plt.show()"
   ]
  },
  {
   "cell_type": "code",
   "execution_count": 39,
   "metadata": {},
   "outputs": [
    {
     "data": {
      "image/png": "[encoded data removed]",
      "text/plain": [
       "<Figure size 432x288 with 1 Axes>"
      ]
     },
     "metadata": {
      "needs_background": "light"
     },
     "output_type": "display_data"
    }
   ],
   "source": [
    "# построим график распределения жанров по продажам\n",
    "pivot = df_actual.pivot_table(index='genre', \n",
    "                       values='all_sales', \n",
    "                       aggfunc='median').sort_values(by='all_sales', ascending=False)\n",
    "\n",
    "plt.title('Распределение жанров по медианному количеству продаж')\n",
    "plt.ylabel('Продажи в млн (median)')\n",
    "plt.xticks(rotation=60, ha = 'right')\n",
    "plt.bar(pivot.index, pivot['all_sales'], color=[colors[key] for key in labels])\n",
    "plt.show()"
   ]
  },
  {
   "cell_type": "markdown",
   "metadata": {},
   "source": [
    "По графикам можно заметить что лидером выходящих на рынок игр, с огромным отрывом от остальных является жанр 'Action'. Но по медианному значению продаж занимает лишь 7 место. На первом же месте по продажам стоит жанр 'Shooter' так же с огромным отрывом остальных. На 2 и 3 месте расположились 'Sports' и 'Role-Playing'. Можно сказать что стрелялок выходит не так уж много по отношению к другим жанрам но они являются самыми востребованными среди пользователей."
   ]
  },
  {
   "cell_type": "markdown",
   "metadata": {},
   "source": [
    "## Составим портрет пользователя каждого региона."
   ]
  },
  {
   "cell_type": "markdown",
   "metadata": {},
   "source": [
    "### Самые популярные платформы (топ-5). Опишем различия в долях продаж."
   ]
  },
  {
   "cell_type": "code",
   "execution_count": 40,
   "metadata": {},
   "outputs": [
    {
     "data": {
      "image/png": "[encoded data removed]",
      "text/plain": [
       "<Figure size 432x288 with 1 Axes>"
      ]
     },
     "metadata": {
      "needs_background": "light"
     },
     "output_type": "display_data"
    },
    {
     "data": {
      "image/png": "[encoded data removed]",
      "text/plain": [
       "<Figure size 432x288 with 1 Axes>"
      ]
     },
     "metadata": {
      "needs_background": "light"
     },
     "output_type": "display_data"
    },
    {
     "data": {
      "image/png": "[encoded data removed]",
      "text/plain": [
       "<Figure size 432x288 with 1 Axes>"
      ]
     },
     "metadata": {
      "needs_background": "light"
     },
     "output_type": "display_data"
    }
   ],
   "source": [
    "# создадим список интересующих нас регионов продаж\n",
    "region_sales = ['na_sales', 'eu_sales', 'jp_sales']\n",
    "\n",
    "# пройдем циклом по каждому региону и выведем графики продаж по топ-5 платформам\n",
    "# в каждом регионе с суммарным показателем\n",
    "for region in region_sales:\n",
    "    top_5_in_region = df_actual.pivot_table(index='platform', \n",
    "                                 values=region, \n",
    "                                 aggfunc='sum').sort_values(by=region, ascending=False).iloc[:5]\n",
    "\n",
    "\n",
    "    labels = top_5_in_region.index.unique()\n",
    "    colors = dict(zip(labels, plt.cm.tab20.colors[:len(labels)]))\n",
    "    plt.ylabel('Продажи в млн')\n",
    "    plt.xlabel('Платформа')\n",
    "    plt.title(f'Распределение продаж по региону {region}')\n",
    "    plt.bar(top_5_in_region.index, top_5_in_region[region], color=[colors[key] for key in labels])\n",
    "    plt.show()"
   ]
  },
  {
   "cell_type": "markdown",
   "metadata": {},
   "source": [
    "По графикам распределения продаж среди топ-5 платформ по регионам можно отметить что Японский рынок потреблял игр намного меньше чем Европа и Северная Америка. Платформа '3DS' популярная в Японии (1 место по продажам с показателем около 23 млн копий) в Северной Америке заняла 3 место по рейтингу а в Европейский топ_5 вовсе не попала. 'PS4' лидирует в Северной Америке и Европе. 'XOne' не попавший в топ платформ Японии находится на 2 месте в других регионах и в Северной Америке популярнее чем в Европе более чем вдвое. 'PC' попал в топ Европы заняв 3 место. 'WiiU' попала в топ Северной Америки и Европы. Так же стоит отметить платформу которая заняла 3 место в Японии - 'PSV', и популярность устаревших 'PS3' в Японии и Европе и 'X360' в Северной Америке."
   ]
  },
  {
   "cell_type": "markdown",
   "metadata": {},
   "source": [
    "### Самые популярные жанры (топ-5). Поясним разницу."
   ]
  },
  {
   "cell_type": "code",
   "execution_count": 41,
   "metadata": {},
   "outputs": [
    {
     "data": {
      "image/png": "[encoded data removed]",
      "text/plain": [
       "<Figure size 432x288 with 1 Axes>"
      ]
     },
     "metadata": {
      "needs_background": "light"
     },
     "output_type": "display_data"
    },
    {
     "data": {
      "image/png": "[encoded data removed]",
      "text/plain": [
       "<Figure size 432x288 with 1 Axes>"
      ]
     },
     "metadata": {
      "needs_background": "light"
     },
     "output_type": "display_data"
    },
    {
     "data": {
      "image/png": "[encoded data removed]",
      "text/plain": [
       "<Figure size 432x288 with 1 Axes>"
      ]
     },
     "metadata": {
      "needs_background": "light"
     },
     "output_type": "display_data"
    }
   ],
   "source": [
    "# пройдем циклом по каждому региону и выведем графики продаж по топ-5 жанрам\n",
    "# в каждом регионе с суммарным показателем\n",
    "for region in region_sales:\n",
    "    top_5_in_region = df_actual.pivot_table(index='genre', \n",
    "                                     values=region, \n",
    "                                     aggfunc='sum').sort_values(by=region, ascending=False).iloc[:5]\n",
    "\n",
    "    plt.title(f'Распределение жанров по региону {region}')\n",
    "    plt.ylabel('Продажи в млн')\n",
    "    plt.xlabel('Жанр')\n",
    "    plt.bar(top_5_in_region.index, top_5_in_region[region], color=[colors[key] for key in labels])\n",
    "    plt.show()"
   ]
  },
  {
   "cell_type": "markdown",
   "metadata": {},
   "source": [
    "Первые 4 места среди жанров по продажам в Северной Америке и Европе имеют одинаковое распределение:\n",
    "- Shooter\n",
    "- Action\n",
    "- Sports\n",
    "- Role-Playing\n",
    "\n",
    "Отличие распределения в том что в Северной Америке любят игры в жанре Misc а в Европе - Racing.\n",
    "\n",
    "В Японии же первые 2 места с огромным отрывом от остальных занимают жанры Action и Role-Playing. Остальные 3 позиции распределены в небольшом диапазоне, в них попали (Shooter, Misc и Adventure). Стоит отметить что игры жанра Shooter показывают очень маленькие продажи в Японии в сравнении с другими регионами, нам давно известно о не популярности насилия в играх в этой стране."
   ]
  },
  {
   "cell_type": "markdown",
   "metadata": {},
   "source": [
    "### Посмотрим влияет ли рейтинг ESRB на продажи в отдельном регионе."
   ]
  },
  {
   "cell_type": "code",
   "execution_count": 42,
   "metadata": {},
   "outputs": [
    {
     "data": {
      "image/png": "[encoded data removed]",
      "text/plain": [
       "<Figure size 432x288 with 1 Axes>"
      ]
     },
     "metadata": {
      "needs_background": "light"
     },
     "output_type": "display_data"
    },
    {
     "data": {
      "image/png": "[encoded data removed]",
      "text/plain": [
       "<Figure size 432x288 with 1 Axes>"
      ]
     },
     "metadata": {
      "needs_background": "light"
     },
     "output_type": "display_data"
    },
    {
     "data": {
      "image/png": "[encoded data removed]",
      "text/plain": [
       "<Figure size 432x288 with 1 Axes>"
      ]
     },
     "metadata": {
      "needs_background": "light"
     },
     "output_type": "display_data"
    }
   ],
   "source": [
    "# пройдем циклом по каждому региону и выведем графики продаж\n",
    "# в зависимости от возрастного рейтинга\n",
    "for region in region_sales:\n",
    "    pivot_rating = df_actual.pivot_table(index='rating', \n",
    "                                         values=region, \n",
    "                                         aggfunc='sum').sort_values(by=region, ascending=False)\n",
    "    \n",
    "    plt.title(f'Распределение возрастного рейтинга по региону {region}')\n",
    "    plt.ylabel('Продажи в млн')\n",
    "    plt.xlabel('Возрастной рейтинг')\n",
    "    plt.bar(pivot_rating.index, pivot_rating[region], color=[colors[key] for key in labels])\n",
    "    plt.show()"
   ]
  },
  {
   "cell_type": "code",
   "execution_count": 43,
   "metadata": {},
   "outputs": [
    {
     "data": {
      "text/plain": [
       "unknown    513\n",
       "T          192\n",
       "E          153\n",
       "M          149\n",
       "E10+       101\n",
       "Name: rating, dtype: int64"
      ]
     },
     "execution_count": 43,
     "metadata": {},
     "output_type": "execute_result"
    }
   ],
   "source": [
    "df_actual['rating'].value_counts()"
   ]
  },
  {
   "cell_type": "markdown",
   "metadata": {},
   "source": [
    "В наших данных отсутствуют игры для детей младшего возраста (EC) и игры Только для взрослых (AO). По иеющимся графикам заметно что игры с рейтингом От 17 лет (M) в Японии значительно менее популярны чем в Северной Америке и Европе где они занимают лидирующую позицию. Отметим что распределение по возрастному рейтингу в Северной Америке и Европе идентичны (категории в порядке убывания 'M', 'unknown', 'E', 'T', 'E10+'). Категория без возрастного рейтинга в Японии лидирует с огромным отрывом от всех остальных в то время как в Северной Америке и Европе она на втором месте."
   ]
  },
  {
   "cell_type": "markdown",
   "metadata": {},
   "source": [
    "## Проверим гипотезы"
   ]
  },
  {
   "cell_type": "markdown",
   "metadata": {},
   "source": [
    "- H0: Средние пользовательские рейтинги платформ Xbox One и PC одинаковые.\n",
    "- H1: Средние пользовательские рейтинги платформ Xbox One и PC не одинаковые."
   ]
  },
  {
   "cell_type": "code",
   "execution_count": 44,
   "metadata": {},
   "outputs": [
    {
     "data": {
      "text/plain": [
       "'p-value = 0.2946308864003345'"
      ]
     },
     "metadata": {},
     "output_type": "display_data"
    },
    {
     "data": {
      "text/plain": [
       "'Не получилось отвергнуть нулевую гипотезу'"
      ]
     },
     "metadata": {},
     "output_type": "display_data"
    }
   ],
   "source": [
    "# results = вызов метода для проверки гипотезы\n",
    "results = st.ttest_ind(\n",
    "    df_actual.loc[df_actual['platform'] == 'XOne', 'user_score'].dropna(),\n",
    "    df_actual.loc[df_actual['platform'] == 'PC', 'user_score'].dropna(),\n",
    "    equal_var=False)\n",
    "\n",
    "# зададим значение уровня значимости\n",
    "alpha = .05\n",
    "\n",
    "display(f'p-value = {results.pvalue}')\n",
    "\n",
    "if results.pvalue < alpha:\n",
    "    display(\"Отвергаем нулевую гипотезу\")\n",
    "else:\n",
    "    display(\"Не получилось отвергнуть нулевую гипотезу\")"
   ]
  },
  {
   "cell_type": "markdown",
   "metadata": {},
   "source": [
    "У нас достаточно оснований пологать что средние пользовательские рейтинги платформ Xbox One и PC одинаковые."
   ]
  },
  {
   "cell_type": "markdown",
   "metadata": {},
   "source": [
    "- H0: Средние пользовательские рейтинги жанров Action и Sports  равны.\n",
    "- H1: Средние пользовательские рейтинги жанров Action и Sports  разные."
   ]
  },
  {
   "cell_type": "code",
   "execution_count": 45,
   "metadata": {},
   "outputs": [
    {
     "data": {
      "text/plain": [
       "'p-value = 5.97163549920592e-10'"
      ]
     },
     "metadata": {},
     "output_type": "display_data"
    },
    {
     "data": {
      "text/plain": [
       "'Отвергаем нулевую гипотезу'"
      ]
     },
     "metadata": {},
     "output_type": "display_data"
    }
   ],
   "source": [
    "# results = вызов метода для проверки гипотезы\n",
    "results = st.ttest_ind(\n",
    "    df_actual.loc[df_actual['genre'] == 'Action', 'user_score'].dropna(),\n",
    "    df_actual.loc[df_actual['genre'] == 'Sports', 'user_score'].dropna(),\n",
    "    equal_var=False)\n",
    "\n",
    "# зададим значение уровня значимости\n",
    "alpha = .05\n",
    "\n",
    "display(f'p-value = {results.pvalue}')\n",
    "\n",
    "if results.pvalue < alpha:\n",
    "    display(\"Отвергаем нулевую гипотезу\")\n",
    "else:\n",
    "    display(\"Не получилось отвергнуть нулевую гипотезу\")"
   ]
  },
  {
   "cell_type": "markdown",
   "metadata": {},
   "source": [
    "У нас достаточно оснований чтобы отвергнуть гипотезу о равенстве пользовательских рейтингов в жанрах Action и Sports. Для проверки гипотезы был выбран t-test так как он применяется для сравнения средних показателей 2х совокупностей по выборкам из них или по самим савокупностям если их объем не велик. Для не зависимых выборок нулевая гипотеза всегда говорит о равенстве, по этому альтернативная гипотеза говорит о том что показатели не равны."
   ]
  },
  {
   "cell_type": "markdown",
   "metadata": {},
   "source": [
    "## Вывод"
   ]
  },
  {
   "cell_type": "markdown",
   "metadata": {},
   "source": [
    "### В ходе исследования мы выполнили следующие шаги:\n",
    ">* Изучили общую информацию.\n",
    "\n",
    "\n",
    ">* Подготовим данные:\n",
    "    - Привели названия столбцов к нижнему регистру.\n",
    "    - Преобразовали данные в нужные типы.\n",
    "    - Обработали пропуски.\n",
    "    - Посчитали обшие продажи во всех регионах.\n",
    " \n",
    " \n",
    ">* Провели исследовательский анализ данных:\n",
    "    - Посмотрели, сколько игр выпускалось в разные годы.\n",
    "    - Посмотрели, как менялись продажи по платформам. Выбрали платформы с наибольшими суммарными продажами и построили распределение по годам.\n",
    "    - Определили какие платформы лидируют по продажам, растут или падают. Выбрали несколько потенциально прибыльных платформ.\n",
    "    - Построили графики по глобальным продажам игр в разбивке по платформам.\n",
    "    - Посмотрели, как влияют на продажи внутри одной популярной платформы отзывы пользователей и критиков. Построили диаграмму рассеяния и посчитали корреляцию между отзывами и продажами.\n",
    "    - Соотнесли выводы с продажами игр на других платформах.\n",
    "    - Посмотрели на общее распределение игр по жанрам.\n",
    "\n",
    "\n",
    ">* Составили портрет пользователя каждого региона.\n",
    "    - Самые популярные платформы (топ-5).\n",
    "    - Самые популярные жанры (топ-5).\n",
    "    - Влияет ли рейтинг ESRB на продажи в отдельном регионе?\n",
    "    \n",
    "\n",
    ">* Проверили гипотезы.\n",
    "    - Средние пользовательские рейтинги платформ Xbox One и PC одинаковые.\n",
    "    - Средние пользовательские рейтинги жанров Action (англ. «действие», экшен-игры) и Sports (англ. «спортивные соревнования») разные.\n",
    "    \n",
    "\n"
   ]
  },
  {
   "cell_type": "markdown",
   "metadata": {},
   "source": [
    "### Нами были получены следующие выводы:\n",
    "\n",
    ">До 1994 года выпускалось очень мало игр (отметку в 50 преодалели только в 1993 году). Начиная с 1994 года годовое производство игр превысило 120 и очень сильно росло ежегодно вплоть до 2009 года после чего пошло на спад. Данные за все периоды не важны для данного исследования так как платформы имеют свойство устаревать и на их смену приходят новые более технически продвинутые.\n",
    "\n",
    "\n",
    ">Самая старая платформа в нашем топ-10 это 'PS', просуществовала 10 лет. Через 6 лет после старта продаж игр на 'PS' появились новые платформв: 'GBA' и 'PS2', первая из которых просуществовала 8 лет а вторая 12. В дальнейшем появление новых платформ ускорилось. Из данного графика можно сделать вывод что популярные платформы существуют примерно от 8 до 12 лет, и новые поколения платформ выходят на рынок в диапазоне от 4 до 6 лет.\n",
    "\n",
    "\n",
    ">По результатам исследования предидущих вопросов было решено использовать данные начиная с 2015 года, так как данные имеют свойство устаревать, тем более в такой быстроразвивающейся сфере как игровая индустрия, в эту выборку попадут консоли которые еще не потеряли своей актуальности и игры на них производятся в 2016 году. Считаю что периуд с 2015 по 2016 является наиболее подходящим для нашего исследования.\n",
    "\n",
    "\n",
    ">По продажам можно выделить 4 лидирующие платформы: 'PS4', 'XOne', '3DS', 'WiiU'. По всем лидирующим платформам последнии 2 года продажи падают. Не смотря на падение продаж, потенциально прибыльными платформами можно назвать 'XOne' и 'PS4' так как это самые новые платформы из данного списка. Так же можно отметить '3DS' и 'WiiU' которые показывают не очень высокие но достаточно стабильные результаты. Но стоит учитывать появление новых платформ в ближайшие пару лет так как 'XOne' и 'PS4' существуют уже 4 года и пользовательский спрос на игры в последнии 2 года начал снижаться.\n",
    "Так же стоит отметить платформу 'PC', игры на нее будут выходить всегда хоть и пользуются меньшей популярностью (в топ платформ за последнии 2 года 'PC' занимает 6 место из 10 с показателем проданных коппий в 13.7 млн)\n",
    "\n",
    "\n",
    ">По графикам видно что медианное значение продаж по обеим платформам находится на одном уровне но при этом у 'PS4' больше межквартильный размах что говорит нам о большей вариативности показателя продаж (большее количество игр по продажам сильнее отклоняется от средних показателей). Так же у 'PS4' намного больше выбросов вверх, есть даже 2 явных лидера с показателем проданых копий более 12 млн. И в целом у 'PS4' больше игр с высоким показателем продаж.\n",
    "\n",
    "\n",
    ">По графику заметна положительная линейная зависимость между оценкой критиков и общими продажами. Показатель корреляции по коэффиценту Пирсона 0.3928485555130601..\n",
    "\n",
    "\n",
    ">По графику заметна очень слабая, отрицательная зависимость между оценкой пользователей и общими продажами. Показатель корреляции по коэффиценту Пирсона -0.05973845712638215. Можно считать что корреляция нулевая.\n",
    "\n",
    "\n",
    ">При проверке корреляции взаимосвязи оценок пользователей и критиков с продажими по платформам 'XOne' и '3DS' мы получили схожие результаты по 'XOne', а '3DS' имеет слабую положительную зависимость продаж как от оценок критиков так и от оценок пользователей. (Данные могут быть не точные так как по платформе '3DS' У нас маленькая выборка оценок).\n",
    "\n",
    "\n",
    ">По графикам можно заметить что лидером выходящих на рынок игр, с огромным отрывом от остальных является жанр 'Action'. Но по медианному значению продаж занимает лишь 7 место. На первом же месте по продажам стоит жанр 'Shooter' так же с огромным отрывом остальных. На 2 и 3 месте расположились 'Sports' и 'Role-Playing'. Можно сказать что стрелялок выходит не так уж много по отношению к другим жанрам но они являются самыми востребованными среди пользователей.\n",
    "\n",
    "\n",
    ">По графикам распределения продаж среди топ-5 платформ по регионам можно отметить что Японский рынок потреблял игр намного меньше чем Европа и Северная Америка. Платформа '3DS' популярная в Японии (1 место по продажам с показателем около 23 млн копий) в Северной Америке заняла 3 место по рейтингу а в Европейский топ_5 вовсе не попала. 'PS4' лидирует в Северной Америке и Европе. 'XOne' не попавший в топ платформ Японии находится на 2 месте в других регионах и в Северной Америке популярнее чем в Европе более чем вдвое. 'PC' попал в топ Европы заняв 3 место. 'WiiU' попала в топ Северной Америки и Европы. Так же стоит отметить платформу которая заняла 3 место в Японии - 'PSV', и популярность устаревших 'PS3' в Японии и Европе и 'X360' в Северной Америке.\n",
    "\n",
    "\n",
    ">Первые 4 места среди жанров по продажам в Северной Америке и Европе имеют одинаковое распределение:\n",
    "- Shooter\n",
    "- Action\n",
    "- Sports\n",
    "- Role-Playing\n",
    ">Отличие распределения в том что в Северной Америке любят игры в жанре Misc а в Европе - Racing.\n",
    "В Японии же первые 2 места с огромным отрывом от остальных занимают жанры Action и Role-Playing. Остальные 3 позиции распределены в небольшом диапазоне, в них попали (Shooter, Misc и Adventure). Стоит отметить что игры жанра Shooter показывают очень маленькие продажи в Японии в сравнении с другими регионами, нам давно известно о не популярности насилия в играх в этой стране.\n",
    "\n",
    "\n",
    ">В наших данных отсутствуют игры для детей младшего возраста (EC) и игры Только для взрослых (AO). По иеющимся графикам заметно что игры с рейтингом От 17 лет (M) в Японии значительно менее популярны чем в Северной Америке и Европе где они занимают лидирующую позицию. Отметим что распределение по возрастному рейтингу в Северной Америке и Европе идентичны (категории в порядке убывания 'M', 'unknown', 'E', 'T', 'E10+'). Категория без возрастного рейтинга в Японии лидирует с огромным отрывом от всех остальных в то время как в Северной Америке и Европе она на втором месте.\n",
    "\n",
    "\n",
    ">У нас достаточно оснований пологать что средние пользовательские рейтинги платформ Xbox One и PC разные.\n",
    "\n",
    "\n",
    ">У нас недостаточно оснований чтобы отвергнуть гипотезу о равенстве пользовательских рейтингов в жанрах Action и Sports. Для проверки гипотезы был выбран t-test так как он применяется для сравнения средних показателей 2х совокупностей по выборкам из них или по самим савокупностям если их объем не велик. Для не зависимых выборок нулевая гипотеза всегда говорит о равенстве, по этому альтернативная гипотеза говорит о том что показатели не равны."
   ]
  },
  {
   "cell_type": "markdown",
   "metadata": {},
   "source": [
    "### Итоги."
   ]
  },
  {
   "cell_type": "markdown",
   "metadata": {},
   "source": [
    "На момент исследования самыми популярными консолями являются XOne и PS4, вторая показывает лучшие результаты. Остальные кое как дожившие до 2016 года платформы можно считать устаревшими. На Японском рынке лидирует платформа '3DS'. Последнии 2 года продажи по всем платформам держат тренд на понижение. Стоит учитывать что и XOne и PS4 существуют уже 4 года, это означает то что в ближайшие пару лет ожидается выход консолей нового поколения. \n",
    "\n",
    "По рынкам сбыта надо учитывать то что самые популярные в Европе и Северной Америке игры жанра Shooter и игры с рейтингом \"От 17 лет\", менее популярны в Японее, в которой первые места занимают игры в жарнрах Action и Role-Play и без возрастного рейтинга.\n",
    "\n",
    "Так же отметим что между оценками пользователей и уровнем продаж нет линейной связи. А оценки критиков имеют влияние на продажи, хоть и не значительное в некоторых регионах.\n",
    "\n",
    "Поставленая цель по проверке гипотез были сделаны следующие выводы:\n",
    "- У нас достаточно оснований пологать что средние пользовательские рейтинги платформ Xbox One и PC одинаковые.\n",
    "- У нас достаточно оснований чтобы отвергнуть гипотезу о равенстве пользовательских рейтингов в жанрах Action и Sports. Следовательно средние пользовательские рейтинги жанров Action и Sports не равны.\n",
    "\n",
    "\n",
    "Еще есть замечание по данным. У половины данных не проставлены оценки пользователей и критиков."
   ]
  },
  {
   "cell_type": "code",
   "execution_count": null,
   "metadata": {},
   "outputs": [],
   "source": []
  }
 ],
 "metadata": {
  "ExecuteTimeLog": [
   {
    "duration": 396,
    "start_time": "2022-11-14T07:53:56.610Z"
   },
   {
    "duration": 100,
    "start_time": "2022-11-14T07:54:20.060Z"
   },
   {
    "duration": 30,
    "start_time": "2022-11-14T07:54:23.608Z"
   },
   {
    "duration": 9,
    "start_time": "2022-11-14T07:55:05.637Z"
   },
   {
    "duration": 66,
    "start_time": "2022-11-14T07:56:32.550Z"
   },
   {
    "duration": 5,
    "start_time": "2022-11-14T07:56:51.826Z"
   },
   {
    "duration": 3,
    "start_time": "2022-11-14T08:04:13.866Z"
   },
   {
    "duration": 16,
    "start_time": "2022-11-14T08:04:19.682Z"
   },
   {
    "duration": 16,
    "start_time": "2022-11-14T08:05:17.186Z"
   },
   {
    "duration": 6,
    "start_time": "2022-11-14T08:10:22.695Z"
   },
   {
    "duration": 3608,
    "start_time": "2022-11-14T08:37:01.062Z"
   },
   {
    "duration": 16,
    "start_time": "2022-11-14T08:38:05.802Z"
   },
   {
    "duration": 25,
    "start_time": "2022-11-14T09:37:52.826Z"
   },
   {
    "duration": 31,
    "start_time": "2022-11-14T09:38:21.378Z"
   },
   {
    "duration": 56,
    "start_time": "2022-11-14T09:43:14.948Z"
   },
   {
    "duration": 10,
    "start_time": "2022-11-14T09:44:43.904Z"
   },
   {
    "duration": 18,
    "start_time": "2022-11-14T09:44:51.079Z"
   },
   {
    "duration": 10,
    "start_time": "2022-11-14T09:46:37.736Z"
   },
   {
    "duration": 20,
    "start_time": "2022-11-14T10:05:51.698Z"
   },
   {
    "duration": 6,
    "start_time": "2022-11-14T10:15:30.909Z"
   },
   {
    "duration": 10,
    "start_time": "2022-11-14T10:19:00.594Z"
   },
   {
    "duration": 10,
    "start_time": "2022-11-14T10:19:09.118Z"
   },
   {
    "duration": 17,
    "start_time": "2022-11-14T10:19:14.217Z"
   },
   {
    "duration": 12,
    "start_time": "2022-11-14T10:22:38.748Z"
   },
   {
    "duration": 9,
    "start_time": "2022-11-14T10:22:47.751Z"
   },
   {
    "duration": 47,
    "start_time": "2022-11-14T10:30:49.508Z"
   },
   {
    "duration": 9,
    "start_time": "2022-11-14T10:30:53.144Z"
   },
   {
    "duration": 61,
    "start_time": "2022-11-14T10:31:27.613Z"
   },
   {
    "duration": 15,
    "start_time": "2022-11-14T10:31:29.911Z"
   },
   {
    "duration": 652,
    "start_time": "2022-11-14T10:36:58.435Z"
   },
   {
    "duration": 14,
    "start_time": "2022-11-14T10:46:00.721Z"
   },
   {
    "duration": 5,
    "start_time": "2022-11-14T10:47:18.770Z"
   },
   {
    "duration": 5,
    "start_time": "2022-11-14T10:48:21.044Z"
   },
   {
    "duration": 92,
    "start_time": "2022-11-14T10:48:58.181Z"
   },
   {
    "duration": 16,
    "start_time": "2022-11-14T10:49:02.933Z"
   },
   {
    "duration": 9,
    "start_time": "2022-11-14T10:49:24.365Z"
   },
   {
    "duration": 10,
    "start_time": "2022-11-14T10:50:43.663Z"
   },
   {
    "duration": 10,
    "start_time": "2022-11-14T10:51:03.046Z"
   },
   {
    "duration": 21,
    "start_time": "2022-11-14T10:51:13.438Z"
   },
   {
    "duration": 41,
    "start_time": "2022-11-14T10:52:30.374Z"
   },
   {
    "duration": 75,
    "start_time": "2022-11-14T10:55:31.584Z"
   },
   {
    "duration": 56,
    "start_time": "2022-11-14T10:55:53.040Z"
   },
   {
    "duration": 87,
    "start_time": "2022-11-14T10:56:29.640Z"
   },
   {
    "duration": 29,
    "start_time": "2022-11-14T10:56:35.727Z"
   },
   {
    "duration": 26,
    "start_time": "2022-11-14T10:57:15.460Z"
   },
   {
    "duration": 34,
    "start_time": "2022-11-14T10:59:03.089Z"
   },
   {
    "duration": 5,
    "start_time": "2022-11-14T11:05:52.113Z"
   },
   {
    "duration": 7,
    "start_time": "2022-11-14T11:06:25.570Z"
   },
   {
    "duration": 2280,
    "start_time": "2022-11-14T11:06:49.683Z"
   },
   {
    "duration": 53,
    "start_time": "2022-11-14T11:06:51.966Z"
   },
   {
    "duration": 16,
    "start_time": "2022-11-14T11:06:52.021Z"
   },
   {
    "duration": 18,
    "start_time": "2022-11-14T11:06:52.039Z"
   },
   {
    "duration": 89,
    "start_time": "2022-11-14T11:06:52.059Z"
   },
   {
    "duration": 32,
    "start_time": "2022-11-14T11:06:52.150Z"
   },
   {
    "duration": 57,
    "start_time": "2022-11-14T11:06:52.184Z"
   },
   {
    "duration": 89,
    "start_time": "2022-11-14T11:06:52.243Z"
   },
   {
    "duration": 38,
    "start_time": "2022-11-14T11:06:52.334Z"
   },
   {
    "duration": 127,
    "start_time": "2022-11-14T11:06:52.374Z"
   },
   {
    "duration": 18,
    "start_time": "2022-11-14T11:06:52.504Z"
   },
   {
    "duration": 65,
    "start_time": "2022-11-14T11:06:52.525Z"
   },
   {
    "duration": 10,
    "start_time": "2022-11-14T11:06:52.591Z"
   },
   {
    "duration": 2,
    "start_time": "2022-11-14T11:13:22.029Z"
   },
   {
    "duration": 15,
    "start_time": "2022-11-14T11:15:59.704Z"
   },
   {
    "duration": 12,
    "start_time": "2022-11-14T11:16:41.217Z"
   },
   {
    "duration": 22,
    "start_time": "2022-11-14T11:23:59.261Z"
   },
   {
    "duration": 9,
    "start_time": "2022-11-14T11:25:23.463Z"
   },
   {
    "duration": 11,
    "start_time": "2022-11-14T11:25:50.461Z"
   },
   {
    "duration": 22,
    "start_time": "2022-11-14T11:26:38.366Z"
   },
   {
    "duration": 12,
    "start_time": "2022-11-14T11:26:57.331Z"
   },
   {
    "duration": 14,
    "start_time": "2022-11-14T11:27:10.629Z"
   },
   {
    "duration": 34,
    "start_time": "2022-11-14T11:27:30.166Z"
   },
   {
    "duration": 9,
    "start_time": "2022-11-14T11:28:04.612Z"
   },
   {
    "duration": 13,
    "start_time": "2022-11-14T11:28:09.502Z"
   },
   {
    "duration": 36,
    "start_time": "2022-11-14T11:36:44.882Z"
   },
   {
    "duration": 47,
    "start_time": "2022-11-14T11:37:05.874Z"
   },
   {
    "duration": 49,
    "start_time": "2022-11-14T11:45:30.543Z"
   },
   {
    "duration": 15,
    "start_time": "2022-11-14T11:46:07.598Z"
   },
   {
    "duration": 15,
    "start_time": "2022-11-14T11:51:08.070Z"
   },
   {
    "duration": 4,
    "start_time": "2022-11-14T11:53:13.506Z"
   },
   {
    "duration": 16,
    "start_time": "2022-11-14T11:53:16.161Z"
   },
   {
    "duration": 6,
    "start_time": "2022-11-14T11:53:22.635Z"
   },
   {
    "duration": 9,
    "start_time": "2022-11-14T11:53:32.754Z"
   },
   {
    "duration": 9,
    "start_time": "2022-11-14T11:53:41.778Z"
   },
   {
    "duration": 16,
    "start_time": "2022-11-14T11:53:49.602Z"
   },
   {
    "duration": 2310,
    "start_time": "2022-11-14T11:56:36.602Z"
   },
   {
    "duration": 53,
    "start_time": "2022-11-14T11:56:38.915Z"
   },
   {
    "duration": 15,
    "start_time": "2022-11-14T11:56:38.970Z"
   },
   {
    "duration": 19,
    "start_time": "2022-11-14T11:56:38.986Z"
   },
   {
    "duration": 14,
    "start_time": "2022-11-14T11:56:39.008Z"
   },
   {
    "duration": 5,
    "start_time": "2022-11-14T11:56:39.023Z"
   },
   {
    "duration": 21,
    "start_time": "2022-11-14T11:56:39.030Z"
   },
   {
    "duration": 34,
    "start_time": "2022-11-14T11:56:39.053Z"
   },
   {
    "duration": 4,
    "start_time": "2022-11-14T11:56:39.089Z"
   },
   {
    "duration": 106,
    "start_time": "2022-11-14T11:56:39.095Z"
   },
   {
    "duration": 16,
    "start_time": "2022-11-14T11:56:39.203Z"
   },
   {
    "duration": 59,
    "start_time": "2022-11-14T11:56:39.221Z"
   },
   {
    "duration": 6,
    "start_time": "2022-11-14T11:56:39.282Z"
   },
   {
    "duration": 20,
    "start_time": "2022-11-14T11:56:39.291Z"
   },
   {
    "duration": 80,
    "start_time": "2022-11-14T11:56:39.313Z"
   },
   {
    "duration": 14,
    "start_time": "2022-11-14T11:56:39.395Z"
   },
   {
    "duration": 6,
    "start_time": "2022-11-14T11:56:39.412Z"
   },
   {
    "duration": 16,
    "start_time": "2022-11-14T11:56:39.419Z"
   },
   {
    "duration": 6,
    "start_time": "2022-11-14T11:56:39.437Z"
   },
   {
    "duration": 7,
    "start_time": "2022-11-14T12:06:41.697Z"
   },
   {
    "duration": 7,
    "start_time": "2022-11-14T12:15:30.948Z"
   },
   {
    "duration": 13,
    "start_time": "2022-11-14T12:15:47.708Z"
   },
   {
    "duration": 10,
    "start_time": "2022-11-14T12:16:16.859Z"
   },
   {
    "duration": 10,
    "start_time": "2022-11-14T12:16:25.827Z"
   },
   {
    "duration": 11,
    "start_time": "2022-11-14T12:16:49.019Z"
   },
   {
    "duration": 9,
    "start_time": "2022-11-14T12:16:59.629Z"
   },
   {
    "duration": 9,
    "start_time": "2022-11-14T12:17:10.276Z"
   },
   {
    "duration": 11,
    "start_time": "2022-11-14T12:17:24.356Z"
   },
   {
    "duration": 151,
    "start_time": "2022-11-14T12:17:53.901Z"
   },
   {
    "duration": 7,
    "start_time": "2022-11-14T12:18:56.605Z"
   },
   {
    "duration": 5,
    "start_time": "2022-11-14T12:19:18.773Z"
   },
   {
    "duration": 347,
    "start_time": "2022-11-14T12:19:25.990Z"
   },
   {
    "duration": 340,
    "start_time": "2022-11-14T12:19:56.070Z"
   },
   {
    "duration": 327,
    "start_time": "2022-11-14T12:21:41.686Z"
   },
   {
    "duration": 423,
    "start_time": "2022-11-14T12:22:18.334Z"
   },
   {
    "duration": 327,
    "start_time": "2022-11-14T12:24:08.615Z"
   },
   {
    "duration": 451,
    "start_time": "2022-11-14T12:24:27.529Z"
   },
   {
    "duration": 399,
    "start_time": "2022-11-14T12:24:46.688Z"
   },
   {
    "duration": 366,
    "start_time": "2022-11-14T12:26:26.017Z"
   },
   {
    "duration": 474,
    "start_time": "2022-11-14T12:26:55.225Z"
   },
   {
    "duration": 343,
    "start_time": "2022-11-14T12:27:20.222Z"
   },
   {
    "duration": 352,
    "start_time": "2022-11-14T12:27:33.481Z"
   },
   {
    "duration": 427,
    "start_time": "2022-11-14T12:28:18.842Z"
   },
   {
    "duration": 406,
    "start_time": "2022-11-14T12:28:37.017Z"
   },
   {
    "duration": 348,
    "start_time": "2022-11-14T12:28:45.274Z"
   },
   {
    "duration": 477,
    "start_time": "2022-11-14T12:29:31.467Z"
   },
   {
    "duration": 10,
    "start_time": "2022-11-14T12:37:35.782Z"
   },
   {
    "duration": 14,
    "start_time": "2022-11-14T12:43:37.897Z"
   },
   {
    "duration": 23,
    "start_time": "2022-11-14T12:44:45.241Z"
   },
   {
    "duration": 53,
    "start_time": "2022-11-14T12:45:14.507Z"
   },
   {
    "duration": 2361,
    "start_time": "2022-11-14T12:46:04.882Z"
   },
   {
    "duration": 66,
    "start_time": "2022-11-14T12:46:09.944Z"
   },
   {
    "duration": 18,
    "start_time": "2022-11-14T12:51:01.372Z"
   },
   {
    "duration": 27,
    "start_time": "2022-11-14T12:51:38.218Z"
   },
   {
    "duration": 22,
    "start_time": "2022-11-14T12:51:49.701Z"
   },
   {
    "duration": 17,
    "start_time": "2022-11-14T12:52:02.726Z"
   },
   {
    "duration": 16,
    "start_time": "2022-11-14T12:52:14.661Z"
   },
   {
    "duration": 97,
    "start_time": "2022-11-14T12:54:10.541Z"
   },
   {
    "duration": 16,
    "start_time": "2022-11-14T12:54:26.790Z"
   },
   {
    "duration": 17,
    "start_time": "2022-11-14T12:55:51.871Z"
   },
   {
    "duration": 14,
    "start_time": "2022-11-14T12:55:59.119Z"
   },
   {
    "duration": 15,
    "start_time": "2022-11-14T12:56:07.094Z"
   },
   {
    "duration": 16,
    "start_time": "2022-11-14T12:56:12.262Z"
   },
   {
    "duration": 15,
    "start_time": "2022-11-14T12:56:16.926Z"
   },
   {
    "duration": 15,
    "start_time": "2022-11-14T12:56:26.271Z"
   },
   {
    "duration": 15,
    "start_time": "2022-11-14T12:56:50.599Z"
   },
   {
    "duration": 16,
    "start_time": "2022-11-14T12:59:10.031Z"
   },
   {
    "duration": 15,
    "start_time": "2022-11-14T13:00:42.530Z"
   },
   {
    "duration": 52,
    "start_time": "2022-11-14T13:01:26.971Z"
   },
   {
    "duration": 15,
    "start_time": "2022-11-14T13:07:12.139Z"
   },
   {
    "duration": 17,
    "start_time": "2022-11-14T13:07:30.156Z"
   },
   {
    "duration": 16,
    "start_time": "2022-11-14T13:08:13.227Z"
   },
   {
    "duration": 36,
    "start_time": "2022-11-14T13:08:16.941Z"
   },
   {
    "duration": 15,
    "start_time": "2022-11-14T13:10:23.821Z"
   },
   {
    "duration": 39,
    "start_time": "2022-11-14T13:11:54.685Z"
   },
   {
    "duration": 17,
    "start_time": "2022-11-14T13:34:41.714Z"
   },
   {
    "duration": 15,
    "start_time": "2022-11-14T13:34:57.905Z"
   },
   {
    "duration": 24,
    "start_time": "2022-11-14T13:36:12.946Z"
   },
   {
    "duration": 25,
    "start_time": "2022-11-14T13:40:48.589Z"
   },
   {
    "duration": 21,
    "start_time": "2022-11-14T13:42:12.365Z"
   },
   {
    "duration": 23,
    "start_time": "2022-11-14T13:50:21.766Z"
   },
   {
    "duration": 26,
    "start_time": "2022-11-14T13:50:50.801Z"
   },
   {
    "duration": 17,
    "start_time": "2022-11-14T13:51:41.121Z"
   },
   {
    "duration": 63,
    "start_time": "2022-11-14T13:52:24.715Z"
   },
   {
    "duration": 15,
    "start_time": "2022-11-14T13:52:30.602Z"
   },
   {
    "duration": 16,
    "start_time": "2022-11-14T13:53:06.778Z"
   },
   {
    "duration": 16,
    "start_time": "2022-11-14T13:54:00.890Z"
   },
   {
    "duration": 22,
    "start_time": "2022-11-14T13:54:19.474Z"
   },
   {
    "duration": 23,
    "start_time": "2022-11-14T13:54:57.883Z"
   },
   {
    "duration": 39,
    "start_time": "2022-11-14T13:55:36.171Z"
   },
   {
    "duration": 5,
    "start_time": "2022-11-14T14:10:41.153Z"
   },
   {
    "duration": 18,
    "start_time": "2022-11-14T14:10:57.321Z"
   },
   {
    "duration": 5,
    "start_time": "2022-11-14T14:31:32.001Z"
   },
   {
    "duration": 40032,
    "start_time": "2022-11-14T14:36:29.604Z"
   },
   {
    "duration": 39986,
    "start_time": "2022-11-14T14:37:45.716Z"
   },
   {
    "duration": 420,
    "start_time": "2022-11-14T14:38:34.186Z"
   },
   {
    "duration": 133,
    "start_time": "2022-11-14T14:39:26.429Z"
   },
   {
    "duration": 441,
    "start_time": "2022-11-14T14:39:42.853Z"
   },
   {
    "duration": 155,
    "start_time": "2022-11-14T14:40:02.741Z"
   },
   {
    "duration": 444,
    "start_time": "2022-11-14T14:40:09.294Z"
   },
   {
    "duration": 22,
    "start_time": "2022-11-14T14:54:59.633Z"
   },
   {
    "duration": 5,
    "start_time": "2022-11-14T14:55:43.612Z"
   },
   {
    "duration": 162,
    "start_time": "2022-11-14T14:55:44.557Z"
   },
   {
    "duration": 166,
    "start_time": "2022-11-14T14:56:54.090Z"
   },
   {
    "duration": 163,
    "start_time": "2022-11-14T14:57:10.034Z"
   },
   {
    "duration": 161,
    "start_time": "2022-11-14T15:00:28.502Z"
   },
   {
    "duration": 164,
    "start_time": "2022-11-14T15:00:52.407Z"
   },
   {
    "duration": 169,
    "start_time": "2022-11-14T15:01:28.351Z"
   },
   {
    "duration": 166,
    "start_time": "2022-11-14T15:02:59.911Z"
   },
   {
    "duration": 168,
    "start_time": "2022-11-14T15:03:12.048Z"
   },
   {
    "duration": 165,
    "start_time": "2022-11-14T15:03:45.184Z"
   },
   {
    "duration": 174,
    "start_time": "2022-11-14T15:04:01.616Z"
   },
   {
    "duration": 171,
    "start_time": "2022-11-14T15:06:50.761Z"
   },
   {
    "duration": 14,
    "start_time": "2022-11-14T15:16:59.622Z"
   },
   {
    "duration": 4,
    "start_time": "2022-11-14T15:17:58.942Z"
   },
   {
    "duration": 163,
    "start_time": "2022-11-14T15:18:06.740Z"
   },
   {
    "duration": 167,
    "start_time": "2022-11-14T15:18:14.567Z"
   },
   {
    "duration": 5,
    "start_time": "2022-11-14T15:18:46.751Z"
   },
   {
    "duration": 5,
    "start_time": "2022-11-14T15:25:49.900Z"
   },
   {
    "duration": 725,
    "start_time": "2022-11-14T15:26:04.549Z"
   },
   {
    "duration": 1365,
    "start_time": "2022-11-14T15:26:31.996Z"
   },
   {
    "duration": 575,
    "start_time": "2022-11-14T15:28:20.942Z"
   },
   {
    "duration": 190,
    "start_time": "2022-11-14T15:28:45.038Z"
   },
   {
    "duration": 187,
    "start_time": "2022-11-14T15:28:56.478Z"
   },
   {
    "duration": 684,
    "start_time": "2022-11-14T15:29:05.462Z"
   },
   {
    "duration": 721,
    "start_time": "2022-11-14T15:29:12.788Z"
   },
   {
    "duration": 337,
    "start_time": "2022-11-14T15:29:30.581Z"
   },
   {
    "duration": 167,
    "start_time": "2022-11-14T15:29:38.508Z"
   },
   {
    "duration": 704,
    "start_time": "2022-11-14T15:29:42.668Z"
   },
   {
    "duration": 785,
    "start_time": "2022-11-14T15:31:02.685Z"
   },
   {
    "duration": 739,
    "start_time": "2022-11-14T15:31:44.269Z"
   },
   {
    "duration": 725,
    "start_time": "2022-11-14T15:31:52.134Z"
   },
   {
    "duration": 713,
    "start_time": "2022-11-14T15:32:11.330Z"
   },
   {
    "duration": 741,
    "start_time": "2022-11-14T15:32:17.885Z"
   },
   {
    "duration": 716,
    "start_time": "2022-11-14T15:32:42.094Z"
   },
   {
    "duration": 6,
    "start_time": "2022-11-14T15:32:46.852Z"
   },
   {
    "duration": 739,
    "start_time": "2022-11-14T15:32:47.590Z"
   },
   {
    "duration": 684,
    "start_time": "2022-11-14T15:32:49.341Z"
   },
   {
    "duration": 5,
    "start_time": "2022-11-14T15:34:22.815Z"
   },
   {
    "duration": 5,
    "start_time": "2022-11-14T15:34:42.559Z"
   },
   {
    "duration": 597,
    "start_time": "2022-11-14T15:35:34.712Z"
   },
   {
    "duration": 696,
    "start_time": "2022-11-14T15:36:11.712Z"
   },
   {
    "duration": 3448,
    "start_time": "2022-11-14T15:49:30.492Z"
   },
   {
    "duration": 58,
    "start_time": "2022-11-14T15:49:34.907Z"
   },
   {
    "duration": 24,
    "start_time": "2022-11-14T15:49:36.875Z"
   },
   {
    "duration": 15,
    "start_time": "2022-11-14T15:49:38.475Z"
   },
   {
    "duration": 10,
    "start_time": "2022-11-14T15:49:42.091Z"
   },
   {
    "duration": 2336,
    "start_time": "2022-11-14T15:51:09.082Z"
   },
   {
    "duration": 53,
    "start_time": "2022-11-14T15:51:11.421Z"
   },
   {
    "duration": 18,
    "start_time": "2022-11-14T15:51:11.476Z"
   },
   {
    "duration": 26,
    "start_time": "2022-11-14T15:51:11.496Z"
   },
   {
    "duration": 11,
    "start_time": "2022-11-14T15:51:11.524Z"
   },
   {
    "duration": 9,
    "start_time": "2022-11-14T15:51:11.537Z"
   },
   {
    "duration": 35,
    "start_time": "2022-11-14T15:51:11.548Z"
   },
   {
    "duration": 14,
    "start_time": "2022-11-14T15:51:11.586Z"
   },
   {
    "duration": 5,
    "start_time": "2022-11-14T15:51:11.602Z"
   },
   {
    "duration": 125,
    "start_time": "2022-11-14T15:51:11.609Z"
   },
   {
    "duration": 22,
    "start_time": "2022-11-14T15:51:11.736Z"
   },
   {
    "duration": 46,
    "start_time": "2022-11-14T15:51:11.760Z"
   },
   {
    "duration": 10,
    "start_time": "2022-11-14T15:51:11.808Z"
   },
   {
    "duration": 64,
    "start_time": "2022-11-14T15:51:11.822Z"
   },
   {
    "duration": 51,
    "start_time": "2022-11-14T15:51:11.888Z"
   },
   {
    "duration": 50,
    "start_time": "2022-11-14T15:51:11.941Z"
   },
   {
    "duration": 10,
    "start_time": "2022-11-14T15:51:11.993Z"
   },
   {
    "duration": 20,
    "start_time": "2022-11-14T15:51:12.005Z"
   },
   {
    "duration": 10,
    "start_time": "2022-11-14T15:51:12.027Z"
   },
   {
    "duration": 395,
    "start_time": "2022-11-14T15:51:12.038Z"
   },
   {
    "duration": 16,
    "start_time": "2022-11-14T15:51:12.435Z"
   },
   {
    "duration": 56,
    "start_time": "2022-11-14T15:51:12.453Z"
   },
   {
    "duration": 16,
    "start_time": "2022-11-14T15:51:12.511Z"
   },
   {
    "duration": 23,
    "start_time": "2022-11-14T15:51:12.529Z"
   },
   {
    "duration": 28,
    "start_time": "2022-11-14T15:51:12.553Z"
   },
   {
    "duration": 185,
    "start_time": "2022-11-14T15:51:12.583Z"
   },
   {
    "duration": 219,
    "start_time": "2022-11-14T15:51:12.769Z"
   },
   {
    "duration": 5,
    "start_time": "2022-11-14T15:51:12.990Z"
   },
   {
    "duration": 781,
    "start_time": "2022-11-14T15:51:12.996Z"
   },
   {
    "duration": 6,
    "start_time": "2022-11-14T15:51:13.778Z"
   },
   {
    "duration": 837,
    "start_time": "2022-11-14T15:51:13.785Z"
   },
   {
    "duration": 5,
    "start_time": "2022-11-14T15:51:14.624Z"
   },
   {
    "duration": 19,
    "start_time": "2022-11-14T15:51:14.631Z"
   },
   {
    "duration": 1736,
    "start_time": "2022-11-14T15:53:05.965Z"
   },
   {
    "duration": 1829,
    "start_time": "2022-11-14T15:53:42.461Z"
   },
   {
    "duration": 1809,
    "start_time": "2022-11-14T15:53:49.318Z"
   },
   {
    "duration": 1708,
    "start_time": "2022-11-14T15:54:58.246Z"
   },
   {
    "duration": 1847,
    "start_time": "2022-11-14T15:55:57.847Z"
   },
   {
    "duration": 144,
    "start_time": "2022-11-14T15:56:56.247Z"
   },
   {
    "duration": 1737,
    "start_time": "2022-11-14T15:57:37.559Z"
   },
   {
    "duration": 1930,
    "start_time": "2022-11-14T15:59:00.128Z"
   },
   {
    "duration": 819,
    "start_time": "2022-11-14T15:59:25.439Z"
   },
   {
    "duration": 776,
    "start_time": "2022-11-14T16:00:04.552Z"
   },
   {
    "duration": 541,
    "start_time": "2022-11-14T16:00:48.528Z"
   },
   {
    "duration": 679,
    "start_time": "2022-11-14T16:00:59.376Z"
   },
   {
    "duration": 660,
    "start_time": "2022-11-14T16:01:27.194Z"
   },
   {
    "duration": 635,
    "start_time": "2022-11-14T16:01:36.672Z"
   },
   {
    "duration": 729,
    "start_time": "2022-11-14T16:01:53.704Z"
   },
   {
    "duration": 625,
    "start_time": "2022-11-14T16:02:20.937Z"
   },
   {
    "duration": 620,
    "start_time": "2022-11-14T16:02:59.226Z"
   },
   {
    "duration": 742,
    "start_time": "2022-11-14T16:07:24.963Z"
   },
   {
    "duration": 639,
    "start_time": "2022-11-14T16:08:01.139Z"
   },
   {
    "duration": 627,
    "start_time": "2022-11-14T16:09:55.244Z"
   },
   {
    "duration": 731,
    "start_time": "2022-11-14T16:10:36.245Z"
   },
   {
    "duration": 578,
    "start_time": "2022-11-14T16:11:50.206Z"
   },
   {
    "duration": 627,
    "start_time": "2022-11-14T16:11:56.886Z"
   },
   {
    "duration": 779,
    "start_time": "2022-11-14T16:12:22.646Z"
   },
   {
    "duration": 14,
    "start_time": "2022-11-14T16:19:20.057Z"
   },
   {
    "duration": 573,
    "start_time": "2022-11-14T16:36:19.832Z"
   },
   {
    "duration": 603,
    "start_time": "2022-11-14T16:36:27.992Z"
   },
   {
    "duration": 725,
    "start_time": "2022-11-14T16:37:54.001Z"
   },
   {
    "duration": 12,
    "start_time": "2022-11-14T16:38:33.050Z"
   },
   {
    "duration": 7,
    "start_time": "2022-11-14T16:38:41.617Z"
   },
   {
    "duration": 164,
    "start_time": "2022-11-14T16:40:46.539Z"
   },
   {
    "duration": 173,
    "start_time": "2022-11-14T16:41:07.721Z"
   },
   {
    "duration": 171,
    "start_time": "2022-11-14T16:41:17.402Z"
   },
   {
    "duration": 172,
    "start_time": "2022-11-14T16:42:16.083Z"
   },
   {
    "duration": 184,
    "start_time": "2022-11-14T16:42:23.203Z"
   },
   {
    "duration": 163,
    "start_time": "2022-11-14T16:43:06.403Z"
   },
   {
    "duration": 172,
    "start_time": "2022-11-14T16:43:26.163Z"
   },
   {
    "duration": 174,
    "start_time": "2022-11-14T16:44:15.500Z"
   },
   {
    "duration": 284,
    "start_time": "2022-11-14T16:44:20.667Z"
   },
   {
    "duration": 171,
    "start_time": "2022-11-14T16:44:29.132Z"
   },
   {
    "duration": 175,
    "start_time": "2022-11-14T16:44:39.981Z"
   },
   {
    "duration": 170,
    "start_time": "2022-11-14T16:45:50.613Z"
   },
   {
    "duration": 169,
    "start_time": "2022-11-14T16:46:07.051Z"
   },
   {
    "duration": 14,
    "start_time": "2022-11-14T16:47:23.149Z"
   },
   {
    "duration": 11,
    "start_time": "2022-11-14T16:48:00.501Z"
   },
   {
    "duration": 180,
    "start_time": "2022-11-14T16:48:47.846Z"
   },
   {
    "duration": 179,
    "start_time": "2022-11-14T16:49:13.406Z"
   },
   {
    "duration": 217,
    "start_time": "2022-11-14T16:49:34.462Z"
   },
   {
    "duration": 237,
    "start_time": "2022-11-14T16:50:19.431Z"
   },
   {
    "duration": 207,
    "start_time": "2022-11-14T16:51:15.599Z"
   },
   {
    "duration": 277,
    "start_time": "2022-11-14T17:00:12.818Z"
   },
   {
    "duration": 368,
    "start_time": "2022-11-14T17:00:15.669Z"
   },
   {
    "duration": 2317,
    "start_time": "2022-11-14T17:01:08.387Z"
   },
   {
    "duration": 55,
    "start_time": "2022-11-14T17:01:10.707Z"
   },
   {
    "duration": 17,
    "start_time": "2022-11-14T17:01:10.764Z"
   },
   {
    "duration": 24,
    "start_time": "2022-11-14T17:01:10.783Z"
   },
   {
    "duration": 12,
    "start_time": "2022-11-14T17:01:10.809Z"
   },
   {
    "duration": 5,
    "start_time": "2022-11-14T17:01:10.823Z"
   },
   {
    "duration": 20,
    "start_time": "2022-11-14T17:01:10.831Z"
   },
   {
    "duration": 38,
    "start_time": "2022-11-14T17:01:10.854Z"
   },
   {
    "duration": 9,
    "start_time": "2022-11-14T17:01:10.895Z"
   },
   {
    "duration": 120,
    "start_time": "2022-11-14T17:01:10.908Z"
   },
   {
    "duration": 30,
    "start_time": "2022-11-14T17:01:11.030Z"
   },
   {
    "duration": 48,
    "start_time": "2022-11-14T17:01:11.063Z"
   },
   {
    "duration": 9,
    "start_time": "2022-11-14T17:01:11.112Z"
   },
   {
    "duration": 62,
    "start_time": "2022-11-14T17:01:11.123Z"
   },
   {
    "duration": 55,
    "start_time": "2022-11-14T17:01:11.187Z"
   },
   {
    "duration": 16,
    "start_time": "2022-11-14T17:01:11.278Z"
   },
   {
    "duration": 9,
    "start_time": "2022-11-14T17:01:11.296Z"
   },
   {
    "duration": 20,
    "start_time": "2022-11-14T17:01:11.307Z"
   },
   {
    "duration": 10,
    "start_time": "2022-11-14T17:01:11.329Z"
   },
   {
    "duration": 430,
    "start_time": "2022-11-14T17:01:11.341Z"
   },
   {
    "duration": 19,
    "start_time": "2022-11-14T17:01:11.772Z"
   },
   {
    "duration": 44,
    "start_time": "2022-11-14T17:01:11.792Z"
   },
   {
    "duration": 48,
    "start_time": "2022-11-14T17:01:11.839Z"
   },
   {
    "duration": 26,
    "start_time": "2022-11-14T17:01:11.889Z"
   },
   {
    "duration": 5,
    "start_time": "2022-11-14T17:01:11.917Z"
   },
   {
    "duration": 206,
    "start_time": "2022-11-14T17:01:11.924Z"
   },
   {
    "duration": 210,
    "start_time": "2022-11-14T17:01:12.132Z"
   },
   {
    "duration": 5,
    "start_time": "2022-11-14T17:01:12.346Z"
   },
   {
    "duration": 900,
    "start_time": "2022-11-14T17:01:12.353Z"
   },
   {
    "duration": 8,
    "start_time": "2022-11-14T17:01:13.256Z"
   },
   {
    "duration": 780,
    "start_time": "2022-11-14T17:01:13.266Z"
   },
   {
    "duration": 7,
    "start_time": "2022-11-14T17:01:14.048Z"
   },
   {
    "duration": 814,
    "start_time": "2022-11-14T17:01:14.057Z"
   },
   {
    "duration": 692,
    "start_time": "2022-11-14T17:01:14.877Z"
   },
   {
    "duration": 207,
    "start_time": "2022-11-14T17:01:15.571Z"
   },
   {
    "duration": 216,
    "start_time": "2022-11-14T17:01:15.780Z"
   },
   {
    "duration": 17,
    "start_time": "2022-11-14T17:01:15.998Z"
   },
   {
    "duration": 205,
    "start_time": "2022-11-14T17:02:38.997Z"
   },
   {
    "duration": 194,
    "start_time": "2022-11-14T17:02:39.996Z"
   },
   {
    "duration": 333,
    "start_time": "2022-11-14T17:02:51.828Z"
   },
   {
    "duration": 201,
    "start_time": "2022-11-14T17:02:58.116Z"
   },
   {
    "duration": 150,
    "start_time": "2022-11-14T17:30:38.881Z"
   },
   {
    "duration": 186,
    "start_time": "2022-11-14T17:30:58.898Z"
   },
   {
    "duration": 3549,
    "start_time": "2022-11-14T19:56:43.363Z"
   },
   {
    "duration": 51,
    "start_time": "2022-11-14T19:56:46.914Z"
   },
   {
    "duration": 21,
    "start_time": "2022-11-14T19:56:46.967Z"
   },
   {
    "duration": 25,
    "start_time": "2022-11-14T19:56:48.564Z"
   },
   {
    "duration": 11,
    "start_time": "2022-11-14T19:56:55.051Z"
   },
   {
    "duration": 109,
    "start_time": "2022-11-14T19:59:13.836Z"
   },
   {
    "duration": 9,
    "start_time": "2022-11-14T19:59:24.405Z"
   },
   {
    "duration": 1363,
    "start_time": "2022-11-14T19:59:30.116Z"
   },
   {
    "duration": 1184,
    "start_time": "2022-11-14T20:01:01.374Z"
   },
   {
    "duration": 4,
    "start_time": "2022-11-14T20:01:13.341Z"
   },
   {
    "duration": 5,
    "start_time": "2022-11-14T20:01:19.582Z"
   },
   {
    "duration": 4,
    "start_time": "2022-11-14T20:01:20.397Z"
   },
   {
    "duration": 5,
    "start_time": "2022-11-14T20:01:20.637Z"
   },
   {
    "duration": 4,
    "start_time": "2022-11-14T20:01:21.101Z"
   },
   {
    "duration": 5,
    "start_time": "2022-11-14T20:01:21.357Z"
   },
   {
    "duration": 6,
    "start_time": "2022-11-14T20:02:33.976Z"
   },
   {
    "duration": 10,
    "start_time": "2022-11-14T20:02:36.327Z"
   },
   {
    "duration": 2329,
    "start_time": "2022-11-14T20:02:46.142Z"
   },
   {
    "duration": 69,
    "start_time": "2022-11-14T20:02:48.474Z"
   },
   {
    "duration": 16,
    "start_time": "2022-11-14T20:02:48.547Z"
   },
   {
    "duration": 19,
    "start_time": "2022-11-14T20:02:48.565Z"
   },
   {
    "duration": 11,
    "start_time": "2022-11-14T20:02:48.587Z"
   },
   {
    "duration": 17,
    "start_time": "2022-11-14T20:02:48.600Z"
   },
   {
    "duration": 23,
    "start_time": "2022-11-14T20:02:48.620Z"
   },
   {
    "duration": 12,
    "start_time": "2022-11-14T20:02:48.645Z"
   },
   {
    "duration": 6,
    "start_time": "2022-11-14T20:02:48.659Z"
   },
   {
    "duration": 107,
    "start_time": "2022-11-14T20:02:48.679Z"
   },
   {
    "duration": 15,
    "start_time": "2022-11-14T20:02:48.788Z"
   },
   {
    "duration": 33,
    "start_time": "2022-11-14T20:02:48.805Z"
   },
   {
    "duration": 43,
    "start_time": "2022-11-14T20:02:48.840Z"
   },
   {
    "duration": 19,
    "start_time": "2022-11-14T20:02:48.886Z"
   },
   {
    "duration": 87,
    "start_time": "2022-11-14T20:02:48.907Z"
   },
   {
    "duration": 15,
    "start_time": "2022-11-14T20:02:48.996Z"
   },
   {
    "duration": 7,
    "start_time": "2022-11-14T20:02:49.018Z"
   },
   {
    "duration": 35,
    "start_time": "2022-11-14T20:02:49.027Z"
   },
   {
    "duration": 18,
    "start_time": "2022-11-14T20:02:49.065Z"
   },
   {
    "duration": 425,
    "start_time": "2022-11-14T20:02:49.085Z"
   },
   {
    "duration": 19,
    "start_time": "2022-11-14T20:02:49.512Z"
   },
   {
    "duration": 59,
    "start_time": "2022-11-14T20:02:49.533Z"
   },
   {
    "duration": 16,
    "start_time": "2022-11-14T20:02:49.594Z"
   },
   {
    "duration": 23,
    "start_time": "2022-11-14T20:02:49.612Z"
   },
   {
    "duration": 5,
    "start_time": "2022-11-14T20:02:49.637Z"
   },
   {
    "duration": 212,
    "start_time": "2022-11-14T20:02:49.644Z"
   },
   {
    "duration": 199,
    "start_time": "2022-11-14T20:02:49.858Z"
   },
   {
    "duration": 5,
    "start_time": "2022-11-14T20:02:50.058Z"
   },
   {
    "duration": 827,
    "start_time": "2022-11-14T20:02:50.065Z"
   },
   {
    "duration": 5,
    "start_time": "2022-11-14T20:02:50.894Z"
   },
   {
    "duration": 851,
    "start_time": "2022-11-14T20:02:50.902Z"
   },
   {
    "duration": 7,
    "start_time": "2022-11-14T20:02:51.755Z"
   },
   {
    "duration": 620,
    "start_time": "2022-11-14T20:02:51.763Z"
   },
   {
    "duration": 682,
    "start_time": "2022-11-14T20:02:52.384Z"
   },
   {
    "duration": 183,
    "start_time": "2022-11-14T20:02:53.067Z"
   },
   {
    "duration": 195,
    "start_time": "2022-11-14T20:02:53.251Z"
   },
   {
    "duration": 51,
    "start_time": "2022-11-15T07:33:51.307Z"
   },
   {
    "duration": 3811,
    "start_time": "2022-11-15T07:33:58.055Z"
   },
   {
    "duration": 201,
    "start_time": "2022-11-15T07:34:01.870Z"
   },
   {
    "duration": 21,
    "start_time": "2022-11-15T07:34:02.073Z"
   },
   {
    "duration": 16,
    "start_time": "2022-11-15T07:34:02.095Z"
   },
   {
    "duration": 9,
    "start_time": "2022-11-15T07:34:02.114Z"
   },
   {
    "duration": 6,
    "start_time": "2022-11-15T07:34:02.125Z"
   },
   {
    "duration": 27,
    "start_time": "2022-11-15T07:34:02.132Z"
   },
   {
    "duration": 13,
    "start_time": "2022-11-15T07:34:02.161Z"
   },
   {
    "duration": 6,
    "start_time": "2022-11-15T07:34:02.175Z"
   },
   {
    "duration": 113,
    "start_time": "2022-11-15T07:34:02.183Z"
   },
   {
    "duration": 14,
    "start_time": "2022-11-15T07:34:02.298Z"
   },
   {
    "duration": 49,
    "start_time": "2022-11-15T07:34:02.314Z"
   },
   {
    "duration": 7,
    "start_time": "2022-11-15T07:34:02.365Z"
   },
   {
    "duration": 19,
    "start_time": "2022-11-15T07:34:02.374Z"
   },
   {
    "duration": 92,
    "start_time": "2022-11-15T07:34:02.395Z"
   },
   {
    "duration": 13,
    "start_time": "2022-11-15T07:34:02.489Z"
   },
   {
    "duration": 7,
    "start_time": "2022-11-15T07:34:02.503Z"
   },
   {
    "duration": 49,
    "start_time": "2022-11-15T07:34:02.511Z"
   },
   {
    "duration": 10,
    "start_time": "2022-11-15T07:34:02.561Z"
   },
   {
    "duration": 373,
    "start_time": "2022-11-15T07:34:02.572Z"
   },
   {
    "duration": 31,
    "start_time": "2022-11-15T07:34:02.947Z"
   },
   {
    "duration": 59,
    "start_time": "2022-11-15T07:34:02.980Z"
   },
   {
    "duration": 19,
    "start_time": "2022-11-15T07:34:03.055Z"
   },
   {
    "duration": 29,
    "start_time": "2022-11-15T07:34:03.077Z"
   },
   {
    "duration": 6,
    "start_time": "2022-11-15T07:34:03.108Z"
   },
   {
    "duration": 203,
    "start_time": "2022-11-15T07:34:03.116Z"
   },
   {
    "duration": 183,
    "start_time": "2022-11-15T07:34:03.321Z"
   },
   {
    "duration": 5,
    "start_time": "2022-11-15T07:34:03.505Z"
   },
   {
    "duration": 789,
    "start_time": "2022-11-15T07:34:03.512Z"
   },
   {
    "duration": 6,
    "start_time": "2022-11-15T07:34:04.303Z"
   },
   {
    "duration": 813,
    "start_time": "2022-11-15T07:34:04.311Z"
   },
   {
    "duration": 6,
    "start_time": "2022-11-15T07:34:05.126Z"
   },
   {
    "duration": 603,
    "start_time": "2022-11-15T07:34:05.134Z"
   },
   {
    "duration": 691,
    "start_time": "2022-11-15T07:34:05.740Z"
   },
   {
    "duration": 178,
    "start_time": "2022-11-15T07:34:06.433Z"
   },
   {
    "duration": 214,
    "start_time": "2022-11-15T07:34:06.613Z"
   },
   {
    "duration": 252,
    "start_time": "2022-11-15T07:34:06.830Z"
   },
   {
    "duration": 144,
    "start_time": "2022-11-15T07:34:17.237Z"
   },
   {
    "duration": 150,
    "start_time": "2022-11-15T07:35:12.333Z"
   },
   {
    "duration": 130,
    "start_time": "2022-11-15T07:37:05.511Z"
   },
   {
    "duration": 132,
    "start_time": "2022-11-15T07:37:25.686Z"
   },
   {
    "duration": 151,
    "start_time": "2022-11-15T07:40:30.918Z"
   },
   {
    "duration": 252,
    "start_time": "2022-11-15T07:40:31.953Z"
   },
   {
    "duration": 257,
    "start_time": "2022-11-15T07:40:50.976Z"
   },
   {
    "duration": 203,
    "start_time": "2022-11-15T07:41:18.793Z"
   },
   {
    "duration": 217,
    "start_time": "2022-11-15T07:41:26.328Z"
   },
   {
    "duration": 198,
    "start_time": "2022-11-15T07:41:34.799Z"
   },
   {
    "duration": 272,
    "start_time": "2022-11-15T07:41:50.168Z"
   },
   {
    "duration": 184,
    "start_time": "2022-11-15T07:42:27.233Z"
   },
   {
    "duration": 189,
    "start_time": "2022-11-15T07:43:09.938Z"
   },
   {
    "duration": 173,
    "start_time": "2022-11-15T07:43:52.209Z"
   },
   {
    "duration": 194,
    "start_time": "2022-11-15T07:44:00.416Z"
   },
   {
    "duration": 181,
    "start_time": "2022-11-15T07:44:13.969Z"
   },
   {
    "duration": 193,
    "start_time": "2022-11-15T07:58:58.128Z"
   },
   {
    "duration": 183,
    "start_time": "2022-11-15T07:59:06.448Z"
   },
   {
    "duration": 199,
    "start_time": "2022-11-15T07:59:16.136Z"
   },
   {
    "duration": 258,
    "start_time": "2022-11-15T08:01:20.018Z"
   },
   {
    "duration": 193,
    "start_time": "2022-11-15T08:01:38.873Z"
   },
   {
    "duration": 13,
    "start_time": "2022-11-15T08:03:47.730Z"
   },
   {
    "duration": 76,
    "start_time": "2022-11-15T08:06:34.083Z"
   },
   {
    "duration": 96,
    "start_time": "2022-11-15T08:07:06.076Z"
   },
   {
    "duration": 53,
    "start_time": "2022-11-15T08:07:17.731Z"
   },
   {
    "duration": 46,
    "start_time": "2022-11-15T08:07:23.756Z"
   },
   {
    "duration": 49,
    "start_time": "2022-11-15T08:07:38.852Z"
   },
   {
    "duration": 64,
    "start_time": "2022-11-15T08:07:50.869Z"
   },
   {
    "duration": 1777,
    "start_time": "2022-11-15T08:08:13.077Z"
   },
   {
    "duration": 1697,
    "start_time": "2022-11-15T08:08:54.070Z"
   },
   {
    "duration": 1667,
    "start_time": "2022-11-15T08:10:09.550Z"
   },
   {
    "duration": 1795,
    "start_time": "2022-11-15T08:10:31.726Z"
   },
   {
    "duration": 1651,
    "start_time": "2022-11-15T08:10:57.461Z"
   },
   {
    "duration": 1713,
    "start_time": "2022-11-15T08:11:43.069Z"
   },
   {
    "duration": 1728,
    "start_time": "2022-11-15T08:13:43.839Z"
   },
   {
    "duration": 1865,
    "start_time": "2022-11-15T08:13:54.151Z"
   },
   {
    "duration": 1619,
    "start_time": "2022-11-15T08:14:06.151Z"
   },
   {
    "duration": 1778,
    "start_time": "2022-11-15T08:14:12.935Z"
   },
   {
    "duration": 1662,
    "start_time": "2022-11-15T08:14:22.287Z"
   },
   {
    "duration": 4740,
    "start_time": "2022-11-15T08:22:31.844Z"
   },
   {
    "duration": 4578,
    "start_time": "2022-11-15T08:22:55.004Z"
   },
   {
    "duration": 5036,
    "start_time": "2022-11-15T08:23:13.179Z"
   },
   {
    "duration": 5083,
    "start_time": "2022-11-15T08:23:34.620Z"
   },
   {
    "duration": 5126,
    "start_time": "2022-11-15T08:28:55.771Z"
   },
   {
    "duration": 5269,
    "start_time": "2022-11-15T08:31:47.145Z"
   },
   {
    "duration": 5533,
    "start_time": "2022-11-15T08:32:31.476Z"
   },
   {
    "duration": 49,
    "start_time": "2022-11-15T08:33:15.548Z"
   },
   {
    "duration": 4694,
    "start_time": "2022-11-15T08:33:23.148Z"
   },
   {
    "duration": 5478,
    "start_time": "2022-11-15T08:33:41.868Z"
   },
   {
    "duration": 10963,
    "start_time": "2022-11-15T08:39:07.495Z"
   },
   {
    "duration": 12382,
    "start_time": "2022-11-15T08:39:51.295Z"
   },
   {
    "duration": 12682,
    "start_time": "2022-11-15T08:42:07.520Z"
   },
   {
    "duration": 22,
    "start_time": "2022-11-15T08:47:24.202Z"
   },
   {
    "duration": 173,
    "start_time": "2022-11-15T08:47:48.289Z"
   },
   {
    "duration": 21,
    "start_time": "2022-11-15T08:48:25.698Z"
   },
   {
    "duration": 26,
    "start_time": "2022-11-15T08:48:34.218Z"
   },
   {
    "duration": 22,
    "start_time": "2022-11-15T08:49:06.850Z"
   },
   {
    "duration": 138,
    "start_time": "2022-11-15T08:49:32.698Z"
   },
   {
    "duration": 1278,
    "start_time": "2022-11-15T08:49:45.506Z"
   },
   {
    "duration": 379,
    "start_time": "2022-11-15T08:50:01.444Z"
   },
   {
    "duration": 389,
    "start_time": "2022-11-15T08:50:24.450Z"
   },
   {
    "duration": 384,
    "start_time": "2022-11-15T08:51:01.243Z"
   },
   {
    "duration": 462,
    "start_time": "2022-11-15T08:51:25.835Z"
   },
   {
    "duration": 386,
    "start_time": "2022-11-15T08:51:32.762Z"
   },
   {
    "duration": 392,
    "start_time": "2022-11-15T08:52:16.099Z"
   },
   {
    "duration": 146,
    "start_time": "2022-11-15T08:53:08.580Z"
   },
   {
    "duration": 361,
    "start_time": "2022-11-15T08:53:13.011Z"
   },
   {
    "duration": 7,
    "start_time": "2022-11-15T09:34:01.182Z"
   },
   {
    "duration": 9,
    "start_time": "2022-11-15T09:35:33.118Z"
   },
   {
    "duration": 18,
    "start_time": "2022-11-15T09:35:43.247Z"
   },
   {
    "duration": 15,
    "start_time": "2022-11-15T09:36:19.285Z"
   },
   {
    "duration": 16,
    "start_time": "2022-11-15T09:37:01.975Z"
   },
   {
    "duration": 19,
    "start_time": "2022-11-15T09:37:33.696Z"
   },
   {
    "duration": 54,
    "start_time": "2022-11-15T09:38:31.520Z"
   },
   {
    "duration": 45,
    "start_time": "2022-11-15T09:38:44.848Z"
   },
   {
    "duration": 51,
    "start_time": "2022-11-15T09:38:58.664Z"
   },
   {
    "duration": 14,
    "start_time": "2022-11-15T09:39:11.609Z"
   },
   {
    "duration": 501,
    "start_time": "2022-11-15T09:40:43.041Z"
   },
   {
    "duration": 13,
    "start_time": "2022-11-15T09:44:26.411Z"
   },
   {
    "duration": 13,
    "start_time": "2022-11-15T09:44:52.130Z"
   },
   {
    "duration": 1946,
    "start_time": "2022-11-15T09:46:44.892Z"
   },
   {
    "duration": 1815,
    "start_time": "2022-11-15T09:47:08.068Z"
   },
   {
    "duration": 5835,
    "start_time": "2022-11-15T09:48:05.893Z"
   },
   {
    "duration": 5695,
    "start_time": "2022-11-15T10:00:15.769Z"
   },
   {
    "duration": 5457,
    "start_time": "2022-11-15T10:01:08.914Z"
   },
   {
    "duration": 5614,
    "start_time": "2022-11-15T10:01:15.505Z"
   },
   {
    "duration": 5872,
    "start_time": "2022-11-15T10:21:29.067Z"
   },
   {
    "duration": 24,
    "start_time": "2022-11-15T10:22:52.419Z"
   },
   {
    "duration": 12,
    "start_time": "2022-11-15T10:23:10.594Z"
   },
   {
    "duration": 20,
    "start_time": "2022-11-15T10:23:20.683Z"
   },
   {
    "duration": 16,
    "start_time": "2022-11-15T10:23:34.280Z"
   },
   {
    "duration": 20,
    "start_time": "2022-11-15T10:23:42.554Z"
   },
   {
    "duration": 519,
    "start_time": "2022-11-15T10:25:21.308Z"
   },
   {
    "duration": 356,
    "start_time": "2022-11-15T10:25:42.212Z"
   },
   {
    "duration": 361,
    "start_time": "2022-11-15T10:25:50.748Z"
   },
   {
    "duration": 351,
    "start_time": "2022-11-15T10:27:14.828Z"
   },
   {
    "duration": 367,
    "start_time": "2022-11-15T10:27:42.893Z"
   },
   {
    "duration": 465,
    "start_time": "2022-11-15T10:28:36.109Z"
   },
   {
    "duration": 376,
    "start_time": "2022-11-15T10:29:07.822Z"
   },
   {
    "duration": 18,
    "start_time": "2022-11-15T10:47:09.349Z"
   },
   {
    "duration": 20,
    "start_time": "2022-11-15T10:47:40.354Z"
   },
   {
    "duration": 17,
    "start_time": "2022-11-15T10:48:27.869Z"
   },
   {
    "duration": 25,
    "start_time": "2022-11-15T10:50:00.198Z"
   },
   {
    "duration": 286,
    "start_time": "2022-11-15T10:51:10.511Z"
   },
   {
    "duration": 41,
    "start_time": "2022-11-15T10:51:17.279Z"
   },
   {
    "duration": 91,
    "start_time": "2022-11-15T10:52:28.904Z"
   },
   {
    "duration": 432,
    "start_time": "2022-11-15T10:52:53.377Z"
   },
   {
    "duration": 9,
    "start_time": "2022-11-15T11:00:17.491Z"
   },
   {
    "duration": 304,
    "start_time": "2022-11-15T11:01:00.139Z"
   },
   {
    "duration": 345,
    "start_time": "2022-11-15T11:01:18.731Z"
   },
   {
    "duration": 337,
    "start_time": "2022-11-15T11:01:38.019Z"
   },
   {
    "duration": 295,
    "start_time": "2022-11-15T11:02:22.692Z"
   },
   {
    "duration": 385,
    "start_time": "2022-11-15T11:02:40.124Z"
   },
   {
    "duration": 299,
    "start_time": "2022-11-15T11:02:47.339Z"
   },
   {
    "duration": 316,
    "start_time": "2022-11-15T11:02:55.195Z"
   },
   {
    "duration": 382,
    "start_time": "2022-11-15T11:06:45.326Z"
   },
   {
    "duration": 344,
    "start_time": "2022-11-15T11:09:29.455Z"
   },
   {
    "duration": 359,
    "start_time": "2022-11-15T11:09:33.999Z"
   },
   {
    "duration": 336,
    "start_time": "2022-11-15T11:17:18.425Z"
   },
   {
    "duration": 290,
    "start_time": "2022-11-15T11:17:29.993Z"
   },
   {
    "duration": 406,
    "start_time": "2022-11-15T11:17:42.297Z"
   },
   {
    "duration": 317,
    "start_time": "2022-11-15T11:17:53.489Z"
   },
   {
    "duration": 190,
    "start_time": "2022-11-15T11:18:36.217Z"
   },
   {
    "duration": 158,
    "start_time": "2022-11-15T11:18:40.441Z"
   },
   {
    "duration": 318,
    "start_time": "2022-11-15T11:20:51.530Z"
   },
   {
    "duration": 285,
    "start_time": "2022-11-15T11:21:15.914Z"
   },
   {
    "duration": 7,
    "start_time": "2022-11-15T11:22:43.187Z"
   },
   {
    "duration": 7,
    "start_time": "2022-11-15T11:35:57.920Z"
   },
   {
    "duration": 7,
    "start_time": "2022-11-15T11:36:11.864Z"
   },
   {
    "duration": 423,
    "start_time": "2022-11-15T11:37:01.553Z"
   },
   {
    "duration": 536,
    "start_time": "2022-11-15T11:37:46.242Z"
   },
   {
    "duration": 5,
    "start_time": "2022-11-15T11:46:08.253Z"
   },
   {
    "duration": 16,
    "start_time": "2022-11-15T11:47:06.229Z"
   },
   {
    "duration": 11,
    "start_time": "2022-11-15T11:47:27.165Z"
   },
   {
    "duration": 2321,
    "start_time": "2022-11-15T11:48:03.438Z"
   },
   {
    "duration": 12,
    "start_time": "2022-11-15T11:48:11.366Z"
   },
   {
    "duration": 13,
    "start_time": "2022-11-15T11:49:01.510Z"
   },
   {
    "duration": 15,
    "start_time": "2022-11-15T11:49:16.097Z"
   },
   {
    "duration": 16,
    "start_time": "2022-11-15T11:49:45.407Z"
   },
   {
    "duration": 12,
    "start_time": "2022-11-15T11:50:15.478Z"
   },
   {
    "duration": 14,
    "start_time": "2022-11-15T11:52:48.945Z"
   },
   {
    "duration": 3284,
    "start_time": "2022-11-15T11:59:42.197Z"
   },
   {
    "duration": 50,
    "start_time": "2022-11-15T11:59:45.483Z"
   },
   {
    "duration": 17,
    "start_time": "2022-11-15T11:59:45.535Z"
   },
   {
    "duration": 13,
    "start_time": "2022-11-15T11:59:45.554Z"
   },
   {
    "duration": 13,
    "start_time": "2022-11-15T11:59:45.570Z"
   },
   {
    "duration": 4,
    "start_time": "2022-11-15T11:59:45.585Z"
   },
   {
    "duration": 20,
    "start_time": "2022-11-15T11:59:45.591Z"
   },
   {
    "duration": 11,
    "start_time": "2022-11-15T11:59:45.613Z"
   },
   {
    "duration": 31,
    "start_time": "2022-11-15T11:59:45.625Z"
   },
   {
    "duration": 81,
    "start_time": "2022-11-15T11:59:45.658Z"
   },
   {
    "duration": 25,
    "start_time": "2022-11-15T11:59:45.740Z"
   },
   {
    "duration": 28,
    "start_time": "2022-11-15T11:59:45.767Z"
   },
   {
    "duration": 7,
    "start_time": "2022-11-15T11:59:45.796Z"
   },
   {
    "duration": 61,
    "start_time": "2022-11-15T11:59:45.806Z"
   },
   {
    "duration": 46,
    "start_time": "2022-11-15T11:59:45.868Z"
   },
   {
    "duration": 43,
    "start_time": "2022-11-15T11:59:45.916Z"
   },
   {
    "duration": 9,
    "start_time": "2022-11-15T11:59:45.961Z"
   },
   {
    "duration": 13,
    "start_time": "2022-11-15T11:59:45.972Z"
   },
   {
    "duration": 8,
    "start_time": "2022-11-15T11:59:45.987Z"
   },
   {
    "duration": 354,
    "start_time": "2022-11-15T11:59:45.997Z"
   },
   {
    "duration": 15,
    "start_time": "2022-11-15T11:59:46.354Z"
   },
   {
    "duration": 39,
    "start_time": "2022-11-15T11:59:46.371Z"
   },
   {
    "duration": 14,
    "start_time": "2022-11-15T11:59:46.412Z"
   },
   {
    "duration": 46,
    "start_time": "2022-11-15T11:59:46.428Z"
   },
   {
    "duration": 354,
    "start_time": "2022-11-15T11:59:46.476Z"
   },
   {
    "duration": 6,
    "start_time": "2022-11-15T11:59:46.832Z"
   },
   {
    "duration": 159,
    "start_time": "2022-11-15T11:59:46.840Z"
   },
   {
    "duration": 171,
    "start_time": "2022-11-15T11:59:47.001Z"
   },
   {
    "duration": 5,
    "start_time": "2022-11-15T11:59:47.174Z"
   },
   {
    "duration": 709,
    "start_time": "2022-11-15T11:59:47.181Z"
   },
   {
    "duration": 6,
    "start_time": "2022-11-15T11:59:47.892Z"
   },
   {
    "duration": 729,
    "start_time": "2022-11-15T11:59:47.900Z"
   },
   {
    "duration": 5,
    "start_time": "2022-11-15T11:59:48.631Z"
   },
   {
    "duration": 574,
    "start_time": "2022-11-15T11:59:48.638Z"
   },
   {
    "duration": 584,
    "start_time": "2022-11-15T11:59:49.214Z"
   },
   {
    "duration": 264,
    "start_time": "2022-11-15T11:59:49.800Z"
   },
   {
    "duration": 164,
    "start_time": "2022-11-15T11:59:50.065Z"
   },
   {
    "duration": 118,
    "start_time": "2022-11-15T11:59:50.231Z"
   },
   {
    "duration": 173,
    "start_time": "2022-11-15T11:59:50.354Z"
   },
   {
    "duration": 5464,
    "start_time": "2022-11-15T11:59:50.529Z"
   },
   {
    "duration": 350,
    "start_time": "2022-11-15T11:59:55.996Z"
   },
   {
    "duration": 364,
    "start_time": "2022-11-15T11:59:56.347Z"
   },
   {
    "duration": 533,
    "start_time": "2022-11-15T11:59:56.713Z"
   },
   {
    "duration": 9,
    "start_time": "2022-11-15T11:59:57.248Z"
   },
   {
    "duration": 10,
    "start_time": "2022-11-15T11:59:57.259Z"
   },
   {
    "duration": 12,
    "start_time": "2022-11-15T11:59:57.270Z"
   },
   {
    "duration": 3,
    "start_time": "2022-11-15T12:00:38.708Z"
   },
   {
    "duration": 16,
    "start_time": "2022-11-15T12:10:13.558Z"
   },
   {
    "duration": 23,
    "start_time": "2022-11-15T12:10:37.769Z"
   },
   {
    "duration": 25,
    "start_time": "2022-11-15T12:11:22.465Z"
   },
   {
    "duration": 43,
    "start_time": "2022-11-15T12:12:15.186Z"
   },
   {
    "duration": 312,
    "start_time": "2022-11-15T12:12:59.810Z"
   },
   {
    "duration": 43,
    "start_time": "2022-11-15T13:33:58.557Z"
   },
   {
    "duration": 5,
    "start_time": "2022-11-15T13:34:04.283Z"
   },
   {
    "duration": 1151,
    "start_time": "2022-11-15T13:34:07.435Z"
   },
   {
    "duration": 80,
    "start_time": "2022-11-15T13:34:08.588Z"
   },
   {
    "duration": 15,
    "start_time": "2022-11-15T13:34:08.670Z"
   },
   {
    "duration": 15,
    "start_time": "2022-11-15T13:34:08.686Z"
   },
   {
    "duration": 11,
    "start_time": "2022-11-15T13:34:08.703Z"
   },
   {
    "duration": 2,
    "start_time": "2022-11-15T13:34:08.716Z"
   },
   {
    "duration": 17,
    "start_time": "2022-11-15T13:34:08.719Z"
   },
   {
    "duration": 15,
    "start_time": "2022-11-15T13:34:08.737Z"
   },
   {
    "duration": 4,
    "start_time": "2022-11-15T13:34:08.753Z"
   },
   {
    "duration": 72,
    "start_time": "2022-11-15T13:34:08.758Z"
   },
   {
    "duration": 22,
    "start_time": "2022-11-15T13:34:08.831Z"
   },
   {
    "duration": 21,
    "start_time": "2022-11-15T13:34:08.854Z"
   },
   {
    "duration": 5,
    "start_time": "2022-11-15T13:34:08.876Z"
   },
   {
    "duration": 16,
    "start_time": "2022-11-15T13:34:08.884Z"
   },
   {
    "duration": 83,
    "start_time": "2022-11-15T13:34:08.901Z"
   },
   {
    "duration": 12,
    "start_time": "2022-11-15T13:34:08.985Z"
   },
   {
    "duration": 6,
    "start_time": "2022-11-15T13:34:08.998Z"
   },
   {
    "duration": 11,
    "start_time": "2022-11-15T13:34:09.005Z"
   },
   {
    "duration": 35,
    "start_time": "2022-11-15T13:34:09.018Z"
   },
   {
    "duration": 301,
    "start_time": "2022-11-15T13:34:09.054Z"
   },
   {
    "duration": 13,
    "start_time": "2022-11-15T13:34:09.357Z"
   },
   {
    "duration": 42,
    "start_time": "2022-11-15T13:34:09.372Z"
   },
   {
    "duration": 13,
    "start_time": "2022-11-15T13:34:09.416Z"
   },
   {
    "duration": 38,
    "start_time": "2022-11-15T13:34:09.430Z"
   },
   {
    "duration": 297,
    "start_time": "2022-11-15T13:34:09.469Z"
   },
   {
    "duration": 4,
    "start_time": "2022-11-15T13:34:09.768Z"
   },
   {
    "duration": 130,
    "start_time": "2022-11-15T13:34:09.774Z"
   },
   {
    "duration": 141,
    "start_time": "2022-11-15T13:34:09.906Z"
   },
   {
    "duration": 4,
    "start_time": "2022-11-15T13:34:10.049Z"
   },
   {
    "duration": 652,
    "start_time": "2022-11-15T13:34:10.055Z"
   },
   {
    "duration": 4,
    "start_time": "2022-11-15T13:34:10.709Z"
   },
   {
    "duration": 649,
    "start_time": "2022-11-15T13:34:10.715Z"
   },
   {
    "duration": 4,
    "start_time": "2022-11-15T13:34:11.366Z"
   },
   {
    "duration": 476,
    "start_time": "2022-11-15T13:34:11.372Z"
   },
   {
    "duration": 507,
    "start_time": "2022-11-15T13:34:11.852Z"
   },
   {
    "duration": 277,
    "start_time": "2022-11-15T13:34:12.361Z"
   },
   {
    "duration": 172,
    "start_time": "2022-11-15T13:34:12.639Z"
   },
   {
    "duration": 112,
    "start_time": "2022-11-15T13:34:12.812Z"
   },
   {
    "duration": 186,
    "start_time": "2022-11-15T13:34:12.925Z"
   },
   {
    "duration": 4715,
    "start_time": "2022-11-15T13:34:13.113Z"
   },
   {
    "duration": 310,
    "start_time": "2022-11-15T13:34:17.831Z"
   },
   {
    "duration": 304,
    "start_time": "2022-11-15T13:34:18.143Z"
   },
   {
    "duration": 440,
    "start_time": "2022-11-15T13:34:18.451Z"
   },
   {
    "duration": 6,
    "start_time": "2022-11-15T13:34:18.893Z"
   },
   {
    "duration": 12,
    "start_time": "2022-11-15T13:34:18.900Z"
   },
   {
    "duration": 12,
    "start_time": "2022-11-15T13:34:18.914Z"
   },
   {
    "duration": 16,
    "start_time": "2022-11-15T13:34:18.927Z"
   },
   {
    "duration": 10,
    "start_time": "2022-11-15T13:34:47.619Z"
   },
   {
    "duration": 11,
    "start_time": "2022-11-15T13:34:57.083Z"
   },
   {
    "duration": 472,
    "start_time": "2022-11-15T16:10:58.138Z"
   },
   {
    "duration": 505,
    "start_time": "2022-11-15T16:11:12.507Z"
   },
   {
    "duration": 184,
    "start_time": "2022-11-15T16:13:54.415Z"
   },
   {
    "duration": 4595,
    "start_time": "2022-11-15T16:17:46.774Z"
   },
   {
    "duration": 406,
    "start_time": "2022-11-15T16:18:30.454Z"
   },
   {
    "duration": 369,
    "start_time": "2022-11-15T16:19:10.790Z"
   },
   {
    "duration": 359,
    "start_time": "2022-11-15T16:19:15.675Z"
   },
   {
    "duration": 1018,
    "start_time": "2022-11-15T16:19:50.102Z"
   },
   {
    "duration": 42,
    "start_time": "2022-11-15T16:19:51.121Z"
   },
   {
    "duration": 16,
    "start_time": "2022-11-15T16:19:51.164Z"
   },
   {
    "duration": 11,
    "start_time": "2022-11-15T16:19:51.181Z"
   },
   {
    "duration": 23,
    "start_time": "2022-11-15T16:19:51.194Z"
   },
   {
    "duration": 3,
    "start_time": "2022-11-15T16:19:51.218Z"
   },
   {
    "duration": 18,
    "start_time": "2022-11-15T16:19:51.222Z"
   },
   {
    "duration": 10,
    "start_time": "2022-11-15T16:19:51.242Z"
   },
   {
    "duration": 4,
    "start_time": "2022-11-15T16:19:51.253Z"
   },
   {
    "duration": 79,
    "start_time": "2022-11-15T16:19:51.258Z"
   },
   {
    "duration": 14,
    "start_time": "2022-11-15T16:19:51.338Z"
   },
   {
    "duration": 20,
    "start_time": "2022-11-15T16:19:51.354Z"
   },
   {
    "duration": 4,
    "start_time": "2022-11-15T16:19:51.376Z"
   },
   {
    "duration": 21,
    "start_time": "2022-11-15T16:19:51.383Z"
   },
   {
    "duration": 66,
    "start_time": "2022-11-15T16:19:51.405Z"
   },
   {
    "duration": 12,
    "start_time": "2022-11-15T16:19:51.472Z"
   },
   {
    "duration": 7,
    "start_time": "2022-11-15T16:19:51.485Z"
   },
   {
    "duration": 23,
    "start_time": "2022-11-15T16:19:51.493Z"
   },
   {
    "duration": 20,
    "start_time": "2022-11-15T16:19:51.517Z"
   },
   {
    "duration": 314,
    "start_time": "2022-11-15T16:19:51.538Z"
   },
   {
    "duration": 13,
    "start_time": "2022-11-15T16:19:51.853Z"
   },
   {
    "duration": 35,
    "start_time": "2022-11-15T16:19:51.867Z"
   },
   {
    "duration": 13,
    "start_time": "2022-11-15T16:19:51.904Z"
   },
   {
    "duration": 41,
    "start_time": "2022-11-15T16:19:51.918Z"
   },
   {
    "duration": 290,
    "start_time": "2022-11-15T16:19:51.960Z"
   },
   {
    "duration": 4,
    "start_time": "2022-11-15T16:19:52.252Z"
   },
   {
    "duration": 148,
    "start_time": "2022-11-15T16:19:52.257Z"
   },
   {
    "duration": 171,
    "start_time": "2022-11-15T16:19:52.407Z"
   },
   {
    "duration": 5,
    "start_time": "2022-11-15T16:19:52.581Z"
   },
   {
    "duration": 619,
    "start_time": "2022-11-15T16:19:52.588Z"
   },
   {
    "duration": 4,
    "start_time": "2022-11-15T16:19:53.209Z"
   },
   {
    "duration": 659,
    "start_time": "2022-11-15T16:19:53.214Z"
   },
   {
    "duration": 4,
    "start_time": "2022-11-15T16:19:53.875Z"
   },
   {
    "duration": 494,
    "start_time": "2022-11-15T16:19:53.880Z"
   },
   {
    "duration": 520,
    "start_time": "2022-11-15T16:19:54.375Z"
   },
   {
    "duration": 215,
    "start_time": "2022-11-15T16:19:54.897Z"
   },
   {
    "duration": 152,
    "start_time": "2022-11-15T16:19:55.113Z"
   },
   {
    "duration": 107,
    "start_time": "2022-11-15T16:19:55.266Z"
   },
   {
    "duration": 160,
    "start_time": "2022-11-15T16:19:55.374Z"
   },
   {
    "duration": 4538,
    "start_time": "2022-11-15T16:19:55.536Z"
   },
   {
    "duration": 318,
    "start_time": "2022-11-15T16:20:00.077Z"
   },
   {
    "duration": 309,
    "start_time": "2022-11-15T16:20:00.396Z"
   },
   {
    "duration": 464,
    "start_time": "2022-11-15T16:20:00.707Z"
   },
   {
    "duration": 7,
    "start_time": "2022-11-15T16:20:01.172Z"
   },
   {
    "duration": 21,
    "start_time": "2022-11-15T16:20:01.180Z"
   },
   {
    "duration": 32,
    "start_time": "2022-11-15T16:20:01.203Z"
   },
   {
    "duration": 1116,
    "start_time": "2022-11-15T19:03:09.710Z"
   },
   {
    "duration": 51,
    "start_time": "2022-11-15T19:03:10.829Z"
   },
   {
    "duration": 17,
    "start_time": "2022-11-15T19:03:10.882Z"
   },
   {
    "duration": 22,
    "start_time": "2022-11-15T19:03:10.901Z"
   },
   {
    "duration": 18,
    "start_time": "2022-11-15T19:03:10.925Z"
   },
   {
    "duration": 14,
    "start_time": "2022-11-15T19:03:10.945Z"
   },
   {
    "duration": 44,
    "start_time": "2022-11-15T19:03:10.960Z"
   },
   {
    "duration": 20,
    "start_time": "2022-11-15T19:03:11.005Z"
   },
   {
    "duration": 21,
    "start_time": "2022-11-15T19:03:11.027Z"
   },
   {
    "duration": 110,
    "start_time": "2022-11-15T19:03:11.050Z"
   },
   {
    "duration": 20,
    "start_time": "2022-11-15T19:03:11.161Z"
   },
   {
    "duration": 25,
    "start_time": "2022-11-15T19:03:11.183Z"
   },
   {
    "duration": 6,
    "start_time": "2022-11-15T19:03:11.209Z"
   },
   {
    "duration": 62,
    "start_time": "2022-11-15T19:03:11.216Z"
   },
   {
    "duration": 46,
    "start_time": "2022-11-15T19:03:11.279Z"
   },
   {
    "duration": 14,
    "start_time": "2022-11-15T19:03:11.326Z"
   },
   {
    "duration": 6,
    "start_time": "2022-11-15T19:03:11.377Z"
   },
   {
    "duration": 25,
    "start_time": "2022-11-15T19:03:11.385Z"
   },
   {
    "duration": 18,
    "start_time": "2022-11-15T19:03:11.412Z"
   },
   {
    "duration": 390,
    "start_time": "2022-11-15T19:03:11.432Z"
   },
   {
    "duration": 17,
    "start_time": "2022-11-15T19:03:11.824Z"
   },
   {
    "duration": 66,
    "start_time": "2022-11-15T19:03:11.843Z"
   },
   {
    "duration": 16,
    "start_time": "2022-11-15T19:03:11.911Z"
   },
   {
    "duration": 24,
    "start_time": "2022-11-15T19:03:11.929Z"
   },
   {
    "duration": 382,
    "start_time": "2022-11-15T19:03:11.954Z"
   },
   {
    "duration": 6,
    "start_time": "2022-11-15T19:03:12.338Z"
   },
   {
    "duration": 189,
    "start_time": "2022-11-15T19:03:12.346Z"
   },
   {
    "duration": 175,
    "start_time": "2022-11-15T19:03:12.539Z"
   },
   {
    "duration": 5,
    "start_time": "2022-11-15T19:03:12.715Z"
   },
   {
    "duration": 720,
    "start_time": "2022-11-15T19:03:12.722Z"
   },
   {
    "duration": 5,
    "start_time": "2022-11-15T19:03:13.444Z"
   },
   {
    "duration": 826,
    "start_time": "2022-11-15T19:03:13.452Z"
   },
   {
    "duration": 5,
    "start_time": "2022-11-15T19:03:14.280Z"
   },
   {
    "duration": 638,
    "start_time": "2022-11-15T19:03:14.286Z"
   },
   {
    "duration": 644,
    "start_time": "2022-11-15T19:03:14.926Z"
   },
   {
    "duration": 291,
    "start_time": "2022-11-15T19:03:15.577Z"
   },
   {
    "duration": 208,
    "start_time": "2022-11-15T19:03:15.870Z"
   },
   {
    "duration": 133,
    "start_time": "2022-11-15T19:03:16.080Z"
   },
   {
    "duration": 215,
    "start_time": "2022-11-15T19:03:16.215Z"
   },
   {
    "duration": 5707,
    "start_time": "2022-11-15T19:03:16.432Z"
   },
   {
    "duration": 398,
    "start_time": "2022-11-15T19:03:22.140Z"
   },
   {
    "duration": 407,
    "start_time": "2022-11-15T19:03:22.539Z"
   },
   {
    "duration": 547,
    "start_time": "2022-11-15T19:03:22.948Z"
   },
   {
    "duration": 7,
    "start_time": "2022-11-15T19:03:23.497Z"
   },
   {
    "duration": 21,
    "start_time": "2022-11-15T19:03:23.506Z"
   },
   {
    "duration": 27,
    "start_time": "2022-11-15T19:03:23.528Z"
   },
   {
    "duration": 1254,
    "start_time": "2022-11-16T09:51:07.253Z"
   },
   {
    "duration": 84,
    "start_time": "2022-11-16T09:51:10.694Z"
   },
   {
    "duration": 16,
    "start_time": "2022-11-16T09:51:12.050Z"
   },
   {
    "duration": 13,
    "start_time": "2022-11-16T09:51:12.494Z"
   },
   {
    "duration": 9,
    "start_time": "2022-11-16T09:51:13.443Z"
   },
   {
    "duration": 3,
    "start_time": "2022-11-16T09:51:31.323Z"
   },
   {
    "duration": 8,
    "start_time": "2022-11-16T09:51:36.289Z"
   },
   {
    "duration": 15,
    "start_time": "2022-11-16T09:52:56.053Z"
   },
   {
    "duration": 10,
    "start_time": "2022-11-16T09:52:56.581Z"
   },
   {
    "duration": 5,
    "start_time": "2022-11-16T09:53:01.501Z"
   },
   {
    "duration": 6,
    "start_time": "2022-11-16T09:53:22.605Z"
   },
   {
    "duration": 12,
    "start_time": "2022-11-16T09:53:34.486Z"
   },
   {
    "duration": 3,
    "start_time": "2022-11-16T09:54:14.130Z"
   },
   {
    "duration": 45,
    "start_time": "2022-11-16T09:54:14.594Z"
   },
   {
    "duration": 13,
    "start_time": "2022-11-16T09:54:15.021Z"
   },
   {
    "duration": 12,
    "start_time": "2022-11-16T09:54:15.941Z"
   },
   {
    "duration": 8,
    "start_time": "2022-11-16T09:54:16.341Z"
   },
   {
    "duration": 3,
    "start_time": "2022-11-16T09:54:20.108Z"
   },
   {
    "duration": 14,
    "start_time": "2022-11-16T09:54:23.069Z"
   },
   {
    "duration": 16,
    "start_time": "2022-11-16T09:54:28.901Z"
   },
   {
    "duration": 10,
    "start_time": "2022-11-16T09:54:32.645Z"
   },
   {
    "duration": 4,
    "start_time": "2022-11-16T09:54:35.621Z"
   },
   {
    "duration": 12,
    "start_time": "2022-11-16T09:54:39.607Z"
   },
   {
    "duration": 13,
    "start_time": "2022-11-16T10:00:07.424Z"
   },
   {
    "duration": 3,
    "start_time": "2022-11-16T10:00:37.696Z"
   },
   {
    "duration": 45,
    "start_time": "2022-11-16T10:00:38.928Z"
   },
   {
    "duration": 19,
    "start_time": "2022-11-16T10:00:39.573Z"
   },
   {
    "duration": 11,
    "start_time": "2022-11-16T10:00:40.016Z"
   },
   {
    "duration": 8,
    "start_time": "2022-11-16T10:00:40.848Z"
   },
   {
    "duration": 2,
    "start_time": "2022-11-16T10:00:42.760Z"
   },
   {
    "duration": 14,
    "start_time": "2022-11-16T10:00:44.391Z"
   },
   {
    "duration": 11,
    "start_time": "2022-11-16T10:00:50.103Z"
   },
   {
    "duration": 5,
    "start_time": "2022-11-16T10:00:54.151Z"
   },
   {
    "duration": 17,
    "start_time": "2022-11-16T10:01:02.560Z"
   },
   {
    "duration": 99,
    "start_time": "2022-11-16T10:01:47.717Z"
   },
   {
    "duration": 16,
    "start_time": "2022-11-16T10:02:18.256Z"
   },
   {
    "duration": 2,
    "start_time": "2022-11-16T10:02:58.369Z"
   },
   {
    "duration": 47,
    "start_time": "2022-11-16T10:02:58.937Z"
   },
   {
    "duration": 17,
    "start_time": "2022-11-16T10:02:59.367Z"
   },
   {
    "duration": 12,
    "start_time": "2022-11-16T10:02:59.577Z"
   },
   {
    "duration": 8,
    "start_time": "2022-11-16T10:02:59.744Z"
   },
   {
    "duration": 3,
    "start_time": "2022-11-16T10:03:01.249Z"
   },
   {
    "duration": 15,
    "start_time": "2022-11-16T10:03:01.768Z"
   },
   {
    "duration": 9,
    "start_time": "2022-11-16T10:03:02.080Z"
   },
   {
    "duration": 5,
    "start_time": "2022-11-16T10:03:04.931Z"
   },
   {
    "duration": 2,
    "start_time": "2022-11-16T10:03:05.640Z"
   },
   {
    "duration": 19,
    "start_time": "2022-11-16T10:03:07.528Z"
   },
   {
    "duration": 15,
    "start_time": "2022-11-16T10:04:28.193Z"
   },
   {
    "duration": 14,
    "start_time": "2022-11-16T10:04:34.297Z"
   },
   {
    "duration": 15,
    "start_time": "2022-11-16T10:04:40.113Z"
   },
   {
    "duration": 15,
    "start_time": "2022-11-16T10:05:03.033Z"
   },
   {
    "duration": 14,
    "start_time": "2022-11-16T10:05:07.441Z"
   },
   {
    "duration": 15,
    "start_time": "2022-11-16T10:05:17.396Z"
   },
   {
    "duration": 15,
    "start_time": "2022-11-16T10:05:23.170Z"
   },
   {
    "duration": 14,
    "start_time": "2022-11-16T10:05:41.297Z"
   },
   {
    "duration": 4,
    "start_time": "2022-11-16T10:05:49.351Z"
   },
   {
    "duration": 44,
    "start_time": "2022-11-16T10:05:49.745Z"
   },
   {
    "duration": 13,
    "start_time": "2022-11-16T10:05:49.938Z"
   },
   {
    "duration": 13,
    "start_time": "2022-11-16T10:05:50.146Z"
   },
   {
    "duration": 9,
    "start_time": "2022-11-16T10:05:50.337Z"
   },
   {
    "duration": 3,
    "start_time": "2022-11-16T10:05:51.257Z"
   },
   {
    "duration": 15,
    "start_time": "2022-11-16T10:05:51.737Z"
   },
   {
    "duration": 10,
    "start_time": "2022-11-16T10:05:52.033Z"
   },
   {
    "duration": 4,
    "start_time": "2022-11-16T10:05:53.457Z"
   },
   {
    "duration": 2,
    "start_time": "2022-11-16T10:05:54.226Z"
   },
   {
    "duration": 17,
    "start_time": "2022-11-16T10:05:56.514Z"
   },
   {
    "duration": 8,
    "start_time": "2022-11-16T10:06:29.882Z"
   },
   {
    "duration": 5,
    "start_time": "2022-11-16T10:06:46.178Z"
   },
   {
    "duration": 5,
    "start_time": "2022-11-16T10:07:04.354Z"
   },
   {
    "duration": 20,
    "start_time": "2022-11-16T10:09:10.331Z"
   },
   {
    "duration": 14,
    "start_time": "2022-11-16T10:10:45.697Z"
   },
   {
    "duration": 27,
    "start_time": "2022-11-16T10:10:56.796Z"
   },
   {
    "duration": 7,
    "start_time": "2022-11-16T10:11:03.859Z"
   },
   {
    "duration": 17,
    "start_time": "2022-11-16T10:11:05.121Z"
   },
   {
    "duration": 42,
    "start_time": "2022-11-16T10:11:10.708Z"
   },
   {
    "duration": 12,
    "start_time": "2022-11-16T10:12:20.109Z"
   },
   {
    "duration": 4,
    "start_time": "2022-11-16T10:12:21.421Z"
   },
   {
    "duration": 9,
    "start_time": "2022-11-16T10:13:46.603Z"
   },
   {
    "duration": 334,
    "start_time": "2022-11-16T10:14:04.677Z"
   },
   {
    "duration": 15,
    "start_time": "2022-11-16T10:15:32.110Z"
   },
   {
    "duration": 13,
    "start_time": "2022-11-16T10:16:12.510Z"
   },
   {
    "duration": 17,
    "start_time": "2022-11-16T10:16:19.063Z"
   },
   {
    "duration": 16,
    "start_time": "2022-11-16T10:17:13.662Z"
   },
   {
    "duration": 406,
    "start_time": "2022-11-16T10:18:43.607Z"
   },
   {
    "duration": 140,
    "start_time": "2022-11-16T10:19:38.727Z"
   },
   {
    "duration": 256,
    "start_time": "2022-11-16T10:20:34.696Z"
   },
   {
    "duration": 250,
    "start_time": "2022-11-16T10:21:47.264Z"
   },
   {
    "duration": 283,
    "start_time": "2022-11-16T10:22:16.248Z"
   },
   {
    "duration": 250,
    "start_time": "2022-11-16T10:22:28.472Z"
   },
   {
    "duration": 362,
    "start_time": "2022-11-16T10:23:34.417Z"
   },
   {
    "duration": 251,
    "start_time": "2022-11-16T10:23:57.873Z"
   },
   {
    "duration": 292,
    "start_time": "2022-11-16T10:29:35.115Z"
   },
   {
    "duration": 26,
    "start_time": "2022-11-16T10:45:16.943Z"
   },
   {
    "duration": 19,
    "start_time": "2022-11-16T10:45:36.977Z"
   },
   {
    "duration": 15,
    "start_time": "2022-11-16T10:46:06.546Z"
   },
   {
    "duration": 18,
    "start_time": "2022-11-16T10:46:30.418Z"
   },
   {
    "duration": 259,
    "start_time": "2022-11-16T10:46:59.002Z"
   },
   {
    "duration": 263,
    "start_time": "2022-11-16T10:47:18.811Z"
   },
   {
    "duration": 284,
    "start_time": "2022-11-16T10:47:36.014Z"
   },
   {
    "duration": 14,
    "start_time": "2022-11-16T10:48:22.827Z"
   },
   {
    "duration": 5,
    "start_time": "2022-11-16T10:59:26.817Z"
   },
   {
    "duration": 4,
    "start_time": "2022-11-16T10:59:50.537Z"
   },
   {
    "duration": 5,
    "start_time": "2022-11-16T10:59:50.807Z"
   },
   {
    "duration": 5,
    "start_time": "2022-11-16T10:59:51.618Z"
   },
   {
    "duration": 143,
    "start_time": "2022-11-16T10:59:51.922Z"
   },
   {
    "duration": 143,
    "start_time": "2022-11-16T10:59:53.250Z"
   },
   {
    "duration": 136,
    "start_time": "2022-11-16T11:00:07.178Z"
   },
   {
    "duration": 4,
    "start_time": "2022-11-16T11:14:41.328Z"
   },
   {
    "duration": 5,
    "start_time": "2022-11-16T11:14:56.480Z"
   },
   {
    "duration": 5,
    "start_time": "2022-11-16T11:15:04.009Z"
   },
   {
    "duration": 4,
    "start_time": "2022-11-16T11:15:04.297Z"
   },
   {
    "duration": 426,
    "start_time": "2022-11-16T11:15:05.329Z"
   },
   {
    "duration": 5,
    "start_time": "2022-11-16T11:16:57.625Z"
   },
   {
    "duration": 359,
    "start_time": "2022-11-16T11:17:05.154Z"
   },
   {
    "duration": 4,
    "start_time": "2022-11-16T11:17:39.168Z"
   },
   {
    "duration": 454,
    "start_time": "2022-11-16T11:17:39.674Z"
   },
   {
    "duration": 4,
    "start_time": "2022-11-16T11:17:49.674Z"
   },
   {
    "duration": 352,
    "start_time": "2022-11-16T11:17:52.482Z"
   },
   {
    "duration": 25,
    "start_time": "2022-11-16T11:18:00.994Z"
   },
   {
    "duration": 14,
    "start_time": "2022-11-16T11:20:51.618Z"
   },
   {
    "duration": 6,
    "start_time": "2022-11-16T11:20:59.619Z"
   },
   {
    "duration": 345,
    "start_time": "2022-11-16T11:21:02.283Z"
   },
   {
    "duration": 354,
    "start_time": "2022-11-16T11:23:27.308Z"
   },
   {
    "duration": 371,
    "start_time": "2022-11-16T11:24:13.460Z"
   },
   {
    "duration": 4,
    "start_time": "2022-11-16T11:26:15.306Z"
   },
   {
    "duration": 3,
    "start_time": "2022-11-16T11:26:58.445Z"
   },
   {
    "duration": 56,
    "start_time": "2022-11-16T11:26:58.450Z"
   },
   {
    "duration": 14,
    "start_time": "2022-11-16T11:26:58.508Z"
   },
   {
    "duration": 19,
    "start_time": "2022-11-16T11:26:58.524Z"
   },
   {
    "duration": 10,
    "start_time": "2022-11-16T11:26:58.545Z"
   },
   {
    "duration": 5,
    "start_time": "2022-11-16T11:26:58.557Z"
   },
   {
    "duration": 20,
    "start_time": "2022-11-16T11:26:58.563Z"
   },
   {
    "duration": 28,
    "start_time": "2022-11-16T11:26:58.585Z"
   },
   {
    "duration": 5,
    "start_time": "2022-11-16T11:26:58.614Z"
   },
   {
    "duration": 20,
    "start_time": "2022-11-16T11:26:58.621Z"
   },
   {
    "duration": 28,
    "start_time": "2022-11-16T11:26:58.642Z"
   },
   {
    "duration": 43,
    "start_time": "2022-11-16T11:26:58.671Z"
   },
   {
    "duration": 18,
    "start_time": "2022-11-16T11:26:58.716Z"
   },
   {
    "duration": 43,
    "start_time": "2022-11-16T11:26:58.735Z"
   },
   {
    "duration": 42,
    "start_time": "2022-11-16T11:26:58.780Z"
   },
   {
    "duration": 7,
    "start_time": "2022-11-16T11:26:58.823Z"
   },
   {
    "duration": 330,
    "start_time": "2022-11-16T11:26:58.832Z"
   },
   {
    "duration": 15,
    "start_time": "2022-11-16T11:26:59.164Z"
   },
   {
    "duration": 296,
    "start_time": "2022-11-16T11:26:59.181Z"
   },
   {
    "duration": 13,
    "start_time": "2022-11-16T11:26:59.479Z"
   },
   {
    "duration": 29,
    "start_time": "2022-11-16T11:26:59.494Z"
   },
   {
    "duration": 270,
    "start_time": "2022-11-16T11:26:59.524Z"
   },
   {
    "duration": 5,
    "start_time": "2022-11-16T11:26:59.795Z"
   },
   {
    "duration": 241,
    "start_time": "2022-11-16T11:26:59.802Z"
   },
   {
    "duration": 149,
    "start_time": "2022-11-16T11:27:00.044Z"
   },
   {
    "duration": 5,
    "start_time": "2022-11-16T11:27:00.195Z"
   },
   {
    "duration": 7,
    "start_time": "2022-11-16T11:27:00.213Z"
   },
   {
    "duration": 17,
    "start_time": "2022-11-16T11:27:00.223Z"
   },
   {
    "duration": 344,
    "start_time": "2022-11-16T11:27:03.077Z"
   },
   {
    "duration": 1105,
    "start_time": "2022-11-16T11:30:11.030Z"
   },
   {
    "duration": 137,
    "start_time": "2022-11-16T11:30:29.270Z"
   },
   {
    "duration": 127,
    "start_time": "2022-11-16T11:30:58.062Z"
   },
   {
    "duration": 122,
    "start_time": "2022-11-16T11:31:04.768Z"
   },
   {
    "duration": 122,
    "start_time": "2022-11-16T11:31:16.022Z"
   },
   {
    "duration": 248,
    "start_time": "2022-11-16T11:31:34.111Z"
   },
   {
    "duration": 1101,
    "start_time": "2022-11-16T11:33:11.709Z"
   },
   {
    "duration": 45,
    "start_time": "2022-11-16T11:33:12.812Z"
   },
   {
    "duration": 16,
    "start_time": "2022-11-16T11:33:12.859Z"
   },
   {
    "duration": 14,
    "start_time": "2022-11-16T11:33:12.877Z"
   },
   {
    "duration": 7,
    "start_time": "2022-11-16T11:33:12.893Z"
   },
   {
    "duration": 5,
    "start_time": "2022-11-16T11:33:12.901Z"
   },
   {
    "duration": 17,
    "start_time": "2022-11-16T11:33:12.907Z"
   },
   {
    "duration": 11,
    "start_time": "2022-11-16T11:33:12.926Z"
   },
   {
    "duration": 5,
    "start_time": "2022-11-16T11:33:12.938Z"
   },
   {
    "duration": 23,
    "start_time": "2022-11-16T11:33:12.946Z"
   },
   {
    "duration": 50,
    "start_time": "2022-11-16T11:33:12.970Z"
   },
   {
    "duration": 5,
    "start_time": "2022-11-16T11:33:13.022Z"
   },
   {
    "duration": 27,
    "start_time": "2022-11-16T11:33:13.028Z"
   },
   {
    "duration": 71,
    "start_time": "2022-11-16T11:33:13.056Z"
   },
   {
    "duration": 13,
    "start_time": "2022-11-16T11:33:13.129Z"
   },
   {
    "duration": 7,
    "start_time": "2022-11-16T11:33:13.144Z"
   },
   {
    "duration": 337,
    "start_time": "2022-11-16T11:33:13.153Z"
   },
   {
    "duration": 23,
    "start_time": "2022-11-16T11:33:13.492Z"
   },
   {
    "duration": 313,
    "start_time": "2022-11-16T11:33:13.516Z"
   },
   {
    "duration": 14,
    "start_time": "2022-11-16T11:33:13.831Z"
   },
   {
    "duration": 17,
    "start_time": "2022-11-16T11:33:13.847Z"
   },
   {
    "duration": 256,
    "start_time": "2022-11-16T11:33:13.865Z"
   },
   {
    "duration": 5,
    "start_time": "2022-11-16T11:33:14.123Z"
   },
   {
    "duration": 155,
    "start_time": "2022-11-16T11:33:14.129Z"
   },
   {
    "duration": 147,
    "start_time": "2022-11-16T11:33:14.285Z"
   },
   {
    "duration": 5,
    "start_time": "2022-11-16T11:33:14.433Z"
   },
   {
    "duration": 7,
    "start_time": "2022-11-16T11:33:14.439Z"
   },
   {
    "duration": 123,
    "start_time": "2022-11-16T11:33:18.231Z"
   },
   {
    "duration": 318,
    "start_time": "2022-11-16T11:33:20.856Z"
   },
   {
    "duration": 234,
    "start_time": "2022-11-16T11:34:43.900Z"
   },
   {
    "duration": 14,
    "start_time": "2022-11-16T11:35:00.631Z"
   },
   {
    "duration": 5,
    "start_time": "2022-11-16T11:35:38.214Z"
   },
   {
    "duration": 6,
    "start_time": "2022-11-16T11:35:38.873Z"
   },
   {
    "duration": 185,
    "start_time": "2022-11-16T11:35:42.441Z"
   },
   {
    "duration": 10,
    "start_time": "2022-11-16T11:35:43.596Z"
   },
   {
    "duration": 8,
    "start_time": "2022-11-16T11:38:00.549Z"
   },
   {
    "duration": 123,
    "start_time": "2022-11-16T11:38:21.798Z"
   },
   {
    "duration": 256,
    "start_time": "2022-11-16T11:38:52.194Z"
   },
   {
    "duration": 247,
    "start_time": "2022-11-16T11:41:22.451Z"
   },
   {
    "duration": 19,
    "start_time": "2022-11-16T11:41:48.187Z"
   },
   {
    "duration": 252,
    "start_time": "2022-11-16T11:42:23.087Z"
   },
   {
    "duration": 6,
    "start_time": "2022-11-16T11:42:34.235Z"
   },
   {
    "duration": 11,
    "start_time": "2022-11-16T11:42:42.227Z"
   },
   {
    "duration": 5,
    "start_time": "2022-11-16T11:43:15.764Z"
   },
   {
    "duration": 5,
    "start_time": "2022-11-16T11:43:40.787Z"
   },
   {
    "duration": 4,
    "start_time": "2022-11-16T11:43:41.588Z"
   },
   {
    "duration": 126,
    "start_time": "2022-11-16T11:43:42.236Z"
   },
   {
    "duration": 11,
    "start_time": "2022-11-16T11:43:44.196Z"
   },
   {
    "duration": 7,
    "start_time": "2022-11-16T11:43:46.805Z"
   },
   {
    "duration": 5,
    "start_time": "2022-11-16T11:43:54.637Z"
   },
   {
    "duration": 230,
    "start_time": "2022-11-16T11:44:11.604Z"
   },
   {
    "duration": 1042,
    "start_time": "2022-11-16T11:45:40.172Z"
   },
   {
    "duration": 45,
    "start_time": "2022-11-16T11:45:41.216Z"
   },
   {
    "duration": 17,
    "start_time": "2022-11-16T11:45:41.351Z"
   },
   {
    "duration": 16,
    "start_time": "2022-11-16T11:45:41.551Z"
   },
   {
    "duration": 8,
    "start_time": "2022-11-16T11:45:42.016Z"
   },
   {
    "duration": 4,
    "start_time": "2022-11-16T11:45:42.716Z"
   },
   {
    "duration": 15,
    "start_time": "2022-11-16T11:45:43.063Z"
   },
   {
    "duration": 10,
    "start_time": "2022-11-16T11:45:43.240Z"
   },
   {
    "duration": 4,
    "start_time": "2022-11-16T11:45:44.999Z"
   },
   {
    "duration": 16,
    "start_time": "2022-11-16T11:45:45.920Z"
   },
   {
    "duration": 25,
    "start_time": "2022-11-16T11:45:46.104Z"
   },
   {
    "duration": 6,
    "start_time": "2022-11-16T11:45:46.464Z"
   },
   {
    "duration": 16,
    "start_time": "2022-11-16T11:45:46.680Z"
   },
   {
    "duration": 41,
    "start_time": "2022-11-16T11:45:47.186Z"
   },
   {
    "duration": 13,
    "start_time": "2022-11-16T11:45:47.839Z"
   },
   {
    "duration": 5,
    "start_time": "2022-11-16T11:45:47.999Z"
   },
   {
    "duration": 340,
    "start_time": "2022-11-16T11:45:48.671Z"
   },
   {
    "duration": 16,
    "start_time": "2022-11-16T11:45:49.353Z"
   },
   {
    "duration": 293,
    "start_time": "2022-11-16T11:45:49.896Z"
   },
   {
    "duration": 16,
    "start_time": "2022-11-16T11:45:51.967Z"
   },
   {
    "duration": 17,
    "start_time": "2022-11-16T11:45:52.144Z"
   },
   {
    "duration": 263,
    "start_time": "2022-11-16T11:45:52.856Z"
   },
   {
    "duration": 6,
    "start_time": "2022-11-16T11:45:54.023Z"
   },
   {
    "duration": 143,
    "start_time": "2022-11-16T11:45:54.191Z"
   },
   {
    "duration": 130,
    "start_time": "2022-11-16T11:45:54.358Z"
   },
   {
    "duration": 5,
    "start_time": "2022-11-16T11:45:57.855Z"
   },
   {
    "duration": 4,
    "start_time": "2022-11-16T11:45:59.186Z"
   },
   {
    "duration": 160,
    "start_time": "2022-11-16T11:46:00.332Z"
   },
   {
    "duration": 11,
    "start_time": "2022-11-16T11:46:01.815Z"
   },
   {
    "duration": 4,
    "start_time": "2022-11-16T11:46:28.792Z"
   },
   {
    "duration": 6,
    "start_time": "2022-11-16T11:46:40.958Z"
   },
   {
    "duration": 4,
    "start_time": "2022-11-16T11:46:59.327Z"
   },
   {
    "duration": 4,
    "start_time": "2022-11-16T11:47:09.016Z"
   },
   {
    "duration": 4,
    "start_time": "2022-11-16T11:47:09.352Z"
   },
   {
    "duration": 3,
    "start_time": "2022-11-16T11:47:09.688Z"
   },
   {
    "duration": 795,
    "start_time": "2022-11-16T11:47:14.034Z"
   },
   {
    "duration": 700,
    "start_time": "2022-11-16T11:47:31.312Z"
   },
   {
    "duration": 5,
    "start_time": "2022-11-16T11:47:37.937Z"
   },
   {
    "duration": 698,
    "start_time": "2022-11-16T11:56:34.669Z"
   },
   {
    "duration": 658,
    "start_time": "2022-11-16T11:56:55.467Z"
   },
   {
    "duration": 6,
    "start_time": "2022-11-16T11:56:57.205Z"
   },
   {
    "duration": 778,
    "start_time": "2022-11-16T11:57:13.383Z"
   },
   {
    "duration": 5,
    "start_time": "2022-11-16T11:57:14.941Z"
   },
   {
    "duration": 704,
    "start_time": "2022-11-16T11:59:50.534Z"
   },
   {
    "duration": 530,
    "start_time": "2022-11-16T12:00:14.814Z"
   },
   {
    "duration": 5,
    "start_time": "2022-11-16T12:00:43.742Z"
   },
   {
    "duration": 590,
    "start_time": "2022-11-16T12:01:16.631Z"
   },
   {
    "duration": 5,
    "start_time": "2022-11-16T12:01:43.551Z"
   },
   {
    "duration": 775,
    "start_time": "2022-11-16T12:02:31.887Z"
   },
   {
    "duration": 5,
    "start_time": "2022-11-16T12:03:05.351Z"
   },
   {
    "duration": 582,
    "start_time": "2022-11-16T12:03:45.360Z"
   },
   {
    "duration": 5,
    "start_time": "2022-11-16T12:04:07.728Z"
   },
   {
    "duration": 4,
    "start_time": "2022-11-16T12:10:11.307Z"
   },
   {
    "duration": 4,
    "start_time": "2022-11-16T12:10:23.797Z"
   },
   {
    "duration": 5,
    "start_time": "2022-11-16T12:11:03.885Z"
   },
   {
    "duration": 593,
    "start_time": "2022-11-16T12:11:29.234Z"
   },
   {
    "duration": 6,
    "start_time": "2022-11-16T12:11:35.732Z"
   },
   {
    "duration": 565,
    "start_time": "2022-11-16T12:14:17.596Z"
   },
   {
    "duration": 4,
    "start_time": "2022-11-16T12:14:18.302Z"
   },
   {
    "duration": 328,
    "start_time": "2022-11-16T12:21:10.249Z"
   },
   {
    "duration": 147,
    "start_time": "2022-11-16T12:21:22.217Z"
   },
   {
    "duration": 156,
    "start_time": "2022-11-16T12:21:24.425Z"
   },
   {
    "duration": 160,
    "start_time": "2022-11-16T12:22:46.842Z"
   },
   {
    "duration": 164,
    "start_time": "2022-11-16T12:23:09.473Z"
   },
   {
    "duration": 171,
    "start_time": "2022-11-16T12:23:58.938Z"
   },
   {
    "duration": 164,
    "start_time": "2022-11-16T12:24:37.076Z"
   },
   {
    "duration": 377,
    "start_time": "2022-11-16T12:36:34.345Z"
   },
   {
    "duration": 428,
    "start_time": "2022-11-16T12:37:46.248Z"
   },
   {
    "duration": 340,
    "start_time": "2022-11-16T12:39:57.025Z"
   },
   {
    "duration": 6,
    "start_time": "2022-11-16T12:40:18.553Z"
   },
   {
    "duration": 344,
    "start_time": "2022-11-16T12:53:32.521Z"
   },
   {
    "duration": 360,
    "start_time": "2022-11-16T13:06:06.454Z"
   },
   {
    "duration": 420,
    "start_time": "2022-11-16T13:06:21.294Z"
   },
   {
    "duration": 9,
    "start_time": "2022-11-16T13:20:55.717Z"
   },
   {
    "duration": 9,
    "start_time": "2022-11-16T13:21:12.508Z"
   },
   {
    "duration": 10,
    "start_time": "2022-11-16T13:21:48.340Z"
   },
   {
    "duration": 10,
    "start_time": "2022-11-16T13:22:19.789Z"
   },
   {
    "duration": 4,
    "start_time": "2022-11-16T13:23:33.440Z"
   },
   {
    "duration": 62,
    "start_time": "2022-11-16T13:23:33.447Z"
   },
   {
    "duration": 14,
    "start_time": "2022-11-16T13:23:33.510Z"
   },
   {
    "duration": 24,
    "start_time": "2022-11-16T13:23:33.527Z"
   },
   {
    "duration": 11,
    "start_time": "2022-11-16T13:23:33.553Z"
   },
   {
    "duration": 5,
    "start_time": "2022-11-16T13:23:33.566Z"
   },
   {
    "duration": 52,
    "start_time": "2022-11-16T13:23:33.573Z"
   },
   {
    "duration": 12,
    "start_time": "2022-11-16T13:23:33.627Z"
   },
   {
    "duration": 26,
    "start_time": "2022-11-16T13:23:33.642Z"
   },
   {
    "duration": 20,
    "start_time": "2022-11-16T13:23:33.670Z"
   },
   {
    "duration": 39,
    "start_time": "2022-11-16T13:23:33.692Z"
   },
   {
    "duration": 6,
    "start_time": "2022-11-16T13:23:33.733Z"
   },
   {
    "duration": 21,
    "start_time": "2022-11-16T13:23:33.740Z"
   },
   {
    "duration": 81,
    "start_time": "2022-11-16T13:23:33.762Z"
   },
   {
    "duration": 20,
    "start_time": "2022-11-16T13:23:33.845Z"
   },
   {
    "duration": 8,
    "start_time": "2022-11-16T13:23:33.867Z"
   },
   {
    "duration": 352,
    "start_time": "2022-11-16T13:23:33.877Z"
   },
   {
    "duration": 19,
    "start_time": "2022-11-16T13:23:34.231Z"
   },
   {
    "duration": 328,
    "start_time": "2022-11-16T13:23:34.252Z"
   },
   {
    "duration": 17,
    "start_time": "2022-11-16T13:23:34.582Z"
   },
   {
    "duration": 23,
    "start_time": "2022-11-16T13:23:34.614Z"
   },
   {
    "duration": 317,
    "start_time": "2022-11-16T13:23:34.638Z"
   },
   {
    "duration": 6,
    "start_time": "2022-11-16T13:23:34.957Z"
   },
   {
    "duration": 173,
    "start_time": "2022-11-16T13:23:34.966Z"
   },
   {
    "duration": 186,
    "start_time": "2022-11-16T13:23:35.140Z"
   },
   {
    "duration": 736,
    "start_time": "2022-11-16T13:23:35.328Z"
   },
   {
    "duration": 6,
    "start_time": "2022-11-16T13:23:36.066Z"
   },
   {
    "duration": 797,
    "start_time": "2022-11-16T13:23:36.073Z"
   },
   {
    "duration": 6,
    "start_time": "2022-11-16T13:23:36.872Z"
   },
   {
    "duration": 575,
    "start_time": "2022-11-16T13:23:36.880Z"
   },
   {
    "duration": 8,
    "start_time": "2022-11-16T13:23:37.458Z"
   },
   {
    "duration": 599,
    "start_time": "2022-11-16T13:23:37.468Z"
   },
   {
    "duration": 6,
    "start_time": "2022-11-16T13:23:38.069Z"
   },
   {
    "duration": 591,
    "start_time": "2022-11-16T13:23:38.076Z"
   },
   {
    "duration": 5,
    "start_time": "2022-11-16T13:23:38.669Z"
   },
   {
    "duration": 691,
    "start_time": "2022-11-16T13:23:38.675Z"
   },
   {
    "duration": 5,
    "start_time": "2022-11-16T13:23:39.367Z"
   },
   {
    "duration": 172,
    "start_time": "2022-11-16T13:23:39.374Z"
   },
   {
    "duration": 177,
    "start_time": "2022-11-16T13:23:39.548Z"
   },
   {
    "duration": 354,
    "start_time": "2022-11-16T13:23:39.726Z"
   },
   {
    "duration": 417,
    "start_time": "2022-11-16T13:23:40.082Z"
   },
   {
    "duration": 454,
    "start_time": "2022-11-16T13:23:40.501Z"
   },
   {
    "duration": 7,
    "start_time": "2022-11-16T13:23:40.957Z"
   },
   {
    "duration": 14,
    "start_time": "2022-11-16T13:23:40.966Z"
   },
   {
    "duration": 34,
    "start_time": "2022-11-16T13:23:40.982Z"
   },
   {
    "duration": 14,
    "start_time": "2022-11-16T13:25:25.670Z"
   },
   {
    "duration": 12,
    "start_time": "2022-11-16T13:25:43.252Z"
   },
   {
    "duration": 12,
    "start_time": "2022-11-16T13:26:53.557Z"
   },
   {
    "duration": 10,
    "start_time": "2022-11-16T13:27:36.414Z"
   },
   {
    "duration": 10,
    "start_time": "2022-11-16T13:28:02.118Z"
   },
   {
    "duration": 11,
    "start_time": "2022-11-16T13:28:07.093Z"
   },
   {
    "duration": 10,
    "start_time": "2022-11-16T13:28:22.398Z"
   },
   {
    "duration": 7,
    "start_time": "2022-11-16T13:31:37.111Z"
   },
   {
    "duration": 9,
    "start_time": "2022-11-16T13:32:53.241Z"
   },
   {
    "duration": 9,
    "start_time": "2022-11-16T13:33:29.039Z"
   },
   {
    "duration": 8,
    "start_time": "2022-11-16T13:34:23.528Z"
   },
   {
    "duration": 8,
    "start_time": "2022-11-16T13:34:44.201Z"
   },
   {
    "duration": 1424,
    "start_time": "2022-11-16T15:43:54.675Z"
   },
   {
    "duration": 225,
    "start_time": "2022-11-16T15:43:56.101Z"
   },
   {
    "duration": 20,
    "start_time": "2022-11-16T15:43:56.328Z"
   },
   {
    "duration": 23,
    "start_time": "2022-11-16T15:43:56.350Z"
   },
   {
    "duration": 13,
    "start_time": "2022-11-16T15:43:56.376Z"
   },
   {
    "duration": 6,
    "start_time": "2022-11-16T15:43:56.392Z"
   },
   {
    "duration": 19,
    "start_time": "2022-11-16T15:43:56.400Z"
   },
   {
    "duration": 13,
    "start_time": "2022-11-16T15:43:56.420Z"
   },
   {
    "duration": 21,
    "start_time": "2022-11-16T15:43:56.434Z"
   },
   {
    "duration": 31,
    "start_time": "2022-11-16T15:43:56.457Z"
   },
   {
    "duration": 27,
    "start_time": "2022-11-16T15:43:56.490Z"
   },
   {
    "duration": 7,
    "start_time": "2022-11-16T15:43:56.518Z"
   },
   {
    "duration": 46,
    "start_time": "2022-11-16T15:43:56.526Z"
   },
   {
    "duration": 49,
    "start_time": "2022-11-16T15:43:56.575Z"
   },
   {
    "duration": 16,
    "start_time": "2022-11-16T15:43:56.656Z"
   },
   {
    "duration": 7,
    "start_time": "2022-11-16T15:43:56.673Z"
   },
   {
    "duration": 391,
    "start_time": "2022-11-16T15:43:56.681Z"
   },
   {
    "duration": 17,
    "start_time": "2022-11-16T15:43:57.074Z"
   },
   {
    "duration": 330,
    "start_time": "2022-11-16T15:43:57.092Z"
   },
   {
    "duration": 13,
    "start_time": "2022-11-16T15:43:57.424Z"
   },
   {
    "duration": 35,
    "start_time": "2022-11-16T15:43:57.438Z"
   },
   {
    "duration": 294,
    "start_time": "2022-11-16T15:43:57.478Z"
   },
   {
    "duration": 5,
    "start_time": "2022-11-16T15:43:57.773Z"
   },
   {
    "duration": 179,
    "start_time": "2022-11-16T15:43:57.780Z"
   },
   {
    "duration": 145,
    "start_time": "2022-11-16T15:43:57.965Z"
   },
   {
    "duration": 846,
    "start_time": "2022-11-16T15:43:58.112Z"
   },
   {
    "duration": 20,
    "start_time": "2022-11-16T15:43:58.965Z"
   },
   {
    "duration": 756,
    "start_time": "2022-11-16T15:43:58.987Z"
   },
   {
    "duration": 10,
    "start_time": "2022-11-16T15:43:59.745Z"
   },
   {
    "duration": 614,
    "start_time": "2022-11-16T15:43:59.757Z"
   },
   {
    "duration": 5,
    "start_time": "2022-11-16T15:44:00.373Z"
   },
   {
    "duration": 628,
    "start_time": "2022-11-16T15:44:00.379Z"
   },
   {
    "duration": 5,
    "start_time": "2022-11-16T15:44:01.009Z"
   },
   {
    "duration": 751,
    "start_time": "2022-11-16T15:44:01.016Z"
   },
   {
    "duration": 5,
    "start_time": "2022-11-16T15:44:01.769Z"
   },
   {
    "duration": 675,
    "start_time": "2022-11-16T15:44:01.776Z"
   },
   {
    "duration": 5,
    "start_time": "2022-11-16T15:44:02.454Z"
   },
   {
    "duration": 190,
    "start_time": "2022-11-16T15:44:02.460Z"
   },
   {
    "duration": 211,
    "start_time": "2022-11-16T15:44:02.652Z"
   },
   {
    "duration": 379,
    "start_time": "2022-11-16T15:44:02.865Z"
   },
   {
    "duration": 514,
    "start_time": "2022-11-16T15:44:03.257Z"
   },
   {
    "duration": 374,
    "start_time": "2022-11-16T15:44:03.773Z"
   },
   {
    "duration": 13,
    "start_time": "2022-11-16T15:44:04.151Z"
   },
   {
    "duration": 16,
    "start_time": "2022-11-16T15:44:04.166Z"
   },
   {
    "duration": 10,
    "start_time": "2022-11-16T15:44:04.183Z"
   },
   {
    "duration": 1263,
    "start_time": "2022-11-16T15:59:10.583Z"
   },
   {
    "duration": 71,
    "start_time": "2022-11-16T15:59:11.849Z"
   },
   {
    "duration": 15,
    "start_time": "2022-11-16T15:59:11.922Z"
   },
   {
    "duration": 14,
    "start_time": "2022-11-16T15:59:11.939Z"
   },
   {
    "duration": 15,
    "start_time": "2022-11-16T15:59:11.959Z"
   },
   {
    "duration": 6,
    "start_time": "2022-11-16T15:59:11.976Z"
   },
   {
    "duration": 21,
    "start_time": "2022-11-16T15:59:11.984Z"
   },
   {
    "duration": 12,
    "start_time": "2022-11-16T15:59:12.007Z"
   },
   {
    "duration": 5,
    "start_time": "2022-11-16T15:59:12.020Z"
   },
   {
    "duration": 60,
    "start_time": "2022-11-16T15:59:12.026Z"
   },
   {
    "duration": 27,
    "start_time": "2022-11-16T15:59:12.088Z"
   },
   {
    "duration": 6,
    "start_time": "2022-11-16T15:59:12.117Z"
   },
   {
    "duration": 65,
    "start_time": "2022-11-16T15:59:12.124Z"
   },
   {
    "duration": 44,
    "start_time": "2022-11-16T15:59:12.192Z"
   },
   {
    "duration": 32,
    "start_time": "2022-11-16T15:59:12.237Z"
   },
   {
    "duration": 26,
    "start_time": "2022-11-16T15:59:12.273Z"
   },
   {
    "duration": 403,
    "start_time": "2022-11-16T15:59:12.300Z"
   },
   {
    "duration": 16,
    "start_time": "2022-11-16T15:59:12.705Z"
   },
   {
    "duration": 384,
    "start_time": "2022-11-16T15:59:12.722Z"
   },
   {
    "duration": 14,
    "start_time": "2022-11-16T15:59:13.108Z"
   },
   {
    "duration": 48,
    "start_time": "2022-11-16T15:59:13.124Z"
   },
   {
    "duration": 322,
    "start_time": "2022-11-16T15:59:13.176Z"
   },
   {
    "duration": 6,
    "start_time": "2022-11-16T15:59:13.499Z"
   },
   {
    "duration": 208,
    "start_time": "2022-11-16T15:59:13.506Z"
   },
   {
    "duration": 179,
    "start_time": "2022-11-16T15:59:13.717Z"
   },
   {
    "duration": 925,
    "start_time": "2022-11-16T15:59:13.897Z"
   },
   {
    "duration": 6,
    "start_time": "2022-11-16T15:59:14.824Z"
   },
   {
    "duration": 801,
    "start_time": "2022-11-16T15:59:14.832Z"
   },
   {
    "duration": 5,
    "start_time": "2022-11-16T15:59:15.635Z"
   },
   {
    "duration": 708,
    "start_time": "2022-11-16T15:59:15.641Z"
   },
   {
    "duration": 9,
    "start_time": "2022-11-16T15:59:16.350Z"
   },
   {
    "duration": 725,
    "start_time": "2022-11-16T15:59:16.361Z"
   },
   {
    "duration": 7,
    "start_time": "2022-11-16T15:59:17.088Z"
   },
   {
    "duration": 786,
    "start_time": "2022-11-16T15:59:17.097Z"
   },
   {
    "duration": 5,
    "start_time": "2022-11-16T15:59:17.886Z"
   },
   {
    "duration": 693,
    "start_time": "2022-11-16T15:59:17.892Z"
   },
   {
    "duration": 6,
    "start_time": "2022-11-16T15:59:18.587Z"
   },
   {
    "duration": 189,
    "start_time": "2022-11-16T15:59:18.594Z"
   },
   {
    "duration": 222,
    "start_time": "2022-11-16T15:59:18.786Z"
   },
   {
    "duration": 466,
    "start_time": "2022-11-16T15:59:19.010Z"
   },
   {
    "duration": 520,
    "start_time": "2022-11-16T15:59:19.482Z"
   },
   {
    "duration": 413,
    "start_time": "2022-11-16T15:59:20.004Z"
   },
   {
    "duration": 7,
    "start_time": "2022-11-16T15:59:20.419Z"
   },
   {
    "duration": 11,
    "start_time": "2022-11-16T15:59:20.428Z"
   },
   {
    "duration": 30,
    "start_time": "2022-11-16T15:59:20.463Z"
   },
   {
    "duration": 1332,
    "start_time": "2022-11-17T10:10:19.081Z"
   },
   {
    "duration": 94,
    "start_time": "2022-11-17T10:10:20.415Z"
   },
   {
    "duration": 17,
    "start_time": "2022-11-17T10:10:20.511Z"
   },
   {
    "duration": 12,
    "start_time": "2022-11-17T10:10:20.530Z"
   },
   {
    "duration": 7,
    "start_time": "2022-11-17T10:10:20.543Z"
   },
   {
    "duration": 6,
    "start_time": "2022-11-17T10:10:20.551Z"
   },
   {
    "duration": 17,
    "start_time": "2022-11-17T10:10:20.558Z"
   },
   {
    "duration": 9,
    "start_time": "2022-11-17T10:10:20.578Z"
   },
   {
    "duration": 4,
    "start_time": "2022-11-17T10:10:20.588Z"
   },
   {
    "duration": 33,
    "start_time": "2022-11-17T10:10:20.594Z"
   },
   {
    "duration": 23,
    "start_time": "2022-11-17T10:10:20.629Z"
   },
   {
    "duration": 5,
    "start_time": "2022-11-17T10:10:20.653Z"
   },
   {
    "duration": 53,
    "start_time": "2022-11-17T10:10:20.660Z"
   },
   {
    "duration": 39,
    "start_time": "2022-11-17T10:10:20.714Z"
   },
   {
    "duration": 11,
    "start_time": "2022-11-17T10:10:20.754Z"
   },
   {
    "duration": 7,
    "start_time": "2022-11-17T10:10:20.766Z"
   },
   {
    "duration": 364,
    "start_time": "2022-11-17T10:10:20.775Z"
   },
   {
    "duration": 14,
    "start_time": "2022-11-17T10:10:21.141Z"
   },
   {
    "duration": 312,
    "start_time": "2022-11-17T10:10:21.157Z"
   },
   {
    "duration": 14,
    "start_time": "2022-11-17T10:10:21.471Z"
   },
   {
    "duration": 16,
    "start_time": "2022-11-17T10:10:21.486Z"
   },
   {
    "duration": 255,
    "start_time": "2022-11-17T10:10:21.503Z"
   },
   {
    "duration": 5,
    "start_time": "2022-11-17T10:10:21.759Z"
   },
   {
    "duration": 152,
    "start_time": "2022-11-17T10:10:21.765Z"
   },
   {
    "duration": 154,
    "start_time": "2022-11-17T10:10:21.919Z"
   },
   {
    "duration": 749,
    "start_time": "2022-11-17T10:10:22.075Z"
   },
   {
    "duration": 4,
    "start_time": "2022-11-17T10:10:22.825Z"
   },
   {
    "duration": 703,
    "start_time": "2022-11-17T10:10:22.832Z"
   },
   {
    "duration": 4,
    "start_time": "2022-11-17T10:10:23.537Z"
   },
   {
    "duration": 554,
    "start_time": "2022-11-17T10:10:23.542Z"
   },
   {
    "duration": 4,
    "start_time": "2022-11-17T10:10:24.098Z"
   },
   {
    "duration": 543,
    "start_time": "2022-11-17T10:10:24.104Z"
   },
   {
    "duration": 6,
    "start_time": "2022-11-17T10:10:24.648Z"
   },
   {
    "duration": 685,
    "start_time": "2022-11-17T10:10:24.656Z"
   },
   {
    "duration": 4,
    "start_time": "2022-11-17T10:10:25.343Z"
   },
   {
    "duration": 605,
    "start_time": "2022-11-17T10:10:25.348Z"
   },
   {
    "duration": 4,
    "start_time": "2022-11-17T10:10:25.955Z"
   },
   {
    "duration": 169,
    "start_time": "2022-11-17T10:10:25.960Z"
   },
   {
    "duration": 177,
    "start_time": "2022-11-17T10:10:26.131Z"
   },
   {
    "duration": 359,
    "start_time": "2022-11-17T10:10:26.312Z"
   },
   {
    "duration": 433,
    "start_time": "2022-11-17T10:10:26.672Z"
   },
   {
    "duration": 332,
    "start_time": "2022-11-17T10:10:27.112Z"
   },
   {
    "duration": 5,
    "start_time": "2022-11-17T10:10:27.445Z"
   },
   {
    "duration": 8,
    "start_time": "2022-11-17T10:10:27.452Z"
   },
   {
    "duration": 8,
    "start_time": "2022-11-17T10:10:27.462Z"
   }
  ],
  "kernelspec": {
   "display_name": "Python 3 (ipykernel)",
   "language": "python",
   "name": "python3"
  },
  "language_info": {
   "codemirror_mode": {
    "name": "ipython",
    "version": 3
   },
   "file_extension": ".py",
   "mimetype": "text/x-python",
   "name": "python",
   "nbconvert_exporter": "python",
   "pygments_lexer": "ipython3",
   "version": "3.9.16"
  },
  "toc": {
   "base_numbering": 1,
   "nav_menu": {},
   "number_sections": false,
   "sideBar": true,
   "skip_h1_title": false,
   "title_cell": "Table of Contents",
   "title_sidebar": "Contents",
   "toc_cell": false,
   "toc_position": {
    "height": "calc(100% - 180px)",
    "left": "10px",
    "top": "150px",
    "width": "230.099px"
   },
   "toc_section_display": true,
   "toc_window_display": true
  }
 },
 "nbformat": 4,
 "nbformat_minor": 2
}
