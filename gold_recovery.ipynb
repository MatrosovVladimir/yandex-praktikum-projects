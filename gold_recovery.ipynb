{
 "cells": [
  {
   "cell_type": "markdown",
   "metadata": {
    "toc": true
   },
   "source": [
    "<h1>Содержание<span class=\"tocSkip\"></span></h1>\n",
    "<div class=\"toc\"><ul class=\"toc-item\"><li><span><a href=\"#Подготовка-данных\" data-toc-modified-id=\"Подготовка-данных-1\"><span class=\"toc-item-num\">1&nbsp;&nbsp;</span>Подготовка данных</a></span></li><li><span><a href=\"#Анализ-данных\" data-toc-modified-id=\"Анализ-данных-2\"><span class=\"toc-item-num\">2&nbsp;&nbsp;</span>Анализ данных</a></span></li><li><span><a href=\"#Модель\" data-toc-modified-id=\"Модель-3\"><span class=\"toc-item-num\">3&nbsp;&nbsp;</span>Модель</a></span></li><li><span><a href=\"#Чек-лист-готовности-проекта\" data-toc-modified-id=\"Чек-лист-готовности-проекта-4\"><span class=\"toc-item-num\">4&nbsp;&nbsp;</span>Чек-лист готовности проекта</a></span></li></ul></div>"
   ]
  },
  {
   "cell_type": "markdown",
   "metadata": {},
   "source": [
    "# Восстановление золота из руды"
   ]
  },
  {
   "cell_type": "markdown",
   "metadata": {},
   "source": [
    "Подготовьте прототип модели машинного обучения для «Цифры». Компания разрабатывает решения для эффективной работы промышленных предприятий.\n",
    "\n",
    "Модель должна предсказать коэффициент восстановления золота из золотосодержащей руды. Используйте данные с параметрами добычи и очистки. \n",
    "\n",
    "Модель поможет оптимизировать производство, чтобы не запускать предприятие с убыточными характеристиками.\n",
    "\n",
    "Вам нужно:\n",
    "\n",
    "1. Подготовить данные;\n",
    "2. Провести исследовательский анализ данных;\n",
    "3. Построить и обучить модель.\n",
    "\n",
    "Чтобы выполнить проект, обращайтесь к библиотекам *pandas*, *matplotlib* и *sklearn.* Вам поможет их документация."
   ]
  },
  {
   "cell_type": "markdown",
   "metadata": {},
   "source": [
    "## Подготовка данных"
   ]
  },
  {
   "cell_type": "code",
   "execution_count": 1,
   "metadata": {},
   "outputs": [],
   "source": [
    "# импортируем необходимые библиотеки\n",
    "import pandas as pd\n",
    "import numpy as np \n",
    "from numpy.random import RandomState\n",
    "import matplotlib.pyplot as plt\n",
    "import seaborn as sns\n",
    "from sklearn.model_selection import train_test_split, cross_val_score\n",
    "from sklearn.metrics import make_scorer, mean_absolute_error\n",
    "from sklearn.tree import DecisionTreeRegressor\n",
    "from sklearn.ensemble import RandomForestRegressor\n",
    "from sklearn.linear_model import LinearRegression\n",
    "from sklearn.dummy import DummyRegressor\n",
    "\n",
    "pd.set_option('display.max_columns', None)\n",
    "\n",
    "import time\n",
    "from tqdm import tqdm\n",
    "\n",
    "import warnings\n",
    "warnings.filterwarnings(\"ignore\")"
   ]
  },
  {
   "cell_type": "code",
   "execution_count": 2,
   "metadata": {},
   "outputs": [],
   "source": [
    "# загрузим датасеты\n",
    "train = pd.read_csv('/datasets/gold_recovery_train_new.csv')  # обучающая выборка\n",
    "test = pd.read_csv('/datasets/gold_recovery_test_new.csv')  # тестовая выборка\n",
    "full = pd.read_csv('/datasets/gold_recovery_full_new.csv')  # исходные данные"
   ]
  },
  {
   "cell_type": "code",
   "execution_count": 3,
   "metadata": {},
   "outputs": [
    {
     "data": {
      "text/html": [
       "<div>\n",
       "<style scoped>\n",
       "    .dataframe tbody tr th:only-of-type {\n",
       "        vertical-align: middle;\n",
       "    }\n",
       "\n",
       "    .dataframe tbody tr th {\n",
       "        vertical-align: top;\n",
       "    }\n",
       "\n",
       "    .dataframe thead th {\n",
       "        text-align: right;\n",
       "    }\n",
       "</style>\n",
       "<table border=\"1\" class=\"dataframe\">\n",
       "  <thead>\n",
       "    <tr style=\"text-align: right;\">\n",
       "      <th></th>\n",
       "      <th>date</th>\n",
       "      <th>final.output.concentrate_ag</th>\n",
       "      <th>final.output.concentrate_pb</th>\n",
       "      <th>final.output.concentrate_sol</th>\n",
       "      <th>final.output.concentrate_au</th>\n",
       "      <th>final.output.recovery</th>\n",
       "      <th>final.output.tail_ag</th>\n",
       "      <th>final.output.tail_pb</th>\n",
       "      <th>final.output.tail_sol</th>\n",
       "      <th>final.output.tail_au</th>\n",
       "      <th>primary_cleaner.input.sulfate</th>\n",
       "      <th>primary_cleaner.input.depressant</th>\n",
       "      <th>primary_cleaner.input.feed_size</th>\n",
       "      <th>primary_cleaner.input.xanthate</th>\n",
       "      <th>primary_cleaner.output.concentrate_ag</th>\n",
       "      <th>primary_cleaner.output.concentrate_pb</th>\n",
       "      <th>primary_cleaner.output.concentrate_sol</th>\n",
       "      <th>primary_cleaner.output.concentrate_au</th>\n",
       "      <th>primary_cleaner.output.tail_ag</th>\n",
       "      <th>primary_cleaner.output.tail_pb</th>\n",
       "      <th>primary_cleaner.output.tail_sol</th>\n",
       "      <th>primary_cleaner.output.tail_au</th>\n",
       "      <th>primary_cleaner.state.floatbank8_a_air</th>\n",
       "      <th>primary_cleaner.state.floatbank8_a_level</th>\n",
       "      <th>primary_cleaner.state.floatbank8_b_air</th>\n",
       "      <th>primary_cleaner.state.floatbank8_b_level</th>\n",
       "      <th>primary_cleaner.state.floatbank8_c_air</th>\n",
       "      <th>primary_cleaner.state.floatbank8_c_level</th>\n",
       "      <th>primary_cleaner.state.floatbank8_d_air</th>\n",
       "      <th>primary_cleaner.state.floatbank8_d_level</th>\n",
       "      <th>rougher.calculation.sulfate_to_au_concentrate</th>\n",
       "      <th>rougher.calculation.floatbank10_sulfate_to_au_feed</th>\n",
       "      <th>rougher.calculation.floatbank11_sulfate_to_au_feed</th>\n",
       "      <th>rougher.calculation.au_pb_ratio</th>\n",
       "      <th>rougher.input.feed_ag</th>\n",
       "      <th>rougher.input.feed_pb</th>\n",
       "      <th>rougher.input.feed_rate</th>\n",
       "      <th>rougher.input.feed_size</th>\n",
       "      <th>rougher.input.feed_sol</th>\n",
       "      <th>rougher.input.feed_au</th>\n",
       "      <th>rougher.input.floatbank10_sulfate</th>\n",
       "      <th>rougher.input.floatbank10_xanthate</th>\n",
       "      <th>rougher.input.floatbank11_sulfate</th>\n",
       "      <th>rougher.input.floatbank11_xanthate</th>\n",
       "      <th>rougher.output.concentrate_ag</th>\n",
       "      <th>rougher.output.concentrate_pb</th>\n",
       "      <th>rougher.output.concentrate_sol</th>\n",
       "      <th>rougher.output.concentrate_au</th>\n",
       "      <th>rougher.output.recovery</th>\n",
       "      <th>rougher.output.tail_ag</th>\n",
       "      <th>rougher.output.tail_pb</th>\n",
       "      <th>rougher.output.tail_sol</th>\n",
       "      <th>rougher.output.tail_au</th>\n",
       "      <th>rougher.state.floatbank10_a_air</th>\n",
       "      <th>rougher.state.floatbank10_a_level</th>\n",
       "      <th>rougher.state.floatbank10_b_air</th>\n",
       "      <th>rougher.state.floatbank10_b_level</th>\n",
       "      <th>rougher.state.floatbank10_c_air</th>\n",
       "      <th>rougher.state.floatbank10_c_level</th>\n",
       "      <th>rougher.state.floatbank10_d_air</th>\n",
       "      <th>rougher.state.floatbank10_d_level</th>\n",
       "      <th>rougher.state.floatbank10_e_air</th>\n",
       "      <th>rougher.state.floatbank10_e_level</th>\n",
       "      <th>rougher.state.floatbank10_f_air</th>\n",
       "      <th>rougher.state.floatbank10_f_level</th>\n",
       "      <th>secondary_cleaner.output.tail_ag</th>\n",
       "      <th>secondary_cleaner.output.tail_pb</th>\n",
       "      <th>secondary_cleaner.output.tail_sol</th>\n",
       "      <th>secondary_cleaner.output.tail_au</th>\n",
       "      <th>secondary_cleaner.state.floatbank2_a_air</th>\n",
       "      <th>secondary_cleaner.state.floatbank2_a_level</th>\n",
       "      <th>secondary_cleaner.state.floatbank2_b_air</th>\n",
       "      <th>secondary_cleaner.state.floatbank2_b_level</th>\n",
       "      <th>secondary_cleaner.state.floatbank3_a_air</th>\n",
       "      <th>secondary_cleaner.state.floatbank3_a_level</th>\n",
       "      <th>secondary_cleaner.state.floatbank3_b_air</th>\n",
       "      <th>secondary_cleaner.state.floatbank3_b_level</th>\n",
       "      <th>secondary_cleaner.state.floatbank4_a_air</th>\n",
       "      <th>secondary_cleaner.state.floatbank4_a_level</th>\n",
       "      <th>secondary_cleaner.state.floatbank4_b_air</th>\n",
       "      <th>secondary_cleaner.state.floatbank4_b_level</th>\n",
       "      <th>secondary_cleaner.state.floatbank5_a_air</th>\n",
       "      <th>secondary_cleaner.state.floatbank5_a_level</th>\n",
       "      <th>secondary_cleaner.state.floatbank5_b_air</th>\n",
       "      <th>secondary_cleaner.state.floatbank5_b_level</th>\n",
       "      <th>secondary_cleaner.state.floatbank6_a_air</th>\n",
       "      <th>secondary_cleaner.state.floatbank6_a_level</th>\n",
       "    </tr>\n",
       "  </thead>\n",
       "  <tbody>\n",
       "    <tr>\n",
       "      <th>0</th>\n",
       "      <td>2016-01-15 00:00:00</td>\n",
       "      <td>6.055403</td>\n",
       "      <td>9.889648</td>\n",
       "      <td>5.507324</td>\n",
       "      <td>42.192020</td>\n",
       "      <td>70.541216</td>\n",
       "      <td>10.411962</td>\n",
       "      <td>0.895447</td>\n",
       "      <td>16.904297</td>\n",
       "      <td>2.143149</td>\n",
       "      <td>127.092003</td>\n",
       "      <td>10.128295</td>\n",
       "      <td>7.25</td>\n",
       "      <td>0.988759</td>\n",
       "      <td>8.547551</td>\n",
       "      <td>10.389648</td>\n",
       "      <td>19.529297</td>\n",
       "      <td>34.174427</td>\n",
       "      <td>14.936526</td>\n",
       "      <td>2.534912</td>\n",
       "      <td>7.476074</td>\n",
       "      <td>2.106679</td>\n",
       "      <td>1549.775757</td>\n",
       "      <td>-498.912140</td>\n",
       "      <td>1551.434204</td>\n",
       "      <td>-516.403442</td>\n",
       "      <td>1549.873901</td>\n",
       "      <td>-498.666595</td>\n",
       "      <td>1554.367432</td>\n",
       "      <td>-493.428131</td>\n",
       "      <td>41885.707031</td>\n",
       "      <td>3481.779053</td>\n",
       "      <td>3520.337158</td>\n",
       "      <td>2.838687</td>\n",
       "      <td>6.100378</td>\n",
       "      <td>2.284912</td>\n",
       "      <td>523.546326</td>\n",
       "      <td>55.486599</td>\n",
       "      <td>36.808594</td>\n",
       "      <td>6.486150</td>\n",
       "      <td>11.986616</td>\n",
       "      <td>6.007990</td>\n",
       "      <td>11.836743</td>\n",
       "      <td>6.005818</td>\n",
       "      <td>11.500771</td>\n",
       "      <td>7.101074</td>\n",
       "      <td>28.029297</td>\n",
       "      <td>19.793808</td>\n",
       "      <td>87.107763</td>\n",
       "      <td>5.008018</td>\n",
       "      <td>0.508728</td>\n",
       "      <td>19.154297</td>\n",
       "      <td>1.170244</td>\n",
       "      <td>999.706909</td>\n",
       "      <td>-404.066986</td>\n",
       "      <td>1603.011353</td>\n",
       "      <td>-434.715027</td>\n",
       "      <td>1602.375000</td>\n",
       "      <td>-442.204468</td>\n",
       "      <td>1598.937256</td>\n",
       "      <td>-451.294128</td>\n",
       "      <td>1404.472046</td>\n",
       "      <td>-455.462982</td>\n",
       "      <td>1416.354980</td>\n",
       "      <td>-451.939636</td>\n",
       "      <td>14.500184</td>\n",
       "      <td>4.694824</td>\n",
       "      <td>8.764648</td>\n",
       "      <td>2.606185</td>\n",
       "      <td>25.853109</td>\n",
       "      <td>-498.526489</td>\n",
       "      <td>23.893660</td>\n",
       "      <td>-501.406281</td>\n",
       "      <td>23.961798</td>\n",
       "      <td>-495.262817</td>\n",
       "      <td>21.940409</td>\n",
       "      <td>-499.340973</td>\n",
       "      <td>14.016835</td>\n",
       "      <td>-502.488007</td>\n",
       "      <td>12.099931</td>\n",
       "      <td>-504.715942</td>\n",
       "      <td>9.925633</td>\n",
       "      <td>-498.310211</td>\n",
       "      <td>8.079666</td>\n",
       "      <td>-500.470978</td>\n",
       "      <td>14.151341</td>\n",
       "      <td>-605.841980</td>\n",
       "    </tr>\n",
       "    <tr>\n",
       "      <th>1</th>\n",
       "      <td>2016-01-15 01:00:00</td>\n",
       "      <td>6.029369</td>\n",
       "      <td>9.968944</td>\n",
       "      <td>5.257781</td>\n",
       "      <td>42.701629</td>\n",
       "      <td>69.266198</td>\n",
       "      <td>10.462676</td>\n",
       "      <td>0.927452</td>\n",
       "      <td>16.634514</td>\n",
       "      <td>2.224930</td>\n",
       "      <td>125.629232</td>\n",
       "      <td>10.296251</td>\n",
       "      <td>7.25</td>\n",
       "      <td>1.002663</td>\n",
       "      <td>8.558743</td>\n",
       "      <td>10.497069</td>\n",
       "      <td>19.369147</td>\n",
       "      <td>34.118526</td>\n",
       "      <td>16.250511</td>\n",
       "      <td>3.049646</td>\n",
       "      <td>6.733907</td>\n",
       "      <td>2.353017</td>\n",
       "      <td>1576.166671</td>\n",
       "      <td>-500.904965</td>\n",
       "      <td>1575.950626</td>\n",
       "      <td>-499.865889</td>\n",
       "      <td>1575.994189</td>\n",
       "      <td>-499.315107</td>\n",
       "      <td>1574.479259</td>\n",
       "      <td>-498.931665</td>\n",
       "      <td>42050.861809</td>\n",
       "      <td>3498.370979</td>\n",
       "      <td>3489.981857</td>\n",
       "      <td>2.858998</td>\n",
       "      <td>6.161113</td>\n",
       "      <td>2.266033</td>\n",
       "      <td>525.290581</td>\n",
       "      <td>57.278666</td>\n",
       "      <td>35.753385</td>\n",
       "      <td>6.478583</td>\n",
       "      <td>11.971193</td>\n",
       "      <td>6.005766</td>\n",
       "      <td>11.996163</td>\n",
       "      <td>6.012594</td>\n",
       "      <td>11.615865</td>\n",
       "      <td>7.278807</td>\n",
       "      <td>28.067063</td>\n",
       "      <td>20.050975</td>\n",
       "      <td>86.843261</td>\n",
       "      <td>4.955378</td>\n",
       "      <td>0.536689</td>\n",
       "      <td>18.965234</td>\n",
       "      <td>1.184827</td>\n",
       "      <td>1000.286398</td>\n",
       "      <td>-400.065196</td>\n",
       "      <td>1600.754587</td>\n",
       "      <td>-449.953435</td>\n",
       "      <td>1600.479580</td>\n",
       "      <td>-449.830646</td>\n",
       "      <td>1600.527589</td>\n",
       "      <td>-449.953649</td>\n",
       "      <td>1399.227084</td>\n",
       "      <td>-450.869848</td>\n",
       "      <td>1399.719514</td>\n",
       "      <td>-450.119001</td>\n",
       "      <td>14.265474</td>\n",
       "      <td>4.592547</td>\n",
       "      <td>9.001494</td>\n",
       "      <td>2.488248</td>\n",
       "      <td>25.880539</td>\n",
       "      <td>-499.989656</td>\n",
       "      <td>23.889530</td>\n",
       "      <td>-500.372428</td>\n",
       "      <td>23.970550</td>\n",
       "      <td>-500.085473</td>\n",
       "      <td>22.085714</td>\n",
       "      <td>-499.446897</td>\n",
       "      <td>13.992281</td>\n",
       "      <td>-505.503262</td>\n",
       "      <td>11.950531</td>\n",
       "      <td>-501.331529</td>\n",
       "      <td>10.039245</td>\n",
       "      <td>-500.169983</td>\n",
       "      <td>7.984757</td>\n",
       "      <td>-500.582168</td>\n",
       "      <td>13.998353</td>\n",
       "      <td>-599.787184</td>\n",
       "    </tr>\n",
       "    <tr>\n",
       "      <th>2</th>\n",
       "      <td>2016-01-15 02:00:00</td>\n",
       "      <td>6.055926</td>\n",
       "      <td>10.213995</td>\n",
       "      <td>5.383759</td>\n",
       "      <td>42.657501</td>\n",
       "      <td>68.116445</td>\n",
       "      <td>10.507046</td>\n",
       "      <td>0.953716</td>\n",
       "      <td>16.208849</td>\n",
       "      <td>2.257889</td>\n",
       "      <td>123.819808</td>\n",
       "      <td>11.316280</td>\n",
       "      <td>7.25</td>\n",
       "      <td>0.991265</td>\n",
       "      <td>8.603505</td>\n",
       "      <td>10.354494</td>\n",
       "      <td>19.167579</td>\n",
       "      <td>33.969464</td>\n",
       "      <td>16.491823</td>\n",
       "      <td>3.124664</td>\n",
       "      <td>6.471768</td>\n",
       "      <td>2.416800</td>\n",
       "      <td>1601.556163</td>\n",
       "      <td>-499.997791</td>\n",
       "      <td>1600.386685</td>\n",
       "      <td>-500.607762</td>\n",
       "      <td>1602.003542</td>\n",
       "      <td>-500.870069</td>\n",
       "      <td>1599.541515</td>\n",
       "      <td>-499.827444</td>\n",
       "      <td>42018.101184</td>\n",
       "      <td>3495.348910</td>\n",
       "      <td>3502.359819</td>\n",
       "      <td>2.945989</td>\n",
       "      <td>6.116455</td>\n",
       "      <td>2.159622</td>\n",
       "      <td>530.026610</td>\n",
       "      <td>57.510649</td>\n",
       "      <td>35.971630</td>\n",
       "      <td>6.362222</td>\n",
       "      <td>11.920603</td>\n",
       "      <td>6.197377</td>\n",
       "      <td>11.920305</td>\n",
       "      <td>6.204633</td>\n",
       "      <td>11.695753</td>\n",
       "      <td>7.216833</td>\n",
       "      <td>27.454037</td>\n",
       "      <td>19.737170</td>\n",
       "      <td>86.842308</td>\n",
       "      <td>4.843460</td>\n",
       "      <td>0.546416</td>\n",
       "      <td>18.808533</td>\n",
       "      <td>1.162562</td>\n",
       "      <td>999.719565</td>\n",
       "      <td>-400.074028</td>\n",
       "      <td>1599.337330</td>\n",
       "      <td>-450.008530</td>\n",
       "      <td>1599.672797</td>\n",
       "      <td>-449.954491</td>\n",
       "      <td>1599.849325</td>\n",
       "      <td>-449.954185</td>\n",
       "      <td>1399.180945</td>\n",
       "      <td>-449.937588</td>\n",
       "      <td>1400.316682</td>\n",
       "      <td>-450.527147</td>\n",
       "      <td>14.115662</td>\n",
       "      <td>4.624775</td>\n",
       "      <td>8.842896</td>\n",
       "      <td>2.458187</td>\n",
       "      <td>26.005245</td>\n",
       "      <td>-499.929616</td>\n",
       "      <td>23.886657</td>\n",
       "      <td>-499.951928</td>\n",
       "      <td>23.913535</td>\n",
       "      <td>-499.442343</td>\n",
       "      <td>23.957717</td>\n",
       "      <td>-499.901982</td>\n",
       "      <td>14.015015</td>\n",
       "      <td>-502.520901</td>\n",
       "      <td>11.912783</td>\n",
       "      <td>-501.133383</td>\n",
       "      <td>10.070913</td>\n",
       "      <td>-500.129135</td>\n",
       "      <td>8.013877</td>\n",
       "      <td>-500.517572</td>\n",
       "      <td>14.028663</td>\n",
       "      <td>-601.427363</td>\n",
       "    </tr>\n",
       "    <tr>\n",
       "      <th>3</th>\n",
       "      <td>2016-01-15 03:00:00</td>\n",
       "      <td>6.047977</td>\n",
       "      <td>9.977019</td>\n",
       "      <td>4.858634</td>\n",
       "      <td>42.689819</td>\n",
       "      <td>68.347543</td>\n",
       "      <td>10.422762</td>\n",
       "      <td>0.883763</td>\n",
       "      <td>16.532835</td>\n",
       "      <td>2.146849</td>\n",
       "      <td>122.270188</td>\n",
       "      <td>11.322140</td>\n",
       "      <td>7.25</td>\n",
       "      <td>0.996739</td>\n",
       "      <td>7.221879</td>\n",
       "      <td>8.496563</td>\n",
       "      <td>15.978538</td>\n",
       "      <td>28.260743</td>\n",
       "      <td>16.024359</td>\n",
       "      <td>2.960362</td>\n",
       "      <td>6.843791</td>\n",
       "      <td>2.262051</td>\n",
       "      <td>1599.968720</td>\n",
       "      <td>-500.951778</td>\n",
       "      <td>1600.659236</td>\n",
       "      <td>-499.677094</td>\n",
       "      <td>1600.304144</td>\n",
       "      <td>-500.727997</td>\n",
       "      <td>1600.449520</td>\n",
       "      <td>-500.052575</td>\n",
       "      <td>42029.447991</td>\n",
       "      <td>3498.578313</td>\n",
       "      <td>3499.162912</td>\n",
       "      <td>3.002340</td>\n",
       "      <td>6.043309</td>\n",
       "      <td>2.037807</td>\n",
       "      <td>542.590390</td>\n",
       "      <td>57.792734</td>\n",
       "      <td>36.862241</td>\n",
       "      <td>6.118189</td>\n",
       "      <td>11.630094</td>\n",
       "      <td>6.203177</td>\n",
       "      <td>11.692450</td>\n",
       "      <td>6.196578</td>\n",
       "      <td>11.915047</td>\n",
       "      <td>7.175616</td>\n",
       "      <td>27.341277</td>\n",
       "      <td>19.320810</td>\n",
       "      <td>87.226430</td>\n",
       "      <td>4.655288</td>\n",
       "      <td>0.542525</td>\n",
       "      <td>19.330200</td>\n",
       "      <td>1.079755</td>\n",
       "      <td>999.814770</td>\n",
       "      <td>-400.200179</td>\n",
       "      <td>1600.059442</td>\n",
       "      <td>-450.619948</td>\n",
       "      <td>1600.012842</td>\n",
       "      <td>-449.910497</td>\n",
       "      <td>1597.725177</td>\n",
       "      <td>-450.130127</td>\n",
       "      <td>1400.943157</td>\n",
       "      <td>-450.030142</td>\n",
       "      <td>1400.234743</td>\n",
       "      <td>-449.790835</td>\n",
       "      <td>13.732071</td>\n",
       "      <td>4.482453</td>\n",
       "      <td>9.122857</td>\n",
       "      <td>2.322062</td>\n",
       "      <td>25.942508</td>\n",
       "      <td>-499.176749</td>\n",
       "      <td>23.955516</td>\n",
       "      <td>-499.848796</td>\n",
       "      <td>23.966838</td>\n",
       "      <td>-500.008812</td>\n",
       "      <td>23.954443</td>\n",
       "      <td>-499.944710</td>\n",
       "      <td>14.036510</td>\n",
       "      <td>-500.857308</td>\n",
       "      <td>11.999550</td>\n",
       "      <td>-501.193686</td>\n",
       "      <td>9.970366</td>\n",
       "      <td>-499.201640</td>\n",
       "      <td>7.977324</td>\n",
       "      <td>-500.255908</td>\n",
       "      <td>14.005551</td>\n",
       "      <td>-599.996129</td>\n",
       "    </tr>\n",
       "    <tr>\n",
       "      <th>4</th>\n",
       "      <td>2016-01-15 04:00:00</td>\n",
       "      <td>6.148599</td>\n",
       "      <td>10.142511</td>\n",
       "      <td>4.939416</td>\n",
       "      <td>42.774141</td>\n",
       "      <td>66.927016</td>\n",
       "      <td>10.360302</td>\n",
       "      <td>0.792826</td>\n",
       "      <td>16.525686</td>\n",
       "      <td>2.055292</td>\n",
       "      <td>117.988169</td>\n",
       "      <td>11.913613</td>\n",
       "      <td>7.25</td>\n",
       "      <td>1.009869</td>\n",
       "      <td>9.089428</td>\n",
       "      <td>9.986786</td>\n",
       "      <td>19.199864</td>\n",
       "      <td>33.044932</td>\n",
       "      <td>16.480185</td>\n",
       "      <td>3.112100</td>\n",
       "      <td>6.550154</td>\n",
       "      <td>2.277073</td>\n",
       "      <td>1601.339707</td>\n",
       "      <td>-498.975456</td>\n",
       "      <td>1601.437854</td>\n",
       "      <td>-500.323246</td>\n",
       "      <td>1599.581894</td>\n",
       "      <td>-500.888152</td>\n",
       "      <td>1602.649541</td>\n",
       "      <td>-500.593010</td>\n",
       "      <td>42125.354245</td>\n",
       "      <td>3494.800771</td>\n",
       "      <td>3506.679315</td>\n",
       "      <td>3.169615</td>\n",
       "      <td>6.060915</td>\n",
       "      <td>1.786875</td>\n",
       "      <td>540.531893</td>\n",
       "      <td>56.047189</td>\n",
       "      <td>34.347666</td>\n",
       "      <td>5.663707</td>\n",
       "      <td>10.957755</td>\n",
       "      <td>6.198826</td>\n",
       "      <td>10.960521</td>\n",
       "      <td>6.194897</td>\n",
       "      <td>12.411054</td>\n",
       "      <td>7.240205</td>\n",
       "      <td>27.041023</td>\n",
       "      <td>19.216101</td>\n",
       "      <td>86.688794</td>\n",
       "      <td>4.552800</td>\n",
       "      <td>0.515438</td>\n",
       "      <td>19.267422</td>\n",
       "      <td>1.012642</td>\n",
       "      <td>999.678690</td>\n",
       "      <td>-399.752729</td>\n",
       "      <td>1600.208824</td>\n",
       "      <td>-449.599614</td>\n",
       "      <td>1600.357732</td>\n",
       "      <td>-450.034364</td>\n",
       "      <td>1599.759049</td>\n",
       "      <td>-449.909799</td>\n",
       "      <td>1401.560902</td>\n",
       "      <td>-448.877187</td>\n",
       "      <td>1401.160227</td>\n",
       "      <td>-450.407128</td>\n",
       "      <td>14.079996</td>\n",
       "      <td>4.470737</td>\n",
       "      <td>8.871028</td>\n",
       "      <td>2.330448</td>\n",
       "      <td>26.024787</td>\n",
       "      <td>-500.279091</td>\n",
       "      <td>23.955345</td>\n",
       "      <td>-500.593614</td>\n",
       "      <td>23.985703</td>\n",
       "      <td>-500.083811</td>\n",
       "      <td>23.958945</td>\n",
       "      <td>-499.990309</td>\n",
       "      <td>14.027298</td>\n",
       "      <td>-499.838632</td>\n",
       "      <td>11.953070</td>\n",
       "      <td>-501.053894</td>\n",
       "      <td>9.925709</td>\n",
       "      <td>-501.686727</td>\n",
       "      <td>7.894242</td>\n",
       "      <td>-500.356035</td>\n",
       "      <td>13.996647</td>\n",
       "      <td>-601.496691</td>\n",
       "    </tr>\n",
       "  </tbody>\n",
       "</table>\n",
       "</div>"
      ],
      "text/plain": [
       "                  date  final.output.concentrate_ag  \\\n",
       "0  2016-01-15 00:00:00                     6.055403   \n",
       "1  2016-01-15 01:00:00                     6.029369   \n",
       "2  2016-01-15 02:00:00                     6.055926   \n",
       "3  2016-01-15 03:00:00                     6.047977   \n",
       "4  2016-01-15 04:00:00                     6.148599   \n",
       "\n",
       "   final.output.concentrate_pb  final.output.concentrate_sol  \\\n",
       "0                     9.889648                      5.507324   \n",
       "1                     9.968944                      5.257781   \n",
       "2                    10.213995                      5.383759   \n",
       "3                     9.977019                      4.858634   \n",
       "4                    10.142511                      4.939416   \n",
       "\n",
       "   final.output.concentrate_au  final.output.recovery  final.output.tail_ag  \\\n",
       "0                    42.192020              70.541216             10.411962   \n",
       "1                    42.701629              69.266198             10.462676   \n",
       "2                    42.657501              68.116445             10.507046   \n",
       "3                    42.689819              68.347543             10.422762   \n",
       "4                    42.774141              66.927016             10.360302   \n",
       "\n",
       "   final.output.tail_pb  final.output.tail_sol  final.output.tail_au  \\\n",
       "0              0.895447              16.904297              2.143149   \n",
       "1              0.927452              16.634514              2.224930   \n",
       "2              0.953716              16.208849              2.257889   \n",
       "3              0.883763              16.532835              2.146849   \n",
       "4              0.792826              16.525686              2.055292   \n",
       "\n",
       "   primary_cleaner.input.sulfate  primary_cleaner.input.depressant  \\\n",
       "0                     127.092003                         10.128295   \n",
       "1                     125.629232                         10.296251   \n",
       "2                     123.819808                         11.316280   \n",
       "3                     122.270188                         11.322140   \n",
       "4                     117.988169                         11.913613   \n",
       "\n",
       "   primary_cleaner.input.feed_size  primary_cleaner.input.xanthate  \\\n",
       "0                             7.25                        0.988759   \n",
       "1                             7.25                        1.002663   \n",
       "2                             7.25                        0.991265   \n",
       "3                             7.25                        0.996739   \n",
       "4                             7.25                        1.009869   \n",
       "\n",
       "   primary_cleaner.output.concentrate_ag  \\\n",
       "0                               8.547551   \n",
       "1                               8.558743   \n",
       "2                               8.603505   \n",
       "3                               7.221879   \n",
       "4                               9.089428   \n",
       "\n",
       "   primary_cleaner.output.concentrate_pb  \\\n",
       "0                              10.389648   \n",
       "1                              10.497069   \n",
       "2                              10.354494   \n",
       "3                               8.496563   \n",
       "4                               9.986786   \n",
       "\n",
       "   primary_cleaner.output.concentrate_sol  \\\n",
       "0                               19.529297   \n",
       "1                               19.369147   \n",
       "2                               19.167579   \n",
       "3                               15.978538   \n",
       "4                               19.199864   \n",
       "\n",
       "   primary_cleaner.output.concentrate_au  primary_cleaner.output.tail_ag  \\\n",
       "0                              34.174427                       14.936526   \n",
       "1                              34.118526                       16.250511   \n",
       "2                              33.969464                       16.491823   \n",
       "3                              28.260743                       16.024359   \n",
       "4                              33.044932                       16.480185   \n",
       "\n",
       "   primary_cleaner.output.tail_pb  primary_cleaner.output.tail_sol  \\\n",
       "0                        2.534912                         7.476074   \n",
       "1                        3.049646                         6.733907   \n",
       "2                        3.124664                         6.471768   \n",
       "3                        2.960362                         6.843791   \n",
       "4                        3.112100                         6.550154   \n",
       "\n",
       "   primary_cleaner.output.tail_au  primary_cleaner.state.floatbank8_a_air  \\\n",
       "0                        2.106679                             1549.775757   \n",
       "1                        2.353017                             1576.166671   \n",
       "2                        2.416800                             1601.556163   \n",
       "3                        2.262051                             1599.968720   \n",
       "4                        2.277073                             1601.339707   \n",
       "\n",
       "   primary_cleaner.state.floatbank8_a_level  \\\n",
       "0                               -498.912140   \n",
       "1                               -500.904965   \n",
       "2                               -499.997791   \n",
       "3                               -500.951778   \n",
       "4                               -498.975456   \n",
       "\n",
       "   primary_cleaner.state.floatbank8_b_air  \\\n",
       "0                             1551.434204   \n",
       "1                             1575.950626   \n",
       "2                             1600.386685   \n",
       "3                             1600.659236   \n",
       "4                             1601.437854   \n",
       "\n",
       "   primary_cleaner.state.floatbank8_b_level  \\\n",
       "0                               -516.403442   \n",
       "1                               -499.865889   \n",
       "2                               -500.607762   \n",
       "3                               -499.677094   \n",
       "4                               -500.323246   \n",
       "\n",
       "   primary_cleaner.state.floatbank8_c_air  \\\n",
       "0                             1549.873901   \n",
       "1                             1575.994189   \n",
       "2                             1602.003542   \n",
       "3                             1600.304144   \n",
       "4                             1599.581894   \n",
       "\n",
       "   primary_cleaner.state.floatbank8_c_level  \\\n",
       "0                               -498.666595   \n",
       "1                               -499.315107   \n",
       "2                               -500.870069   \n",
       "3                               -500.727997   \n",
       "4                               -500.888152   \n",
       "\n",
       "   primary_cleaner.state.floatbank8_d_air  \\\n",
       "0                             1554.367432   \n",
       "1                             1574.479259   \n",
       "2                             1599.541515   \n",
       "3                             1600.449520   \n",
       "4                             1602.649541   \n",
       "\n",
       "   primary_cleaner.state.floatbank8_d_level  \\\n",
       "0                               -493.428131   \n",
       "1                               -498.931665   \n",
       "2                               -499.827444   \n",
       "3                               -500.052575   \n",
       "4                               -500.593010   \n",
       "\n",
       "   rougher.calculation.sulfate_to_au_concentrate  \\\n",
       "0                                   41885.707031   \n",
       "1                                   42050.861809   \n",
       "2                                   42018.101184   \n",
       "3                                   42029.447991   \n",
       "4                                   42125.354245   \n",
       "\n",
       "   rougher.calculation.floatbank10_sulfate_to_au_feed  \\\n",
       "0                                        3481.779053    \n",
       "1                                        3498.370979    \n",
       "2                                        3495.348910    \n",
       "3                                        3498.578313    \n",
       "4                                        3494.800771    \n",
       "\n",
       "   rougher.calculation.floatbank11_sulfate_to_au_feed  \\\n",
       "0                                        3520.337158    \n",
       "1                                        3489.981857    \n",
       "2                                        3502.359819    \n",
       "3                                        3499.162912    \n",
       "4                                        3506.679315    \n",
       "\n",
       "   rougher.calculation.au_pb_ratio  rougher.input.feed_ag  \\\n",
       "0                         2.838687               6.100378   \n",
       "1                         2.858998               6.161113   \n",
       "2                         2.945989               6.116455   \n",
       "3                         3.002340               6.043309   \n",
       "4                         3.169615               6.060915   \n",
       "\n",
       "   rougher.input.feed_pb  rougher.input.feed_rate  rougher.input.feed_size  \\\n",
       "0               2.284912               523.546326                55.486599   \n",
       "1               2.266033               525.290581                57.278666   \n",
       "2               2.159622               530.026610                57.510649   \n",
       "3               2.037807               542.590390                57.792734   \n",
       "4               1.786875               540.531893                56.047189   \n",
       "\n",
       "   rougher.input.feed_sol  rougher.input.feed_au  \\\n",
       "0               36.808594               6.486150   \n",
       "1               35.753385               6.478583   \n",
       "2               35.971630               6.362222   \n",
       "3               36.862241               6.118189   \n",
       "4               34.347666               5.663707   \n",
       "\n",
       "   rougher.input.floatbank10_sulfate  rougher.input.floatbank10_xanthate  \\\n",
       "0                          11.986616                            6.007990   \n",
       "1                          11.971193                            6.005766   \n",
       "2                          11.920603                            6.197377   \n",
       "3                          11.630094                            6.203177   \n",
       "4                          10.957755                            6.198826   \n",
       "\n",
       "   rougher.input.floatbank11_sulfate  rougher.input.floatbank11_xanthate  \\\n",
       "0                          11.836743                            6.005818   \n",
       "1                          11.996163                            6.012594   \n",
       "2                          11.920305                            6.204633   \n",
       "3                          11.692450                            6.196578   \n",
       "4                          10.960521                            6.194897   \n",
       "\n",
       "   rougher.output.concentrate_ag  rougher.output.concentrate_pb  \\\n",
       "0                      11.500771                       7.101074   \n",
       "1                      11.615865                       7.278807   \n",
       "2                      11.695753                       7.216833   \n",
       "3                      11.915047                       7.175616   \n",
       "4                      12.411054                       7.240205   \n",
       "\n",
       "   rougher.output.concentrate_sol  rougher.output.concentrate_au  \\\n",
       "0                       28.029297                      19.793808   \n",
       "1                       28.067063                      20.050975   \n",
       "2                       27.454037                      19.737170   \n",
       "3                       27.341277                      19.320810   \n",
       "4                       27.041023                      19.216101   \n",
       "\n",
       "   rougher.output.recovery  rougher.output.tail_ag  rougher.output.tail_pb  \\\n",
       "0                87.107763                5.008018                0.508728   \n",
       "1                86.843261                4.955378                0.536689   \n",
       "2                86.842308                4.843460                0.546416   \n",
       "3                87.226430                4.655288                0.542525   \n",
       "4                86.688794                4.552800                0.515438   \n",
       "\n",
       "   rougher.output.tail_sol  rougher.output.tail_au  \\\n",
       "0                19.154297                1.170244   \n",
       "1                18.965234                1.184827   \n",
       "2                18.808533                1.162562   \n",
       "3                19.330200                1.079755   \n",
       "4                19.267422                1.012642   \n",
       "\n",
       "   rougher.state.floatbank10_a_air  rougher.state.floatbank10_a_level  \\\n",
       "0                       999.706909                        -404.066986   \n",
       "1                      1000.286398                        -400.065196   \n",
       "2                       999.719565                        -400.074028   \n",
       "3                       999.814770                        -400.200179   \n",
       "4                       999.678690                        -399.752729   \n",
       "\n",
       "   rougher.state.floatbank10_b_air  rougher.state.floatbank10_b_level  \\\n",
       "0                      1603.011353                        -434.715027   \n",
       "1                      1600.754587                        -449.953435   \n",
       "2                      1599.337330                        -450.008530   \n",
       "3                      1600.059442                        -450.619948   \n",
       "4                      1600.208824                        -449.599614   \n",
       "\n",
       "   rougher.state.floatbank10_c_air  rougher.state.floatbank10_c_level  \\\n",
       "0                      1602.375000                        -442.204468   \n",
       "1                      1600.479580                        -449.830646   \n",
       "2                      1599.672797                        -449.954491   \n",
       "3                      1600.012842                        -449.910497   \n",
       "4                      1600.357732                        -450.034364   \n",
       "\n",
       "   rougher.state.floatbank10_d_air  rougher.state.floatbank10_d_level  \\\n",
       "0                      1598.937256                        -451.294128   \n",
       "1                      1600.527589                        -449.953649   \n",
       "2                      1599.849325                        -449.954185   \n",
       "3                      1597.725177                        -450.130127   \n",
       "4                      1599.759049                        -449.909799   \n",
       "\n",
       "   rougher.state.floatbank10_e_air  rougher.state.floatbank10_e_level  \\\n",
       "0                      1404.472046                        -455.462982   \n",
       "1                      1399.227084                        -450.869848   \n",
       "2                      1399.180945                        -449.937588   \n",
       "3                      1400.943157                        -450.030142   \n",
       "4                      1401.560902                        -448.877187   \n",
       "\n",
       "   rougher.state.floatbank10_f_air  rougher.state.floatbank10_f_level  \\\n",
       "0                      1416.354980                        -451.939636   \n",
       "1                      1399.719514                        -450.119001   \n",
       "2                      1400.316682                        -450.527147   \n",
       "3                      1400.234743                        -449.790835   \n",
       "4                      1401.160227                        -450.407128   \n",
       "\n",
       "   secondary_cleaner.output.tail_ag  secondary_cleaner.output.tail_pb  \\\n",
       "0                         14.500184                          4.694824   \n",
       "1                         14.265474                          4.592547   \n",
       "2                         14.115662                          4.624775   \n",
       "3                         13.732071                          4.482453   \n",
       "4                         14.079996                          4.470737   \n",
       "\n",
       "   secondary_cleaner.output.tail_sol  secondary_cleaner.output.tail_au  \\\n",
       "0                           8.764648                          2.606185   \n",
       "1                           9.001494                          2.488248   \n",
       "2                           8.842896                          2.458187   \n",
       "3                           9.122857                          2.322062   \n",
       "4                           8.871028                          2.330448   \n",
       "\n",
       "   secondary_cleaner.state.floatbank2_a_air  \\\n",
       "0                                 25.853109   \n",
       "1                                 25.880539   \n",
       "2                                 26.005245   \n",
       "3                                 25.942508   \n",
       "4                                 26.024787   \n",
       "\n",
       "   secondary_cleaner.state.floatbank2_a_level  \\\n",
       "0                                 -498.526489   \n",
       "1                                 -499.989656   \n",
       "2                                 -499.929616   \n",
       "3                                 -499.176749   \n",
       "4                                 -500.279091   \n",
       "\n",
       "   secondary_cleaner.state.floatbank2_b_air  \\\n",
       "0                                 23.893660   \n",
       "1                                 23.889530   \n",
       "2                                 23.886657   \n",
       "3                                 23.955516   \n",
       "4                                 23.955345   \n",
       "\n",
       "   secondary_cleaner.state.floatbank2_b_level  \\\n",
       "0                                 -501.406281   \n",
       "1                                 -500.372428   \n",
       "2                                 -499.951928   \n",
       "3                                 -499.848796   \n",
       "4                                 -500.593614   \n",
       "\n",
       "   secondary_cleaner.state.floatbank3_a_air  \\\n",
       "0                                 23.961798   \n",
       "1                                 23.970550   \n",
       "2                                 23.913535   \n",
       "3                                 23.966838   \n",
       "4                                 23.985703   \n",
       "\n",
       "   secondary_cleaner.state.floatbank3_a_level  \\\n",
       "0                                 -495.262817   \n",
       "1                                 -500.085473   \n",
       "2                                 -499.442343   \n",
       "3                                 -500.008812   \n",
       "4                                 -500.083811   \n",
       "\n",
       "   secondary_cleaner.state.floatbank3_b_air  \\\n",
       "0                                 21.940409   \n",
       "1                                 22.085714   \n",
       "2                                 23.957717   \n",
       "3                                 23.954443   \n",
       "4                                 23.958945   \n",
       "\n",
       "   secondary_cleaner.state.floatbank3_b_level  \\\n",
       "0                                 -499.340973   \n",
       "1                                 -499.446897   \n",
       "2                                 -499.901982   \n",
       "3                                 -499.944710   \n",
       "4                                 -499.990309   \n",
       "\n",
       "   secondary_cleaner.state.floatbank4_a_air  \\\n",
       "0                                 14.016835   \n",
       "1                                 13.992281   \n",
       "2                                 14.015015   \n",
       "3                                 14.036510   \n",
       "4                                 14.027298   \n",
       "\n",
       "   secondary_cleaner.state.floatbank4_a_level  \\\n",
       "0                                 -502.488007   \n",
       "1                                 -505.503262   \n",
       "2                                 -502.520901   \n",
       "3                                 -500.857308   \n",
       "4                                 -499.838632   \n",
       "\n",
       "   secondary_cleaner.state.floatbank4_b_air  \\\n",
       "0                                 12.099931   \n",
       "1                                 11.950531   \n",
       "2                                 11.912783   \n",
       "3                                 11.999550   \n",
       "4                                 11.953070   \n",
       "\n",
       "   secondary_cleaner.state.floatbank4_b_level  \\\n",
       "0                                 -504.715942   \n",
       "1                                 -501.331529   \n",
       "2                                 -501.133383   \n",
       "3                                 -501.193686   \n",
       "4                                 -501.053894   \n",
       "\n",
       "   secondary_cleaner.state.floatbank5_a_air  \\\n",
       "0                                  9.925633   \n",
       "1                                 10.039245   \n",
       "2                                 10.070913   \n",
       "3                                  9.970366   \n",
       "4                                  9.925709   \n",
       "\n",
       "   secondary_cleaner.state.floatbank5_a_level  \\\n",
       "0                                 -498.310211   \n",
       "1                                 -500.169983   \n",
       "2                                 -500.129135   \n",
       "3                                 -499.201640   \n",
       "4                                 -501.686727   \n",
       "\n",
       "   secondary_cleaner.state.floatbank5_b_air  \\\n",
       "0                                  8.079666   \n",
       "1                                  7.984757   \n",
       "2                                  8.013877   \n",
       "3                                  7.977324   \n",
       "4                                  7.894242   \n",
       "\n",
       "   secondary_cleaner.state.floatbank5_b_level  \\\n",
       "0                                 -500.470978   \n",
       "1                                 -500.582168   \n",
       "2                                 -500.517572   \n",
       "3                                 -500.255908   \n",
       "4                                 -500.356035   \n",
       "\n",
       "   secondary_cleaner.state.floatbank6_a_air  \\\n",
       "0                                 14.151341   \n",
       "1                                 13.998353   \n",
       "2                                 14.028663   \n",
       "3                                 14.005551   \n",
       "4                                 13.996647   \n",
       "\n",
       "   secondary_cleaner.state.floatbank6_a_level  \n",
       "0                                 -605.841980  \n",
       "1                                 -599.787184  \n",
       "2                                 -601.427363  \n",
       "3                                 -599.996129  \n",
       "4                                 -601.496691  "
      ]
     },
     "metadata": {},
     "output_type": "display_data"
    },
    {
     "name": "stdout",
     "output_type": "stream",
     "text": [
      "<class 'pandas.core.frame.DataFrame'>\n",
      "RangeIndex: 14149 entries, 0 to 14148\n",
      "Data columns (total 87 columns):\n",
      " #   Column                                              Non-Null Count  Dtype  \n",
      "---  ------                                              --------------  -----  \n",
      " 0   date                                                14149 non-null  object \n",
      " 1   final.output.concentrate_ag                         14148 non-null  float64\n",
      " 2   final.output.concentrate_pb                         14148 non-null  float64\n",
      " 3   final.output.concentrate_sol                        13938 non-null  float64\n",
      " 4   final.output.concentrate_au                         14149 non-null  float64\n",
      " 5   final.output.recovery                               14149 non-null  float64\n",
      " 6   final.output.tail_ag                                14149 non-null  float64\n",
      " 7   final.output.tail_pb                                14049 non-null  float64\n",
      " 8   final.output.tail_sol                               14144 non-null  float64\n",
      " 9   final.output.tail_au                                14149 non-null  float64\n",
      " 10  primary_cleaner.input.sulfate                       14129 non-null  float64\n",
      " 11  primary_cleaner.input.depressant                    14117 non-null  float64\n",
      " 12  primary_cleaner.input.feed_size                     14149 non-null  float64\n",
      " 13  primary_cleaner.input.xanthate                      14049 non-null  float64\n",
      " 14  primary_cleaner.output.concentrate_ag               14149 non-null  float64\n",
      " 15  primary_cleaner.output.concentrate_pb               14063 non-null  float64\n",
      " 16  primary_cleaner.output.concentrate_sol              13863 non-null  float64\n",
      " 17  primary_cleaner.output.concentrate_au               14149 non-null  float64\n",
      " 18  primary_cleaner.output.tail_ag                      14148 non-null  float64\n",
      " 19  primary_cleaner.output.tail_pb                      14134 non-null  float64\n",
      " 20  primary_cleaner.output.tail_sol                     14103 non-null  float64\n",
      " 21  primary_cleaner.output.tail_au                      14149 non-null  float64\n",
      " 22  primary_cleaner.state.floatbank8_a_air              14145 non-null  float64\n",
      " 23  primary_cleaner.state.floatbank8_a_level            14148 non-null  float64\n",
      " 24  primary_cleaner.state.floatbank8_b_air              14145 non-null  float64\n",
      " 25  primary_cleaner.state.floatbank8_b_level            14148 non-null  float64\n",
      " 26  primary_cleaner.state.floatbank8_c_air              14147 non-null  float64\n",
      " 27  primary_cleaner.state.floatbank8_c_level            14148 non-null  float64\n",
      " 28  primary_cleaner.state.floatbank8_d_air              14146 non-null  float64\n",
      " 29  primary_cleaner.state.floatbank8_d_level            14148 non-null  float64\n",
      " 30  rougher.calculation.sulfate_to_au_concentrate       14148 non-null  float64\n",
      " 31  rougher.calculation.floatbank10_sulfate_to_au_feed  14148 non-null  float64\n",
      " 32  rougher.calculation.floatbank11_sulfate_to_au_feed  14148 non-null  float64\n",
      " 33  rougher.calculation.au_pb_ratio                     14149 non-null  float64\n",
      " 34  rougher.input.feed_ag                               14149 non-null  float64\n",
      " 35  rougher.input.feed_pb                               14049 non-null  float64\n",
      " 36  rougher.input.feed_rate                             14141 non-null  float64\n",
      " 37  rougher.input.feed_size                             14005 non-null  float64\n",
      " 38  rougher.input.feed_sol                              14071 non-null  float64\n",
      " 39  rougher.input.feed_au                               14149 non-null  float64\n",
      " 40  rougher.input.floatbank10_sulfate                   14120 non-null  float64\n",
      " 41  rougher.input.floatbank10_xanthate                  14141 non-null  float64\n",
      " 42  rougher.input.floatbank11_sulfate                   14113 non-null  float64\n",
      " 43  rougher.input.floatbank11_xanthate                  13721 non-null  float64\n",
      " 44  rougher.output.concentrate_ag                       14149 non-null  float64\n",
      " 45  rougher.output.concentrate_pb                       14149 non-null  float64\n",
      " 46  rougher.output.concentrate_sol                      14127 non-null  float64\n",
      " 47  rougher.output.concentrate_au                       14149 non-null  float64\n",
      " 48  rougher.output.recovery                             14149 non-null  float64\n",
      " 49  rougher.output.tail_ag                              14148 non-null  float64\n",
      " 50  rougher.output.tail_pb                              14149 non-null  float64\n",
      " 51  rougher.output.tail_sol                             14149 non-null  float64\n",
      " 52  rougher.output.tail_au                              14149 non-null  float64\n",
      " 53  rougher.state.floatbank10_a_air                     14148 non-null  float64\n",
      " 54  rougher.state.floatbank10_a_level                   14148 non-null  float64\n",
      " 55  rougher.state.floatbank10_b_air                     14148 non-null  float64\n",
      " 56  rougher.state.floatbank10_b_level                   14148 non-null  float64\n",
      " 57  rougher.state.floatbank10_c_air                     14148 non-null  float64\n",
      " 58  rougher.state.floatbank10_c_level                   14148 non-null  float64\n",
      " 59  rougher.state.floatbank10_d_air                     14149 non-null  float64\n",
      " 60  rougher.state.floatbank10_d_level                   14149 non-null  float64\n",
      " 61  rougher.state.floatbank10_e_air                     13713 non-null  float64\n",
      " 62  rougher.state.floatbank10_e_level                   14149 non-null  float64\n",
      " 63  rougher.state.floatbank10_f_air                     14149 non-null  float64\n",
      " 64  rougher.state.floatbank10_f_level                   14149 non-null  float64\n",
      " 65  secondary_cleaner.output.tail_ag                    14147 non-null  float64\n",
      " 66  secondary_cleaner.output.tail_pb                    14139 non-null  float64\n",
      " 67  secondary_cleaner.output.tail_sol                   12544 non-null  float64\n",
      " 68  secondary_cleaner.output.tail_au                    14149 non-null  float64\n",
      " 69  secondary_cleaner.state.floatbank2_a_air            13932 non-null  float64\n",
      " 70  secondary_cleaner.state.floatbank2_a_level          14148 non-null  float64\n",
      " 71  secondary_cleaner.state.floatbank2_b_air            14128 non-null  float64\n",
      " 72  secondary_cleaner.state.floatbank2_b_level          14148 non-null  float64\n",
      " 73  secondary_cleaner.state.floatbank3_a_air            14145 non-null  float64\n",
      " 74  secondary_cleaner.state.floatbank3_a_level          14148 non-null  float64\n",
      " 75  secondary_cleaner.state.floatbank3_b_air            14148 non-null  float64\n",
      " 76  secondary_cleaner.state.floatbank3_b_level          14148 non-null  float64\n",
      " 77  secondary_cleaner.state.floatbank4_a_air            14143 non-null  float64\n",
      " 78  secondary_cleaner.state.floatbank4_a_level          14148 non-null  float64\n",
      " 79  secondary_cleaner.state.floatbank4_b_air            14148 non-null  float64\n",
      " 80  secondary_cleaner.state.floatbank4_b_level          14148 non-null  float64\n",
      " 81  secondary_cleaner.state.floatbank5_a_air            14148 non-null  float64\n",
      " 82  secondary_cleaner.state.floatbank5_a_level          14148 non-null  float64\n",
      " 83  secondary_cleaner.state.floatbank5_b_air            14148 non-null  float64\n",
      " 84  secondary_cleaner.state.floatbank5_b_level          14148 non-null  float64\n",
      " 85  secondary_cleaner.state.floatbank6_a_air            14147 non-null  float64\n",
      " 86  secondary_cleaner.state.floatbank6_a_level          14148 non-null  float64\n",
      "dtypes: float64(86), object(1)\n",
      "memory usage: 9.4+ MB\n"
     ]
    },
    {
     "data": {
      "text/plain": [
       "None"
      ]
     },
     "metadata": {},
     "output_type": "display_data"
    },
    {
     "data": {
      "text/html": [
       "<div>\n",
       "<style scoped>\n",
       "    .dataframe tbody tr th:only-of-type {\n",
       "        vertical-align: middle;\n",
       "    }\n",
       "\n",
       "    .dataframe tbody tr th {\n",
       "        vertical-align: top;\n",
       "    }\n",
       "\n",
       "    .dataframe thead th {\n",
       "        text-align: right;\n",
       "    }\n",
       "</style>\n",
       "<table border=\"1\" class=\"dataframe\">\n",
       "  <thead>\n",
       "    <tr style=\"text-align: right;\">\n",
       "      <th></th>\n",
       "      <th>date</th>\n",
       "      <th>primary_cleaner.input.sulfate</th>\n",
       "      <th>primary_cleaner.input.depressant</th>\n",
       "      <th>primary_cleaner.input.feed_size</th>\n",
       "      <th>primary_cleaner.input.xanthate</th>\n",
       "      <th>primary_cleaner.state.floatbank8_a_air</th>\n",
       "      <th>primary_cleaner.state.floatbank8_a_level</th>\n",
       "      <th>primary_cleaner.state.floatbank8_b_air</th>\n",
       "      <th>primary_cleaner.state.floatbank8_b_level</th>\n",
       "      <th>primary_cleaner.state.floatbank8_c_air</th>\n",
       "      <th>primary_cleaner.state.floatbank8_c_level</th>\n",
       "      <th>primary_cleaner.state.floatbank8_d_air</th>\n",
       "      <th>primary_cleaner.state.floatbank8_d_level</th>\n",
       "      <th>rougher.input.feed_ag</th>\n",
       "      <th>rougher.input.feed_pb</th>\n",
       "      <th>rougher.input.feed_rate</th>\n",
       "      <th>rougher.input.feed_size</th>\n",
       "      <th>rougher.input.feed_sol</th>\n",
       "      <th>rougher.input.feed_au</th>\n",
       "      <th>rougher.input.floatbank10_sulfate</th>\n",
       "      <th>rougher.input.floatbank10_xanthate</th>\n",
       "      <th>rougher.input.floatbank11_sulfate</th>\n",
       "      <th>rougher.input.floatbank11_xanthate</th>\n",
       "      <th>rougher.state.floatbank10_a_air</th>\n",
       "      <th>rougher.state.floatbank10_a_level</th>\n",
       "      <th>rougher.state.floatbank10_b_air</th>\n",
       "      <th>rougher.state.floatbank10_b_level</th>\n",
       "      <th>rougher.state.floatbank10_c_air</th>\n",
       "      <th>rougher.state.floatbank10_c_level</th>\n",
       "      <th>rougher.state.floatbank10_d_air</th>\n",
       "      <th>rougher.state.floatbank10_d_level</th>\n",
       "      <th>rougher.state.floatbank10_e_air</th>\n",
       "      <th>rougher.state.floatbank10_e_level</th>\n",
       "      <th>rougher.state.floatbank10_f_air</th>\n",
       "      <th>rougher.state.floatbank10_f_level</th>\n",
       "      <th>secondary_cleaner.state.floatbank2_a_air</th>\n",
       "      <th>secondary_cleaner.state.floatbank2_a_level</th>\n",
       "      <th>secondary_cleaner.state.floatbank2_b_air</th>\n",
       "      <th>secondary_cleaner.state.floatbank2_b_level</th>\n",
       "      <th>secondary_cleaner.state.floatbank3_a_air</th>\n",
       "      <th>secondary_cleaner.state.floatbank3_a_level</th>\n",
       "      <th>secondary_cleaner.state.floatbank3_b_air</th>\n",
       "      <th>secondary_cleaner.state.floatbank3_b_level</th>\n",
       "      <th>secondary_cleaner.state.floatbank4_a_air</th>\n",
       "      <th>secondary_cleaner.state.floatbank4_a_level</th>\n",
       "      <th>secondary_cleaner.state.floatbank4_b_air</th>\n",
       "      <th>secondary_cleaner.state.floatbank4_b_level</th>\n",
       "      <th>secondary_cleaner.state.floatbank5_a_air</th>\n",
       "      <th>secondary_cleaner.state.floatbank5_a_level</th>\n",
       "      <th>secondary_cleaner.state.floatbank5_b_air</th>\n",
       "      <th>secondary_cleaner.state.floatbank5_b_level</th>\n",
       "      <th>secondary_cleaner.state.floatbank6_a_air</th>\n",
       "      <th>secondary_cleaner.state.floatbank6_a_level</th>\n",
       "    </tr>\n",
       "  </thead>\n",
       "  <tbody>\n",
       "    <tr>\n",
       "      <th>0</th>\n",
       "      <td>2016-09-01 00:59:59</td>\n",
       "      <td>210.800909</td>\n",
       "      <td>14.993118</td>\n",
       "      <td>8.080000</td>\n",
       "      <td>1.005021</td>\n",
       "      <td>1398.981301</td>\n",
       "      <td>-500.225577</td>\n",
       "      <td>1399.144926</td>\n",
       "      <td>-499.919735</td>\n",
       "      <td>1400.102998</td>\n",
       "      <td>-500.704369</td>\n",
       "      <td>1399.001695</td>\n",
       "      <td>-499.485144</td>\n",
       "      <td>13.128569</td>\n",
       "      <td>5.636710</td>\n",
       "      <td>489.793655</td>\n",
       "      <td>62.710452</td>\n",
       "      <td>42.022440</td>\n",
       "      <td>12.084103</td>\n",
       "      <td>16.922877</td>\n",
       "      <td>6.153479</td>\n",
       "      <td>16.867518</td>\n",
       "      <td>6.150709</td>\n",
       "      <td>1001.849317</td>\n",
       "      <td>-350.301265</td>\n",
       "      <td>1249.738612</td>\n",
       "      <td>-399.107531</td>\n",
       "      <td>1249.750520</td>\n",
       "      <td>-399.396730</td>\n",
       "      <td>1198.287855</td>\n",
       "      <td>-399.488594</td>\n",
       "      <td>999.472250</td>\n",
       "      <td>-399.530962</td>\n",
       "      <td>949.566189</td>\n",
       "      <td>-398.180807</td>\n",
       "      <td>24.938200</td>\n",
       "      <td>-500.490963</td>\n",
       "      <td>14.947607</td>\n",
       "      <td>-500.013837</td>\n",
       "      <td>20.018166</td>\n",
       "      <td>-450.395995</td>\n",
       "      <td>13.987058</td>\n",
       "      <td>-449.831513</td>\n",
       "      <td>12.023554</td>\n",
       "      <td>-497.795834</td>\n",
       "      <td>8.016656</td>\n",
       "      <td>-501.289139</td>\n",
       "      <td>7.946562</td>\n",
       "      <td>-432.317850</td>\n",
       "      <td>4.872511</td>\n",
       "      <td>-500.037437</td>\n",
       "      <td>26.705889</td>\n",
       "      <td>-499.709414</td>\n",
       "    </tr>\n",
       "    <tr>\n",
       "      <th>1</th>\n",
       "      <td>2016-09-01 01:59:59</td>\n",
       "      <td>215.392455</td>\n",
       "      <td>14.987471</td>\n",
       "      <td>8.080000</td>\n",
       "      <td>0.990469</td>\n",
       "      <td>1398.777912</td>\n",
       "      <td>-500.057435</td>\n",
       "      <td>1398.055362</td>\n",
       "      <td>-499.778182</td>\n",
       "      <td>1396.151033</td>\n",
       "      <td>-499.240168</td>\n",
       "      <td>1399.508091</td>\n",
       "      <td>-500.416324</td>\n",
       "      <td>13.036280</td>\n",
       "      <td>5.526065</td>\n",
       "      <td>490.104534</td>\n",
       "      <td>61.961163</td>\n",
       "      <td>41.187903</td>\n",
       "      <td>11.918977</td>\n",
       "      <td>17.002532</td>\n",
       "      <td>5.999043</td>\n",
       "      <td>16.996063</td>\n",
       "      <td>6.002315</td>\n",
       "      <td>998.690785</td>\n",
       "      <td>-350.425704</td>\n",
       "      <td>1248.395457</td>\n",
       "      <td>-399.946025</td>\n",
       "      <td>1249.514451</td>\n",
       "      <td>-399.630810</td>\n",
       "      <td>1200.506459</td>\n",
       "      <td>-399.942434</td>\n",
       "      <td>1000.002114</td>\n",
       "      <td>-399.491528</td>\n",
       "      <td>950.200009</td>\n",
       "      <td>-405.787514</td>\n",
       "      <td>24.923466</td>\n",
       "      <td>-499.813963</td>\n",
       "      <td>14.930873</td>\n",
       "      <td>-500.764452</td>\n",
       "      <td>19.988503</td>\n",
       "      <td>-450.114024</td>\n",
       "      <td>14.092981</td>\n",
       "      <td>-450.059163</td>\n",
       "      <td>12.058140</td>\n",
       "      <td>-498.695773</td>\n",
       "      <td>8.130979</td>\n",
       "      <td>-499.634209</td>\n",
       "      <td>7.958270</td>\n",
       "      <td>-525.839648</td>\n",
       "      <td>4.878850</td>\n",
       "      <td>-500.162375</td>\n",
       "      <td>25.019940</td>\n",
       "      <td>-499.819438</td>\n",
       "    </tr>\n",
       "    <tr>\n",
       "      <th>2</th>\n",
       "      <td>2016-09-01 02:59:59</td>\n",
       "      <td>215.259946</td>\n",
       "      <td>12.884934</td>\n",
       "      <td>7.786667</td>\n",
       "      <td>0.996043</td>\n",
       "      <td>1398.493666</td>\n",
       "      <td>-500.868360</td>\n",
       "      <td>1398.860436</td>\n",
       "      <td>-499.764529</td>\n",
       "      <td>1398.075709</td>\n",
       "      <td>-502.151509</td>\n",
       "      <td>1399.497088</td>\n",
       "      <td>-499.715479</td>\n",
       "      <td>13.138412</td>\n",
       "      <td>5.426561</td>\n",
       "      <td>489.617969</td>\n",
       "      <td>66.903807</td>\n",
       "      <td>42.546294</td>\n",
       "      <td>12.091332</td>\n",
       "      <td>16.992520</td>\n",
       "      <td>5.850632</td>\n",
       "      <td>16.982096</td>\n",
       "      <td>5.853594</td>\n",
       "      <td>998.516720</td>\n",
       "      <td>-349.783538</td>\n",
       "      <td>1247.440748</td>\n",
       "      <td>-400.264330</td>\n",
       "      <td>1248.207204</td>\n",
       "      <td>-401.074405</td>\n",
       "      <td>1199.770026</td>\n",
       "      <td>-400.790582</td>\n",
       "      <td>999.925519</td>\n",
       "      <td>-399.236999</td>\n",
       "      <td>950.320481</td>\n",
       "      <td>-400.864340</td>\n",
       "      <td>24.908732</td>\n",
       "      <td>-500.304035</td>\n",
       "      <td>14.996511</td>\n",
       "      <td>-500.993821</td>\n",
       "      <td>20.039689</td>\n",
       "      <td>-450.263164</td>\n",
       "      <td>14.077881</td>\n",
       "      <td>-449.660997</td>\n",
       "      <td>11.962366</td>\n",
       "      <td>-498.767484</td>\n",
       "      <td>8.096893</td>\n",
       "      <td>-500.827423</td>\n",
       "      <td>8.071056</td>\n",
       "      <td>-500.801673</td>\n",
       "      <td>4.905125</td>\n",
       "      <td>-499.828510</td>\n",
       "      <td>24.994862</td>\n",
       "      <td>-500.622559</td>\n",
       "    </tr>\n",
       "    <tr>\n",
       "      <th>3</th>\n",
       "      <td>2016-09-01 03:59:59</td>\n",
       "      <td>215.336236</td>\n",
       "      <td>12.006805</td>\n",
       "      <td>7.640000</td>\n",
       "      <td>0.863514</td>\n",
       "      <td>1399.618111</td>\n",
       "      <td>-498.863574</td>\n",
       "      <td>1397.440120</td>\n",
       "      <td>-499.211024</td>\n",
       "      <td>1400.129303</td>\n",
       "      <td>-498.355873</td>\n",
       "      <td>1401.065165</td>\n",
       "      <td>-501.038738</td>\n",
       "      <td>12.400507</td>\n",
       "      <td>5.114758</td>\n",
       "      <td>476.618130</td>\n",
       "      <td>59.865919</td>\n",
       "      <td>41.060195</td>\n",
       "      <td>12.181597</td>\n",
       "      <td>16.532144</td>\n",
       "      <td>5.801935</td>\n",
       "      <td>16.515277</td>\n",
       "      <td>5.803657</td>\n",
       "      <td>1000.276604</td>\n",
       "      <td>-350.172597</td>\n",
       "      <td>1251.322675</td>\n",
       "      <td>-398.655289</td>\n",
       "      <td>1250.493702</td>\n",
       "      <td>-399.746728</td>\n",
       "      <td>1199.398691</td>\n",
       "      <td>-397.503052</td>\n",
       "      <td>1001.930679</td>\n",
       "      <td>-400.437573</td>\n",
       "      <td>950.735324</td>\n",
       "      <td>-399.802986</td>\n",
       "      <td>24.893998</td>\n",
       "      <td>-499.382374</td>\n",
       "      <td>14.916674</td>\n",
       "      <td>-499.862299</td>\n",
       "      <td>20.031100</td>\n",
       "      <td>-449.372570</td>\n",
       "      <td>14.013968</td>\n",
       "      <td>-449.526900</td>\n",
       "      <td>12.033091</td>\n",
       "      <td>-498.350935</td>\n",
       "      <td>8.074946</td>\n",
       "      <td>-499.474407</td>\n",
       "      <td>7.897085</td>\n",
       "      <td>-500.868509</td>\n",
       "      <td>4.931400</td>\n",
       "      <td>-499.963623</td>\n",
       "      <td>24.948919</td>\n",
       "      <td>-498.709987</td>\n",
       "    </tr>\n",
       "    <tr>\n",
       "      <th>4</th>\n",
       "      <td>2016-09-01 04:59:59</td>\n",
       "      <td>199.099327</td>\n",
       "      <td>10.682530</td>\n",
       "      <td>7.530000</td>\n",
       "      <td>0.805575</td>\n",
       "      <td>1401.268123</td>\n",
       "      <td>-500.808305</td>\n",
       "      <td>1398.128818</td>\n",
       "      <td>-499.504543</td>\n",
       "      <td>1402.172226</td>\n",
       "      <td>-500.810606</td>\n",
       "      <td>1399.480508</td>\n",
       "      <td>-499.374053</td>\n",
       "      <td>11.327427</td>\n",
       "      <td>4.767383</td>\n",
       "      <td>488.248117</td>\n",
       "      <td>63.315324</td>\n",
       "      <td>41.269161</td>\n",
       "      <td>11.290425</td>\n",
       "      <td>13.607257</td>\n",
       "      <td>5.738081</td>\n",
       "      <td>13.650053</td>\n",
       "      <td>5.739634</td>\n",
       "      <td>996.541302</td>\n",
       "      <td>-350.562517</td>\n",
       "      <td>1304.658848</td>\n",
       "      <td>-399.511519</td>\n",
       "      <td>1306.455515</td>\n",
       "      <td>-399.050685</td>\n",
       "      <td>1248.699349</td>\n",
       "      <td>-400.876894</td>\n",
       "      <td>1058.839106</td>\n",
       "      <td>-398.988239</td>\n",
       "      <td>949.645313</td>\n",
       "      <td>-399.277632</td>\n",
       "      <td>24.886905</td>\n",
       "      <td>-499.357375</td>\n",
       "      <td>14.979233</td>\n",
       "      <td>-500.186804</td>\n",
       "      <td>19.962364</td>\n",
       "      <td>-450.638828</td>\n",
       "      <td>14.009245</td>\n",
       "      <td>-450.022259</td>\n",
       "      <td>12.025367</td>\n",
       "      <td>-500.786497</td>\n",
       "      <td>8.054678</td>\n",
       "      <td>-500.397500</td>\n",
       "      <td>8.107890</td>\n",
       "      <td>-509.526725</td>\n",
       "      <td>4.957674</td>\n",
       "      <td>-500.360026</td>\n",
       "      <td>25.003331</td>\n",
       "      <td>-500.856333</td>\n",
       "    </tr>\n",
       "  </tbody>\n",
       "</table>\n",
       "</div>"
      ],
      "text/plain": [
       "                  date  primary_cleaner.input.sulfate  \\\n",
       "0  2016-09-01 00:59:59                     210.800909   \n",
       "1  2016-09-01 01:59:59                     215.392455   \n",
       "2  2016-09-01 02:59:59                     215.259946   \n",
       "3  2016-09-01 03:59:59                     215.336236   \n",
       "4  2016-09-01 04:59:59                     199.099327   \n",
       "\n",
       "   primary_cleaner.input.depressant  primary_cleaner.input.feed_size  \\\n",
       "0                         14.993118                         8.080000   \n",
       "1                         14.987471                         8.080000   \n",
       "2                         12.884934                         7.786667   \n",
       "3                         12.006805                         7.640000   \n",
       "4                         10.682530                         7.530000   \n",
       "\n",
       "   primary_cleaner.input.xanthate  primary_cleaner.state.floatbank8_a_air  \\\n",
       "0                        1.005021                             1398.981301   \n",
       "1                        0.990469                             1398.777912   \n",
       "2                        0.996043                             1398.493666   \n",
       "3                        0.863514                             1399.618111   \n",
       "4                        0.805575                             1401.268123   \n",
       "\n",
       "   primary_cleaner.state.floatbank8_a_level  \\\n",
       "0                               -500.225577   \n",
       "1                               -500.057435   \n",
       "2                               -500.868360   \n",
       "3                               -498.863574   \n",
       "4                               -500.808305   \n",
       "\n",
       "   primary_cleaner.state.floatbank8_b_air  \\\n",
       "0                             1399.144926   \n",
       "1                             1398.055362   \n",
       "2                             1398.860436   \n",
       "3                             1397.440120   \n",
       "4                             1398.128818   \n",
       "\n",
       "   primary_cleaner.state.floatbank8_b_level  \\\n",
       "0                               -499.919735   \n",
       "1                               -499.778182   \n",
       "2                               -499.764529   \n",
       "3                               -499.211024   \n",
       "4                               -499.504543   \n",
       "\n",
       "   primary_cleaner.state.floatbank8_c_air  \\\n",
       "0                             1400.102998   \n",
       "1                             1396.151033   \n",
       "2                             1398.075709   \n",
       "3                             1400.129303   \n",
       "4                             1402.172226   \n",
       "\n",
       "   primary_cleaner.state.floatbank8_c_level  \\\n",
       "0                               -500.704369   \n",
       "1                               -499.240168   \n",
       "2                               -502.151509   \n",
       "3                               -498.355873   \n",
       "4                               -500.810606   \n",
       "\n",
       "   primary_cleaner.state.floatbank8_d_air  \\\n",
       "0                             1399.001695   \n",
       "1                             1399.508091   \n",
       "2                             1399.497088   \n",
       "3                             1401.065165   \n",
       "4                             1399.480508   \n",
       "\n",
       "   primary_cleaner.state.floatbank8_d_level  rougher.input.feed_ag  \\\n",
       "0                               -499.485144              13.128569   \n",
       "1                               -500.416324              13.036280   \n",
       "2                               -499.715479              13.138412   \n",
       "3                               -501.038738              12.400507   \n",
       "4                               -499.374053              11.327427   \n",
       "\n",
       "   rougher.input.feed_pb  rougher.input.feed_rate  rougher.input.feed_size  \\\n",
       "0               5.636710               489.793655                62.710452   \n",
       "1               5.526065               490.104534                61.961163   \n",
       "2               5.426561               489.617969                66.903807   \n",
       "3               5.114758               476.618130                59.865919   \n",
       "4               4.767383               488.248117                63.315324   \n",
       "\n",
       "   rougher.input.feed_sol  rougher.input.feed_au  \\\n",
       "0               42.022440              12.084103   \n",
       "1               41.187903              11.918977   \n",
       "2               42.546294              12.091332   \n",
       "3               41.060195              12.181597   \n",
       "4               41.269161              11.290425   \n",
       "\n",
       "   rougher.input.floatbank10_sulfate  rougher.input.floatbank10_xanthate  \\\n",
       "0                          16.922877                            6.153479   \n",
       "1                          17.002532                            5.999043   \n",
       "2                          16.992520                            5.850632   \n",
       "3                          16.532144                            5.801935   \n",
       "4                          13.607257                            5.738081   \n",
       "\n",
       "   rougher.input.floatbank11_sulfate  rougher.input.floatbank11_xanthate  \\\n",
       "0                          16.867518                            6.150709   \n",
       "1                          16.996063                            6.002315   \n",
       "2                          16.982096                            5.853594   \n",
       "3                          16.515277                            5.803657   \n",
       "4                          13.650053                            5.739634   \n",
       "\n",
       "   rougher.state.floatbank10_a_air  rougher.state.floatbank10_a_level  \\\n",
       "0                      1001.849317                        -350.301265   \n",
       "1                       998.690785                        -350.425704   \n",
       "2                       998.516720                        -349.783538   \n",
       "3                      1000.276604                        -350.172597   \n",
       "4                       996.541302                        -350.562517   \n",
       "\n",
       "   rougher.state.floatbank10_b_air  rougher.state.floatbank10_b_level  \\\n",
       "0                      1249.738612                        -399.107531   \n",
       "1                      1248.395457                        -399.946025   \n",
       "2                      1247.440748                        -400.264330   \n",
       "3                      1251.322675                        -398.655289   \n",
       "4                      1304.658848                        -399.511519   \n",
       "\n",
       "   rougher.state.floatbank10_c_air  rougher.state.floatbank10_c_level  \\\n",
       "0                      1249.750520                        -399.396730   \n",
       "1                      1249.514451                        -399.630810   \n",
       "2                      1248.207204                        -401.074405   \n",
       "3                      1250.493702                        -399.746728   \n",
       "4                      1306.455515                        -399.050685   \n",
       "\n",
       "   rougher.state.floatbank10_d_air  rougher.state.floatbank10_d_level  \\\n",
       "0                      1198.287855                        -399.488594   \n",
       "1                      1200.506459                        -399.942434   \n",
       "2                      1199.770026                        -400.790582   \n",
       "3                      1199.398691                        -397.503052   \n",
       "4                      1248.699349                        -400.876894   \n",
       "\n",
       "   rougher.state.floatbank10_e_air  rougher.state.floatbank10_e_level  \\\n",
       "0                       999.472250                        -399.530962   \n",
       "1                      1000.002114                        -399.491528   \n",
       "2                       999.925519                        -399.236999   \n",
       "3                      1001.930679                        -400.437573   \n",
       "4                      1058.839106                        -398.988239   \n",
       "\n",
       "   rougher.state.floatbank10_f_air  rougher.state.floatbank10_f_level  \\\n",
       "0                       949.566189                        -398.180807   \n",
       "1                       950.200009                        -405.787514   \n",
       "2                       950.320481                        -400.864340   \n",
       "3                       950.735324                        -399.802986   \n",
       "4                       949.645313                        -399.277632   \n",
       "\n",
       "   secondary_cleaner.state.floatbank2_a_air  \\\n",
       "0                                 24.938200   \n",
       "1                                 24.923466   \n",
       "2                                 24.908732   \n",
       "3                                 24.893998   \n",
       "4                                 24.886905   \n",
       "\n",
       "   secondary_cleaner.state.floatbank2_a_level  \\\n",
       "0                                 -500.490963   \n",
       "1                                 -499.813963   \n",
       "2                                 -500.304035   \n",
       "3                                 -499.382374   \n",
       "4                                 -499.357375   \n",
       "\n",
       "   secondary_cleaner.state.floatbank2_b_air  \\\n",
       "0                                 14.947607   \n",
       "1                                 14.930873   \n",
       "2                                 14.996511   \n",
       "3                                 14.916674   \n",
       "4                                 14.979233   \n",
       "\n",
       "   secondary_cleaner.state.floatbank2_b_level  \\\n",
       "0                                 -500.013837   \n",
       "1                                 -500.764452   \n",
       "2                                 -500.993821   \n",
       "3                                 -499.862299   \n",
       "4                                 -500.186804   \n",
       "\n",
       "   secondary_cleaner.state.floatbank3_a_air  \\\n",
       "0                                 20.018166   \n",
       "1                                 19.988503   \n",
       "2                                 20.039689   \n",
       "3                                 20.031100   \n",
       "4                                 19.962364   \n",
       "\n",
       "   secondary_cleaner.state.floatbank3_a_level  \\\n",
       "0                                 -450.395995   \n",
       "1                                 -450.114024   \n",
       "2                                 -450.263164   \n",
       "3                                 -449.372570   \n",
       "4                                 -450.638828   \n",
       "\n",
       "   secondary_cleaner.state.floatbank3_b_air  \\\n",
       "0                                 13.987058   \n",
       "1                                 14.092981   \n",
       "2                                 14.077881   \n",
       "3                                 14.013968   \n",
       "4                                 14.009245   \n",
       "\n",
       "   secondary_cleaner.state.floatbank3_b_level  \\\n",
       "0                                 -449.831513   \n",
       "1                                 -450.059163   \n",
       "2                                 -449.660997   \n",
       "3                                 -449.526900   \n",
       "4                                 -450.022259   \n",
       "\n",
       "   secondary_cleaner.state.floatbank4_a_air  \\\n",
       "0                                 12.023554   \n",
       "1                                 12.058140   \n",
       "2                                 11.962366   \n",
       "3                                 12.033091   \n",
       "4                                 12.025367   \n",
       "\n",
       "   secondary_cleaner.state.floatbank4_a_level  \\\n",
       "0                                 -497.795834   \n",
       "1                                 -498.695773   \n",
       "2                                 -498.767484   \n",
       "3                                 -498.350935   \n",
       "4                                 -500.786497   \n",
       "\n",
       "   secondary_cleaner.state.floatbank4_b_air  \\\n",
       "0                                  8.016656   \n",
       "1                                  8.130979   \n",
       "2                                  8.096893   \n",
       "3                                  8.074946   \n",
       "4                                  8.054678   \n",
       "\n",
       "   secondary_cleaner.state.floatbank4_b_level  \\\n",
       "0                                 -501.289139   \n",
       "1                                 -499.634209   \n",
       "2                                 -500.827423   \n",
       "3                                 -499.474407   \n",
       "4                                 -500.397500   \n",
       "\n",
       "   secondary_cleaner.state.floatbank5_a_air  \\\n",
       "0                                  7.946562   \n",
       "1                                  7.958270   \n",
       "2                                  8.071056   \n",
       "3                                  7.897085   \n",
       "4                                  8.107890   \n",
       "\n",
       "   secondary_cleaner.state.floatbank5_a_level  \\\n",
       "0                                 -432.317850   \n",
       "1                                 -525.839648   \n",
       "2                                 -500.801673   \n",
       "3                                 -500.868509   \n",
       "4                                 -509.526725   \n",
       "\n",
       "   secondary_cleaner.state.floatbank5_b_air  \\\n",
       "0                                  4.872511   \n",
       "1                                  4.878850   \n",
       "2                                  4.905125   \n",
       "3                                  4.931400   \n",
       "4                                  4.957674   \n",
       "\n",
       "   secondary_cleaner.state.floatbank5_b_level  \\\n",
       "0                                 -500.037437   \n",
       "1                                 -500.162375   \n",
       "2                                 -499.828510   \n",
       "3                                 -499.963623   \n",
       "4                                 -500.360026   \n",
       "\n",
       "   secondary_cleaner.state.floatbank6_a_air  \\\n",
       "0                                 26.705889   \n",
       "1                                 25.019940   \n",
       "2                                 24.994862   \n",
       "3                                 24.948919   \n",
       "4                                 25.003331   \n",
       "\n",
       "   secondary_cleaner.state.floatbank6_a_level  \n",
       "0                                 -499.709414  \n",
       "1                                 -499.819438  \n",
       "2                                 -500.622559  \n",
       "3                                 -498.709987  \n",
       "4                                 -500.856333  "
      ]
     },
     "metadata": {},
     "output_type": "display_data"
    },
    {
     "name": "stdout",
     "output_type": "stream",
     "text": [
      "<class 'pandas.core.frame.DataFrame'>\n",
      "RangeIndex: 5290 entries, 0 to 5289\n",
      "Data columns (total 53 columns):\n",
      " #   Column                                      Non-Null Count  Dtype  \n",
      "---  ------                                      --------------  -----  \n",
      " 0   date                                        5290 non-null   object \n",
      " 1   primary_cleaner.input.sulfate               5286 non-null   float64\n",
      " 2   primary_cleaner.input.depressant            5285 non-null   float64\n",
      " 3   primary_cleaner.input.feed_size             5290 non-null   float64\n",
      " 4   primary_cleaner.input.xanthate              5286 non-null   float64\n",
      " 5   primary_cleaner.state.floatbank8_a_air      5290 non-null   float64\n",
      " 6   primary_cleaner.state.floatbank8_a_level    5290 non-null   float64\n",
      " 7   primary_cleaner.state.floatbank8_b_air      5290 non-null   float64\n",
      " 8   primary_cleaner.state.floatbank8_b_level    5290 non-null   float64\n",
      " 9   primary_cleaner.state.floatbank8_c_air      5290 non-null   float64\n",
      " 10  primary_cleaner.state.floatbank8_c_level    5290 non-null   float64\n",
      " 11  primary_cleaner.state.floatbank8_d_air      5290 non-null   float64\n",
      " 12  primary_cleaner.state.floatbank8_d_level    5290 non-null   float64\n",
      " 13  rougher.input.feed_ag                       5290 non-null   float64\n",
      " 14  rougher.input.feed_pb                       5290 non-null   float64\n",
      " 15  rougher.input.feed_rate                     5287 non-null   float64\n",
      " 16  rougher.input.feed_size                     5289 non-null   float64\n",
      " 17  rougher.input.feed_sol                      5269 non-null   float64\n",
      " 18  rougher.input.feed_au                       5290 non-null   float64\n",
      " 19  rougher.input.floatbank10_sulfate           5285 non-null   float64\n",
      " 20  rougher.input.floatbank10_xanthate          5290 non-null   float64\n",
      " 21  rougher.input.floatbank11_sulfate           5282 non-null   float64\n",
      " 22  rougher.input.floatbank11_xanthate          5265 non-null   float64\n",
      " 23  rougher.state.floatbank10_a_air             5290 non-null   float64\n",
      " 24  rougher.state.floatbank10_a_level           5290 non-null   float64\n",
      " 25  rougher.state.floatbank10_b_air             5290 non-null   float64\n",
      " 26  rougher.state.floatbank10_b_level           5290 non-null   float64\n",
      " 27  rougher.state.floatbank10_c_air             5290 non-null   float64\n",
      " 28  rougher.state.floatbank10_c_level           5290 non-null   float64\n",
      " 29  rougher.state.floatbank10_d_air             5290 non-null   float64\n",
      " 30  rougher.state.floatbank10_d_level           5290 non-null   float64\n",
      " 31  rougher.state.floatbank10_e_air             5290 non-null   float64\n",
      " 32  rougher.state.floatbank10_e_level           5290 non-null   float64\n",
      " 33  rougher.state.floatbank10_f_air             5290 non-null   float64\n",
      " 34  rougher.state.floatbank10_f_level           5290 non-null   float64\n",
      " 35  secondary_cleaner.state.floatbank2_a_air    5287 non-null   float64\n",
      " 36  secondary_cleaner.state.floatbank2_a_level  5290 non-null   float64\n",
      " 37  secondary_cleaner.state.floatbank2_b_air    5288 non-null   float64\n",
      " 38  secondary_cleaner.state.floatbank2_b_level  5290 non-null   float64\n",
      " 39  secondary_cleaner.state.floatbank3_a_air    5281 non-null   float64\n",
      " 40  secondary_cleaner.state.floatbank3_a_level  5290 non-null   float64\n",
      " 41  secondary_cleaner.state.floatbank3_b_air    5290 non-null   float64\n",
      " 42  secondary_cleaner.state.floatbank3_b_level  5290 non-null   float64\n",
      " 43  secondary_cleaner.state.floatbank4_a_air    5290 non-null   float64\n",
      " 44  secondary_cleaner.state.floatbank4_a_level  5290 non-null   float64\n",
      " 45  secondary_cleaner.state.floatbank4_b_air    5290 non-null   float64\n",
      " 46  secondary_cleaner.state.floatbank4_b_level  5290 non-null   float64\n",
      " 47  secondary_cleaner.state.floatbank5_a_air    5290 non-null   float64\n",
      " 48  secondary_cleaner.state.floatbank5_a_level  5290 non-null   float64\n",
      " 49  secondary_cleaner.state.floatbank5_b_air    5290 non-null   float64\n",
      " 50  secondary_cleaner.state.floatbank5_b_level  5290 non-null   float64\n",
      " 51  secondary_cleaner.state.floatbank6_a_air    5290 non-null   float64\n",
      " 52  secondary_cleaner.state.floatbank6_a_level  5290 non-null   float64\n",
      "dtypes: float64(52), object(1)\n",
      "memory usage: 2.1+ MB\n"
     ]
    },
    {
     "data": {
      "text/plain": [
       "None"
      ]
     },
     "metadata": {},
     "output_type": "display_data"
    },
    {
     "data": {
      "text/html": [
       "<div>\n",
       "<style scoped>\n",
       "    .dataframe tbody tr th:only-of-type {\n",
       "        vertical-align: middle;\n",
       "    }\n",
       "\n",
       "    .dataframe tbody tr th {\n",
       "        vertical-align: top;\n",
       "    }\n",
       "\n",
       "    .dataframe thead th {\n",
       "        text-align: right;\n",
       "    }\n",
       "</style>\n",
       "<table border=\"1\" class=\"dataframe\">\n",
       "  <thead>\n",
       "    <tr style=\"text-align: right;\">\n",
       "      <th></th>\n",
       "      <th>date</th>\n",
       "      <th>final.output.concentrate_ag</th>\n",
       "      <th>final.output.concentrate_pb</th>\n",
       "      <th>final.output.concentrate_sol</th>\n",
       "      <th>final.output.concentrate_au</th>\n",
       "      <th>final.output.recovery</th>\n",
       "      <th>final.output.tail_ag</th>\n",
       "      <th>final.output.tail_pb</th>\n",
       "      <th>final.output.tail_sol</th>\n",
       "      <th>final.output.tail_au</th>\n",
       "      <th>primary_cleaner.input.sulfate</th>\n",
       "      <th>primary_cleaner.input.depressant</th>\n",
       "      <th>primary_cleaner.input.feed_size</th>\n",
       "      <th>primary_cleaner.input.xanthate</th>\n",
       "      <th>primary_cleaner.output.concentrate_ag</th>\n",
       "      <th>primary_cleaner.output.concentrate_pb</th>\n",
       "      <th>primary_cleaner.output.concentrate_sol</th>\n",
       "      <th>primary_cleaner.output.concentrate_au</th>\n",
       "      <th>primary_cleaner.output.tail_ag</th>\n",
       "      <th>primary_cleaner.output.tail_pb</th>\n",
       "      <th>primary_cleaner.output.tail_sol</th>\n",
       "      <th>primary_cleaner.output.tail_au</th>\n",
       "      <th>primary_cleaner.state.floatbank8_a_air</th>\n",
       "      <th>primary_cleaner.state.floatbank8_a_level</th>\n",
       "      <th>primary_cleaner.state.floatbank8_b_air</th>\n",
       "      <th>primary_cleaner.state.floatbank8_b_level</th>\n",
       "      <th>primary_cleaner.state.floatbank8_c_air</th>\n",
       "      <th>primary_cleaner.state.floatbank8_c_level</th>\n",
       "      <th>primary_cleaner.state.floatbank8_d_air</th>\n",
       "      <th>primary_cleaner.state.floatbank8_d_level</th>\n",
       "      <th>rougher.calculation.sulfate_to_au_concentrate</th>\n",
       "      <th>rougher.calculation.floatbank10_sulfate_to_au_feed</th>\n",
       "      <th>rougher.calculation.floatbank11_sulfate_to_au_feed</th>\n",
       "      <th>rougher.calculation.au_pb_ratio</th>\n",
       "      <th>rougher.input.feed_ag</th>\n",
       "      <th>rougher.input.feed_pb</th>\n",
       "      <th>rougher.input.feed_rate</th>\n",
       "      <th>rougher.input.feed_size</th>\n",
       "      <th>rougher.input.feed_sol</th>\n",
       "      <th>rougher.input.feed_au</th>\n",
       "      <th>rougher.input.floatbank10_sulfate</th>\n",
       "      <th>rougher.input.floatbank10_xanthate</th>\n",
       "      <th>rougher.input.floatbank11_sulfate</th>\n",
       "      <th>rougher.input.floatbank11_xanthate</th>\n",
       "      <th>rougher.output.concentrate_ag</th>\n",
       "      <th>rougher.output.concentrate_pb</th>\n",
       "      <th>rougher.output.concentrate_sol</th>\n",
       "      <th>rougher.output.concentrate_au</th>\n",
       "      <th>rougher.output.recovery</th>\n",
       "      <th>rougher.output.tail_ag</th>\n",
       "      <th>rougher.output.tail_pb</th>\n",
       "      <th>rougher.output.tail_sol</th>\n",
       "      <th>rougher.output.tail_au</th>\n",
       "      <th>rougher.state.floatbank10_a_air</th>\n",
       "      <th>rougher.state.floatbank10_a_level</th>\n",
       "      <th>rougher.state.floatbank10_b_air</th>\n",
       "      <th>rougher.state.floatbank10_b_level</th>\n",
       "      <th>rougher.state.floatbank10_c_air</th>\n",
       "      <th>rougher.state.floatbank10_c_level</th>\n",
       "      <th>rougher.state.floatbank10_d_air</th>\n",
       "      <th>rougher.state.floatbank10_d_level</th>\n",
       "      <th>rougher.state.floatbank10_e_air</th>\n",
       "      <th>rougher.state.floatbank10_e_level</th>\n",
       "      <th>rougher.state.floatbank10_f_air</th>\n",
       "      <th>rougher.state.floatbank10_f_level</th>\n",
       "      <th>secondary_cleaner.output.tail_ag</th>\n",
       "      <th>secondary_cleaner.output.tail_pb</th>\n",
       "      <th>secondary_cleaner.output.tail_sol</th>\n",
       "      <th>secondary_cleaner.output.tail_au</th>\n",
       "      <th>secondary_cleaner.state.floatbank2_a_air</th>\n",
       "      <th>secondary_cleaner.state.floatbank2_a_level</th>\n",
       "      <th>secondary_cleaner.state.floatbank2_b_air</th>\n",
       "      <th>secondary_cleaner.state.floatbank2_b_level</th>\n",
       "      <th>secondary_cleaner.state.floatbank3_a_air</th>\n",
       "      <th>secondary_cleaner.state.floatbank3_a_level</th>\n",
       "      <th>secondary_cleaner.state.floatbank3_b_air</th>\n",
       "      <th>secondary_cleaner.state.floatbank3_b_level</th>\n",
       "      <th>secondary_cleaner.state.floatbank4_a_air</th>\n",
       "      <th>secondary_cleaner.state.floatbank4_a_level</th>\n",
       "      <th>secondary_cleaner.state.floatbank4_b_air</th>\n",
       "      <th>secondary_cleaner.state.floatbank4_b_level</th>\n",
       "      <th>secondary_cleaner.state.floatbank5_a_air</th>\n",
       "      <th>secondary_cleaner.state.floatbank5_a_level</th>\n",
       "      <th>secondary_cleaner.state.floatbank5_b_air</th>\n",
       "      <th>secondary_cleaner.state.floatbank5_b_level</th>\n",
       "      <th>secondary_cleaner.state.floatbank6_a_air</th>\n",
       "      <th>secondary_cleaner.state.floatbank6_a_level</th>\n",
       "    </tr>\n",
       "  </thead>\n",
       "  <tbody>\n",
       "    <tr>\n",
       "      <th>0</th>\n",
       "      <td>2016-01-15 00:00:00</td>\n",
       "      <td>6.055403</td>\n",
       "      <td>9.889648</td>\n",
       "      <td>5.507324</td>\n",
       "      <td>42.192020</td>\n",
       "      <td>70.541216</td>\n",
       "      <td>10.411962</td>\n",
       "      <td>0.895447</td>\n",
       "      <td>16.904297</td>\n",
       "      <td>2.143149</td>\n",
       "      <td>127.092003</td>\n",
       "      <td>10.128295</td>\n",
       "      <td>7.25</td>\n",
       "      <td>0.988759</td>\n",
       "      <td>8.547551</td>\n",
       "      <td>10.389648</td>\n",
       "      <td>19.529297</td>\n",
       "      <td>34.174427</td>\n",
       "      <td>14.936526</td>\n",
       "      <td>2.534912</td>\n",
       "      <td>7.476074</td>\n",
       "      <td>2.106679</td>\n",
       "      <td>1549.775757</td>\n",
       "      <td>-498.912140</td>\n",
       "      <td>1551.434204</td>\n",
       "      <td>-516.403442</td>\n",
       "      <td>1549.873901</td>\n",
       "      <td>-498.666595</td>\n",
       "      <td>1554.367432</td>\n",
       "      <td>-493.428131</td>\n",
       "      <td>41885.707031</td>\n",
       "      <td>3481.779053</td>\n",
       "      <td>3520.337158</td>\n",
       "      <td>2.838687</td>\n",
       "      <td>6.100378</td>\n",
       "      <td>2.284912</td>\n",
       "      <td>523.546326</td>\n",
       "      <td>55.486599</td>\n",
       "      <td>36.808594</td>\n",
       "      <td>6.486150</td>\n",
       "      <td>11.986616</td>\n",
       "      <td>6.007990</td>\n",
       "      <td>11.836743</td>\n",
       "      <td>6.005818</td>\n",
       "      <td>11.500771</td>\n",
       "      <td>7.101074</td>\n",
       "      <td>28.029297</td>\n",
       "      <td>19.793808</td>\n",
       "      <td>87.107763</td>\n",
       "      <td>5.008018</td>\n",
       "      <td>0.508728</td>\n",
       "      <td>19.154297</td>\n",
       "      <td>1.170244</td>\n",
       "      <td>999.706909</td>\n",
       "      <td>-404.066986</td>\n",
       "      <td>1603.011353</td>\n",
       "      <td>-434.715027</td>\n",
       "      <td>1602.375000</td>\n",
       "      <td>-442.204468</td>\n",
       "      <td>1598.937256</td>\n",
       "      <td>-451.294128</td>\n",
       "      <td>1404.472046</td>\n",
       "      <td>-455.462982</td>\n",
       "      <td>1416.354980</td>\n",
       "      <td>-451.939636</td>\n",
       "      <td>14.500184</td>\n",
       "      <td>4.694824</td>\n",
       "      <td>8.764648</td>\n",
       "      <td>2.606185</td>\n",
       "      <td>25.853109</td>\n",
       "      <td>-498.526489</td>\n",
       "      <td>23.893660</td>\n",
       "      <td>-501.406281</td>\n",
       "      <td>23.961798</td>\n",
       "      <td>-495.262817</td>\n",
       "      <td>21.940409</td>\n",
       "      <td>-499.340973</td>\n",
       "      <td>14.016835</td>\n",
       "      <td>-502.488007</td>\n",
       "      <td>12.099931</td>\n",
       "      <td>-504.715942</td>\n",
       "      <td>9.925633</td>\n",
       "      <td>-498.310211</td>\n",
       "      <td>8.079666</td>\n",
       "      <td>-500.470978</td>\n",
       "      <td>14.151341</td>\n",
       "      <td>-605.841980</td>\n",
       "    </tr>\n",
       "    <tr>\n",
       "      <th>1</th>\n",
       "      <td>2016-01-15 01:00:00</td>\n",
       "      <td>6.029369</td>\n",
       "      <td>9.968944</td>\n",
       "      <td>5.257781</td>\n",
       "      <td>42.701629</td>\n",
       "      <td>69.266198</td>\n",
       "      <td>10.462676</td>\n",
       "      <td>0.927452</td>\n",
       "      <td>16.634514</td>\n",
       "      <td>2.224930</td>\n",
       "      <td>125.629232</td>\n",
       "      <td>10.296251</td>\n",
       "      <td>7.25</td>\n",
       "      <td>1.002663</td>\n",
       "      <td>8.558743</td>\n",
       "      <td>10.497069</td>\n",
       "      <td>19.369147</td>\n",
       "      <td>34.118526</td>\n",
       "      <td>16.250511</td>\n",
       "      <td>3.049646</td>\n",
       "      <td>6.733907</td>\n",
       "      <td>2.353017</td>\n",
       "      <td>1576.166671</td>\n",
       "      <td>-500.904965</td>\n",
       "      <td>1575.950626</td>\n",
       "      <td>-499.865889</td>\n",
       "      <td>1575.994189</td>\n",
       "      <td>-499.315107</td>\n",
       "      <td>1574.479259</td>\n",
       "      <td>-498.931665</td>\n",
       "      <td>42050.861809</td>\n",
       "      <td>3498.370979</td>\n",
       "      <td>3489.981857</td>\n",
       "      <td>2.858998</td>\n",
       "      <td>6.161113</td>\n",
       "      <td>2.266033</td>\n",
       "      <td>525.290581</td>\n",
       "      <td>57.278666</td>\n",
       "      <td>35.753385</td>\n",
       "      <td>6.478583</td>\n",
       "      <td>11.971193</td>\n",
       "      <td>6.005766</td>\n",
       "      <td>11.996163</td>\n",
       "      <td>6.012594</td>\n",
       "      <td>11.615865</td>\n",
       "      <td>7.278807</td>\n",
       "      <td>28.067063</td>\n",
       "      <td>20.050975</td>\n",
       "      <td>86.843261</td>\n",
       "      <td>4.955378</td>\n",
       "      <td>0.536689</td>\n",
       "      <td>18.965234</td>\n",
       "      <td>1.184827</td>\n",
       "      <td>1000.286398</td>\n",
       "      <td>-400.065196</td>\n",
       "      <td>1600.754587</td>\n",
       "      <td>-449.953435</td>\n",
       "      <td>1600.479580</td>\n",
       "      <td>-449.830646</td>\n",
       "      <td>1600.527589</td>\n",
       "      <td>-449.953649</td>\n",
       "      <td>1399.227084</td>\n",
       "      <td>-450.869848</td>\n",
       "      <td>1399.719514</td>\n",
       "      <td>-450.119001</td>\n",
       "      <td>14.265474</td>\n",
       "      <td>4.592547</td>\n",
       "      <td>9.001494</td>\n",
       "      <td>2.488248</td>\n",
       "      <td>25.880539</td>\n",
       "      <td>-499.989656</td>\n",
       "      <td>23.889530</td>\n",
       "      <td>-500.372428</td>\n",
       "      <td>23.970550</td>\n",
       "      <td>-500.085473</td>\n",
       "      <td>22.085714</td>\n",
       "      <td>-499.446897</td>\n",
       "      <td>13.992281</td>\n",
       "      <td>-505.503262</td>\n",
       "      <td>11.950531</td>\n",
       "      <td>-501.331529</td>\n",
       "      <td>10.039245</td>\n",
       "      <td>-500.169983</td>\n",
       "      <td>7.984757</td>\n",
       "      <td>-500.582168</td>\n",
       "      <td>13.998353</td>\n",
       "      <td>-599.787184</td>\n",
       "    </tr>\n",
       "    <tr>\n",
       "      <th>2</th>\n",
       "      <td>2016-01-15 02:00:00</td>\n",
       "      <td>6.055926</td>\n",
       "      <td>10.213995</td>\n",
       "      <td>5.383759</td>\n",
       "      <td>42.657501</td>\n",
       "      <td>68.116445</td>\n",
       "      <td>10.507046</td>\n",
       "      <td>0.953716</td>\n",
       "      <td>16.208849</td>\n",
       "      <td>2.257889</td>\n",
       "      <td>123.819808</td>\n",
       "      <td>11.316280</td>\n",
       "      <td>7.25</td>\n",
       "      <td>0.991265</td>\n",
       "      <td>8.603505</td>\n",
       "      <td>10.354494</td>\n",
       "      <td>19.167579</td>\n",
       "      <td>33.969464</td>\n",
       "      <td>16.491823</td>\n",
       "      <td>3.124664</td>\n",
       "      <td>6.471768</td>\n",
       "      <td>2.416800</td>\n",
       "      <td>1601.556163</td>\n",
       "      <td>-499.997791</td>\n",
       "      <td>1600.386685</td>\n",
       "      <td>-500.607762</td>\n",
       "      <td>1602.003542</td>\n",
       "      <td>-500.870069</td>\n",
       "      <td>1599.541515</td>\n",
       "      <td>-499.827444</td>\n",
       "      <td>42018.101184</td>\n",
       "      <td>3495.348910</td>\n",
       "      <td>3502.359819</td>\n",
       "      <td>2.945989</td>\n",
       "      <td>6.116455</td>\n",
       "      <td>2.159622</td>\n",
       "      <td>530.026610</td>\n",
       "      <td>57.510649</td>\n",
       "      <td>35.971630</td>\n",
       "      <td>6.362222</td>\n",
       "      <td>11.920603</td>\n",
       "      <td>6.197377</td>\n",
       "      <td>11.920305</td>\n",
       "      <td>6.204633</td>\n",
       "      <td>11.695753</td>\n",
       "      <td>7.216833</td>\n",
       "      <td>27.454037</td>\n",
       "      <td>19.737170</td>\n",
       "      <td>86.842308</td>\n",
       "      <td>4.843460</td>\n",
       "      <td>0.546416</td>\n",
       "      <td>18.808533</td>\n",
       "      <td>1.162562</td>\n",
       "      <td>999.719565</td>\n",
       "      <td>-400.074028</td>\n",
       "      <td>1599.337330</td>\n",
       "      <td>-450.008530</td>\n",
       "      <td>1599.672797</td>\n",
       "      <td>-449.954491</td>\n",
       "      <td>1599.849325</td>\n",
       "      <td>-449.954185</td>\n",
       "      <td>1399.180945</td>\n",
       "      <td>-449.937588</td>\n",
       "      <td>1400.316682</td>\n",
       "      <td>-450.527147</td>\n",
       "      <td>14.115662</td>\n",
       "      <td>4.624775</td>\n",
       "      <td>8.842896</td>\n",
       "      <td>2.458187</td>\n",
       "      <td>26.005245</td>\n",
       "      <td>-499.929616</td>\n",
       "      <td>23.886657</td>\n",
       "      <td>-499.951928</td>\n",
       "      <td>23.913535</td>\n",
       "      <td>-499.442343</td>\n",
       "      <td>23.957717</td>\n",
       "      <td>-499.901982</td>\n",
       "      <td>14.015015</td>\n",
       "      <td>-502.520901</td>\n",
       "      <td>11.912783</td>\n",
       "      <td>-501.133383</td>\n",
       "      <td>10.070913</td>\n",
       "      <td>-500.129135</td>\n",
       "      <td>8.013877</td>\n",
       "      <td>-500.517572</td>\n",
       "      <td>14.028663</td>\n",
       "      <td>-601.427363</td>\n",
       "    </tr>\n",
       "    <tr>\n",
       "      <th>3</th>\n",
       "      <td>2016-01-15 03:00:00</td>\n",
       "      <td>6.047977</td>\n",
       "      <td>9.977019</td>\n",
       "      <td>4.858634</td>\n",
       "      <td>42.689819</td>\n",
       "      <td>68.347543</td>\n",
       "      <td>10.422762</td>\n",
       "      <td>0.883763</td>\n",
       "      <td>16.532835</td>\n",
       "      <td>2.146849</td>\n",
       "      <td>122.270188</td>\n",
       "      <td>11.322140</td>\n",
       "      <td>7.25</td>\n",
       "      <td>0.996739</td>\n",
       "      <td>7.221879</td>\n",
       "      <td>8.496563</td>\n",
       "      <td>15.978538</td>\n",
       "      <td>28.260743</td>\n",
       "      <td>16.024359</td>\n",
       "      <td>2.960362</td>\n",
       "      <td>6.843791</td>\n",
       "      <td>2.262051</td>\n",
       "      <td>1599.968720</td>\n",
       "      <td>-500.951778</td>\n",
       "      <td>1600.659236</td>\n",
       "      <td>-499.677094</td>\n",
       "      <td>1600.304144</td>\n",
       "      <td>-500.727997</td>\n",
       "      <td>1600.449520</td>\n",
       "      <td>-500.052575</td>\n",
       "      <td>42029.447991</td>\n",
       "      <td>3498.578313</td>\n",
       "      <td>3499.162912</td>\n",
       "      <td>3.002340</td>\n",
       "      <td>6.043309</td>\n",
       "      <td>2.037807</td>\n",
       "      <td>542.590390</td>\n",
       "      <td>57.792734</td>\n",
       "      <td>36.862241</td>\n",
       "      <td>6.118189</td>\n",
       "      <td>11.630094</td>\n",
       "      <td>6.203177</td>\n",
       "      <td>11.692450</td>\n",
       "      <td>6.196578</td>\n",
       "      <td>11.915047</td>\n",
       "      <td>7.175616</td>\n",
       "      <td>27.341277</td>\n",
       "      <td>19.320810</td>\n",
       "      <td>87.226430</td>\n",
       "      <td>4.655288</td>\n",
       "      <td>0.542525</td>\n",
       "      <td>19.330200</td>\n",
       "      <td>1.079755</td>\n",
       "      <td>999.814770</td>\n",
       "      <td>-400.200179</td>\n",
       "      <td>1600.059442</td>\n",
       "      <td>-450.619948</td>\n",
       "      <td>1600.012842</td>\n",
       "      <td>-449.910497</td>\n",
       "      <td>1597.725177</td>\n",
       "      <td>-450.130127</td>\n",
       "      <td>1400.943157</td>\n",
       "      <td>-450.030142</td>\n",
       "      <td>1400.234743</td>\n",
       "      <td>-449.790835</td>\n",
       "      <td>13.732071</td>\n",
       "      <td>4.482453</td>\n",
       "      <td>9.122857</td>\n",
       "      <td>2.322062</td>\n",
       "      <td>25.942508</td>\n",
       "      <td>-499.176749</td>\n",
       "      <td>23.955516</td>\n",
       "      <td>-499.848796</td>\n",
       "      <td>23.966838</td>\n",
       "      <td>-500.008812</td>\n",
       "      <td>23.954443</td>\n",
       "      <td>-499.944710</td>\n",
       "      <td>14.036510</td>\n",
       "      <td>-500.857308</td>\n",
       "      <td>11.999550</td>\n",
       "      <td>-501.193686</td>\n",
       "      <td>9.970366</td>\n",
       "      <td>-499.201640</td>\n",
       "      <td>7.977324</td>\n",
       "      <td>-500.255908</td>\n",
       "      <td>14.005551</td>\n",
       "      <td>-599.996129</td>\n",
       "    </tr>\n",
       "    <tr>\n",
       "      <th>4</th>\n",
       "      <td>2016-01-15 04:00:00</td>\n",
       "      <td>6.148599</td>\n",
       "      <td>10.142511</td>\n",
       "      <td>4.939416</td>\n",
       "      <td>42.774141</td>\n",
       "      <td>66.927016</td>\n",
       "      <td>10.360302</td>\n",
       "      <td>0.792826</td>\n",
       "      <td>16.525686</td>\n",
       "      <td>2.055292</td>\n",
       "      <td>117.988169</td>\n",
       "      <td>11.913613</td>\n",
       "      <td>7.25</td>\n",
       "      <td>1.009869</td>\n",
       "      <td>9.089428</td>\n",
       "      <td>9.986786</td>\n",
       "      <td>19.199864</td>\n",
       "      <td>33.044932</td>\n",
       "      <td>16.480185</td>\n",
       "      <td>3.112100</td>\n",
       "      <td>6.550154</td>\n",
       "      <td>2.277073</td>\n",
       "      <td>1601.339707</td>\n",
       "      <td>-498.975456</td>\n",
       "      <td>1601.437854</td>\n",
       "      <td>-500.323246</td>\n",
       "      <td>1599.581894</td>\n",
       "      <td>-500.888152</td>\n",
       "      <td>1602.649541</td>\n",
       "      <td>-500.593010</td>\n",
       "      <td>42125.354245</td>\n",
       "      <td>3494.800771</td>\n",
       "      <td>3506.679315</td>\n",
       "      <td>3.169615</td>\n",
       "      <td>6.060915</td>\n",
       "      <td>1.786875</td>\n",
       "      <td>540.531893</td>\n",
       "      <td>56.047189</td>\n",
       "      <td>34.347666</td>\n",
       "      <td>5.663707</td>\n",
       "      <td>10.957755</td>\n",
       "      <td>6.198826</td>\n",
       "      <td>10.960521</td>\n",
       "      <td>6.194897</td>\n",
       "      <td>12.411054</td>\n",
       "      <td>7.240205</td>\n",
       "      <td>27.041023</td>\n",
       "      <td>19.216101</td>\n",
       "      <td>86.688794</td>\n",
       "      <td>4.552800</td>\n",
       "      <td>0.515438</td>\n",
       "      <td>19.267422</td>\n",
       "      <td>1.012642</td>\n",
       "      <td>999.678690</td>\n",
       "      <td>-399.752729</td>\n",
       "      <td>1600.208824</td>\n",
       "      <td>-449.599614</td>\n",
       "      <td>1600.357732</td>\n",
       "      <td>-450.034364</td>\n",
       "      <td>1599.759049</td>\n",
       "      <td>-449.909799</td>\n",
       "      <td>1401.560902</td>\n",
       "      <td>-448.877187</td>\n",
       "      <td>1401.160227</td>\n",
       "      <td>-450.407128</td>\n",
       "      <td>14.079996</td>\n",
       "      <td>4.470737</td>\n",
       "      <td>8.871028</td>\n",
       "      <td>2.330448</td>\n",
       "      <td>26.024787</td>\n",
       "      <td>-500.279091</td>\n",
       "      <td>23.955345</td>\n",
       "      <td>-500.593614</td>\n",
       "      <td>23.985703</td>\n",
       "      <td>-500.083811</td>\n",
       "      <td>23.958945</td>\n",
       "      <td>-499.990309</td>\n",
       "      <td>14.027298</td>\n",
       "      <td>-499.838632</td>\n",
       "      <td>11.953070</td>\n",
       "      <td>-501.053894</td>\n",
       "      <td>9.925709</td>\n",
       "      <td>-501.686727</td>\n",
       "      <td>7.894242</td>\n",
       "      <td>-500.356035</td>\n",
       "      <td>13.996647</td>\n",
       "      <td>-601.496691</td>\n",
       "    </tr>\n",
       "  </tbody>\n",
       "</table>\n",
       "</div>"
      ],
      "text/plain": [
       "                  date  final.output.concentrate_ag  \\\n",
       "0  2016-01-15 00:00:00                     6.055403   \n",
       "1  2016-01-15 01:00:00                     6.029369   \n",
       "2  2016-01-15 02:00:00                     6.055926   \n",
       "3  2016-01-15 03:00:00                     6.047977   \n",
       "4  2016-01-15 04:00:00                     6.148599   \n",
       "\n",
       "   final.output.concentrate_pb  final.output.concentrate_sol  \\\n",
       "0                     9.889648                      5.507324   \n",
       "1                     9.968944                      5.257781   \n",
       "2                    10.213995                      5.383759   \n",
       "3                     9.977019                      4.858634   \n",
       "4                    10.142511                      4.939416   \n",
       "\n",
       "   final.output.concentrate_au  final.output.recovery  final.output.tail_ag  \\\n",
       "0                    42.192020              70.541216             10.411962   \n",
       "1                    42.701629              69.266198             10.462676   \n",
       "2                    42.657501              68.116445             10.507046   \n",
       "3                    42.689819              68.347543             10.422762   \n",
       "4                    42.774141              66.927016             10.360302   \n",
       "\n",
       "   final.output.tail_pb  final.output.tail_sol  final.output.tail_au  \\\n",
       "0              0.895447              16.904297              2.143149   \n",
       "1              0.927452              16.634514              2.224930   \n",
       "2              0.953716              16.208849              2.257889   \n",
       "3              0.883763              16.532835              2.146849   \n",
       "4              0.792826              16.525686              2.055292   \n",
       "\n",
       "   primary_cleaner.input.sulfate  primary_cleaner.input.depressant  \\\n",
       "0                     127.092003                         10.128295   \n",
       "1                     125.629232                         10.296251   \n",
       "2                     123.819808                         11.316280   \n",
       "3                     122.270188                         11.322140   \n",
       "4                     117.988169                         11.913613   \n",
       "\n",
       "   primary_cleaner.input.feed_size  primary_cleaner.input.xanthate  \\\n",
       "0                             7.25                        0.988759   \n",
       "1                             7.25                        1.002663   \n",
       "2                             7.25                        0.991265   \n",
       "3                             7.25                        0.996739   \n",
       "4                             7.25                        1.009869   \n",
       "\n",
       "   primary_cleaner.output.concentrate_ag  \\\n",
       "0                               8.547551   \n",
       "1                               8.558743   \n",
       "2                               8.603505   \n",
       "3                               7.221879   \n",
       "4                               9.089428   \n",
       "\n",
       "   primary_cleaner.output.concentrate_pb  \\\n",
       "0                              10.389648   \n",
       "1                              10.497069   \n",
       "2                              10.354494   \n",
       "3                               8.496563   \n",
       "4                               9.986786   \n",
       "\n",
       "   primary_cleaner.output.concentrate_sol  \\\n",
       "0                               19.529297   \n",
       "1                               19.369147   \n",
       "2                               19.167579   \n",
       "3                               15.978538   \n",
       "4                               19.199864   \n",
       "\n",
       "   primary_cleaner.output.concentrate_au  primary_cleaner.output.tail_ag  \\\n",
       "0                              34.174427                       14.936526   \n",
       "1                              34.118526                       16.250511   \n",
       "2                              33.969464                       16.491823   \n",
       "3                              28.260743                       16.024359   \n",
       "4                              33.044932                       16.480185   \n",
       "\n",
       "   primary_cleaner.output.tail_pb  primary_cleaner.output.tail_sol  \\\n",
       "0                        2.534912                         7.476074   \n",
       "1                        3.049646                         6.733907   \n",
       "2                        3.124664                         6.471768   \n",
       "3                        2.960362                         6.843791   \n",
       "4                        3.112100                         6.550154   \n",
       "\n",
       "   primary_cleaner.output.tail_au  primary_cleaner.state.floatbank8_a_air  \\\n",
       "0                        2.106679                             1549.775757   \n",
       "1                        2.353017                             1576.166671   \n",
       "2                        2.416800                             1601.556163   \n",
       "3                        2.262051                             1599.968720   \n",
       "4                        2.277073                             1601.339707   \n",
       "\n",
       "   primary_cleaner.state.floatbank8_a_level  \\\n",
       "0                               -498.912140   \n",
       "1                               -500.904965   \n",
       "2                               -499.997791   \n",
       "3                               -500.951778   \n",
       "4                               -498.975456   \n",
       "\n",
       "   primary_cleaner.state.floatbank8_b_air  \\\n",
       "0                             1551.434204   \n",
       "1                             1575.950626   \n",
       "2                             1600.386685   \n",
       "3                             1600.659236   \n",
       "4                             1601.437854   \n",
       "\n",
       "   primary_cleaner.state.floatbank8_b_level  \\\n",
       "0                               -516.403442   \n",
       "1                               -499.865889   \n",
       "2                               -500.607762   \n",
       "3                               -499.677094   \n",
       "4                               -500.323246   \n",
       "\n",
       "   primary_cleaner.state.floatbank8_c_air  \\\n",
       "0                             1549.873901   \n",
       "1                             1575.994189   \n",
       "2                             1602.003542   \n",
       "3                             1600.304144   \n",
       "4                             1599.581894   \n",
       "\n",
       "   primary_cleaner.state.floatbank8_c_level  \\\n",
       "0                               -498.666595   \n",
       "1                               -499.315107   \n",
       "2                               -500.870069   \n",
       "3                               -500.727997   \n",
       "4                               -500.888152   \n",
       "\n",
       "   primary_cleaner.state.floatbank8_d_air  \\\n",
       "0                             1554.367432   \n",
       "1                             1574.479259   \n",
       "2                             1599.541515   \n",
       "3                             1600.449520   \n",
       "4                             1602.649541   \n",
       "\n",
       "   primary_cleaner.state.floatbank8_d_level  \\\n",
       "0                               -493.428131   \n",
       "1                               -498.931665   \n",
       "2                               -499.827444   \n",
       "3                               -500.052575   \n",
       "4                               -500.593010   \n",
       "\n",
       "   rougher.calculation.sulfate_to_au_concentrate  \\\n",
       "0                                   41885.707031   \n",
       "1                                   42050.861809   \n",
       "2                                   42018.101184   \n",
       "3                                   42029.447991   \n",
       "4                                   42125.354245   \n",
       "\n",
       "   rougher.calculation.floatbank10_sulfate_to_au_feed  \\\n",
       "0                                        3481.779053    \n",
       "1                                        3498.370979    \n",
       "2                                        3495.348910    \n",
       "3                                        3498.578313    \n",
       "4                                        3494.800771    \n",
       "\n",
       "   rougher.calculation.floatbank11_sulfate_to_au_feed  \\\n",
       "0                                        3520.337158    \n",
       "1                                        3489.981857    \n",
       "2                                        3502.359819    \n",
       "3                                        3499.162912    \n",
       "4                                        3506.679315    \n",
       "\n",
       "   rougher.calculation.au_pb_ratio  rougher.input.feed_ag  \\\n",
       "0                         2.838687               6.100378   \n",
       "1                         2.858998               6.161113   \n",
       "2                         2.945989               6.116455   \n",
       "3                         3.002340               6.043309   \n",
       "4                         3.169615               6.060915   \n",
       "\n",
       "   rougher.input.feed_pb  rougher.input.feed_rate  rougher.input.feed_size  \\\n",
       "0               2.284912               523.546326                55.486599   \n",
       "1               2.266033               525.290581                57.278666   \n",
       "2               2.159622               530.026610                57.510649   \n",
       "3               2.037807               542.590390                57.792734   \n",
       "4               1.786875               540.531893                56.047189   \n",
       "\n",
       "   rougher.input.feed_sol  rougher.input.feed_au  \\\n",
       "0               36.808594               6.486150   \n",
       "1               35.753385               6.478583   \n",
       "2               35.971630               6.362222   \n",
       "3               36.862241               6.118189   \n",
       "4               34.347666               5.663707   \n",
       "\n",
       "   rougher.input.floatbank10_sulfate  rougher.input.floatbank10_xanthate  \\\n",
       "0                          11.986616                            6.007990   \n",
       "1                          11.971193                            6.005766   \n",
       "2                          11.920603                            6.197377   \n",
       "3                          11.630094                            6.203177   \n",
       "4                          10.957755                            6.198826   \n",
       "\n",
       "   rougher.input.floatbank11_sulfate  rougher.input.floatbank11_xanthate  \\\n",
       "0                          11.836743                            6.005818   \n",
       "1                          11.996163                            6.012594   \n",
       "2                          11.920305                            6.204633   \n",
       "3                          11.692450                            6.196578   \n",
       "4                          10.960521                            6.194897   \n",
       "\n",
       "   rougher.output.concentrate_ag  rougher.output.concentrate_pb  \\\n",
       "0                      11.500771                       7.101074   \n",
       "1                      11.615865                       7.278807   \n",
       "2                      11.695753                       7.216833   \n",
       "3                      11.915047                       7.175616   \n",
       "4                      12.411054                       7.240205   \n",
       "\n",
       "   rougher.output.concentrate_sol  rougher.output.concentrate_au  \\\n",
       "0                       28.029297                      19.793808   \n",
       "1                       28.067063                      20.050975   \n",
       "2                       27.454037                      19.737170   \n",
       "3                       27.341277                      19.320810   \n",
       "4                       27.041023                      19.216101   \n",
       "\n",
       "   rougher.output.recovery  rougher.output.tail_ag  rougher.output.tail_pb  \\\n",
       "0                87.107763                5.008018                0.508728   \n",
       "1                86.843261                4.955378                0.536689   \n",
       "2                86.842308                4.843460                0.546416   \n",
       "3                87.226430                4.655288                0.542525   \n",
       "4                86.688794                4.552800                0.515438   \n",
       "\n",
       "   rougher.output.tail_sol  rougher.output.tail_au  \\\n",
       "0                19.154297                1.170244   \n",
       "1                18.965234                1.184827   \n",
       "2                18.808533                1.162562   \n",
       "3                19.330200                1.079755   \n",
       "4                19.267422                1.012642   \n",
       "\n",
       "   rougher.state.floatbank10_a_air  rougher.state.floatbank10_a_level  \\\n",
       "0                       999.706909                        -404.066986   \n",
       "1                      1000.286398                        -400.065196   \n",
       "2                       999.719565                        -400.074028   \n",
       "3                       999.814770                        -400.200179   \n",
       "4                       999.678690                        -399.752729   \n",
       "\n",
       "   rougher.state.floatbank10_b_air  rougher.state.floatbank10_b_level  \\\n",
       "0                      1603.011353                        -434.715027   \n",
       "1                      1600.754587                        -449.953435   \n",
       "2                      1599.337330                        -450.008530   \n",
       "3                      1600.059442                        -450.619948   \n",
       "4                      1600.208824                        -449.599614   \n",
       "\n",
       "   rougher.state.floatbank10_c_air  rougher.state.floatbank10_c_level  \\\n",
       "0                      1602.375000                        -442.204468   \n",
       "1                      1600.479580                        -449.830646   \n",
       "2                      1599.672797                        -449.954491   \n",
       "3                      1600.012842                        -449.910497   \n",
       "4                      1600.357732                        -450.034364   \n",
       "\n",
       "   rougher.state.floatbank10_d_air  rougher.state.floatbank10_d_level  \\\n",
       "0                      1598.937256                        -451.294128   \n",
       "1                      1600.527589                        -449.953649   \n",
       "2                      1599.849325                        -449.954185   \n",
       "3                      1597.725177                        -450.130127   \n",
       "4                      1599.759049                        -449.909799   \n",
       "\n",
       "   rougher.state.floatbank10_e_air  rougher.state.floatbank10_e_level  \\\n",
       "0                      1404.472046                        -455.462982   \n",
       "1                      1399.227084                        -450.869848   \n",
       "2                      1399.180945                        -449.937588   \n",
       "3                      1400.943157                        -450.030142   \n",
       "4                      1401.560902                        -448.877187   \n",
       "\n",
       "   rougher.state.floatbank10_f_air  rougher.state.floatbank10_f_level  \\\n",
       "0                      1416.354980                        -451.939636   \n",
       "1                      1399.719514                        -450.119001   \n",
       "2                      1400.316682                        -450.527147   \n",
       "3                      1400.234743                        -449.790835   \n",
       "4                      1401.160227                        -450.407128   \n",
       "\n",
       "   secondary_cleaner.output.tail_ag  secondary_cleaner.output.tail_pb  \\\n",
       "0                         14.500184                          4.694824   \n",
       "1                         14.265474                          4.592547   \n",
       "2                         14.115662                          4.624775   \n",
       "3                         13.732071                          4.482453   \n",
       "4                         14.079996                          4.470737   \n",
       "\n",
       "   secondary_cleaner.output.tail_sol  secondary_cleaner.output.tail_au  \\\n",
       "0                           8.764648                          2.606185   \n",
       "1                           9.001494                          2.488248   \n",
       "2                           8.842896                          2.458187   \n",
       "3                           9.122857                          2.322062   \n",
       "4                           8.871028                          2.330448   \n",
       "\n",
       "   secondary_cleaner.state.floatbank2_a_air  \\\n",
       "0                                 25.853109   \n",
       "1                                 25.880539   \n",
       "2                                 26.005245   \n",
       "3                                 25.942508   \n",
       "4                                 26.024787   \n",
       "\n",
       "   secondary_cleaner.state.floatbank2_a_level  \\\n",
       "0                                 -498.526489   \n",
       "1                                 -499.989656   \n",
       "2                                 -499.929616   \n",
       "3                                 -499.176749   \n",
       "4                                 -500.279091   \n",
       "\n",
       "   secondary_cleaner.state.floatbank2_b_air  \\\n",
       "0                                 23.893660   \n",
       "1                                 23.889530   \n",
       "2                                 23.886657   \n",
       "3                                 23.955516   \n",
       "4                                 23.955345   \n",
       "\n",
       "   secondary_cleaner.state.floatbank2_b_level  \\\n",
       "0                                 -501.406281   \n",
       "1                                 -500.372428   \n",
       "2                                 -499.951928   \n",
       "3                                 -499.848796   \n",
       "4                                 -500.593614   \n",
       "\n",
       "   secondary_cleaner.state.floatbank3_a_air  \\\n",
       "0                                 23.961798   \n",
       "1                                 23.970550   \n",
       "2                                 23.913535   \n",
       "3                                 23.966838   \n",
       "4                                 23.985703   \n",
       "\n",
       "   secondary_cleaner.state.floatbank3_a_level  \\\n",
       "0                                 -495.262817   \n",
       "1                                 -500.085473   \n",
       "2                                 -499.442343   \n",
       "3                                 -500.008812   \n",
       "4                                 -500.083811   \n",
       "\n",
       "   secondary_cleaner.state.floatbank3_b_air  \\\n",
       "0                                 21.940409   \n",
       "1                                 22.085714   \n",
       "2                                 23.957717   \n",
       "3                                 23.954443   \n",
       "4                                 23.958945   \n",
       "\n",
       "   secondary_cleaner.state.floatbank3_b_level  \\\n",
       "0                                 -499.340973   \n",
       "1                                 -499.446897   \n",
       "2                                 -499.901982   \n",
       "3                                 -499.944710   \n",
       "4                                 -499.990309   \n",
       "\n",
       "   secondary_cleaner.state.floatbank4_a_air  \\\n",
       "0                                 14.016835   \n",
       "1                                 13.992281   \n",
       "2                                 14.015015   \n",
       "3                                 14.036510   \n",
       "4                                 14.027298   \n",
       "\n",
       "   secondary_cleaner.state.floatbank4_a_level  \\\n",
       "0                                 -502.488007   \n",
       "1                                 -505.503262   \n",
       "2                                 -502.520901   \n",
       "3                                 -500.857308   \n",
       "4                                 -499.838632   \n",
       "\n",
       "   secondary_cleaner.state.floatbank4_b_air  \\\n",
       "0                                 12.099931   \n",
       "1                                 11.950531   \n",
       "2                                 11.912783   \n",
       "3                                 11.999550   \n",
       "4                                 11.953070   \n",
       "\n",
       "   secondary_cleaner.state.floatbank4_b_level  \\\n",
       "0                                 -504.715942   \n",
       "1                                 -501.331529   \n",
       "2                                 -501.133383   \n",
       "3                                 -501.193686   \n",
       "4                                 -501.053894   \n",
       "\n",
       "   secondary_cleaner.state.floatbank5_a_air  \\\n",
       "0                                  9.925633   \n",
       "1                                 10.039245   \n",
       "2                                 10.070913   \n",
       "3                                  9.970366   \n",
       "4                                  9.925709   \n",
       "\n",
       "   secondary_cleaner.state.floatbank5_a_level  \\\n",
       "0                                 -498.310211   \n",
       "1                                 -500.169983   \n",
       "2                                 -500.129135   \n",
       "3                                 -499.201640   \n",
       "4                                 -501.686727   \n",
       "\n",
       "   secondary_cleaner.state.floatbank5_b_air  \\\n",
       "0                                  8.079666   \n",
       "1                                  7.984757   \n",
       "2                                  8.013877   \n",
       "3                                  7.977324   \n",
       "4                                  7.894242   \n",
       "\n",
       "   secondary_cleaner.state.floatbank5_b_level  \\\n",
       "0                                 -500.470978   \n",
       "1                                 -500.582168   \n",
       "2                                 -500.517572   \n",
       "3                                 -500.255908   \n",
       "4                                 -500.356035   \n",
       "\n",
       "   secondary_cleaner.state.floatbank6_a_air  \\\n",
       "0                                 14.151341   \n",
       "1                                 13.998353   \n",
       "2                                 14.028663   \n",
       "3                                 14.005551   \n",
       "4                                 13.996647   \n",
       "\n",
       "   secondary_cleaner.state.floatbank6_a_level  \n",
       "0                                 -605.841980  \n",
       "1                                 -599.787184  \n",
       "2                                 -601.427363  \n",
       "3                                 -599.996129  \n",
       "4                                 -601.496691  "
      ]
     },
     "metadata": {},
     "output_type": "display_data"
    },
    {
     "name": "stdout",
     "output_type": "stream",
     "text": [
      "<class 'pandas.core.frame.DataFrame'>\n",
      "RangeIndex: 19439 entries, 0 to 19438\n",
      "Data columns (total 87 columns):\n",
      " #   Column                                              Non-Null Count  Dtype  \n",
      "---  ------                                              --------------  -----  \n",
      " 0   date                                                19439 non-null  object \n",
      " 1   final.output.concentrate_ag                         19438 non-null  float64\n",
      " 2   final.output.concentrate_pb                         19438 non-null  float64\n",
      " 3   final.output.concentrate_sol                        19228 non-null  float64\n",
      " 4   final.output.concentrate_au                         19439 non-null  float64\n",
      " 5   final.output.recovery                               19439 non-null  float64\n",
      " 6   final.output.tail_ag                                19438 non-null  float64\n",
      " 7   final.output.tail_pb                                19338 non-null  float64\n",
      " 8   final.output.tail_sol                               19433 non-null  float64\n",
      " 9   final.output.tail_au                                19439 non-null  float64\n",
      " 10  primary_cleaner.input.sulfate                       19415 non-null  float64\n",
      " 11  primary_cleaner.input.depressant                    19402 non-null  float64\n",
      " 12  primary_cleaner.input.feed_size                     19439 non-null  float64\n",
      " 13  primary_cleaner.input.xanthate                      19335 non-null  float64\n",
      " 14  primary_cleaner.output.concentrate_ag               19439 non-null  float64\n",
      " 15  primary_cleaner.output.concentrate_pb               19323 non-null  float64\n",
      " 16  primary_cleaner.output.concentrate_sol              19069 non-null  float64\n",
      " 17  primary_cleaner.output.concentrate_au               19439 non-null  float64\n",
      " 18  primary_cleaner.output.tail_ag                      19435 non-null  float64\n",
      " 19  primary_cleaner.output.tail_pb                      19418 non-null  float64\n",
      " 20  primary_cleaner.output.tail_sol                     19377 non-null  float64\n",
      " 21  primary_cleaner.output.tail_au                      19439 non-null  float64\n",
      " 22  primary_cleaner.state.floatbank8_a_air              19435 non-null  float64\n",
      " 23  primary_cleaner.state.floatbank8_a_level            19438 non-null  float64\n",
      " 24  primary_cleaner.state.floatbank8_b_air              19435 non-null  float64\n",
      " 25  primary_cleaner.state.floatbank8_b_level            19438 non-null  float64\n",
      " 26  primary_cleaner.state.floatbank8_c_air              19437 non-null  float64\n",
      " 27  primary_cleaner.state.floatbank8_c_level            19438 non-null  float64\n",
      " 28  primary_cleaner.state.floatbank8_d_air              19436 non-null  float64\n",
      " 29  primary_cleaner.state.floatbank8_d_level            19438 non-null  float64\n",
      " 30  rougher.calculation.sulfate_to_au_concentrate       19437 non-null  float64\n",
      " 31  rougher.calculation.floatbank10_sulfate_to_au_feed  19437 non-null  float64\n",
      " 32  rougher.calculation.floatbank11_sulfate_to_au_feed  19437 non-null  float64\n",
      " 33  rougher.calculation.au_pb_ratio                     19439 non-null  float64\n",
      " 34  rougher.input.feed_ag                               19439 non-null  float64\n",
      " 35  rougher.input.feed_pb                               19339 non-null  float64\n",
      " 36  rougher.input.feed_rate                             19428 non-null  float64\n",
      " 37  rougher.input.feed_size                             19294 non-null  float64\n",
      " 38  rougher.input.feed_sol                              19340 non-null  float64\n",
      " 39  rougher.input.feed_au                               19439 non-null  float64\n",
      " 40  rougher.input.floatbank10_sulfate                   19405 non-null  float64\n",
      " 41  rougher.input.floatbank10_xanthate                  19431 non-null  float64\n",
      " 42  rougher.input.floatbank11_sulfate                   19395 non-null  float64\n",
      " 43  rougher.input.floatbank11_xanthate                  18986 non-null  float64\n",
      " 44  rougher.output.concentrate_ag                       19439 non-null  float64\n",
      " 45  rougher.output.concentrate_pb                       19439 non-null  float64\n",
      " 46  rougher.output.concentrate_sol                      19416 non-null  float64\n",
      " 47  rougher.output.concentrate_au                       19439 non-null  float64\n",
      " 48  rougher.output.recovery                             19439 non-null  float64\n",
      " 49  rougher.output.tail_ag                              19438 non-null  float64\n",
      " 50  rougher.output.tail_pb                              19439 non-null  float64\n",
      " 51  rougher.output.tail_sol                             19439 non-null  float64\n",
      " 52  rougher.output.tail_au                              19439 non-null  float64\n",
      " 53  rougher.state.floatbank10_a_air                     19438 non-null  float64\n",
      " 54  rougher.state.floatbank10_a_level                   19438 non-null  float64\n",
      " 55  rougher.state.floatbank10_b_air                     19438 non-null  float64\n",
      " 56  rougher.state.floatbank10_b_level                   19438 non-null  float64\n",
      " 57  rougher.state.floatbank10_c_air                     19438 non-null  float64\n",
      " 58  rougher.state.floatbank10_c_level                   19438 non-null  float64\n",
      " 59  rougher.state.floatbank10_d_air                     19439 non-null  float64\n",
      " 60  rougher.state.floatbank10_d_level                   19439 non-null  float64\n",
      " 61  rougher.state.floatbank10_e_air                     19003 non-null  float64\n",
      " 62  rougher.state.floatbank10_e_level                   19439 non-null  float64\n",
      " 63  rougher.state.floatbank10_f_air                     19439 non-null  float64\n",
      " 64  rougher.state.floatbank10_f_level                   19439 non-null  float64\n",
      " 65  secondary_cleaner.output.tail_ag                    19437 non-null  float64\n",
      " 66  secondary_cleaner.output.tail_pb                    19427 non-null  float64\n",
      " 67  secondary_cleaner.output.tail_sol                   17691 non-null  float64\n",
      " 68  secondary_cleaner.output.tail_au                    19439 non-null  float64\n",
      " 69  secondary_cleaner.state.floatbank2_a_air            19219 non-null  float64\n",
      " 70  secondary_cleaner.state.floatbank2_a_level          19438 non-null  float64\n",
      " 71  secondary_cleaner.state.floatbank2_b_air            19416 non-null  float64\n",
      " 72  secondary_cleaner.state.floatbank2_b_level          19438 non-null  float64\n",
      " 73  secondary_cleaner.state.floatbank3_a_air            19426 non-null  float64\n",
      " 74  secondary_cleaner.state.floatbank3_a_level          19438 non-null  float64\n",
      " 75  secondary_cleaner.state.floatbank3_b_air            19438 non-null  float64\n",
      " 76  secondary_cleaner.state.floatbank3_b_level          19438 non-null  float64\n",
      " 77  secondary_cleaner.state.floatbank4_a_air            19433 non-null  float64\n",
      " 78  secondary_cleaner.state.floatbank4_a_level          19438 non-null  float64\n",
      " 79  secondary_cleaner.state.floatbank4_b_air            19438 non-null  float64\n",
      " 80  secondary_cleaner.state.floatbank4_b_level          19438 non-null  float64\n",
      " 81  secondary_cleaner.state.floatbank5_a_air            19438 non-null  float64\n",
      " 82  secondary_cleaner.state.floatbank5_a_level          19438 non-null  float64\n",
      " 83  secondary_cleaner.state.floatbank5_b_air            19438 non-null  float64\n",
      " 84  secondary_cleaner.state.floatbank5_b_level          19438 non-null  float64\n",
      " 85  secondary_cleaner.state.floatbank6_a_air            19437 non-null  float64\n",
      " 86  secondary_cleaner.state.floatbank6_a_level          19438 non-null  float64\n",
      "dtypes: float64(86), object(1)\n",
      "memory usage: 12.9+ MB\n"
     ]
    },
    {
     "data": {
      "text/plain": [
       "None"
      ]
     },
     "metadata": {},
     "output_type": "display_data"
    }
   ],
   "source": [
    "# создадим список всех датасетов\n",
    "all_data = [train, test, full]\n",
    "# изучим инфо по каждому датасету\n",
    "for df in all_data:\n",
    "    display(df.head())\n",
    "    display(df.info())"
   ]
  },
  {
   "cell_type": "code",
   "execution_count": 4,
   "metadata": {},
   "outputs": [
    {
     "data": {
      "text/plain": [
       "date    datetime64[ns]\n",
       "dtype: object"
      ]
     },
     "metadata": {},
     "output_type": "display_data"
    },
    {
     "data": {
      "text/plain": [
       "date    datetime64[ns]\n",
       "dtype: object"
      ]
     },
     "metadata": {},
     "output_type": "display_data"
    },
    {
     "data": {
      "text/plain": [
       "date    datetime64[ns]\n",
       "dtype: object"
      ]
     },
     "metadata": {},
     "output_type": "display_data"
    }
   ],
   "source": [
    "# заменим тип данных в колонке date с object на datetime\n",
    "for df in all_data:\n",
    "    df['date'] = pd.to_datetime(df['date'], format='%Y-%m-%d %H:%M:%S')\n",
    "    \n",
    "# проверим изменения\n",
    "for df in all_data:\n",
    "    display(df.dtypes.iloc[:1])"
   ]
  },
  {
   "cell_type": "code",
   "execution_count": 5,
   "metadata": {},
   "outputs": [
    {
     "data": {
      "text/plain": [
       "0"
      ]
     },
     "metadata": {},
     "output_type": "display_data"
    },
    {
     "data": {
      "text/plain": [
       "0"
      ]
     },
     "metadata": {},
     "output_type": "display_data"
    },
    {
     "data": {
      "text/plain": [
       "0"
      ]
     },
     "metadata": {},
     "output_type": "display_data"
    }
   ],
   "source": [
    "# проверим на явные дубликаты\n",
    "for df in all_data:\n",
    "    display(df.duplicated().sum())"
   ]
  },
  {
   "cell_type": "code",
   "execution_count": 6,
   "metadata": {},
   "outputs": [],
   "source": [
    "# так как по условию задачи соседние по времени параметры часто похожи, заполним пропуски методом ffill \n",
    "# который будет использовать ближайшуюю сверху величину для заполнения последующего пропуска\n",
    "train = train.ffill(axis=0)\n",
    "test = test.ffill(axis=0)\n",
    "full = full.ffill(axis=0)"
   ]
  },
  {
   "cell_type": "markdown",
   "metadata": {},
   "source": [
    "После просмотра информации по датасетам были выявлены проблемы:\n",
    "- Колонка date не верный тип данных (был заменен на datetime)\n",
    "- Пропуски в данных (были заполнены методом ffill)\n",
    "\n",
    "Явных дубликатов не обнаружено"
   ]
  },
  {
   "cell_type": "code",
   "execution_count": 7,
   "metadata": {},
   "outputs": [
    {
     "name": "stdout",
     "output_type": "stream",
     "text": [
      "MAE : 9.73512347450521e-15\n"
     ]
    }
   ],
   "source": [
    "# проверим, что эффективность обогащения рассчитана правильно\n",
    "C = train['rougher.output.concentrate_au']  # доля золота в концентрате после флотации/очистки\n",
    "F = train['rougher.input.feed_au']  # доля золота в сырье/концентрате до флотации/очистки\n",
    "T = train['rougher.output.tail_au']  # доля золота в отвальных хвостах после флотации/очистки\n",
    "RECOVERY = ((C*(F-T))/(F*(C-T))) * 100  # формула рассчета эффективности обогащения\n",
    "\n",
    "# выведем MAE между нашими расчётами и значением признака rougher.output.recovery\n",
    "print('MAE :', mean_absolute_error(train['rougher.output.recovery'], RECOVERY))"
   ]
  },
  {
   "cell_type": "markdown",
   "metadata": {},
   "source": [
    "Значение MAE 9.73e-15, это очень малое значение показывающие среднее отклонение наших расчетов от признака. Следовательно можем сделать вывод, что эффективность обогащения рассчитана правильно."
   ]
  },
  {
   "cell_type": "code",
   "execution_count": 8,
   "metadata": {},
   "outputs": [
    {
     "data": {
      "text/plain": [
       "{'final.output.concentrate_ag',\n",
       " 'final.output.concentrate_au',\n",
       " 'final.output.concentrate_pb',\n",
       " 'final.output.concentrate_sol',\n",
       " 'final.output.recovery',\n",
       " 'final.output.tail_ag',\n",
       " 'final.output.tail_au',\n",
       " 'final.output.tail_pb',\n",
       " 'final.output.tail_sol',\n",
       " 'primary_cleaner.output.concentrate_ag',\n",
       " 'primary_cleaner.output.concentrate_au',\n",
       " 'primary_cleaner.output.concentrate_pb',\n",
       " 'primary_cleaner.output.concentrate_sol',\n",
       " 'primary_cleaner.output.tail_ag',\n",
       " 'primary_cleaner.output.tail_au',\n",
       " 'primary_cleaner.output.tail_pb',\n",
       " 'primary_cleaner.output.tail_sol',\n",
       " 'rougher.calculation.au_pb_ratio',\n",
       " 'rougher.calculation.floatbank10_sulfate_to_au_feed',\n",
       " 'rougher.calculation.floatbank11_sulfate_to_au_feed',\n",
       " 'rougher.calculation.sulfate_to_au_concentrate',\n",
       " 'rougher.output.concentrate_ag',\n",
       " 'rougher.output.concentrate_au',\n",
       " 'rougher.output.concentrate_pb',\n",
       " 'rougher.output.concentrate_sol',\n",
       " 'rougher.output.recovery',\n",
       " 'rougher.output.tail_ag',\n",
       " 'rougher.output.tail_au',\n",
       " 'rougher.output.tail_pb',\n",
       " 'rougher.output.tail_sol',\n",
       " 'secondary_cleaner.output.tail_ag',\n",
       " 'secondary_cleaner.output.tail_au',\n",
       " 'secondary_cleaner.output.tail_pb',\n",
       " 'secondary_cleaner.output.tail_sol'}"
      ]
     },
     "execution_count": 8,
     "metadata": {},
     "output_type": "execute_result"
    }
   ],
   "source": [
    "# проанализируем признаки, недоступные в тестовой выборке\n",
    "missed_columns = set(train.columns) - set(test.columns)\n",
    "\n",
    "# выведем список признаков которые отсутствуют в тестовой выборке\n",
    "missed_columns"
   ]
  },
  {
   "cell_type": "markdown",
   "metadata": {},
   "source": [
    "По условию задачи в тестовой выборке отсутствуют признаки которые замеряются и/или рассчитываются значительно позже. Как мы можем заметить в эти признаки входят целевые (эффективность обогащения чернового концентрата - rougher.output.recovery, эффективность обогащения финального концентрата - final.output.recovery), а так же ряд признаков которые являются выходными результатами после каждого технологического этапа."
   ]
  },
  {
   "cell_type": "code",
   "execution_count": 9,
   "metadata": {},
   "outputs": [],
   "source": [
    "# добавим в тестовую выборку целевые признаки для дальнейшей проверки качества моделей\n",
    "test = test.merge(full.loc[:, ['date', 'rougher.output.recovery', 'final.output.recovery']], on='date')"
   ]
  },
  {
   "cell_type": "code",
   "execution_count": 10,
   "metadata": {},
   "outputs": [],
   "source": [
    "# колонка с датой нам больше не пригодится, удалим ее в тренировочной и тестовой выборках\n",
    "train = train.drop('date', axis=1)\n",
    "test = test.drop('date', axis=1)"
   ]
  },
  {
   "cell_type": "markdown",
   "metadata": {},
   "source": [
    "## Анализ данных"
   ]
  },
  {
   "cell_type": "code",
   "execution_count": 28,
   "metadata": {},
   "outputs": [
    {
     "data": {
      "image/png": "[encoded data removed]",
      "text/plain": [
       "<Figure size 1080x1224 with 3 Axes>"
      ]
     },
     "metadata": {
      "needs_background": "light"
     },
     "output_type": "display_data"
    }
   ],
   "source": [
    "# исследуем концентрации металлов на разных стадиях обработки\n",
    "position = 0\n",
    "plt.figure(figsize=[15, 17])\n",
    "plt.suptitle('График концентрации металлов на разных этапах очистки.', fontsize=15)\n",
    "for metal in ['au', 'ag', 'pb']:\n",
    "    position += 1\n",
    "    plt.subplot(3, 1, position)\n",
    "    plt.title(f'{str(metal).upper()}', fontsize=15)\n",
    "    sns.distplot(full[f'rougher.input.feed_{metal}'], label='Исходное сырье', kde=False)\n",
    "    sns.distplot(full[f'rougher.output.concentrate_{metal}'], label='После флотации', kde=False)\n",
    "    sns.distplot(full[f'primary_cleaner.output.concentrate_{metal}'], label='После первичной очистки', kde=False)\n",
    "    sns.distplot(full[f'final.output.concentrate_{metal}'], label='Финальная концетрация', kde=False)\n",
    "    plt.xlabel('Концентрация металла')\n",
    "    plt.ylabel('Количество наблюдений')\n",
    "    plt.legend()\n",
    "plt.show()"
   ]
  },
  {
   "cell_type": "markdown",
   "metadata": {},
   "source": [
    "По графикам можно сделать вывод что концентрация золота постепенно растет с каждым технологическим этапом. Серебро имеет максимальную концентрацию после флотации и минимальную на финальной стадии (меньше чем в исходном сырье). Концентрация свинца постепенно растет и на 2х последних этапах имеет примерно одинаковые показатели."
   ]
  },
  {
   "cell_type": "code",
   "execution_count": 29,
   "metadata": {},
   "outputs": [
    {
     "data": {
      "image/png": "[encoded data removed]",
      "text/plain": [
       "<Figure size 1080x1224 with 2 Axes>"
      ]
     },
     "metadata": {
      "needs_background": "light"
     },
     "output_type": "display_data"
    }
   ],
   "source": [
    "# исследуем распределение размера гранул на этапах rougher и primary_cleaner в train и test выборках\n",
    "position = 0\n",
    "plt.figure(figsize=[15, 17])\n",
    "for stage in ['rougher', 'primary_cleaner']:\n",
    "    position += 1\n",
    "    plt.subplot(2, 1, position)\n",
    "    plt.title(f'График распределения размера гранул на этапе  {stage} на обучающей и тестовой выборке', fontsize=15)\n",
    "    sns.distplot(train[f'{stage}.input.feed_size'], label='Обучающая выборка')\n",
    "    sns.distplot(test[f'{stage}.input.feed_size'], label='Тестовая выборка')\n",
    "    plt.xlabel('Количество наблюдений')\n",
    "    plt.ylabel('Размер гранул')\n",
    "    plt.legend()\n",
    "plt.show()"
   ]
  },
  {
   "cell_type": "markdown",
   "metadata": {},
   "source": [
    "Размер гранул существенно не различается между тестовой и тренировочной выборками. Также мы видим что на этапе primary_cleaner размер гранул имеет максимальные значения в раоне 0.8 в то время как на этапе флотации размер гранул не превышал значения 0.05."
   ]
  },
  {
   "cell_type": "code",
   "execution_count": 13,
   "metadata": {},
   "outputs": [
    {
     "data": {
      "image/png": "[encoded data removed]",
      "text/plain": [
       "<Figure size 1080x648 with 1 Axes>"
      ]
     },
     "metadata": {
      "needs_background": "light"
     },
     "output_type": "display_data"
    }
   ],
   "source": [
    "# исследуем суммарную концентрацию всех веществ на разных стадиях: в сырье, в черновом и финальном концентратах\n",
    "sum_concentrate_of_rougher_input = 0\n",
    "sum_concentrate_of_rougher_output = 0\n",
    "sum_concentrate_of_primary_cleaner_output = 0\n",
    "sum_concentrate_of_final_output = 0\n",
    "for metal in ['au', 'ag', 'pb', 'sol']:\n",
    "    sum_concentrate_of_rougher_input += full[f'rougher.input.feed_{metal}']\n",
    "    sum_concentrate_of_rougher_output += full[f'rougher.output.concentrate_{metal}']\n",
    "    sum_concentrate_of_final_output += full[f'final.output.concentrate_{metal}']\n",
    "    \n",
    "    \n",
    "plt.figure(figsize=[15, 9])\n",
    "plt.suptitle('График суммарной концентрации веществ на разных стадиях обработки.', fontsize=15)\n",
    "sns.distplot(sum_concentrate_of_rougher_input, label='Исходное сырье', kde=False)\n",
    "sns.distplot(sum_concentrate_of_rougher_output, label='Концентрация после флотации', kde=False)\n",
    "sns.distplot(sum_concentrate_of_final_output, label='Финальная концетрация',kde=False)\n",
    "plt.xlabel('Концентрация веществ')\n",
    "plt.ylabel('Количество наблюдений')\n",
    "plt.legend()\n",
    "plt.show()"
   ]
  },
  {
   "cell_type": "markdown",
   "metadata": {},
   "source": [
    "К финальному этапу концентрация веществ в большей части наблюдений увеличивается и имеет похожую концентрацию с этапом после флотации но меньший разброс значений."
   ]
  },
  {
   "cell_type": "markdown",
   "metadata": {},
   "source": [
    "На графиках распределения веществ есть значения равные нулю. Будем считать их аномальными и удалим."
   ]
  },
  {
   "cell_type": "code",
   "execution_count": 14,
   "metadata": {},
   "outputs": [],
   "source": [
    "# удаляем нулевые значения в выборке train\n",
    "train = train.loc[(train['rougher.output.concentrate_au'] != 0) & (train['rougher.output.concentrate_ag'] != 0) & (train['rougher.output.concentrate_pb'] != 0) & (train['rougher.output.concentrate_sol'] != 0)]\n",
    "train = train.loc[(train['final.output.concentrate_au'] != 0) & (train['final.output.concentrate_ag'] != 0) & (train['final.output.concentrate_pb'] != 0) & (train['final.output.concentrate_sol'] != 0)]\n",
    "\n",
    "# удаляем нулевые значения в выборке full\n",
    "full = full.loc[(full['rougher.output.concentrate_au'] != 0) & (full['rougher.output.concentrate_ag'] != 0) & (full['rougher.output.concentrate_pb'] != 0) & (full['rougher.output.concentrate_sol'] != 0)]\n",
    "full = full.loc[(full['final.output.concentrate_au'] != 0) & (full['final.output.concentrate_ag'] != 0) & (full['final.output.concentrate_pb'] != 0) & (full['final.output.concentrate_sol'] != 0)]"
   ]
  },
  {
   "cell_type": "markdown",
   "metadata": {},
   "source": [
    "## Модель"
   ]
  },
  {
   "cell_type": "code",
   "execution_count": 15,
   "metadata": {},
   "outputs": [],
   "source": [
    "# разделим тестовую и обучающую выборки на признаки и таргеты\n",
    "# обучающая выборка\n",
    "X_train = train.drop(missed_columns, axis=1)\n",
    "y_rougher_train = train['rougher.output.recovery'] \n",
    "y_final_train = train['final.output.recovery']\n",
    "\n",
    "# тестовая выборка\n",
    "X_test = test.drop(['rougher.output.recovery', 'final.output.recovery'], axis=1)\n",
    "y_rougher_test = test['rougher.output.recovery'] \n",
    "y_final_test = test['final.output.recovery']"
   ]
  },
  {
   "cell_type": "code",
   "execution_count": 16,
   "metadata": {},
   "outputs": [
    {
     "data": {
      "text/plain": [
       "'Размер train: 13792 строк, 52 столбца'"
      ]
     },
     "metadata": {},
     "output_type": "display_data"
    },
    {
     "data": {
      "text/plain": [
       "'Размер таргета rougher_train: 13792 строк'"
      ]
     },
     "metadata": {},
     "output_type": "display_data"
    },
    {
     "data": {
      "text/plain": [
       "'Размер таргета final_train: 13792 строк'"
      ]
     },
     "metadata": {},
     "output_type": "display_data"
    },
    {
     "data": {
      "text/plain": [
       "'========================================'"
      ]
     },
     "metadata": {},
     "output_type": "display_data"
    },
    {
     "data": {
      "text/plain": [
       "'Размер test: 5290 строк, 52 столбца'"
      ]
     },
     "metadata": {},
     "output_type": "display_data"
    },
    {
     "data": {
      "text/plain": [
       "'Размер таргета rougher_test: 5290 строк'"
      ]
     },
     "metadata": {},
     "output_type": "display_data"
    },
    {
     "data": {
      "text/plain": [
       "'Размер таргета final_test: 5290 строк'"
      ]
     },
     "metadata": {},
     "output_type": "display_data"
    }
   ],
   "source": [
    "# посмотрим на размер получившихся выборок\n",
    "display(f'Размер train: {X_train.shape[0]} строк, {X_train.shape[1]} столбца')\n",
    "display(f'Размер таргета rougher_train: {y_rougher_train.shape[0]} строк')\n",
    "display(f'Размер таргета final_train: {y_final_train.shape[0]} строк')\n",
    "display('='*40)\n",
    "display(f'Размер test: {X_test.shape[0]} строк, {X_test.shape[1]} столбца')\n",
    "display(f'Размер таргета rougher_test: {y_rougher_test.shape[0]} строк')\n",
    "display(f'Размер таргета final_test: {y_final_test.shape[0]} строк')"
   ]
  },
  {
   "cell_type": "code",
   "execution_count": 17,
   "metadata": {},
   "outputs": [],
   "source": [
    "# создадим функцию для подсчета sMAPE\n",
    "def get_sMAPE(target, predict):\n",
    "    sMAPE = (1/len(target))*np.sum((np.abs(target-predict))/((np.abs(target)+np.abs(predict))/2))*100\n",
    "    return sMAPE"
   ]
  },
  {
   "cell_type": "code",
   "execution_count": 18,
   "metadata": {},
   "outputs": [],
   "source": [
    "# создадим функцию для подсчета финального sMAPE \n",
    "def get_final_sMAPE(rougher_sMAPE, final_sMAPE):\n",
    "    finally_sMAPE = 0.25 * rougher_sMAPE + 0.75 * final_sMAPE\n",
    "    return finally_sMAPE"
   ]
  },
  {
   "cell_type": "code",
   "execution_count": 19,
   "metadata": {},
   "outputs": [],
   "source": [
    "# добавим свою метрику для cross_val_score\n",
    "sMAPE_scorer = make_scorer(get_sMAPE)"
   ]
  },
  {
   "cell_type": "code",
   "execution_count": 20,
   "metadata": {},
   "outputs": [
    {
     "data": {
      "text/plain": [
       "'sMAPE rougher: 7.2725301489217005'"
      ]
     },
     "metadata": {},
     "output_type": "display_data"
    },
    {
     "data": {
      "text/plain": [
       "'sMAPE final: 10.988171875003161'"
      ]
     },
     "metadata": {},
     "output_type": "display_data"
    },
    {
     "data": {
      "text/plain": [
       "'sMAPE итоговое: 10.059261443482796'"
      ]
     },
     "metadata": {},
     "output_type": "display_data"
    }
   ],
   "source": [
    "# LinearRegression посчитаем sMAPE на тренировочной выборке с использованием кросс валидации\n",
    "LR_rougher = LinearRegression()\n",
    "sMAPE_rougher = cross_val_score(LR_rougher, X_train, y_rougher_train, scoring=sMAPE_scorer, cv=5)\n",
    "sMAPE_rougher = sMAPE_rougher.mean()\n",
    "\n",
    "\n",
    "LR_final = LinearRegression()\n",
    "sMAPE_final = cross_val_score(LR_final, X_train, y_final_train, scoring=sMAPE_scorer, cv=5)\n",
    "sMAPE_final = sMAPE_final.mean()\n",
    "\n",
    "finally_sMAPE_LR = get_final_sMAPE(sMAPE_rougher, sMAPE_final)\n",
    "\n",
    "display(f'sMAPE rougher: {sMAPE_rougher}')\n",
    "display(f'sMAPE final: {sMAPE_final}')\n",
    "display(f'sMAPE итоговое: {finally_sMAPE_LR}')"
   ]
  },
  {
   "cell_type": "code",
   "execution_count": 23,
   "metadata": {},
   "outputs": [
    {
     "name": "stderr",
     "output_type": "stream",
     "text": [
      "100%|██████████| 10/10 [00:13<00:00,  1.35s/it]\n",
      "100%|██████████| 10/10 [00:13<00:00,  1.39s/it]\n"
     ]
    },
    {
     "data": {
      "text/plain": [
       "'Лучшее значение параметра max_depth для этапа rougher: 3'"
      ]
     },
     "metadata": {},
     "output_type": "display_data"
    },
    {
     "data": {
      "text/plain": [
       "'Лучшее значение параметра max_depth для этапа final: 2'"
      ]
     },
     "metadata": {},
     "output_type": "display_data"
    },
    {
     "data": {
      "text/plain": [
       "'----------------------------------------------------------------------'"
      ]
     },
     "metadata": {},
     "output_type": "display_data"
    },
    {
     "data": {
      "text/plain": [
       "'sMAPE rougher: 7.355656304525764'"
      ]
     },
     "metadata": {},
     "output_type": "display_data"
    },
    {
     "data": {
      "text/plain": [
       "'sMAPE final: 9.38291370298173'"
      ]
     },
     "metadata": {},
     "output_type": "display_data"
    },
    {
     "data": {
      "text/plain": [
       "'sMAPE итоговое: 8.876099353367739'"
      ]
     },
     "metadata": {},
     "output_type": "display_data"
    }
   ],
   "source": [
    "# DecisionTreeRegressor посчитаем sMAPE на тренировочной выборке с использованием кросс валидации\n",
    "# и подберем лучший пораметр для max_depth\n",
    "state = RandomState(12345)\n",
    "\n",
    "best_sMAPE_rougher = 100\n",
    "best_depth_rougher = 0\n",
    "for depth in tqdm(range(1, 11, 1)):\n",
    "    DTR_rougher = DecisionTreeRegressor(max_depth=depth, random_state=state)\n",
    "    sMAPE_rougher = cross_val_score(DTR_rougher, X_train, y_rougher_train, scoring=sMAPE_scorer, cv=5)\n",
    "    sMAPE_rougher = sMAPE_rougher.mean()\n",
    "    \n",
    "    if sMAPE_rougher < best_sMAPE_rougher:\n",
    "        best_sMAPE_rougher = sMAPE_rougher\n",
    "        best_depth_rougher = depth\n",
    "\n",
    "    \n",
    "best_sMAPE_final = 100\n",
    "best_depth_final = 0\n",
    "for depth in tqdm(range(1, 11, 1)):    \n",
    "    DTR_final = DecisionTreeRegressor(max_depth=depth, random_state=state)\n",
    "    sMAPE_final = cross_val_score(DTR_final, X_train, y_final_train, scoring=sMAPE_scorer, cv=5)\n",
    "    sMAPE_final = sMAPE_final.mean()\n",
    "    \n",
    "    if sMAPE_final < best_sMAPE_final:\n",
    "        best_sMAPE_final = sMAPE_final\n",
    "        best_depth_final = depth\n",
    "    \n",
    "    \n",
    "finally_sMAPE_DTR = get_final_sMAPE(best_sMAPE_rougher, best_sMAPE_final)\n",
    "\n",
    "\n",
    "display(f'Лучшее значение параметра max_depth для этапа rougher: {best_depth_rougher}')\n",
    "display(f'Лучшее значение параметра max_depth для этапа final: {best_depth_final}')\n",
    "display('-'*70)\n",
    "display(f'sMAPE rougher: {best_sMAPE_rougher}')\n",
    "display(f'sMAPE final: {best_sMAPE_final}')\n",
    "display(f'sMAPE итоговое: {finally_sMAPE_DTR}')"
   ]
  },
  {
   "cell_type": "code",
   "execution_count": 24,
   "metadata": {
    "scrolled": true
   },
   "outputs": [
    {
     "name": "stderr",
     "output_type": "stream",
     "text": [
      "  0%|          | 0/5 [00:00<?, ?it/s]\n",
      "  0%|          | 0/5 [00:00<?, ?it/s]\u001b[A\n",
      " 20%|██        | 1/5 [00:06<00:27,  6.79s/it]\u001b[A\n",
      " 40%|████      | 2/5 [00:19<00:30, 10.28s/it]\u001b[A\n",
      " 60%|██████    | 3/5 [00:37<00:27, 13.78s/it]\u001b[A\n",
      " 80%|████████  | 4/5 [01:00<00:17, 17.26s/it]\u001b[A\n",
      "100%|██████████| 5/5 [01:27<00:00, 17.49s/it]\u001b[A\n",
      " 20%|██        | 1/5 [01:27<05:49, 87.45s/it]\n",
      "  0%|          | 0/5 [00:00<?, ?it/s]\u001b[A\n",
      " 20%|██        | 1/5 [00:13<00:53, 13.40s/it]\u001b[A\n",
      " 40%|████      | 2/5 [00:38<01:01, 20.36s/it]\u001b[A\n",
      " 60%|██████    | 3/5 [01:14<00:54, 27.41s/it]\u001b[A\n",
      " 80%|████████  | 4/5 [01:59<00:34, 34.58s/it]\u001b[A\n",
      "100%|██████████| 5/5 [02:54<00:00, 35.00s/it]\u001b[A\n",
      " 40%|████      | 2/5 [04:22<06:56, 138.94s/it]\n",
      "  0%|          | 0/5 [00:00<?, ?it/s]\u001b[A\n",
      " 20%|██        | 1/5 [00:20<01:20, 20.09s/it]\u001b[A\n",
      " 40%|████      | 2/5 [00:58<01:31, 30.59s/it]\u001b[A\n",
      " 60%|██████    | 3/5 [01:51<01:22, 41.22s/it]\u001b[A\n",
      " 80%|████████  | 4/5 [03:00<00:52, 52.04s/it]\u001b[A\n",
      "100%|██████████| 5/5 [04:22<00:00, 52.44s/it]\u001b[A\n",
      " 60%|██████    | 3/5 [08:44<06:30, 195.22s/it]\n",
      "  0%|          | 0/5 [00:00<?, ?it/s]\u001b[A\n",
      " 20%|██        | 1/5 [00:26<01:47, 26.86s/it]\u001b[A\n",
      " 40%|████      | 2/5 [01:16<02:01, 40.36s/it]\u001b[A\n",
      " 60%|██████    | 3/5 [02:29<01:50, 55.28s/it]\u001b[A\n",
      " 80%|████████  | 4/5 [04:01<01:09, 69.59s/it]\u001b[A\n",
      "100%|██████████| 5/5 [05:50<00:00, 70.00s/it]\u001b[A\n",
      " 80%|████████  | 4/5 [14:34<04:16, 256.33s/it]\n",
      "  0%|          | 0/5 [00:00<?, ?it/s]\u001b[A\n",
      " 20%|██        | 1/5 [00:33<02:14, 33.63s/it]\u001b[A\n",
      " 40%|████      | 2/5 [01:36<02:32, 50.78s/it]\u001b[A\n",
      " 60%|██████    | 3/5 [03:05<02:16, 68.22s/it]\u001b[A\n",
      " 80%|████████  | 4/5 [05:00<01:26, 86.58s/it]\u001b[A\n",
      "100%|██████████| 5/5 [07:18<00:00, 87.72s/it] \u001b[A\n",
      "100%|██████████| 5/5 [21:53<00:00, 262.65s/it]\n",
      "  0%|          | 0/5 [00:00<?, ?it/s]\n",
      "  0%|          | 0/5 [00:00<?, ?it/s]\u001b[A\n",
      " 20%|██        | 1/5 [00:06<00:27,  6.99s/it]\u001b[A\n",
      " 40%|████      | 2/5 [00:19<00:31, 10.50s/it]\u001b[A\n",
      " 60%|██████    | 3/5 [00:38<00:28, 14.11s/it]\u001b[A\n",
      " 80%|████████  | 4/5 [01:01<00:17, 17.72s/it]\u001b[A\n",
      "100%|██████████| 5/5 [01:29<00:00, 17.98s/it]\u001b[A\n",
      " 20%|██        | 1/5 [01:29<05:59, 89.90s/it]\n",
      "  0%|          | 0/5 [00:00<?, ?it/s]\u001b[A\n",
      " 20%|██        | 1/5 [00:14<00:56, 14.23s/it]\u001b[A\n",
      " 40%|████      | 2/5 [00:40<01:04, 21.47s/it]\u001b[A\n",
      " 60%|██████    | 3/5 [01:17<00:57, 28.56s/it]\u001b[A\n",
      " 80%|████████  | 4/5 [02:05<00:36, 36.19s/it]\u001b[A\n",
      "100%|██████████| 5/5 [03:03<00:00, 36.70s/it]\u001b[A\n",
      " 40%|████      | 2/5 [04:33<07:14, 144.96s/it]\n",
      "  0%|          | 0/5 [00:00<?, ?it/s]\u001b[A\n",
      " 20%|██        | 1/5 [00:20<01:22, 20.75s/it]\u001b[A\n",
      " 40%|████      | 2/5 [01:00<01:35, 31.83s/it]\u001b[A\n",
      " 60%|██████    | 3/5 [01:55<01:24, 42.44s/it]\u001b[A\n",
      " 80%|████████  | 4/5 [03:08<00:54, 54.70s/it]\u001b[A\n",
      "100%|██████████| 5/5 [04:34<00:00, 54.94s/it]\u001b[A\n",
      " 60%|██████    | 3/5 [09:08<06:48, 204.21s/it]\n",
      "  0%|          | 0/5 [00:00<?, ?it/s]\u001b[A\n",
      " 20%|██        | 1/5 [00:28<01:52, 28.10s/it]\u001b[A\n",
      " 40%|████      | 2/5 [01:20<02:06, 42.23s/it]\u001b[A\n",
      " 60%|██████    | 3/5 [02:32<01:51, 55.85s/it]\u001b[A\n",
      " 80%|████████  | 4/5 [04:05<01:10, 70.65s/it]\u001b[A\n",
      "100%|██████████| 5/5 [05:57<00:00, 71.50s/it]\u001b[A\n",
      " 80%|████████  | 4/5 [15:05<04:24, 264.73s/it]\n",
      "  0%|          | 0/5 [00:00<?, ?it/s]\u001b[A\n",
      " 20%|██        | 1/5 [00:34<02:16, 34.18s/it]\u001b[A\n",
      " 40%|████      | 2/5 [01:37<02:33, 51.16s/it]\u001b[A\n",
      " 60%|██████    | 3/5 [03:07<02:18, 69.17s/it]\u001b[A\n",
      " 80%|████████  | 4/5 [05:03<01:27, 87.53s/it]\u001b[A\n",
      "100%|██████████| 5/5 [07:21<00:00, 88.32s/it] \u001b[A\n",
      "100%|██████████| 5/5 [22:27<00:00, 269.45s/it]\n"
     ]
    },
    {
     "data": {
      "text/plain": [
       "'Лучшее значение параметра max_depth для этапа rougher: 4'"
      ]
     },
     "metadata": {},
     "output_type": "display_data"
    },
    {
     "data": {
      "text/plain": [
       "'Лучшее значение параметра n_estimators  для этапа rougher: 40'"
      ]
     },
     "metadata": {},
     "output_type": "display_data"
    },
    {
     "data": {
      "text/plain": [
       "'----------------------------------------------------------------------'"
      ]
     },
     "metadata": {},
     "output_type": "display_data"
    },
    {
     "data": {
      "text/plain": [
       "'Лучшее значение параметра max_depth для этапа final: 4'"
      ]
     },
     "metadata": {},
     "output_type": "display_data"
    },
    {
     "data": {
      "text/plain": [
       "'Лучшее значение параметра n_estimators  для этапа final: 60'"
      ]
     },
     "metadata": {},
     "output_type": "display_data"
    },
    {
     "data": {
      "text/plain": [
       "'----------------------------------------------------------------------'"
      ]
     },
     "metadata": {},
     "output_type": "display_data"
    },
    {
     "data": {
      "text/plain": [
       "'sMAPE rougher: 6.715883533471169'"
      ]
     },
     "metadata": {},
     "output_type": "display_data"
    },
    {
     "data": {
      "text/plain": [
       "'sMAPE final: 9.143140387695066'"
      ]
     },
     "metadata": {},
     "output_type": "display_data"
    },
    {
     "data": {
      "text/plain": [
       "'sMAPE итоговое: 8.536326174139091'"
      ]
     },
     "metadata": {},
     "output_type": "display_data"
    }
   ],
   "source": [
    "# RandomForestRegressor посчитаем sMAPE на тренировочной выборке с использованием кросс валидации\n",
    "# и подберем лучшие пораметры для max_depth и n_estimators\n",
    "\n",
    "best_sMAPE_rougher_RFR = 100\n",
    "best_depth_rougher_RFR = 0\n",
    "best_n_estimators_rougher_RFR = 0\n",
    "for est in tqdm(range(20, 101, 20)):\n",
    "    for depth in tqdm(range(2, 11, 2)):\n",
    "        RFR_rougher = RandomForestRegressor(n_estimators=est, max_depth=depth, random_state=state)\n",
    "        sMAPE_rougher = cross_val_score(RFR_rougher, X_train, y_rougher_train, scoring=sMAPE_scorer, cv=5)\n",
    "        sMAPE_rougher = sMAPE_rougher.mean()\n",
    "        \n",
    "        if sMAPE_rougher < best_sMAPE_rougher_RFR:\n",
    "            best_sMAPE_rougher_RFR = sMAPE_rougher\n",
    "            best_depth_rougher_RFR = depth\n",
    "            best_n_estimators_rougher_RFR = est\n",
    "\n",
    "\n",
    "best_sMAPE_final_RFR = 100\n",
    "best_depth_final_RFR = 0\n",
    "best_n_estimators_final_RFR = 0\n",
    "for est in tqdm(range(20, 101, 20)):\n",
    "    for depth in tqdm(range(2, 11, 2)):        \n",
    "        RFR_final = RandomForestRegressor(n_estimators=est, max_depth=depth, random_state=state)\n",
    "        sMAPE_final = cross_val_score(RFR_final, X_train, y_final_train, scoring=sMAPE_scorer, cv=5)\n",
    "        sMAPE_final = sMAPE_final.mean()\n",
    "        \n",
    "        if sMAPE_final < best_sMAPE_final_RFR:\n",
    "            best_sMAPE_final_RFR = sMAPE_final\n",
    "            best_depth_final_RFR = depth\n",
    "            best_n_estimators_final_RFR = est\n",
    "\n",
    "\n",
    "finally_sMAPE_RFR = get_final_sMAPE(best_sMAPE_rougher_RFR, best_sMAPE_final_RFR)\n",
    "        \n",
    "            \n",
    "display(f'Лучшее значение параметра max_depth для этапа rougher: {best_depth_rougher_RFR}')\n",
    "display(f'Лучшее значение параметра n_estimators  для этапа rougher: {best_n_estimators_rougher_RFR}')\n",
    "display('-'*70)\n",
    "display(f'Лучшее значение параметра max_depth для этапа final: {best_depth_final_RFR}')\n",
    "display(f'Лучшее значение параметра n_estimators  для этапа final: {best_n_estimators_final_RFR}')\n",
    "display('-'*70)\n",
    "display(f'sMAPE rougher: {best_sMAPE_rougher_RFR}')\n",
    "display(f'sMAPE final: {best_sMAPE_final_RFR}')\n",
    "display(f'sMAPE итоговое: {finally_sMAPE_RFR}')"
   ]
  },
  {
   "cell_type": "code",
   "execution_count": 25,
   "metadata": {
    "scrolled": true
   },
   "outputs": [
    {
     "data": {
      "text/html": [
       "<div>\n",
       "<style scoped>\n",
       "    .dataframe tbody tr th:only-of-type {\n",
       "        vertical-align: middle;\n",
       "    }\n",
       "\n",
       "    .dataframe tbody tr th {\n",
       "        vertical-align: top;\n",
       "    }\n",
       "\n",
       "    .dataframe thead th {\n",
       "        text-align: right;\n",
       "    }\n",
       "</style>\n",
       "<table border=\"1\" class=\"dataframe\">\n",
       "  <thead>\n",
       "    <tr style=\"text-align: right;\">\n",
       "      <th></th>\n",
       "      <th>Итоговое sMAPE</th>\n",
       "    </tr>\n",
       "  </thead>\n",
       "  <tbody>\n",
       "    <tr>\n",
       "      <th>LinearRegression</th>\n",
       "      <td>10.059261</td>\n",
       "    </tr>\n",
       "    <tr>\n",
       "      <th>DecisionTreeRegressor</th>\n",
       "      <td>8.876099</td>\n",
       "    </tr>\n",
       "    <tr>\n",
       "      <th>RandomForestRegressor</th>\n",
       "      <td>8.536326</td>\n",
       "    </tr>\n",
       "  </tbody>\n",
       "</table>\n",
       "</div>"
      ],
      "text/plain": [
       "                       Итоговое sMAPE\n",
       "LinearRegression            10.059261\n",
       "DecisionTreeRegressor        8.876099\n",
       "RandomForestRegressor        8.536326"
      ]
     },
     "execution_count": 25,
     "metadata": {},
     "output_type": "execute_result"
    }
   ],
   "source": [
    "# выведем на экран таблицу с итоговыми sMAPE для проверенных моделей\n",
    "models = ['LinearRegression', 'DecisionTreeRegressor', 'RandomForestRegressor']\n",
    "sMAPE_table = pd.DataFrame(np.array([finally_sMAPE_LR, finally_sMAPE_DTR, finally_sMAPE_RFR]), index=models)\n",
    "sMAPE_table.set_axis(['Итоговое sMAPE'], axis='columns', inplace=True)\n",
    "sMAPE_table"
   ]
  },
  {
   "cell_type": "markdown",
   "metadata": {},
   "source": [
    "Лучший результат показала модель RandomForestRegressor: 8.536326 (оценки взяты по среднему показателю при кросс валидации). Проверим RandomForestRegressor на тестовых данных."
   ]
  },
  {
   "cell_type": "code",
   "execution_count": 26,
   "metadata": {
    "scrolled": true
   },
   "outputs": [
    {
     "data": {
      "text/plain": [
       "'sMAPE rougher: 8.463679368737496'"
      ]
     },
     "metadata": {},
     "output_type": "display_data"
    },
    {
     "data": {
      "text/plain": [
       "'sMAPE final: 9.659740507778372'"
      ]
     },
     "metadata": {},
     "output_type": "display_data"
    },
    {
     "data": {
      "text/plain": [
       "'sMAPE итоговое: 9.360725223018152'"
      ]
     },
     "metadata": {},
     "output_type": "display_data"
    }
   ],
   "source": [
    "# проверим модель RandomForestRegressor на тестовых данных, лучшие параметры:\n",
    "# для rougher n_estimators=40, max_depth=4 для final n_estimators=60, max_depth=4\n",
    "RFR_rougher = RandomForestRegressor(n_estimators=40, max_depth=4, random_state=state)\n",
    "RFR_rougher.fit(X_train, y_rougher_train)\n",
    "predict_rougher = RFR_rougher.predict(X_test)\n",
    "\n",
    "RFR_final = RandomForestRegressor(n_estimators=60, max_depth=4, random_state=state)\n",
    "RFR_final.fit(X_train, y_final_train)\n",
    "predict_final = RFR_final.predict(X_test)\n",
    "\n",
    "sMAPE_rougher = get_sMAPE(y_rougher_test, predict_rougher)\n",
    "sMAPE_final = get_sMAPE(y_final_test, predict_final)\n",
    "finally_sMAPE = get_final_sMAPE(sMAPE_rougher, sMAPE_final)\n",
    "\n",
    "\n",
    "display(f'sMAPE rougher: {sMAPE_rougher}')\n",
    "display(f'sMAPE final: {sMAPE_final}')\n",
    "display(f'sMAPE итоговое: {finally_sMAPE}')"
   ]
  },
  {
   "cell_type": "code",
   "execution_count": 27,
   "metadata": {},
   "outputs": [
    {
     "data": {
      "text/plain": [
       "'sMAPE rougher: 9.066150363733703'"
      ]
     },
     "metadata": {},
     "output_type": "display_data"
    },
    {
     "data": {
      "text/plain": [
       "'sMAPE final: 10.073241067849125'"
      ]
     },
     "metadata": {},
     "output_type": "display_data"
    },
    {
     "data": {
      "text/plain": [
       "'sMAPE итоговое: 9.82146839182027'"
      ]
     },
     "metadata": {},
     "output_type": "display_data"
    }
   ],
   "source": [
    "# для проверки адекватности проведем тест на константной моделе\n",
    "dummy_rougher = DummyRegressor(strategy='mean')\n",
    "dummy_rougher.fit(X_train, y_rougher_train)\n",
    "dummy_predict_rougher = dummy_rougher.predict(X_test)\n",
    "\n",
    "dummy_final = DummyRegressor(strategy='mean')\n",
    "dummy_final.fit(X_train, y_final_train)\n",
    "dummy_predict_final = dummy_final.predict(X_test)\n",
    "\n",
    "sMAPE_rougher = get_sMAPE(y_rougher_test, dummy_predict_rougher)\n",
    "sMAPE_final = get_sMAPE(y_final_test, dummy_predict_final)\n",
    "finally_sMAPE = get_final_sMAPE(sMAPE_rougher, sMAPE_final)\n",
    "\n",
    "display(f'sMAPE rougher: {sMAPE_rougher}')\n",
    "display(f'sMAPE final: {sMAPE_final}')\n",
    "display(f'sMAPE итоговое: {finally_sMAPE}')"
   ]
  },
  {
   "cell_type": "markdown",
   "metadata": {},
   "source": [
    "Наша лучшая модель показала sMAPE: 9.360725223018152 а константная: 9.82146839182027, разница в 0.5, считаю полученную модель адекватной."
   ]
  },
  {
   "cell_type": "markdown",
   "metadata": {},
   "source": [
    "Вывод:\n",
    "\n",
    "В этом проэкте мы поработали с данными по восстановлению золота из золотосодержащей руды. На этапе обработки данных были выполнены следующие действия:\n",
    "- Проверено, что эффективность обогащения рассчитана правильно. Мы вычислите её на обучающей выборке для признака rougher.output.recovery. Нашли MAE между нашими расчётами и значением признака. MAE: MAE 9.73e-15\n",
    "-  Проанализированы признаки, недоступные в тестовой выборке. В эти признаки входят целевые (эффективность обогащения чернового концентрата - rougher.output.recovery, эффективность обогащения финального концентрата - final.output.recovery), а так же ряд признаков которые являются выходными результатами после каждого технологического этапа.\n",
    "- Проверили данные на явные дубликаты.\n",
    "- Заполнили пропуски соседними значениями (по условию задачи).\n",
    "- Перевели колонки с датой в формат datetime.\n",
    "- Восстановили целевые признаки в тестовой выборке из full датасета.\n",
    "\n",
    "\n",
    "На этапе анализа данных:\n",
    "- Исследовали концентрации металлов на разных этапах обработки (По графикам можно сделать вывод что концентрация золота постепенно растет с каждым технологическим этапом. Серебро имеет максимальную концентрацию после флотации и минимальную на финальной стадии (меньше чем в исходном сырье). Концентрация свинца постепенно растет и на 2х последних этапах имеет примерно одинаковые показатели.)\n",
    "- Исследовали распределение размеров гранул в тестовой и обучающей выборках на этапах rougher и primary_cleaner (Размер гранул существенно не различается между тестовой и тренировочной выборками. Также мы видим что на этапе primary_cleaner размер гранул имеет максимальные значения в раоне 0.8 в то время как на этапе флотации размер гранул не превышал значения 0.05.)\n",
    "- Исследовали суммарную концентрацию всех веществ на разных стадиях: в сырье, в черновом и финальном концентратах(К финальному этапу концентрация веществ в большей части наблюдений увеличивается и имеет похожую концентрацию с этапом после флотации но меньший разброс значений.)\n",
    "\n",
    "\n",
    "На этапе Обучения и проверки модели:\n",
    "- Разделили выборки на параметры и таргет.\n",
    "- Создали функции расчета sMAPE и итогового sMAPE.\n",
    "- Получили резулитаты итогового sMAPE на тестовых данных (с учетом подбора лучших гиперпараметров):\n",
    "    - LinearRegression:\t10.059261\n",
    "    - DecisionTreeRegressor:\t8.876099\n",
    "    - RandomForestRegressor:\t8.536326\n",
    "- Получи результат итогового sMAPE для модели RandomForestRegressor с параметрами для rougher: max_depth-4, n_estimators-40, для final: max_depth-4, n_estimators-60, для тестовой выборки.\n",
    "    - sMAPE итоговое: 9.360725223018152\n",
    "- Для проверки адекватности лучший модели сравниле результат полученый на RandomForestRegressor с константной моделью из библиотеки sclearn:\n",
    "    - sMAPE итоговое: 9.82146839182027\n",
    "    \n",
    "    \n",
    "Наша модель успешно прошла проверку и показала результат превосходящий константную модель на 0.5%\n"
   ]
  }
 ],
 "metadata": {
  "ExecuteTimeLog": [
   {
    "duration": 1600,
    "start_time": "2023-01-16T08:29:43.620Z"
   },
   {
    "duration": 165,
    "start_time": "2023-01-16T08:31:13.590Z"
   },
   {
    "duration": 1290,
    "start_time": "2023-01-16T08:31:57.416Z"
   },
   {
    "duration": 946,
    "start_time": "2023-01-16T08:32:25.520Z"
   },
   {
    "duration": 40,
    "start_time": "2023-01-16T08:34:02.472Z"
   },
   {
    "duration": 4,
    "start_time": "2023-01-16T21:18:12.844Z"
   },
   {
    "duration": 1656,
    "start_time": "2023-01-17T08:20:04.705Z"
   },
   {
    "duration": 2019,
    "start_time": "2023-01-17T08:20:15.081Z"
   },
   {
    "duration": 57,
    "start_time": "2023-01-17T08:21:48.851Z"
   },
   {
    "duration": 34,
    "start_time": "2023-01-17T08:22:14.065Z"
   },
   {
    "duration": 131,
    "start_time": "2023-01-17T08:23:05.995Z"
   },
   {
    "duration": 209,
    "start_time": "2023-01-17T08:23:24.898Z"
   },
   {
    "duration": 195,
    "start_time": "2023-01-17T08:25:25.176Z"
   },
   {
    "duration": 188,
    "start_time": "2023-01-17T09:05:49.433Z"
   },
   {
    "duration": 23,
    "start_time": "2023-01-17T09:06:38.209Z"
   },
   {
    "duration": 15,
    "start_time": "2023-01-17T09:08:31.802Z"
   },
   {
    "duration": 137,
    "start_time": "2023-01-17T09:09:06.625Z"
   },
   {
    "duration": 84,
    "start_time": "2023-01-17T09:09:45.618Z"
   },
   {
    "duration": 36,
    "start_time": "2023-01-17T09:09:58.965Z"
   },
   {
    "duration": 28,
    "start_time": "2023-01-17T09:10:14.066Z"
   },
   {
    "duration": 98,
    "start_time": "2023-01-17T09:10:48.675Z"
   },
   {
    "duration": 28,
    "start_time": "2023-01-17T09:10:57.813Z"
   },
   {
    "duration": 28,
    "start_time": "2023-01-17T09:11:05.691Z"
   },
   {
    "duration": 16,
    "start_time": "2023-01-17T09:11:21.355Z"
   },
   {
    "duration": 33,
    "start_time": "2023-01-17T09:11:45.827Z"
   },
   {
    "duration": 10,
    "start_time": "2023-01-17T09:13:04.291Z"
   },
   {
    "duration": 258,
    "start_time": "2023-01-17T09:13:12.587Z"
   },
   {
    "duration": 22,
    "start_time": "2023-01-17T09:25:11.866Z"
   },
   {
    "duration": 15,
    "start_time": "2023-01-17T09:25:25.129Z"
   },
   {
    "duration": 23,
    "start_time": "2023-01-17T09:26:11.712Z"
   },
   {
    "duration": 17,
    "start_time": "2023-01-17T09:26:12.497Z"
   },
   {
    "duration": 20,
    "start_time": "2023-01-17T09:28:32.493Z"
   },
   {
    "duration": 123,
    "start_time": "2023-01-17T09:39:23.800Z"
   },
   {
    "duration": 6,
    "start_time": "2023-01-17T09:44:47.755Z"
   },
   {
    "duration": 7,
    "start_time": "2023-01-17T09:45:24.403Z"
   },
   {
    "duration": 7,
    "start_time": "2023-01-17T09:51:30.127Z"
   },
   {
    "duration": 8,
    "start_time": "2023-01-17T09:51:38.632Z"
   },
   {
    "duration": 70,
    "start_time": "2023-01-17T09:52:20.943Z"
   },
   {
    "duration": 7,
    "start_time": "2023-01-17T09:52:52.008Z"
   },
   {
    "duration": 7,
    "start_time": "2023-01-17T09:53:48.296Z"
   },
   {
    "duration": 4,
    "start_time": "2023-01-17T10:01:00.996Z"
   },
   {
    "duration": 7,
    "start_time": "2023-01-17T10:16:52.123Z"
   },
   {
    "duration": 1274,
    "start_time": "2023-01-17T10:17:04.796Z"
   },
   {
    "duration": 1523,
    "start_time": "2023-01-17T10:33:47.979Z"
   },
   {
    "duration": 1453,
    "start_time": "2023-01-17T10:34:12.209Z"
   },
   {
    "duration": 1378,
    "start_time": "2023-01-17T10:42:30.726Z"
   },
   {
    "duration": 1289,
    "start_time": "2023-01-17T10:44:15.475Z"
   },
   {
    "duration": 1428,
    "start_time": "2023-01-17T10:49:59.119Z"
   },
   {
    "duration": 2053,
    "start_time": "2023-01-17T10:52:14.631Z"
   },
   {
    "duration": 476,
    "start_time": "2023-01-17T10:53:15.079Z"
   },
   {
    "duration": 2117,
    "start_time": "2023-01-17T10:53:26.657Z"
   },
   {
    "duration": 2012,
    "start_time": "2023-01-17T10:53:39.984Z"
   },
   {
    "duration": 1977,
    "start_time": "2023-01-17T10:53:50.249Z"
   },
   {
    "duration": 1955,
    "start_time": "2023-01-17T10:55:21.241Z"
   },
   {
    "duration": 1780,
    "start_time": "2023-01-17T10:56:01.050Z"
   },
   {
    "duration": 305,
    "start_time": "2023-01-17T10:56:46.978Z"
   },
   {
    "duration": 2132,
    "start_time": "2023-01-17T10:57:04.723Z"
   },
   {
    "duration": 2024,
    "start_time": "2023-01-17T10:58:02.522Z"
   },
   {
    "duration": 2068,
    "start_time": "2023-01-17T10:59:08.714Z"
   },
   {
    "duration": 1980,
    "start_time": "2023-01-17T10:59:53.666Z"
   },
   {
    "duration": 1467,
    "start_time": "2023-01-17T11:00:29.272Z"
   },
   {
    "duration": 723,
    "start_time": "2023-01-17T11:00:30.741Z"
   },
   {
    "duration": 231,
    "start_time": "2023-01-17T11:00:31.466Z"
   },
   {
    "duration": 21,
    "start_time": "2023-01-17T11:00:31.699Z"
   },
   {
    "duration": 290,
    "start_time": "2023-01-17T11:00:31.721Z"
   },
   {
    "duration": 26,
    "start_time": "2023-01-17T11:00:32.013Z"
   },
   {
    "duration": 9,
    "start_time": "2023-01-17T11:00:32.041Z"
   },
   {
    "duration": 5,
    "start_time": "2023-01-17T11:00:32.202Z"
   },
   {
    "duration": 6,
    "start_time": "2023-01-17T11:00:34.259Z"
   },
   {
    "duration": 1354,
    "start_time": "2023-01-17T11:00:34.467Z"
   },
   {
    "duration": 1850,
    "start_time": "2023-01-17T11:00:35.824Z"
   },
   {
    "duration": 1813,
    "start_time": "2023-01-17T11:02:15.844Z"
   },
   {
    "duration": 1595,
    "start_time": "2023-01-17T11:02:37.091Z"
   },
   {
    "duration": 1802,
    "start_time": "2023-01-17T11:03:15.860Z"
   },
   {
    "duration": 1793,
    "start_time": "2023-01-17T11:04:17.880Z"
   },
   {
    "duration": 482,
    "start_time": "2023-01-17T11:32:04.917Z"
   },
   {
    "duration": 538,
    "start_time": "2023-01-17T11:32:23.820Z"
   },
   {
    "duration": 448,
    "start_time": "2023-01-17T14:08:42.159Z"
   },
   {
    "duration": 694,
    "start_time": "2023-01-17T14:09:15.067Z"
   },
   {
    "duration": 1327,
    "start_time": "2023-01-17T14:09:21.179Z"
   },
   {
    "duration": 1355,
    "start_time": "2023-01-17T14:10:55.099Z"
   },
   {
    "duration": 1436,
    "start_time": "2023-01-17T14:11:08.971Z"
   },
   {
    "duration": 1310,
    "start_time": "2023-01-17T14:12:09.900Z"
   },
   {
    "duration": 3351,
    "start_time": "2023-01-17T14:13:00.124Z"
   },
   {
    "duration": 1861,
    "start_time": "2023-01-17T14:13:17.452Z"
   },
   {
    "duration": 801,
    "start_time": "2023-01-17T14:13:41.044Z"
   },
   {
    "duration": 1511,
    "start_time": "2023-01-17T14:14:32.421Z"
   },
   {
    "duration": 730,
    "start_time": "2023-01-17T14:14:33.934Z"
   },
   {
    "duration": 226,
    "start_time": "2023-01-17T14:14:34.666Z"
   },
   {
    "duration": 21,
    "start_time": "2023-01-17T14:14:34.894Z"
   },
   {
    "duration": 262,
    "start_time": "2023-01-17T14:14:34.977Z"
   },
   {
    "duration": 23,
    "start_time": "2023-01-17T14:14:35.671Z"
   },
   {
    "duration": 8,
    "start_time": "2023-01-17T14:14:36.495Z"
   },
   {
    "duration": 4,
    "start_time": "2023-01-17T14:14:38.632Z"
   },
   {
    "duration": 1659,
    "start_time": "2023-01-17T14:14:39.719Z"
   },
   {
    "duration": 701,
    "start_time": "2023-01-17T14:14:42.897Z"
   },
   {
    "duration": 888,
    "start_time": "2023-01-17T14:15:11.935Z"
   },
   {
    "duration": 1548,
    "start_time": "2023-01-18T05:46:20.858Z"
   },
   {
    "duration": 1844,
    "start_time": "2023-01-18T05:46:22.408Z"
   },
   {
    "duration": 203,
    "start_time": "2023-01-18T05:46:24.253Z"
   },
   {
    "duration": 19,
    "start_time": "2023-01-18T05:46:24.457Z"
   },
   {
    "duration": 273,
    "start_time": "2023-01-18T05:46:24.478Z"
   },
   {
    "duration": 22,
    "start_time": "2023-01-18T05:46:24.752Z"
   },
   {
    "duration": 8,
    "start_time": "2023-01-18T05:46:24.775Z"
   },
   {
    "duration": 16,
    "start_time": "2023-01-18T05:46:24.784Z"
   },
   {
    "duration": 1747,
    "start_time": "2023-01-18T05:46:24.802Z"
   },
   {
    "duration": 687,
    "start_time": "2023-01-18T05:46:26.551Z"
   },
   {
    "duration": 787,
    "start_time": "2023-01-18T05:51:35.684Z"
   },
   {
    "duration": 1345,
    "start_time": "2023-01-18T05:54:53.630Z"
   },
   {
    "duration": 440,
    "start_time": "2023-01-18T08:18:16.087Z"
   },
   {
    "duration": 36,
    "start_time": "2023-01-18T08:28:43.383Z"
   },
   {
    "duration": 1620,
    "start_time": "2023-01-18T08:28:54.679Z"
   },
   {
    "duration": 4,
    "start_time": "2023-01-18T09:36:56.514Z"
   },
   {
    "duration": 7,
    "start_time": "2023-01-18T09:37:36.426Z"
   },
   {
    "duration": 5,
    "start_time": "2023-01-18T09:40:33.509Z"
   },
   {
    "duration": 4,
    "start_time": "2023-01-18T09:41:00.655Z"
   },
   {
    "duration": 230,
    "start_time": "2023-01-18T09:41:01.278Z"
   },
   {
    "duration": 4,
    "start_time": "2023-01-18T09:41:06.061Z"
   },
   {
    "duration": 4,
    "start_time": "2023-01-18T09:41:06.805Z"
   },
   {
    "duration": 3,
    "start_time": "2023-01-18T09:41:50.653Z"
   },
   {
    "duration": 8,
    "start_time": "2023-01-18T09:43:17.182Z"
   },
   {
    "duration": 4,
    "start_time": "2023-01-18T09:45:08.040Z"
   },
   {
    "duration": 165,
    "start_time": "2023-01-18T09:47:57.381Z"
   },
   {
    "duration": 3,
    "start_time": "2023-01-18T09:48:15.870Z"
   },
   {
    "duration": 67,
    "start_time": "2023-01-18T09:48:17.574Z"
   },
   {
    "duration": 13,
    "start_time": "2023-01-18T09:48:48.173Z"
   },
   {
    "duration": 3,
    "start_time": "2023-01-18T09:49:17.851Z"
   },
   {
    "duration": 98,
    "start_time": "2023-01-18T09:51:08.274Z"
   },
   {
    "duration": 4,
    "start_time": "2023-01-18T09:51:31.429Z"
   },
   {
    "duration": 354,
    "start_time": "2023-01-18T09:51:38.583Z"
   },
   {
    "duration": 98,
    "start_time": "2023-01-18T09:52:41.615Z"
   },
   {
    "duration": 484,
    "start_time": "2023-01-18T09:53:05.178Z"
   },
   {
    "duration": 4,
    "start_time": "2023-01-18T09:53:30.222Z"
   },
   {
    "duration": 3,
    "start_time": "2023-01-18T09:54:21.774Z"
   },
   {
    "duration": 44,
    "start_time": "2023-01-18T09:54:24.370Z"
   },
   {
    "duration": 3,
    "start_time": "2023-01-18T09:54:24.778Z"
   },
   {
    "duration": 408,
    "start_time": "2023-01-18T09:54:25.229Z"
   },
   {
    "duration": 579,
    "start_time": "2023-01-18T09:54:26.082Z"
   },
   {
    "duration": 4,
    "start_time": "2023-01-18T09:54:26.663Z"
   },
   {
    "duration": 1631,
    "start_time": "2023-01-18T09:54:52.249Z"
   },
   {
    "duration": 868,
    "start_time": "2023-01-18T09:54:53.882Z"
   },
   {
    "duration": 279,
    "start_time": "2023-01-18T09:54:54.752Z"
   },
   {
    "duration": 23,
    "start_time": "2023-01-18T09:54:55.033Z"
   },
   {
    "duration": 299,
    "start_time": "2023-01-18T09:54:55.058Z"
   },
   {
    "duration": 22,
    "start_time": "2023-01-18T09:54:55.359Z"
   },
   {
    "duration": 9,
    "start_time": "2023-01-18T09:54:55.383Z"
   },
   {
    "duration": 67,
    "start_time": "2023-01-18T09:54:55.394Z"
   },
   {
    "duration": 2022,
    "start_time": "2023-01-18T09:54:55.463Z"
   },
   {
    "duration": 813,
    "start_time": "2023-01-18T09:54:57.487Z"
   },
   {
    "duration": 755,
    "start_time": "2023-01-18T09:54:58.302Z"
   },
   {
    "duration": 41,
    "start_time": "2023-01-18T09:54:59.060Z"
   },
   {
    "duration": 38,
    "start_time": "2023-01-18T09:54:59.103Z"
   },
   {
    "duration": 28,
    "start_time": "2023-01-18T09:54:59.146Z"
   },
   {
    "duration": 31,
    "start_time": "2023-01-18T09:54:59.176Z"
   },
   {
    "duration": 33,
    "start_time": "2023-01-18T09:54:59.210Z"
   },
   {
    "duration": 15,
    "start_time": "2023-01-18T09:54:59.245Z"
   },
   {
    "duration": 24,
    "start_time": "2023-01-18T09:54:59.263Z"
   },
   {
    "duration": 16,
    "start_time": "2023-01-18T09:54:59.289Z"
   },
   {
    "duration": 82,
    "start_time": "2023-01-18T09:54:59.307Z"
   },
   {
    "duration": 3,
    "start_time": "2023-01-18T09:54:59.392Z"
   },
   {
    "duration": 462,
    "start_time": "2023-01-18T09:54:59.397Z"
   },
   {
    "duration": 677,
    "start_time": "2023-01-18T09:54:59.861Z"
   },
   {
    "duration": 4,
    "start_time": "2023-01-18T09:55:00.540Z"
   },
   {
    "duration": 108,
    "start_time": "2023-01-18T09:55:58.646Z"
   },
   {
    "duration": 4,
    "start_time": "2023-01-18T09:59:09.462Z"
   },
   {
    "duration": 4,
    "start_time": "2023-01-18T10:03:29.329Z"
   },
   {
    "duration": 2,
    "start_time": "2023-01-18T10:03:32.769Z"
   },
   {
    "duration": 10,
    "start_time": "2023-01-18T10:03:35.323Z"
   },
   {
    "duration": 2,
    "start_time": "2023-01-18T10:03:37.210Z"
   },
   {
    "duration": 3,
    "start_time": "2023-01-18T10:03:39.523Z"
   },
   {
    "duration": 30,
    "start_time": "2023-01-18T10:03:40.610Z"
   },
   {
    "duration": 1418,
    "start_time": "2023-01-18T10:04:28.482Z"
   },
   {
    "duration": 695,
    "start_time": "2023-01-18T10:04:29.902Z"
   },
   {
    "duration": 236,
    "start_time": "2023-01-18T10:04:30.599Z"
   },
   {
    "duration": 20,
    "start_time": "2023-01-18T10:04:30.837Z"
   },
   {
    "duration": 244,
    "start_time": "2023-01-18T10:04:31.298Z"
   },
   {
    "duration": 22,
    "start_time": "2023-01-18T10:04:31.570Z"
   },
   {
    "duration": 8,
    "start_time": "2023-01-18T10:04:31.979Z"
   },
   {
    "duration": 4,
    "start_time": "2023-01-18T10:04:32.307Z"
   },
   {
    "duration": 1567,
    "start_time": "2023-01-18T10:04:32.802Z"
   },
   {
    "duration": 719,
    "start_time": "2023-01-18T10:04:34.371Z"
   },
   {
    "duration": 575,
    "start_time": "2023-01-18T10:04:35.092Z"
   },
   {
    "duration": 2,
    "start_time": "2023-01-18T10:04:35.669Z"
   },
   {
    "duration": 14,
    "start_time": "2023-01-18T10:04:35.672Z"
   },
   {
    "duration": 2,
    "start_time": "2023-01-18T10:04:35.968Z"
   },
   {
    "duration": 12,
    "start_time": "2023-01-18T10:04:36.338Z"
   },
   {
    "duration": 3,
    "start_time": "2023-01-18T10:04:36.966Z"
   },
   {
    "duration": 2,
    "start_time": "2023-01-18T10:04:37.315Z"
   },
   {
    "duration": 1444,
    "start_time": "2023-01-18T10:04:37.876Z"
   },
   {
    "duration": 29305,
    "start_time": "2023-01-18T10:05:03.442Z"
   },
   {
    "duration": 4446,
    "start_time": "2023-01-18T10:06:04.036Z"
   },
   {
    "duration": 50803,
    "start_time": "2023-01-18T10:06:23.500Z"
   },
   {
    "duration": 47799,
    "start_time": "2023-01-18T10:07:45.822Z"
   },
   {
    "duration": 7027,
    "start_time": "2023-01-18T10:09:17.370Z"
   },
   {
    "duration": 21,
    "start_time": "2023-01-18T10:10:41.798Z"
   },
   {
    "duration": 44972,
    "start_time": "2023-01-18T10:11:11.766Z"
   },
   {
    "duration": 5,
    "start_time": "2023-01-18T11:06:59.732Z"
   },
   {
    "duration": 3,
    "start_time": "2023-01-18T11:07:01.750Z"
   },
   {
    "duration": 9,
    "start_time": "2023-01-18T11:07:02.051Z"
   },
   {
    "duration": 3,
    "start_time": "2023-01-18T11:07:02.339Z"
   },
   {
    "duration": 2,
    "start_time": "2023-01-18T11:07:02.651Z"
   },
   {
    "duration": 1417,
    "start_time": "2023-01-18T11:07:03.499Z"
   },
   {
    "duration": 4248,
    "start_time": "2023-01-18T11:07:11.332Z"
   },
   {
    "duration": 1793,
    "start_time": "2023-01-19T07:05:12.886Z"
   },
   {
    "duration": 1877,
    "start_time": "2023-01-19T07:05:14.681Z"
   },
   {
    "duration": 251,
    "start_time": "2023-01-19T07:05:16.560Z"
   },
   {
    "duration": 25,
    "start_time": "2023-01-19T07:05:16.813Z"
   },
   {
    "duration": 303,
    "start_time": "2023-01-19T07:05:16.842Z"
   },
   {
    "duration": 24,
    "start_time": "2023-01-19T07:05:17.147Z"
   },
   {
    "duration": 20,
    "start_time": "2023-01-19T07:05:17.173Z"
   },
   {
    "duration": 16,
    "start_time": "2023-01-19T07:05:17.195Z"
   },
   {
    "duration": 1690,
    "start_time": "2023-01-19T07:05:17.212Z"
   },
   {
    "duration": 722,
    "start_time": "2023-01-19T07:05:18.904Z"
   },
   {
    "duration": 679,
    "start_time": "2023-01-19T07:05:19.628Z"
   },
   {
    "duration": 3,
    "start_time": "2023-01-19T07:05:20.309Z"
   },
   {
    "duration": 7,
    "start_time": "2023-01-19T07:05:20.314Z"
   },
   {
    "duration": 3,
    "start_time": "2023-01-19T07:05:22.989Z"
   },
   {
    "duration": 14,
    "start_time": "2023-01-19T07:05:25.415Z"
   },
   {
    "duration": 2,
    "start_time": "2023-01-19T07:05:25.749Z"
   },
   {
    "duration": 2128,
    "start_time": "2023-01-19T08:42:15.548Z"
   },
   {
    "duration": 974,
    "start_time": "2023-01-19T08:42:17.679Z"
   },
   {
    "duration": 254,
    "start_time": "2023-01-19T08:42:18.655Z"
   },
   {
    "duration": 23,
    "start_time": "2023-01-19T08:42:18.912Z"
   },
   {
    "duration": 314,
    "start_time": "2023-01-19T08:42:18.936Z"
   },
   {
    "duration": 33,
    "start_time": "2023-01-19T08:42:19.253Z"
   },
   {
    "duration": 9,
    "start_time": "2023-01-19T08:42:19.300Z"
   },
   {
    "duration": 17,
    "start_time": "2023-01-19T08:42:19.310Z"
   },
   {
    "duration": 2063,
    "start_time": "2023-01-19T08:42:19.329Z"
   },
   {
    "duration": 806,
    "start_time": "2023-01-19T08:42:23.831Z"
   },
   {
    "duration": 647,
    "start_time": "2023-01-19T08:42:26.831Z"
   },
   {
    "duration": 46,
    "start_time": "2023-01-19T08:42:49.931Z"
   },
   {
    "duration": 20,
    "start_time": "2023-01-19T08:52:20.603Z"
   },
   {
    "duration": 17,
    "start_time": "2023-01-19T08:52:36.109Z"
   },
   {
    "duration": 12,
    "start_time": "2023-01-19T08:54:56.109Z"
   },
   {
    "duration": 16,
    "start_time": "2023-01-19T08:54:58.614Z"
   },
   {
    "duration": 17,
    "start_time": "2023-01-19T08:55:08.008Z"
   },
   {
    "duration": 20,
    "start_time": "2023-01-19T08:55:08.180Z"
   },
   {
    "duration": 1713,
    "start_time": "2023-01-19T08:55:27.880Z"
   },
   {
    "duration": 953,
    "start_time": "2023-01-19T08:55:29.595Z"
   },
   {
    "duration": 291,
    "start_time": "2023-01-19T08:55:30.550Z"
   },
   {
    "duration": 49,
    "start_time": "2023-01-19T08:55:30.843Z"
   },
   {
    "duration": 316,
    "start_time": "2023-01-19T08:55:30.895Z"
   },
   {
    "duration": 26,
    "start_time": "2023-01-19T08:55:31.213Z"
   },
   {
    "duration": 10,
    "start_time": "2023-01-19T08:55:31.241Z"
   },
   {
    "duration": 35,
    "start_time": "2023-01-19T08:55:31.253Z"
   },
   {
    "duration": 11,
    "start_time": "2023-01-19T08:55:34.729Z"
   },
   {
    "duration": 16,
    "start_time": "2023-01-19T08:55:36.118Z"
   },
   {
    "duration": 16,
    "start_time": "2023-01-19T08:58:00.962Z"
   },
   {
    "duration": 14,
    "start_time": "2023-01-19T08:58:35.904Z"
   },
   {
    "duration": 16,
    "start_time": "2023-01-19T08:59:29.545Z"
   },
   {
    "duration": 8,
    "start_time": "2023-01-19T09:00:41.506Z"
   },
   {
    "duration": 15,
    "start_time": "2023-01-19T09:00:56.834Z"
   },
   {
    "duration": 16,
    "start_time": "2023-01-19T09:01:17.687Z"
   },
   {
    "duration": 51,
    "start_time": "2023-01-19T09:02:50.425Z"
   },
   {
    "duration": 15,
    "start_time": "2023-01-19T09:09:16.783Z"
   },
   {
    "duration": 5,
    "start_time": "2023-01-19T09:10:32.450Z"
   },
   {
    "duration": 5,
    "start_time": "2023-01-19T09:20:21.965Z"
   },
   {
    "duration": 7,
    "start_time": "2023-01-19T09:22:27.169Z"
   },
   {
    "duration": 7,
    "start_time": "2023-01-19T09:22:41.513Z"
   },
   {
    "duration": 9,
    "start_time": "2023-01-19T09:23:09.684Z"
   },
   {
    "duration": 7,
    "start_time": "2023-01-19T09:23:12.986Z"
   },
   {
    "duration": 6,
    "start_time": "2023-01-19T09:23:16.447Z"
   },
   {
    "duration": 9,
    "start_time": "2023-01-19T09:25:28.722Z"
   },
   {
    "duration": 18,
    "start_time": "2023-01-19T09:25:38.146Z"
   },
   {
    "duration": 4,
    "start_time": "2023-01-19T09:31:04.168Z"
   },
   {
    "duration": 3,
    "start_time": "2023-01-19T09:33:38.622Z"
   },
   {
    "duration": 3,
    "start_time": "2023-01-19T09:36:33.880Z"
   },
   {
    "duration": 4272,
    "start_time": "2023-01-19T09:43:31.431Z"
   },
   {
    "duration": 4736,
    "start_time": "2023-01-19T09:44:41.864Z"
   },
   {
    "duration": 4362,
    "start_time": "2023-01-19T09:45:03.943Z"
   },
   {
    "duration": 5220,
    "start_time": "2023-01-19T09:45:25.672Z"
   },
   {
    "duration": 201,
    "start_time": "2023-01-19T09:45:58.891Z"
   },
   {
    "duration": 7,
    "start_time": "2023-01-19T09:46:37.185Z"
   },
   {
    "duration": 5,
    "start_time": "2023-01-19T09:46:57.702Z"
   },
   {
    "duration": 5,
    "start_time": "2023-01-19T09:47:05.067Z"
   },
   {
    "duration": 4241,
    "start_time": "2023-01-19T10:20:34.948Z"
   },
   {
    "duration": 3,
    "start_time": "2023-01-19T10:21:15.345Z"
   },
   {
    "duration": 2981,
    "start_time": "2023-01-19T10:21:17.812Z"
   },
   {
    "duration": 1755,
    "start_time": "2023-01-19T10:43:47.648Z"
   },
   {
    "duration": 3169,
    "start_time": "2023-01-19T10:43:50.071Z"
   },
   {
    "duration": 239,
    "start_time": "2023-01-19T10:43:53.243Z"
   },
   {
    "duration": 20,
    "start_time": "2023-01-19T10:43:53.484Z"
   },
   {
    "duration": 295,
    "start_time": "2023-01-19T10:43:53.506Z"
   },
   {
    "duration": 24,
    "start_time": "2023-01-19T10:43:53.802Z"
   },
   {
    "duration": 42,
    "start_time": "2023-01-19T10:43:53.837Z"
   },
   {
    "duration": 28,
    "start_time": "2023-01-19T10:43:53.881Z"
   },
   {
    "duration": 47,
    "start_time": "2023-01-19T10:43:53.910Z"
   },
   {
    "duration": 48,
    "start_time": "2023-01-19T10:43:53.959Z"
   },
   {
    "duration": 1810,
    "start_time": "2023-01-19T10:43:54.009Z"
   },
   {
    "duration": 753,
    "start_time": "2023-01-19T10:43:55.822Z"
   },
   {
    "duration": 690,
    "start_time": "2023-01-19T10:43:56.578Z"
   },
   {
    "duration": 40,
    "start_time": "2023-01-19T10:43:57.271Z"
   },
   {
    "duration": 14,
    "start_time": "2023-01-19T10:43:58.350Z"
   },
   {
    "duration": 15,
    "start_time": "2023-01-19T10:43:59.934Z"
   },
   {
    "duration": 4,
    "start_time": "2023-01-19T10:44:02.070Z"
   },
   {
    "duration": 4,
    "start_time": "2023-01-19T10:44:02.530Z"
   },
   {
    "duration": 3,
    "start_time": "2023-01-19T10:44:03.142Z"
   },
   {
    "duration": 3192,
    "start_time": "2023-01-19T10:44:03.951Z"
   },
   {
    "duration": 2740,
    "start_time": "2023-01-19T10:44:27.807Z"
   },
   {
    "duration": 1518,
    "start_time": "2023-01-19T10:46:24.509Z"
   },
   {
    "duration": 722,
    "start_time": "2023-01-19T10:46:26.030Z"
   },
   {
    "duration": 239,
    "start_time": "2023-01-19T10:46:26.755Z"
   },
   {
    "duration": 42,
    "start_time": "2023-01-19T10:46:26.996Z"
   },
   {
    "duration": 259,
    "start_time": "2023-01-19T10:46:27.039Z"
   },
   {
    "duration": 37,
    "start_time": "2023-01-19T10:46:27.300Z"
   },
   {
    "duration": 18,
    "start_time": "2023-01-19T10:46:27.339Z"
   },
   {
    "duration": 24,
    "start_time": "2023-01-19T10:46:27.359Z"
   },
   {
    "duration": 39,
    "start_time": "2023-01-19T10:46:27.385Z"
   },
   {
    "duration": 17,
    "start_time": "2023-01-19T10:46:27.426Z"
   },
   {
    "duration": 1902,
    "start_time": "2023-01-19T10:46:27.445Z"
   },
   {
    "duration": 760,
    "start_time": "2023-01-19T10:46:29.350Z"
   },
   {
    "duration": 656,
    "start_time": "2023-01-19T10:46:30.111Z"
   },
   {
    "duration": 4,
    "start_time": "2023-01-19T10:46:30.770Z"
   },
   {
    "duration": 42,
    "start_time": "2023-01-19T10:46:30.776Z"
   },
   {
    "duration": 28,
    "start_time": "2023-01-19T10:46:30.820Z"
   },
   {
    "duration": 4,
    "start_time": "2023-01-19T10:46:32.104Z"
   },
   {
    "duration": 3,
    "start_time": "2023-01-19T10:46:32.461Z"
   },
   {
    "duration": 3,
    "start_time": "2023-01-19T10:46:32.871Z"
   },
   {
    "duration": 4266,
    "start_time": "2023-01-19T10:46:33.679Z"
   },
   {
    "duration": 4,
    "start_time": "2023-01-19T10:52:39.861Z"
   },
   {
    "duration": 5,
    "start_time": "2023-01-19T10:52:40.532Z"
   },
   {
    "duration": 3,
    "start_time": "2023-01-19T10:52:41.290Z"
   },
   {
    "duration": 3612,
    "start_time": "2023-01-19T10:52:42.334Z"
   },
   {
    "duration": 49,
    "start_time": "2023-01-19T10:53:07.912Z"
   },
   {
    "duration": 13,
    "start_time": "2023-01-19T10:53:11.493Z"
   },
   {
    "duration": 12,
    "start_time": "2023-01-19T10:53:12.498Z"
   },
   {
    "duration": 3,
    "start_time": "2023-01-19T10:53:16.354Z"
   },
   {
    "duration": 4,
    "start_time": "2023-01-19T10:53:17.474Z"
   },
   {
    "duration": 5,
    "start_time": "2023-01-19T10:53:18.234Z"
   },
   {
    "duration": 2536,
    "start_time": "2023-01-19T10:53:18.906Z"
   },
   {
    "duration": 4,
    "start_time": "2023-01-19T10:53:36.242Z"
   },
   {
    "duration": 4,
    "start_time": "2023-01-19T10:53:36.602Z"
   },
   {
    "duration": 3,
    "start_time": "2023-01-19T10:53:36.970Z"
   },
   {
    "duration": 7402,
    "start_time": "2023-01-19T10:53:37.347Z"
   },
   {
    "duration": 4,
    "start_time": "2023-01-19T10:54:01.306Z"
   },
   {
    "duration": 7134,
    "start_time": "2023-01-19T10:55:05.432Z"
   },
   {
    "duration": 840,
    "start_time": "2023-01-19T11:02:08.189Z"
   },
   {
    "duration": 25184,
    "start_time": "2023-01-19T11:02:31.332Z"
   },
   {
    "duration": 25129,
    "start_time": "2023-01-19T11:03:56.131Z"
   },
   {
    "duration": 587376,
    "start_time": "2023-01-19T11:13:58.254Z"
   },
   {
    "duration": 3751,
    "start_time": "2023-01-19T11:24:12.895Z"
   },
   {
    "duration": 10582,
    "start_time": "2023-01-19T11:24:18.907Z"
   },
   {
    "duration": 3291,
    "start_time": "2023-01-19T11:24:37.554Z"
   },
   {
    "duration": 29301,
    "start_time": "2023-01-19T11:24:45.676Z"
   },
   {
    "duration": 719964,
    "start_time": "2023-01-19T11:25:39.669Z"
   },
   {
    "duration": 27,
    "start_time": "2023-01-19T11:37:50.928Z"
   },
   {
    "duration": 38806,
    "start_time": "2023-01-19T11:38:48.391Z"
   },
   {
    "duration": 2038839,
    "start_time": "2023-01-19T11:39:52.102Z"
   },
   {
    "duration": 3,
    "start_time": "2023-01-19T12:16:37.598Z"
   },
   {
    "duration": 4,
    "start_time": "2023-01-19T12:16:38.777Z"
   },
   {
    "duration": 3,
    "start_time": "2023-01-19T12:16:40.169Z"
   },
   {
    "duration": 3188,
    "start_time": "2023-01-19T12:16:41.852Z"
   },
   {
    "duration": 3,
    "start_time": "2023-01-19T12:17:37.874Z"
   },
   {
    "duration": 3,
    "start_time": "2023-01-19T12:17:38.365Z"
   },
   {
    "duration": 3,
    "start_time": "2023-01-19T12:17:38.810Z"
   },
   {
    "duration": 4135,
    "start_time": "2023-01-19T12:17:39.410Z"
   },
   {
    "duration": 5,
    "start_time": "2023-01-19T12:17:54.751Z"
   },
   {
    "duration": 3,
    "start_time": "2023-01-19T12:17:55.154Z"
   },
   {
    "duration": 3,
    "start_time": "2023-01-19T12:17:55.552Z"
   },
   {
    "duration": 3787,
    "start_time": "2023-01-19T12:17:55.955Z"
   },
   {
    "duration": 3,
    "start_time": "2023-01-19T12:18:59.284Z"
   },
   {
    "duration": 6,
    "start_time": "2023-01-19T12:19:03.342Z"
   },
   {
    "duration": 3,
    "start_time": "2023-01-19T12:19:03.971Z"
   },
   {
    "duration": 215,
    "start_time": "2023-01-19T12:19:04.650Z"
   },
   {
    "duration": 5,
    "start_time": "2023-01-19T12:19:24.748Z"
   },
   {
    "duration": 4,
    "start_time": "2023-01-19T12:19:24.995Z"
   },
   {
    "duration": 3,
    "start_time": "2023-01-19T12:19:28.851Z"
   },
   {
    "duration": 3,
    "start_time": "2023-01-19T12:19:29.652Z"
   },
   {
    "duration": 3,
    "start_time": "2023-01-19T12:19:29.951Z"
   },
   {
    "duration": 228,
    "start_time": "2023-01-19T12:19:30.739Z"
   },
   {
    "duration": 5,
    "start_time": "2023-01-19T12:19:59.550Z"
   },
   {
    "duration": 5,
    "start_time": "2023-01-19T12:20:01.148Z"
   },
   {
    "duration": 2,
    "start_time": "2023-01-19T12:20:01.812Z"
   },
   {
    "duration": 3650,
    "start_time": "2023-01-19T12:20:02.500Z"
   },
   {
    "duration": 4,
    "start_time": "2023-01-19T12:20:30.408Z"
   },
   {
    "duration": 3,
    "start_time": "2023-01-19T12:20:31.859Z"
   },
   {
    "duration": 3,
    "start_time": "2023-01-19T12:20:32.667Z"
   },
   {
    "duration": 4505,
    "start_time": "2023-01-19T12:20:33.358Z"
   },
   {
    "duration": 4,
    "start_time": "2023-01-19T12:22:31.501Z"
   },
   {
    "duration": 4,
    "start_time": "2023-01-19T12:22:32.151Z"
   },
   {
    "duration": 4,
    "start_time": "2023-01-19T12:22:32.474Z"
   },
   {
    "duration": 4797,
    "start_time": "2023-01-19T12:22:32.952Z"
   },
   {
    "duration": 16,
    "start_time": "2023-01-19T12:22:47.928Z"
   },
   {
    "duration": 7,
    "start_time": "2023-01-19T12:23:25.334Z"
   },
   {
    "duration": 3,
    "start_time": "2023-01-19T12:23:25.973Z"
   },
   {
    "duration": 3,
    "start_time": "2023-01-19T12:23:26.509Z"
   },
   {
    "duration": 4570,
    "start_time": "2023-01-19T12:23:27.081Z"
   },
   {
    "duration": 4,
    "start_time": "2023-01-19T12:23:39.806Z"
   },
   {
    "duration": 3,
    "start_time": "2023-01-19T12:23:40.451Z"
   },
   {
    "duration": 3,
    "start_time": "2023-01-19T12:23:40.966Z"
   },
   {
    "duration": 4609,
    "start_time": "2023-01-19T12:23:41.537Z"
   },
   {
    "duration": 4,
    "start_time": "2023-01-19T12:27:24.348Z"
   },
   {
    "duration": 3,
    "start_time": "2023-01-19T12:27:27.655Z"
   },
   {
    "duration": 4,
    "start_time": "2023-01-19T12:27:28.411Z"
   },
   {
    "duration": 3271,
    "start_time": "2023-01-19T12:27:29.280Z"
   },
   {
    "duration": 4,
    "start_time": "2023-01-19T12:36:30.977Z"
   },
   {
    "duration": 2,
    "start_time": "2023-01-19T12:36:32.376Z"
   },
   {
    "duration": 3,
    "start_time": "2023-01-19T12:36:33.189Z"
   },
   {
    "duration": 2957,
    "start_time": "2023-01-19T12:36:35.485Z"
   },
   {
    "duration": 28545,
    "start_time": "2023-01-19T12:36:41.005Z"
   },
   {
    "duration": 3,
    "start_time": "2023-01-19T12:39:42.008Z"
   },
   {
    "duration": 3,
    "start_time": "2023-01-19T12:39:42.671Z"
   },
   {
    "duration": 3,
    "start_time": "2023-01-19T12:39:43.263Z"
   },
   {
    "duration": 3057,
    "start_time": "2023-01-19T12:39:43.883Z"
   },
   {
    "duration": 4,
    "start_time": "2023-01-19T12:40:07.966Z"
   },
   {
    "duration": 4,
    "start_time": "2023-01-19T12:40:09.749Z"
   },
   {
    "duration": 4,
    "start_time": "2023-01-19T12:40:11.496Z"
   },
   {
    "duration": 2904,
    "start_time": "2023-01-19T12:40:16.140Z"
   },
   {
    "duration": 29025,
    "start_time": "2023-01-19T12:40:29.903Z"
   },
   {
    "duration": 2867632,
    "start_time": "2023-01-19T12:42:11.386Z"
   },
   {
    "duration": 29540,
    "start_time": "2023-01-19T13:34:10.067Z"
   },
   {
    "duration": 12,
    "start_time": "2023-01-19T13:41:38.146Z"
   },
   {
    "duration": 20076,
    "start_time": "2023-01-19T13:42:17.387Z"
   },
   {
    "duration": 20129,
    "start_time": "2023-01-19T13:42:51.675Z"
   },
   {
    "duration": 1617,
    "start_time": "2023-01-19T15:30:24.950Z"
   },
   {
    "duration": 2328,
    "start_time": "2023-01-19T15:30:26.569Z"
   },
   {
    "duration": 230,
    "start_time": "2023-01-19T15:30:28.899Z"
   },
   {
    "duration": 22,
    "start_time": "2023-01-19T15:30:29.131Z"
   },
   {
    "duration": 261,
    "start_time": "2023-01-19T15:30:29.796Z"
   },
   {
    "duration": 23,
    "start_time": "2023-01-19T15:30:30.059Z"
   },
   {
    "duration": 9,
    "start_time": "2023-01-19T15:30:30.470Z"
   },
   {
    "duration": 7,
    "start_time": "2023-01-19T15:30:30.805Z"
   },
   {
    "duration": 12,
    "start_time": "2023-01-19T15:30:32.241Z"
   },
   {
    "duration": 16,
    "start_time": "2023-01-19T15:30:32.661Z"
   },
   {
    "duration": 1904,
    "start_time": "2023-01-19T15:30:33.581Z"
   },
   {
    "duration": 736,
    "start_time": "2023-01-19T15:30:35.487Z"
   },
   {
    "duration": 670,
    "start_time": "2023-01-19T15:30:36.225Z"
   },
   {
    "duration": 32,
    "start_time": "2023-01-19T15:30:36.925Z"
   },
   {
    "duration": 10,
    "start_time": "2023-01-19T15:30:39.636Z"
   },
   {
    "duration": 16,
    "start_time": "2023-01-19T15:30:41.638Z"
   },
   {
    "duration": 4,
    "start_time": "2023-01-19T15:30:42.533Z"
   },
   {
    "duration": 3,
    "start_time": "2023-01-19T15:30:43.072Z"
   },
   {
    "duration": 4,
    "start_time": "2023-01-19T15:30:43.397Z"
   },
   {
    "duration": 3,
    "start_time": "2023-01-19T15:31:04.246Z"
   },
   {
    "duration": 3,
    "start_time": "2023-01-19T15:31:05.589Z"
   },
   {
    "duration": 3,
    "start_time": "2023-01-19T15:31:06.941Z"
   },
   {
    "duration": 3447,
    "start_time": "2023-01-19T15:31:08.060Z"
   },
   {
    "duration": 3,
    "start_time": "2023-01-19T15:31:26.166Z"
   },
   {
    "duration": 4,
    "start_time": "2023-01-19T15:31:26.820Z"
   },
   {
    "duration": 6,
    "start_time": "2023-01-19T15:31:27.252Z"
   },
   {
    "duration": 3877,
    "start_time": "2023-01-19T15:31:27.829Z"
   },
   {
    "duration": 5,
    "start_time": "2023-01-19T15:32:32.917Z"
   },
   {
    "duration": 3,
    "start_time": "2023-01-19T15:32:33.733Z"
   },
   {
    "duration": 4,
    "start_time": "2023-01-19T15:32:34.036Z"
   },
   {
    "duration": 3440,
    "start_time": "2023-01-19T15:32:34.469Z"
   },
   {
    "duration": 4,
    "start_time": "2023-01-19T15:33:08.045Z"
   },
   {
    "duration": 3,
    "start_time": "2023-01-19T15:33:11.509Z"
   },
   {
    "duration": 2,
    "start_time": "2023-01-19T15:33:12.381Z"
   },
   {
    "duration": 2761,
    "start_time": "2023-01-19T15:33:14.941Z"
   },
   {
    "duration": 3,
    "start_time": "2023-01-19T15:33:50.790Z"
   },
   {
    "duration": 3,
    "start_time": "2023-01-19T15:33:51.636Z"
   },
   {
    "duration": 3,
    "start_time": "2023-01-19T15:33:52.020Z"
   },
   {
    "duration": 2840,
    "start_time": "2023-01-19T15:33:52.365Z"
   },
   {
    "duration": 3067,
    "start_time": "2023-01-19T15:33:58.140Z"
   },
   {
    "duration": 4,
    "start_time": "2023-01-19T15:34:18.701Z"
   },
   {
    "duration": 3,
    "start_time": "2023-01-19T15:34:18.956Z"
   },
   {
    "duration": 2,
    "start_time": "2023-01-19T15:34:19.237Z"
   },
   {
    "duration": 3917,
    "start_time": "2023-01-19T15:34:19.589Z"
   },
   {
    "duration": 26557,
    "start_time": "2023-01-19T15:34:29.269Z"
   },
   {
    "duration": 4,
    "start_time": "2023-01-19T16:04:07.715Z"
   },
   {
    "duration": 3,
    "start_time": "2023-01-19T16:04:08.134Z"
   },
   {
    "duration": 3,
    "start_time": "2023-01-19T16:04:08.557Z"
   },
   {
    "duration": 3153,
    "start_time": "2023-01-19T16:04:08.860Z"
   },
   {
    "duration": 4,
    "start_time": "2023-01-19T16:04:19.739Z"
   },
   {
    "duration": 3,
    "start_time": "2023-01-19T16:04:19.987Z"
   },
   {
    "duration": 3,
    "start_time": "2023-01-19T16:04:20.260Z"
   },
   {
    "duration": 2923,
    "start_time": "2023-01-19T16:04:20.692Z"
   },
   {
    "duration": 4,
    "start_time": "2023-01-19T16:04:38.364Z"
   },
   {
    "duration": 3,
    "start_time": "2023-01-19T16:04:38.573Z"
   },
   {
    "duration": 3,
    "start_time": "2023-01-19T16:04:38.818Z"
   },
   {
    "duration": 4650,
    "start_time": "2023-01-19T16:04:39.060Z"
   },
   {
    "duration": 18937,
    "start_time": "2023-01-19T16:04:45.197Z"
   },
   {
    "duration": 1619,
    "start_time": "2023-01-20T04:20:05.498Z"
   },
   {
    "duration": 3020,
    "start_time": "2023-01-20T04:20:07.119Z"
   },
   {
    "duration": 229,
    "start_time": "2023-01-20T04:20:10.141Z"
   },
   {
    "duration": 20,
    "start_time": "2023-01-20T04:20:10.372Z"
   },
   {
    "duration": 275,
    "start_time": "2023-01-20T04:20:10.394Z"
   },
   {
    "duration": 27,
    "start_time": "2023-01-20T04:20:11.040Z"
   },
   {
    "duration": 8,
    "start_time": "2023-01-20T04:20:11.847Z"
   },
   {
    "duration": 6,
    "start_time": "2023-01-20T04:20:13.983Z"
   },
   {
    "duration": 9,
    "start_time": "2023-01-20T04:20:14.864Z"
   },
   {
    "duration": 14,
    "start_time": "2023-01-20T04:20:15.250Z"
   },
   {
    "duration": 1676,
    "start_time": "2023-01-20T04:20:16.696Z"
   },
   {
    "duration": 727,
    "start_time": "2023-01-20T04:20:18.374Z"
   },
   {
    "duration": 586,
    "start_time": "2023-01-20T04:20:19.864Z"
   },
   {
    "duration": 34,
    "start_time": "2023-01-20T04:20:25.840Z"
   },
   {
    "duration": 10,
    "start_time": "2023-01-20T04:20:26.832Z"
   },
   {
    "duration": 11,
    "start_time": "2023-01-20T04:20:28.336Z"
   },
   {
    "duration": 5,
    "start_time": "2023-01-20T04:20:29.911Z"
   },
   {
    "duration": 7,
    "start_time": "2023-01-20T04:20:34.243Z"
   },
   {
    "duration": 3,
    "start_time": "2023-01-20T04:20:35.024Z"
   },
   {
    "duration": 2729,
    "start_time": "2023-01-20T04:20:44.112Z"
   },
   {
    "duration": 2732,
    "start_time": "2023-01-20T04:21:19.317Z"
   },
   {
    "duration": 2811,
    "start_time": "2023-01-20T04:22:07.929Z"
   },
   {
    "duration": 2630,
    "start_time": "2023-01-20T04:22:27.417Z"
   },
   {
    "duration": 29728,
    "start_time": "2023-01-20T04:22:47.953Z"
   },
   {
    "duration": 21561,
    "start_time": "2023-01-20T04:24:13.506Z"
   },
   {
    "duration": 2921,
    "start_time": "2023-01-20T04:25:04.218Z"
   },
   {
    "duration": 29835,
    "start_time": "2023-01-20T04:25:18.227Z"
   },
   {
    "duration": 21844,
    "start_time": "2023-01-20T04:26:13.747Z"
   },
   {
    "duration": 3,
    "start_time": "2023-01-20T04:27:14.995Z"
   },
   {
    "duration": 4,
    "start_time": "2023-01-20T04:27:20.003Z"
   },
   {
    "duration": 20896,
    "start_time": "2023-01-20T04:27:29.667Z"
   },
   {
    "duration": 21638,
    "start_time": "2023-01-20T04:28:03.531Z"
   },
   {
    "duration": 133,
    "start_time": "2023-01-20T04:30:39.028Z"
   },
   {
    "duration": 8,
    "start_time": "2023-01-20T04:32:38.726Z"
   },
   {
    "duration": 8,
    "start_time": "2023-01-20T04:33:10.179Z"
   },
   {
    "duration": 10,
    "start_time": "2023-01-20T04:40:10.514Z"
   },
   {
    "duration": 4,
    "start_time": "2023-01-20T04:41:07.722Z"
   },
   {
    "duration": 7,
    "start_time": "2023-01-20T04:41:22.242Z"
   },
   {
    "duration": 14,
    "start_time": "2023-01-20T04:41:32.514Z"
   },
   {
    "duration": 8,
    "start_time": "2023-01-20T04:42:07.714Z"
   },
   {
    "duration": 17,
    "start_time": "2023-01-20T04:43:02.387Z"
   },
   {
    "duration": 21333,
    "start_time": "2023-01-20T04:54:43.337Z"
   },
   {
    "duration": 12,
    "start_time": "2023-01-20T04:57:00.626Z"
   },
   {
    "duration": 3,
    "start_time": "2023-01-20T04:58:53.266Z"
   },
   {
    "duration": 4,
    "start_time": "2023-01-20T04:59:03.884Z"
   },
   {
    "duration": 21901,
    "start_time": "2023-01-20T04:59:09.690Z"
   },
   {
    "duration": 3,
    "start_time": "2023-01-20T05:00:45.026Z"
   },
   {
    "duration": 8,
    "start_time": "2023-01-20T05:04:14.740Z"
   },
   {
    "duration": 1303,
    "start_time": "2023-01-20T05:18:55.864Z"
   },
   {
    "duration": 666,
    "start_time": "2023-01-20T05:18:57.169Z"
   },
   {
    "duration": 228,
    "start_time": "2023-01-20T05:18:57.836Z"
   },
   {
    "duration": 20,
    "start_time": "2023-01-20T05:18:58.066Z"
   },
   {
    "duration": 277,
    "start_time": "2023-01-20T05:18:58.089Z"
   },
   {
    "duration": 21,
    "start_time": "2023-01-20T05:18:58.368Z"
   },
   {
    "duration": 8,
    "start_time": "2023-01-20T05:18:58.391Z"
   },
   {
    "duration": 6,
    "start_time": "2023-01-20T05:18:58.400Z"
   },
   {
    "duration": 36,
    "start_time": "2023-01-20T05:18:58.408Z"
   },
   {
    "duration": 13,
    "start_time": "2023-01-20T05:18:58.445Z"
   },
   {
    "duration": 1565,
    "start_time": "2023-01-20T05:18:58.459Z"
   },
   {
    "duration": 669,
    "start_time": "2023-01-20T05:19:00.026Z"
   },
   {
    "duration": 550,
    "start_time": "2023-01-20T05:19:00.697Z"
   },
   {
    "duration": 34,
    "start_time": "2023-01-20T05:19:01.250Z"
   },
   {
    "duration": 26,
    "start_time": "2023-01-20T05:19:01.286Z"
   },
   {
    "duration": 30,
    "start_time": "2023-01-20T05:19:01.314Z"
   },
   {
    "duration": 61,
    "start_time": "2023-01-20T05:19:01.345Z"
   },
   {
    "duration": 41,
    "start_time": "2023-01-20T05:19:01.408Z"
   },
   {
    "duration": 39,
    "start_time": "2023-01-20T05:19:01.451Z"
   },
   {
    "duration": 2549,
    "start_time": "2023-01-20T05:19:01.491Z"
   },
   {
    "duration": 29698,
    "start_time": "2023-01-20T05:19:04.042Z"
   },
   {
    "duration": 53907,
    "start_time": "2023-01-20T05:19:33.742Z"
   },
   {
    "duration": 0,
    "start_time": "2023-01-20T05:20:27.651Z"
   },
   {
    "duration": 0,
    "start_time": "2023-01-20T05:20:27.652Z"
   },
   {
    "duration": 0,
    "start_time": "2023-01-20T05:20:27.653Z"
   },
   {
    "duration": 3,
    "start_time": "2023-01-20T05:20:46.428Z"
   },
   {
    "duration": 4,
    "start_time": "2023-01-20T05:20:47.869Z"
   },
   {
    "duration": 3,
    "start_time": "2023-01-20T05:20:48.604Z"
   },
   {
    "duration": 3,
    "start_time": "2023-01-20T05:20:49.660Z"
   },
   {
    "duration": 3343,
    "start_time": "2023-01-20T05:20:51.003Z"
   },
   {
    "duration": 3011,
    "start_time": "2023-01-20T05:21:36.533Z"
   },
   {
    "duration": 3248,
    "start_time": "2023-01-20T05:21:52.997Z"
   },
   {
    "duration": 31325,
    "start_time": "2023-01-20T05:22:20.917Z"
   },
   {
    "duration": 9,
    "start_time": "2023-01-20T05:23:05.220Z"
   },
   {
    "duration": 21182,
    "start_time": "2023-01-20T05:23:09.813Z"
   },
   {
    "duration": 20809,
    "start_time": "2023-01-20T05:24:01.014Z"
   },
   {
    "duration": 12,
    "start_time": "2023-01-20T05:24:26.014Z"
   },
   {
    "duration": 47,
    "start_time": "2023-01-20T05:25:56.925Z"
   },
   {
    "duration": 1425,
    "start_time": "2023-01-20T05:26:05.490Z"
   },
   {
    "duration": 692,
    "start_time": "2023-01-20T05:26:06.917Z"
   },
   {
    "duration": 234,
    "start_time": "2023-01-20T05:26:07.611Z"
   },
   {
    "duration": 20,
    "start_time": "2023-01-20T05:26:07.847Z"
   },
   {
    "duration": 328,
    "start_time": "2023-01-20T05:26:07.868Z"
   },
   {
    "duration": 23,
    "start_time": "2023-01-20T05:26:08.198Z"
   },
   {
    "duration": 16,
    "start_time": "2023-01-20T05:26:08.223Z"
   },
   {
    "duration": 5,
    "start_time": "2023-01-20T05:26:08.241Z"
   },
   {
    "duration": 17,
    "start_time": "2023-01-20T05:26:08.248Z"
   },
   {
    "duration": 12,
    "start_time": "2023-01-20T05:26:08.267Z"
   },
   {
    "duration": 1667,
    "start_time": "2023-01-20T05:26:08.281Z"
   },
   {
    "duration": 693,
    "start_time": "2023-01-20T05:26:09.950Z"
   },
   {
    "duration": 533,
    "start_time": "2023-01-20T05:26:10.645Z"
   },
   {
    "duration": 37,
    "start_time": "2023-01-20T05:26:11.180Z"
   },
   {
    "duration": 21,
    "start_time": "2023-01-20T05:26:11.219Z"
   },
   {
    "duration": 14,
    "start_time": "2023-01-20T05:26:11.597Z"
   },
   {
    "duration": 3,
    "start_time": "2023-01-20T05:26:12.140Z"
   },
   {
    "duration": 4,
    "start_time": "2023-01-20T05:26:12.607Z"
   },
   {
    "duration": 3,
    "start_time": "2023-01-20T05:26:14.044Z"
   },
   {
    "duration": 3230,
    "start_time": "2023-01-20T05:26:16.613Z"
   },
   {
    "duration": 802,
    "start_time": "2023-01-20T05:26:33.045Z"
   },
   {
    "duration": 30452,
    "start_time": "2023-01-20T05:26:50.092Z"
   },
   {
    "duration": 10,
    "start_time": "2023-01-20T05:28:00.147Z"
   },
   {
    "duration": 20801,
    "start_time": "2023-01-20T05:28:06.221Z"
   },
   {
    "duration": 22,
    "start_time": "2023-01-20T05:28:27.023Z"
   },
   {
    "duration": 1434,
    "start_time": "2023-01-20T05:28:53.560Z"
   },
   {
    "duration": 666,
    "start_time": "2023-01-20T05:28:54.995Z"
   },
   {
    "duration": 211,
    "start_time": "2023-01-20T05:28:55.663Z"
   },
   {
    "duration": 18,
    "start_time": "2023-01-20T05:28:55.875Z"
   },
   {
    "duration": 260,
    "start_time": "2023-01-20T05:28:55.895Z"
   },
   {
    "duration": 20,
    "start_time": "2023-01-20T05:28:56.157Z"
   },
   {
    "duration": 7,
    "start_time": "2023-01-20T05:28:56.179Z"
   },
   {
    "duration": 6,
    "start_time": "2023-01-20T05:28:56.187Z"
   },
   {
    "duration": 11,
    "start_time": "2023-01-20T05:28:56.194Z"
   },
   {
    "duration": 35,
    "start_time": "2023-01-20T05:28:56.207Z"
   },
   {
    "duration": 1529,
    "start_time": "2023-01-20T05:28:56.243Z"
   },
   {
    "duration": 714,
    "start_time": "2023-01-20T05:28:57.773Z"
   },
   {
    "duration": 525,
    "start_time": "2023-01-20T05:28:58.488Z"
   },
   {
    "duration": 39,
    "start_time": "2023-01-20T05:28:59.016Z"
   },
   {
    "duration": 10,
    "start_time": "2023-01-20T05:28:59.057Z"
   },
   {
    "duration": 13,
    "start_time": "2023-01-20T05:28:59.068Z"
   },
   {
    "duration": 3,
    "start_time": "2023-01-20T05:28:59.082Z"
   },
   {
    "duration": 14,
    "start_time": "2023-01-20T05:28:59.087Z"
   },
   {
    "duration": 7,
    "start_time": "2023-01-20T05:28:59.102Z"
   },
   {
    "duration": 2229,
    "start_time": "2023-01-20T05:28:59.111Z"
   },
   {
    "duration": 30222,
    "start_time": "2023-01-20T05:29:01.342Z"
   },
   {
    "duration": 2948593,
    "start_time": "2023-01-20T05:29:31.565Z"
   },
   {
    "duration": 11,
    "start_time": "2023-01-20T06:18:40.160Z"
   },
   {
    "duration": 21872,
    "start_time": "2023-01-20T06:18:40.173Z"
   },
   {
    "duration": 13,
    "start_time": "2023-01-20T06:19:02.047Z"
   },
   {
    "duration": 9,
    "start_time": "2023-01-20T06:29:21.018Z"
   },
   {
    "duration": 1435,
    "start_time": "2023-01-20T06:30:51.308Z"
   },
   {
    "duration": 697,
    "start_time": "2023-01-20T06:30:52.745Z"
   },
   {
    "duration": 245,
    "start_time": "2023-01-20T06:30:53.444Z"
   },
   {
    "duration": 22,
    "start_time": "2023-01-20T06:30:53.691Z"
   },
   {
    "duration": 275,
    "start_time": "2023-01-20T06:30:53.737Z"
   },
   {
    "duration": 28,
    "start_time": "2023-01-20T06:30:54.013Z"
   },
   {
    "duration": 8,
    "start_time": "2023-01-20T06:30:54.044Z"
   },
   {
    "duration": 5,
    "start_time": "2023-01-20T06:30:54.054Z"
   },
   {
    "duration": 14,
    "start_time": "2023-01-20T06:30:54.060Z"
   },
   {
    "duration": 13,
    "start_time": "2023-01-20T06:30:54.075Z"
   },
   {
    "duration": 1675,
    "start_time": "2023-01-20T06:30:54.089Z"
   },
   {
    "duration": 714,
    "start_time": "2023-01-20T06:30:55.765Z"
   },
   {
    "duration": 580,
    "start_time": "2023-01-20T06:30:56.481Z"
   },
   {
    "duration": 35,
    "start_time": "2023-01-20T06:30:57.063Z"
   },
   {
    "duration": 10,
    "start_time": "2023-01-20T06:30:57.100Z"
   },
   {
    "duration": 31,
    "start_time": "2023-01-20T06:30:57.111Z"
   },
   {
    "duration": 3,
    "start_time": "2023-01-20T06:30:57.144Z"
   },
   {
    "duration": 14,
    "start_time": "2023-01-20T06:30:57.149Z"
   },
   {
    "duration": 10,
    "start_time": "2023-01-20T06:30:57.165Z"
   },
   {
    "duration": 2765,
    "start_time": "2023-01-20T06:30:57.176Z"
   },
   {
    "duration": 30403,
    "start_time": "2023-01-20T06:30:59.943Z"
   },
   {
    "duration": 2976262,
    "start_time": "2023-01-20T06:31:30.347Z"
   },
   {
    "duration": 8,
    "start_time": "2023-01-20T07:21:06.611Z"
   },
   {
    "duration": 21684,
    "start_time": "2023-01-20T07:21:06.638Z"
   },
   {
    "duration": 21,
    "start_time": "2023-01-20T07:21:28.324Z"
   },
   {
    "duration": 1580,
    "start_time": "2023-01-20T20:13:09.064Z"
   },
   {
    "duration": 2120,
    "start_time": "2023-01-20T20:13:10.648Z"
   },
   {
    "duration": 240,
    "start_time": "2023-01-20T20:13:12.770Z"
   },
   {
    "duration": 31,
    "start_time": "2023-01-20T20:13:13.012Z"
   },
   {
    "duration": 218,
    "start_time": "2023-01-20T20:13:13.051Z"
   },
   {
    "duration": 23,
    "start_time": "2023-01-20T20:13:13.270Z"
   },
   {
    "duration": 37,
    "start_time": "2023-01-20T20:13:13.295Z"
   },
   {
    "duration": 33,
    "start_time": "2023-01-20T20:13:13.335Z"
   },
   {
    "duration": 15,
    "start_time": "2023-01-20T20:13:13.370Z"
   },
   {
    "duration": 12,
    "start_time": "2023-01-20T20:13:13.387Z"
   },
   {
    "duration": 1754,
    "start_time": "2023-01-20T20:13:13.401Z"
   },
   {
    "duration": 798,
    "start_time": "2023-01-20T20:13:15.161Z"
   },
   {
    "duration": 461,
    "start_time": "2023-01-20T20:13:15.961Z"
   },
   {
    "duration": 46,
    "start_time": "2023-01-20T20:13:16.426Z"
   },
   {
    "duration": 11,
    "start_time": "2023-01-20T20:13:16.474Z"
   },
   {
    "duration": 27,
    "start_time": "2023-01-20T20:13:16.487Z"
   },
   {
    "duration": 66,
    "start_time": "2023-01-20T20:13:16.516Z"
   },
   {
    "duration": 83,
    "start_time": "2023-01-20T20:13:16.585Z"
   },
   {
    "duration": 43,
    "start_time": "2023-01-20T20:13:16.670Z"
   },
   {
    "duration": 5343,
    "start_time": "2023-01-20T20:13:16.715Z"
   },
   {
    "duration": 138,
    "start_time": "2023-01-20T20:18:52.791Z"
   },
   {
    "duration": 1765,
    "start_time": "2023-01-21T10:26:20.894Z"
   },
   {
    "duration": 3833,
    "start_time": "2023-01-21T10:26:22.661Z"
   },
   {
    "duration": 262,
    "start_time": "2023-01-21T10:26:27.140Z"
   },
   {
    "duration": 36,
    "start_time": "2023-01-21T10:26:28.245Z"
   },
   {
    "duration": 288,
    "start_time": "2023-01-21T10:26:28.493Z"
   },
   {
    "duration": 22,
    "start_time": "2023-01-21T10:26:28.783Z"
   },
   {
    "duration": 9,
    "start_time": "2023-01-21T10:26:29.205Z"
   },
   {
    "duration": 11,
    "start_time": "2023-01-21T10:26:33.068Z"
   },
   {
    "duration": 12,
    "start_time": "2023-01-21T10:26:36.821Z"
   },
   {
    "duration": 14,
    "start_time": "2023-01-21T10:26:45.679Z"
   },
   {
    "duration": 1802,
    "start_time": "2023-01-21T10:26:47.082Z"
   },
   {
    "duration": 815,
    "start_time": "2023-01-21T10:26:49.008Z"
   },
   {
    "duration": 647,
    "start_time": "2023-01-21T10:26:53.029Z"
   },
   {
    "duration": 50,
    "start_time": "2023-01-21T10:26:56.571Z"
   },
   {
    "duration": 13,
    "start_time": "2023-01-21T10:27:00.526Z"
   },
   {
    "duration": 15,
    "start_time": "2023-01-21T10:27:02.276Z"
   },
   {
    "duration": 11,
    "start_time": "2023-01-21T10:27:17.455Z"
   },
   {
    "duration": 3,
    "start_time": "2023-01-21T10:27:21.397Z"
   },
   {
    "duration": 2,
    "start_time": "2023-01-21T10:27:34.110Z"
   },
   {
    "duration": 8180,
    "start_time": "2023-01-21T10:27:36.585Z"
   },
   {
    "duration": 6869,
    "start_time": "2023-01-21T10:27:59.988Z"
   },
   {
    "duration": 32278,
    "start_time": "2023-01-21T10:28:32.183Z"
   },
   {
    "duration": 3068872,
    "start_time": "2023-01-21T10:29:58.009Z"
   },
   {
    "duration": 608,
    "start_time": "2023-01-21T11:21:06.883Z"
   },
   {
    "duration": 11,
    "start_time": "2023-01-21T12:25:17.268Z"
   },
   {
    "duration": 24284,
    "start_time": "2023-01-21T12:25:27.744Z"
   },
   {
    "duration": 14,
    "start_time": "2023-01-21T12:26:01.379Z"
   },
   {
    "duration": 1646,
    "start_time": "2023-01-22T08:40:58.904Z"
   },
   {
    "duration": 1827,
    "start_time": "2023-01-22T08:41:02.655Z"
   },
   {
    "duration": 230,
    "start_time": "2023-01-22T08:41:04.484Z"
   },
   {
    "duration": 19,
    "start_time": "2023-01-22T08:41:09.310Z"
   },
   {
    "duration": 248,
    "start_time": "2023-01-22T08:41:10.406Z"
   },
   {
    "duration": 21,
    "start_time": "2023-01-22T08:41:11.566Z"
   },
   {
    "duration": 10,
    "start_time": "2023-01-22T08:41:13.094Z"
   },
   {
    "duration": 5,
    "start_time": "2023-01-22T08:41:28.230Z"
   },
   {
    "duration": 10,
    "start_time": "2023-01-22T08:41:30.263Z"
   },
   {
    "duration": 12,
    "start_time": "2023-01-22T08:41:32.919Z"
   },
   {
    "duration": 1686,
    "start_time": "2023-01-22T08:41:35.271Z"
   },
   {
    "duration": 6,
    "start_time": "2023-01-22T08:44:59.470Z"
   },
   {
    "duration": 609,
    "start_time": "2023-01-22T08:45:14.600Z"
   },
   {
    "duration": 726,
    "start_time": "2023-01-22T08:47:36.217Z"
   },
   {
    "duration": 478,
    "start_time": "2023-01-22T08:48:29.963Z"
   },
   {
    "duration": 201,
    "start_time": "2023-01-22T08:48:59.322Z"
   },
   {
    "duration": 668,
    "start_time": "2023-01-22T08:50:09.379Z"
   },
   {
    "duration": 1281,
    "start_time": "2023-01-22T08:53:19.796Z"
   },
   {
    "duration": 1186,
    "start_time": "2023-01-22T08:56:26.141Z"
   },
   {
    "duration": 1218,
    "start_time": "2023-01-22T08:57:35.134Z"
   },
   {
    "duration": 8,
    "start_time": "2023-01-22T09:14:09.219Z"
   },
   {
    "duration": 9,
    "start_time": "2023-01-22T09:14:09.573Z"
   },
   {
    "duration": 3,
    "start_time": "2023-01-22T09:14:13.454Z"
   },
   {
    "duration": 3,
    "start_time": "2023-01-22T09:14:15.013Z"
   },
   {
    "duration": 2,
    "start_time": "2023-01-22T09:14:19.768Z"
   },
   {
    "duration": 2677,
    "start_time": "2023-01-22T09:14:31.133Z"
   },
   {
    "duration": 2496,
    "start_time": "2023-01-22T09:23:54.311Z"
   },
   {
    "duration": 3,
    "start_time": "2023-01-22T09:24:13.295Z"
   },
   {
    "duration": 4,
    "start_time": "2023-01-22T09:24:13.593Z"
   },
   {
    "duration": 2,
    "start_time": "2023-01-22T09:24:14.388Z"
   },
   {
    "duration": 2912,
    "start_time": "2023-01-22T09:24:16.594Z"
   },
   {
    "duration": 52,
    "start_time": "2023-01-22T09:24:23.050Z"
   },
   {
    "duration": 53,
    "start_time": "2023-01-22T09:24:46.378Z"
   },
   {
    "duration": 28593,
    "start_time": "2023-01-22T09:25:05.482Z"
   },
   {
    "duration": 52,
    "start_time": "2023-01-22T09:25:34.077Z"
   },
   {
    "duration": 3115,
    "start_time": "2023-01-22T09:27:21.003Z"
   },
   {
    "duration": 20140,
    "start_time": "2023-01-22T09:27:59.472Z"
   },
   {
    "duration": 10,
    "start_time": "2023-01-22T09:28:19.614Z"
   },
   {
    "duration": 1356,
    "start_time": "2023-01-22T09:29:45.479Z"
   },
   {
    "duration": 620,
    "start_time": "2023-01-22T09:29:46.837Z"
   },
   {
    "duration": 232,
    "start_time": "2023-01-22T09:29:47.459Z"
   },
   {
    "duration": 29,
    "start_time": "2023-01-22T09:29:47.692Z"
   },
   {
    "duration": 262,
    "start_time": "2023-01-22T09:29:47.724Z"
   },
   {
    "duration": 24,
    "start_time": "2023-01-22T09:29:47.987Z"
   },
   {
    "duration": 8,
    "start_time": "2023-01-22T09:29:48.012Z"
   },
   {
    "duration": 9,
    "start_time": "2023-01-22T09:29:48.021Z"
   },
   {
    "duration": 15,
    "start_time": "2023-01-22T09:29:48.031Z"
   },
   {
    "duration": 15,
    "start_time": "2023-01-22T09:29:48.047Z"
   },
   {
    "duration": 1702,
    "start_time": "2023-01-22T09:29:48.063Z"
   },
   {
    "duration": 1260,
    "start_time": "2023-01-22T09:29:49.766Z"
   },
   {
    "duration": 586,
    "start_time": "2023-01-22T09:29:51.028Z"
   },
   {
    "duration": 32,
    "start_time": "2023-01-22T09:29:51.617Z"
   },
   {
    "duration": 12,
    "start_time": "2023-01-22T09:29:51.651Z"
   },
   {
    "duration": 23,
    "start_time": "2023-01-22T09:29:51.664Z"
   },
   {
    "duration": 17,
    "start_time": "2023-01-22T09:29:51.703Z"
   },
   {
    "duration": 14,
    "start_time": "2023-01-22T09:29:51.722Z"
   },
   {
    "duration": 29,
    "start_time": "2023-01-22T09:29:51.738Z"
   },
   {
    "duration": 2836,
    "start_time": "2023-01-22T09:29:51.769Z"
   },
   {
    "duration": 27742,
    "start_time": "2023-01-22T09:30:58.866Z"
   },
   {
    "duration": 28174,
    "start_time": "2023-01-22T09:44:41.468Z"
   },
   {
    "duration": 27441,
    "start_time": "2023-01-22T09:48:35.936Z"
   },
   {
    "duration": 2660479,
    "start_time": "2023-01-22T09:49:49.344Z"
   },
   {
    "duration": 8,
    "start_time": "2023-01-22T10:39:19.314Z"
   },
   {
    "duration": 15912,
    "start_time": "2023-01-22T10:41:06.952Z"
   },
   {
    "duration": 12,
    "start_time": "2023-01-22T10:41:28.965Z"
   },
   {
    "duration": 1621,
    "start_time": "2023-01-22T10:53:58.118Z"
   },
   {
    "duration": 1278,
    "start_time": "2023-01-22T10:55:20.166Z"
   }
  ],
  "kernelspec": {
   "display_name": "Python 3 (ipykernel)",
   "language": "python",
   "name": "python3"
  },
  "language_info": {
   "codemirror_mode": {
    "name": "ipython",
    "version": 3
   },
   "file_extension": ".py",
   "mimetype": "text/x-python",
   "name": "python",
   "nbconvert_exporter": "python",
   "pygments_lexer": "ipython3",
   "version": "3.9.16"
  },
  "toc": {
   "base_numbering": 1,
   "nav_menu": {},
   "number_sections": true,
   "sideBar": true,
   "skip_h1_title": true,
   "title_cell": "Содержание",
   "title_sidebar": "Contents",
   "toc_cell": true,
   "toc_position": {},
   "toc_section_display": true,
   "toc_window_display": true
  }
 },
 "nbformat": 4,
 "nbformat_minor": 2
}
