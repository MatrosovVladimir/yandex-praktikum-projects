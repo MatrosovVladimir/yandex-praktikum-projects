{
 "cells": [
  {
   "cell_type": "markdown",
   "metadata": {},
   "source": [
    "# Определение стоимости автомобилей"
   ]
  },
  {
   "cell_type": "markdown",
   "metadata": {},
   "source": [
    "Сервис по продаже автомобилей с пробегом «Не бит, не крашен» разрабатывает приложение для привлечения новых клиентов. В нём можно быстро узнать рыночную стоимость своего автомобиля. В вашем распоряжении исторические данные: технические характеристики, комплектации и цены автомобилей. Вам нужно построить модель для определения стоимости. \n",
    "\n",
    "Заказчику важны:\n",
    "\n",
    "- качество предсказания;\n",
    "- скорость предсказания;\n",
    "- время обучения."
   ]
  },
  {
   "cell_type": "markdown",
   "metadata": {},
   "source": [
    "Описание данных\n",
    "\n",
    "Признаки\n",
    "- DateCrawled — дата скачивания анкеты из базы\n",
    "- VehicleType — тип автомобильного кузова\n",
    "- RegistrationYear — год регистрации автомобиля\n",
    "- Gearbox — тип коробки передач\n",
    "- Power — мощность (л. с.)\n",
    "- Model — модель автомобиля\n",
    "- Kilometer — пробег (км)\n",
    "- RegistrationMonth — месяц регистрации автомобиля\n",
    "- FuelType — тип топлива\n",
    "- Brand — марка автомобиля\n",
    "- Repaired — была машина в ремонте или нет\n",
    "- DateCreated — дата создания анкеты\n",
    "- NumberOfPictures — количество фотографий автомобиля\n",
    "- PostalCode — почтовый индекс владельца анкеты (пользователя)\n",
    "- LastSeen — дата последней активности пользователя\n",
    "\n",
    "Целевой признак\n",
    "\n",
    "- Price — цена (евро)"
   ]
  },
  {
   "cell_type": "markdown",
   "metadata": {},
   "source": [
    "## Подготовка данных"
   ]
  },
  {
   "cell_type": "code",
   "execution_count": 1,
   "metadata": {
    "scrolled": true
   },
   "outputs": [
    {
     "name": "stdout",
     "output_type": "stream",
     "text": [
      "Requirement already satisfied: phik in /opt/conda/lib/python3.9/site-packages (0.12.3)\r\n",
      "Requirement already satisfied: matplotlib>=2.2.3 in /opt/conda/lib/python3.9/site-packages (from phik) (3.3.4)\r\n",
      "Requirement already satisfied: joblib>=0.14.1 in /opt/conda/lib/python3.9/site-packages (from phik) (1.1.0)\r\n",
      "Requirement already satisfied: pandas>=0.25.1 in /opt/conda/lib/python3.9/site-packages (from phik) (1.2.4)\r\n",
      "Requirement already satisfied: numpy>=1.18.0 in /opt/conda/lib/python3.9/site-packages (from phik) (1.21.1)\r\n",
      "Requirement already satisfied: scipy>=1.5.2 in /opt/conda/lib/python3.9/site-packages (from phik) (1.9.1)\r\n",
      "Requirement already satisfied: pyparsing!=2.0.4,!=2.1.2,!=2.1.6,>=2.0.3 in /opt/conda/lib/python3.9/site-packages (from matplotlib>=2.2.3->phik) (2.4.7)\r\n",
      "Requirement already satisfied: kiwisolver>=1.0.1 in /opt/conda/lib/python3.9/site-packages (from matplotlib>=2.2.3->phik) (1.4.4)\r\n",
      "Requirement already satisfied: pillow>=6.2.0 in /opt/conda/lib/python3.9/site-packages (from matplotlib>=2.2.3->phik) (8.4.0)\r\n",
      "Requirement already satisfied: cycler>=0.10 in /opt/conda/lib/python3.9/site-packages (from matplotlib>=2.2.3->phik) (0.11.0)\r\n",
      "Requirement already satisfied: python-dateutil>=2.1 in /opt/conda/lib/python3.9/site-packages (from matplotlib>=2.2.3->phik) (2.8.1)\r\n",
      "Requirement already satisfied: pytz>=2017.3 in /opt/conda/lib/python3.9/site-packages (from pandas>=0.25.1->phik) (2021.1)\r\n",
      "Requirement already satisfied: six>=1.5 in /opt/conda/lib/python3.9/site-packages (from python-dateutil>=2.1->matplotlib>=2.2.3->phik) (1.16.0)\r\n"
     ]
    }
   ],
   "source": [
    "# подгрузим необходимые библиотеки\n",
    "!pip install phik\n",
    "\n",
    "import pandas as pd\n",
    "import numpy as np\n",
    "\n",
    "import phik\n",
    "import seaborn as sns\n",
    "import matplotlib.pyplot as plt\n",
    "\n",
    "from sklearn.preprocessing import OrdinalEncoder\n",
    "\n",
    "from sklearn.model_selection import cross_val_score, train_test_split, GridSearchCV\n",
    "\n",
    "from sklearn.metrics import mean_squared_error\n",
    "\n",
    "from catboost import CatBoostRegressor, cv\n",
    "from lightgbm import LGBMRegressor\n",
    "from sklearn.ensemble import RandomForestRegressor\n",
    "from sklearn.dummy import DummyRegressor\n",
    "\n",
    "import warnings\n",
    "warnings.filterwarnings(\"ignore\")"
   ]
  },
  {
   "cell_type": "code",
   "execution_count": 2,
   "metadata": {},
   "outputs": [
    {
     "name": "stdout",
     "output_type": "stream",
     "text": [
      "<class 'pandas.core.frame.DataFrame'>\n",
      "RangeIndex: 354369 entries, 0 to 354368\n",
      "Data columns (total 16 columns):\n",
      " #   Column             Non-Null Count   Dtype \n",
      "---  ------             --------------   ----- \n",
      " 0   DateCrawled        354369 non-null  object\n",
      " 1   Price              354369 non-null  int64 \n",
      " 2   VehicleType        316879 non-null  object\n",
      " 3   RegistrationYear   354369 non-null  int64 \n",
      " 4   Gearbox            334536 non-null  object\n",
      " 5   Power              354369 non-null  int64 \n",
      " 6   Model              334664 non-null  object\n",
      " 7   Kilometer          354369 non-null  int64 \n",
      " 8   RegistrationMonth  354369 non-null  int64 \n",
      " 9   FuelType           321474 non-null  object\n",
      " 10  Brand              354369 non-null  object\n",
      " 11  Repaired           283215 non-null  object\n",
      " 12  DateCreated        354369 non-null  object\n",
      " 13  NumberOfPictures   354369 non-null  int64 \n",
      " 14  PostalCode         354369 non-null  int64 \n",
      " 15  LastSeen           354369 non-null  object\n",
      "dtypes: int64(7), object(9)\n",
      "memory usage: 43.3+ MB\n"
     ]
    }
   ],
   "source": [
    "# откроем датасет и создадим переменную с изначальным размером\n",
    "df = pd.read_csv('/datasets/autos.csv')\n",
    "before = df.shape[0]\n",
    "df.info()"
   ]
  },
  {
   "cell_type": "code",
   "execution_count": 3,
   "metadata": {},
   "outputs": [
    {
     "name": "stdout",
     "output_type": "stream",
     "text": [
      "<class 'pandas.core.frame.DataFrame'>\n",
      "RangeIndex: 354369 entries, 0 to 354368\n",
      "Data columns (total 16 columns):\n",
      " #   Column              Non-Null Count   Dtype \n",
      "---  ------              --------------   ----- \n",
      " 0   date_crawled        354369 non-null  object\n",
      " 1   price               354369 non-null  int64 \n",
      " 2   vehicle_type        316879 non-null  object\n",
      " 3   registration_year   354369 non-null  int64 \n",
      " 4   gearbox             334536 non-null  object\n",
      " 5   power               354369 non-null  int64 \n",
      " 6   model               334664 non-null  object\n",
      " 7   kilometer           354369 non-null  int64 \n",
      " 8   registration_month  354369 non-null  int64 \n",
      " 9   fuel_type           321474 non-null  object\n",
      " 10  brand               354369 non-null  object\n",
      " 11  repaired            283215 non-null  object\n",
      " 12  date_created        354369 non-null  object\n",
      " 13  number_of_pictures  354369 non-null  int64 \n",
      " 14  postal_code         354369 non-null  int64 \n",
      " 15  last_seen           354369 non-null  object\n",
      "dtypes: int64(7), object(9)\n",
      "memory usage: 43.3+ MB\n"
     ]
    }
   ],
   "source": [
    "# приведем названия к snake case для удобства и проверим результат\n",
    "df.columns = df.columns.str.replace(r\"([A-Z])\", r\" \\1\").str.lower().str.replace(' ', '_').str[1:]\n",
    "df.info()"
   ]
  },
  {
   "cell_type": "code",
   "execution_count": 4,
   "metadata": {},
   "outputs": [
    {
     "data": {
      "text/plain": [
       "4"
      ]
     },
     "execution_count": 4,
     "metadata": {},
     "output_type": "execute_result"
    }
   ],
   "source": [
    "# проверим данные на наличие явных дубликатов\n",
    "df.duplicated().sum()"
   ]
  },
  {
   "cell_type": "code",
   "execution_count": 5,
   "metadata": {},
   "outputs": [
    {
     "data": {
      "text/plain": [
       "0"
      ]
     },
     "execution_count": 5,
     "metadata": {},
     "output_type": "execute_result"
    }
   ],
   "source": [
    "# удалим явные дубликаты\n",
    "df.drop_duplicates(inplace=True)\n",
    "df.duplicated().sum()"
   ]
  },
  {
   "cell_type": "code",
   "execution_count": 6,
   "metadata": {},
   "outputs": [
    {
     "name": "stdout",
     "output_type": "stream",
     "text": [
      "<class 'pandas.core.frame.DataFrame'>\n",
      "Int64Index: 354365 entries, 0 to 354368\n",
      "Data columns (total 10 columns):\n",
      " #   Column             Non-Null Count   Dtype \n",
      "---  ------             --------------   ----- \n",
      " 0   price              354365 non-null  int64 \n",
      " 1   vehicle_type       316875 non-null  object\n",
      " 2   registration_year  354365 non-null  int64 \n",
      " 3   gearbox            334532 non-null  object\n",
      " 4   power              354365 non-null  int64 \n",
      " 5   model              334660 non-null  object\n",
      " 6   kilometer          354365 non-null  int64 \n",
      " 7   fuel_type          321470 non-null  object\n",
      " 8   brand              354365 non-null  object\n",
      " 9   repaired           283211 non-null  object\n",
      "dtypes: int64(4), object(6)\n",
      "memory usage: 29.7+ MB\n"
     ]
    }
   ],
   "source": [
    "# сразу удалим не информативные признаки date_crawled, date_created, number_of_pictures, postal_code, last_seen, registration_month\n",
    "df = df.drop(['date_crawled', 'date_created', 'number_of_pictures', 'postal_code', 'last_seen', 'registration_month'], axis=1)\n",
    "df.info()"
   ]
  },
  {
   "cell_type": "code",
   "execution_count": 7,
   "metadata": {},
   "outputs": [
    {
     "data": {
      "text/html": [
       "<div>\n",
       "<style scoped>\n",
       "    .dataframe tbody tr th:only-of-type {\n",
       "        vertical-align: middle;\n",
       "    }\n",
       "\n",
       "    .dataframe tbody tr th {\n",
       "        vertical-align: top;\n",
       "    }\n",
       "\n",
       "    .dataframe thead th {\n",
       "        text-align: right;\n",
       "    }\n",
       "</style>\n",
       "<table border=\"1\" class=\"dataframe\">\n",
       "  <thead>\n",
       "    <tr style=\"text-align: right;\">\n",
       "      <th></th>\n",
       "      <th>price</th>\n",
       "      <th>vehicle_type</th>\n",
       "      <th>registration_year</th>\n",
       "      <th>gearbox</th>\n",
       "      <th>power</th>\n",
       "      <th>model</th>\n",
       "      <th>kilometer</th>\n",
       "      <th>fuel_type</th>\n",
       "      <th>brand</th>\n",
       "      <th>repaired</th>\n",
       "    </tr>\n",
       "  </thead>\n",
       "  <tbody>\n",
       "    <tr>\n",
       "      <th>0</th>\n",
       "      <td>480</td>\n",
       "      <td>NaN</td>\n",
       "      <td>1993</td>\n",
       "      <td>manual</td>\n",
       "      <td>0</td>\n",
       "      <td>golf</td>\n",
       "      <td>150000</td>\n",
       "      <td>petrol</td>\n",
       "      <td>volkswagen</td>\n",
       "      <td>NaN</td>\n",
       "    </tr>\n",
       "    <tr>\n",
       "      <th>1</th>\n",
       "      <td>18300</td>\n",
       "      <td>coupe</td>\n",
       "      <td>2011</td>\n",
       "      <td>manual</td>\n",
       "      <td>190</td>\n",
       "      <td>NaN</td>\n",
       "      <td>125000</td>\n",
       "      <td>gasoline</td>\n",
       "      <td>audi</td>\n",
       "      <td>yes</td>\n",
       "    </tr>\n",
       "    <tr>\n",
       "      <th>2</th>\n",
       "      <td>9800</td>\n",
       "      <td>suv</td>\n",
       "      <td>2004</td>\n",
       "      <td>auto</td>\n",
       "      <td>163</td>\n",
       "      <td>grand</td>\n",
       "      <td>125000</td>\n",
       "      <td>gasoline</td>\n",
       "      <td>jeep</td>\n",
       "      <td>NaN</td>\n",
       "    </tr>\n",
       "    <tr>\n",
       "      <th>3</th>\n",
       "      <td>1500</td>\n",
       "      <td>small</td>\n",
       "      <td>2001</td>\n",
       "      <td>manual</td>\n",
       "      <td>75</td>\n",
       "      <td>golf</td>\n",
       "      <td>150000</td>\n",
       "      <td>petrol</td>\n",
       "      <td>volkswagen</td>\n",
       "      <td>no</td>\n",
       "    </tr>\n",
       "    <tr>\n",
       "      <th>4</th>\n",
       "      <td>3600</td>\n",
       "      <td>small</td>\n",
       "      <td>2008</td>\n",
       "      <td>manual</td>\n",
       "      <td>69</td>\n",
       "      <td>fabia</td>\n",
       "      <td>90000</td>\n",
       "      <td>gasoline</td>\n",
       "      <td>skoda</td>\n",
       "      <td>no</td>\n",
       "    </tr>\n",
       "  </tbody>\n",
       "</table>\n",
       "</div>"
      ],
      "text/plain": [
       "   price vehicle_type  registration_year gearbox  power  model  kilometer  \\\n",
       "0    480          NaN               1993  manual      0   golf     150000   \n",
       "1  18300        coupe               2011  manual    190    NaN     125000   \n",
       "2   9800          suv               2004    auto    163  grand     125000   \n",
       "3   1500        small               2001  manual     75   golf     150000   \n",
       "4   3600        small               2008  manual     69  fabia      90000   \n",
       "\n",
       "  fuel_type       brand repaired  \n",
       "0    petrol  volkswagen      NaN  \n",
       "1  gasoline        audi      yes  \n",
       "2  gasoline        jeep      NaN  \n",
       "3    petrol  volkswagen       no  \n",
       "4  gasoline       skoda       no  "
      ]
     },
     "execution_count": 7,
     "metadata": {},
     "output_type": "execute_result"
    }
   ],
   "source": [
    "# посмотрим на первые 5 строк датасета\n",
    "df.head()"
   ]
  },
  {
   "cell_type": "code",
   "execution_count": 8,
   "metadata": {},
   "outputs": [
    {
     "data": {
      "text/plain": [
       "price                    0\n",
       "vehicle_type         37490\n",
       "registration_year        0\n",
       "gearbox              19833\n",
       "power                    0\n",
       "model                19705\n",
       "kilometer                0\n",
       "fuel_type            32895\n",
       "brand                    0\n",
       "repaired             71154\n",
       "dtype: int64"
      ]
     },
     "execution_count": 8,
     "metadata": {},
     "output_type": "execute_result"
    }
   ],
   "source": [
    "# проверим количество пропусков в данных\n",
    "df.isna().sum()"
   ]
  },
  {
   "cell_type": "code",
   "execution_count": 9,
   "metadata": {
    "scrolled": true
   },
   "outputs": [
    {
     "name": "stdout",
     "output_type": "stream",
     "text": [
      "price\n",
      "====================\n",
      "count    354365.000000\n",
      "mean       4416.679830\n",
      "std        4514.176349\n",
      "min           0.000000\n",
      "25%        1050.000000\n",
      "50%        2700.000000\n",
      "75%        6400.000000\n",
      "max       20000.000000\n",
      "Name: price, dtype: float64\n",
      "====================\n",
      "vehicle_type\n",
      "====================\n",
      "count     316875\n",
      "unique         8\n",
      "top        sedan\n",
      "freq       91457\n",
      "Name: vehicle_type, dtype: object\n",
      "====================\n",
      "registration_year\n",
      "====================\n",
      "count    354365.000000\n",
      "mean       2004.234481\n",
      "std          90.228466\n",
      "min        1000.000000\n",
      "25%        1999.000000\n",
      "50%        2003.000000\n",
      "75%        2008.000000\n",
      "max        9999.000000\n",
      "Name: registration_year, dtype: float64\n",
      "====================\n",
      "gearbox\n",
      "====================\n",
      "count     334532\n",
      "unique         2\n",
      "top       manual\n",
      "freq      268249\n",
      "Name: gearbox, dtype: object\n",
      "====================\n",
      "power\n",
      "====================\n",
      "count    354365.000000\n",
      "mean        110.093816\n",
      "std         189.851330\n",
      "min           0.000000\n",
      "25%          69.000000\n",
      "50%         105.000000\n",
      "75%         143.000000\n",
      "max       20000.000000\n",
      "Name: power, dtype: float64\n",
      "====================\n",
      "model\n",
      "====================\n",
      "count     334660\n",
      "unique       250\n",
      "top         golf\n",
      "freq       29232\n",
      "Name: model, dtype: object\n",
      "====================\n",
      "kilometer\n",
      "====================\n",
      "count    354365.000000\n",
      "mean     128211.363989\n",
      "std       37905.083858\n",
      "min        5000.000000\n",
      "25%      125000.000000\n",
      "50%      150000.000000\n",
      "75%      150000.000000\n",
      "max      150000.000000\n",
      "Name: kilometer, dtype: float64\n",
      "====================\n",
      "fuel_type\n",
      "====================\n",
      "count     321470\n",
      "unique         7\n",
      "top       petrol\n",
      "freq      216349\n",
      "Name: fuel_type, dtype: object\n",
      "====================\n",
      "brand\n",
      "====================\n",
      "count         354365\n",
      "unique            40\n",
      "top       volkswagen\n",
      "freq           77012\n",
      "Name: brand, dtype: object\n",
      "====================\n",
      "repaired\n",
      "====================\n",
      "count     283211\n",
      "unique         2\n",
      "top           no\n",
      "freq      247158\n",
      "Name: repaired, dtype: object\n",
      "====================\n"
     ]
    }
   ],
   "source": [
    "# посмотрим некоторые описательные статистики по нашим признакам\n",
    "for col in df.columns:\n",
    "    print(col)\n",
    "    print('=' * 20)\n",
    "    print(df[col].describe())\n",
    "    print('=' * 20)"
   ]
  },
  {
   "cell_type": "markdown",
   "metadata": {},
   "source": [
    "По итогу небольшого анализа данных было выявлено много проблем которые нам предстоит решить. Во первых очень много пропусков в данных а во вторых во многих признаках присутствуют данные не соответствующие действительности (например год регистрации автомобиля - 1000 или 9999 Или мощность 20000 л.с.)"
   ]
  },
  {
   "cell_type": "code",
   "execution_count": 10,
   "metadata": {},
   "outputs": [
    {
     "data": {
      "image/png": "[encoded data removed]",
      "text/plain": [
       "<Figure size 864x432 with 1 Axes>"
      ]
     },
     "metadata": {
      "needs_background": "light"
     },
     "output_type": "display_data"
    }
   ],
   "source": [
    "# изучим распределение в признаке price\n",
    "plt.figure(figsize=(12, 6))\n",
    "sns.boxplot(x=df['price'])\n",
    "plt.xlabel('Цена')\n",
    "plt.grid(True)\n",
    "\n",
    "plt.show()"
   ]
  },
  {
   "cell_type": "code",
   "execution_count": 11,
   "metadata": {},
   "outputs": [
    {
     "data": {
      "image/png": "[encoded data removed]",
      "text/plain": [
       "<Figure size 864x432 with 1 Axes>"
      ]
     },
     "metadata": {
      "needs_background": "light"
     },
     "output_type": "display_data"
    }
   ],
   "source": [
    "# построим гистограмму по признаку price\n",
    "plt.figure(figsize=(12, 6))\n",
    "df['price'].plot(kind='hist', bins=100, grid=True)\n",
    "plt.title('Распределение значений в признаке price')\n",
    "plt.xlabel('Цена')\n",
    "plt.ylabel('Количество объявлений')\n",
    "\n",
    "plt.show()"
   ]
  },
  {
   "cell_type": "code",
   "execution_count": 12,
   "metadata": {},
   "outputs": [
    {
     "data": {
      "text/plain": [
       "200.0"
      ]
     },
     "execution_count": 12,
     "metadata": {},
     "output_type": "execute_result"
    }
   ],
   "source": [
    "# так как выбросы выше 14000 евро могут быть вполне реальными данными то оставим их без изменений\n",
    "# а вот нулевых или очень маленьких значений не божет быть\n",
    "# посмотрим на 0.05 квантиль и удалим все значения ниже\n",
    "df['price'].quantile(.05)"
   ]
  },
  {
   "cell_type": "code",
   "execution_count": 13,
   "metadata": {},
   "outputs": [],
   "source": [
    "# удалим все позиции с ценой ниже 200 евро\n",
    "df = df.loc[df['price'] >= 200]"
   ]
  },
  {
   "cell_type": "code",
   "execution_count": 14,
   "metadata": {},
   "outputs": [
    {
     "data": {
      "text/plain": [
       "sedan          88574\n",
       "small          75625\n",
       "wagon          63130\n",
       "bus            28213\n",
       "convertible    19778\n",
       "coupe          15444\n",
       "suv            11754\n",
       "other           3005\n",
       "Name: vehicle_type, dtype: int64"
      ]
     },
     "execution_count": 14,
     "metadata": {},
     "output_type": "execute_result"
    }
   ],
   "source": [
    "# рассмотрим признак vehicle_type\n",
    "df['vehicle_type'].value_counts()"
   ]
  },
  {
   "cell_type": "code",
   "execution_count": 15,
   "metadata": {},
   "outputs": [
    {
     "data": {
      "text/plain": [
       "sedan          88574\n",
       "small          75625\n",
       "wagon          63130\n",
       "unknown        31380\n",
       "bus            28213\n",
       "convertible    19778\n",
       "coupe          15444\n",
       "suv            11754\n",
       "other           3005\n",
       "Name: vehicle_type, dtype: int64"
      ]
     },
     "execution_count": 15,
     "metadata": {},
     "output_type": "execute_result"
    }
   ],
   "source": [
    "# так как мы не можем восстанавить пропущенные данные в признаке vehicle_type заменим их на unknown\n",
    "df['vehicle_type'].fillna('unknown', inplace=True)\n",
    "df['vehicle_type'].value_counts()"
   ]
  },
  {
   "cell_type": "code",
   "execution_count": 16,
   "metadata": {},
   "outputs": [
    {
     "data": {
      "text/plain": [
       "array([1993, 2011, 2004, 2001, 2008, 1995, 2014, 1998, 2005, 1910, 2016,\n",
       "       2007, 2009, 2002, 2018, 1997, 1990, 2017, 1981, 2003, 1994, 1991,\n",
       "       1984, 2006, 1999, 2012, 2010, 2000, 1992, 2013, 1996, 1989, 2015,\n",
       "       1985, 1982, 1976, 1983, 1973, 1969, 1971, 1987, 1988, 1980, 1970,\n",
       "       1986, 1965, 1945, 1925, 1974, 1979, 1955, 1978, 1972, 1968, 1977,\n",
       "       1961, 1966, 1975, 1963, 1964, 1960, 1958, 1967, 1956, 3200, 1941,\n",
       "       9999, 8888, 1500, 2200, 4100, 1962, 1929, 1957, 1940, 2066, 1949,\n",
       "       2019, 1937, 1951, 1800, 1959, 1953, 1954, 1234, 5300, 9000, 2900,\n",
       "       6000, 5900, 1000, 5911, 1400, 5000, 4000, 1948, 1952, 8500, 1932,\n",
       "       1950, 3700, 3800, 4800, 1942, 7000, 1935, 1933, 1936, 3000, 1923,\n",
       "       2290, 1930, 1001, 9450, 1944, 2500, 1943, 1938, 1934, 1928, 5555,\n",
       "       1600, 1111, 1039, 2800, 1931, 4500, 1602, 7800, 1947, 1927, 7100,\n",
       "       1300, 8200, 1946])"
      ]
     },
     "execution_count": 16,
     "metadata": {},
     "output_type": "execute_result"
    }
   ],
   "source": [
    "# рассмотрим признак registration_year\n",
    "df['registration_year'].unique()"
   ]
  },
  {
   "cell_type": "code",
   "execution_count": 17,
   "metadata": {},
   "outputs": [
    {
     "data": {
      "image/png": "[encoded data removed]",
      "text/plain": [
       "<Figure size 864x432 with 1 Axes>"
      ]
     },
     "metadata": {
      "needs_background": "light"
     },
     "output_type": "display_data"
    }
   ],
   "source": [
    "# изучим распределение в признаке registration_year\n",
    "plt.figure(figsize=(12, 6))\n",
    "sns.boxplot(x=df['registration_year'])\n",
    "plt.xlim(1900, 2023)\n",
    "plt.xlabel('Год регистрации')\n",
    "plt.grid(True)\n",
    "\n",
    "plt.show()"
   ]
  },
  {
   "cell_type": "code",
   "execution_count": 18,
   "metadata": {},
   "outputs": [
    {
     "data": {
      "text/plain": [
       "array([2016, 2018, 2017, 3200, 9999, 8888, 2200, 4100, 2066, 2019, 5300,\n",
       "       9000, 2900, 6000, 5900, 5911, 5000, 4000, 8500, 3700, 3800, 4800,\n",
       "       7000, 3000, 2290, 9450, 2500, 5555, 2800, 4500, 7800, 7100, 8200])"
      ]
     },
     "execution_count": 18,
     "metadata": {},
     "output_type": "execute_result"
    }
   ],
   "source": [
    "# верхняя граница достоверного года регистрации находится на 2016 так как последняя дата скачивания анкеты date_crawled 2016г\n",
    "df.loc[df['registration_year'] >= 2016, 'registration_year'].unique()"
   ]
  },
  {
   "cell_type": "code",
   "execution_count": 19,
   "metadata": {},
   "outputs": [],
   "source": [
    "# так как выбросы в сторону нижней границы начинаются примерно в районе 1985 года, было принято\n",
    "# решение удалить все выбросы ниже 1985 г. и выше 2016\n",
    "df = df.loc[(df['registration_year'] >= 1985) & (df['registration_year'] <= 2016)]"
   ]
  },
  {
   "cell_type": "code",
   "execution_count": 20,
   "metadata": {},
   "outputs": [
    {
     "data": {
      "text/plain": [
       "manual    243705\n",
       "auto       61608\n",
       "Name: gearbox, dtype: int64"
      ]
     },
     "execution_count": 20,
     "metadata": {},
     "output_type": "execute_result"
    }
   ],
   "source": [
    "# рассмотрим признак gearbox\n",
    "df['gearbox'].value_counts()"
   ]
  },
  {
   "cell_type": "code",
   "execution_count": 21,
   "metadata": {},
   "outputs": [
    {
     "data": {
      "text/plain": [
       "manual     243705\n",
       "auto        61608\n",
       "unknown     13166\n",
       "Name: gearbox, dtype: int64"
      ]
     },
     "execution_count": 21,
     "metadata": {},
     "output_type": "execute_result"
    }
   ],
   "source": [
    "# так как у нас нет возможности восстановить истинные данные заполним пропуски unknown\n",
    "df['gearbox'].fillna('unknown', inplace=True)\n",
    "df['gearbox'].value_counts()"
   ]
  },
  {
   "cell_type": "code",
   "execution_count": 22,
   "metadata": {},
   "outputs": [
    {
     "data": {
      "text/plain": [
       "count    318479.000000\n",
       "mean        113.554966\n",
       "std         183.758446\n",
       "min           0.000000\n",
       "25%          75.000000\n",
       "50%         105.000000\n",
       "75%         143.000000\n",
       "max       20000.000000\n",
       "Name: power, dtype: float64"
      ]
     },
     "execution_count": 22,
     "metadata": {},
     "output_type": "execute_result"
    }
   ],
   "source": [
    "# рассмотрим признак power\n",
    "df['power'].describe()"
   ]
  },
  {
   "cell_type": "code",
   "execution_count": 23,
   "metadata": {},
   "outputs": [
    {
     "data": {
      "image/png": "[encoded data removed]",
      "text/plain": [
       "<Figure size 864x432 with 1 Axes>"
      ]
     },
     "metadata": {
      "needs_background": "light"
     },
     "output_type": "display_data"
    }
   ],
   "source": [
    "# изучим распределение в признаке power\n",
    "plt.figure(figsize=(12, 6))\n",
    "sns.boxplot(x=df['power'])\n",
    "plt.xlim(0, 1000)\n",
    "plt.xlabel('Мощность в Л/С')\n",
    "plt.grid(True)\n",
    "\n",
    "plt.show()"
   ]
  },
  {
   "cell_type": "markdown",
   "metadata": {},
   "source": [
    "Удалим все ниже 15 Л/С так как модели авто мощностью ниже это единичные случаи, также удалим все выше 600 Л/С, подобные авто не попадают в наш ценовой диапазон."
   ]
  },
  {
   "cell_type": "code",
   "execution_count": 24,
   "metadata": {},
   "outputs": [
    {
     "data": {
      "text/plain": [
       "count    288866.000000\n",
       "mean        121.412998\n",
       "std          53.532057\n",
       "min          15.000000\n",
       "25%          80.000000\n",
       "50%         114.000000\n",
       "75%         150.000000\n",
       "max         600.000000\n",
       "Name: power, dtype: float64"
      ]
     },
     "execution_count": 24,
     "metadata": {},
     "output_type": "execute_result"
    }
   ],
   "source": [
    "# удалим всt что ниже 15 Л/С и выше 600 Л/С\n",
    "df = df.loc[(df['power'] >= 15) & (df['power'] <= 600)]\n",
    "df['power'].describe()"
   ]
  },
  {
   "cell_type": "code",
   "execution_count": 25,
   "metadata": {},
   "outputs": [
    {
     "data": {
      "text/plain": [
       "golf                  24217\n",
       "other                 18579\n",
       "3er                   17235\n",
       "polo                  10323\n",
       "unknown               10092\n",
       "                      ...  \n",
       "kalina                    5\n",
       "i3                        5\n",
       "samara                    5\n",
       "rangerover                2\n",
       "range_rover_evoque        2\n",
       "Name: model, Length: 248, dtype: int64"
      ]
     },
     "execution_count": 25,
     "metadata": {},
     "output_type": "execute_result"
    }
   ],
   "source": [
    "# заменим пропуски в признаке model на unknown так как мы не можем восстановить достоверные данные\n",
    "df['model'].fillna('unknown', inplace=True)\n",
    "df['model'].value_counts()"
   ]
  },
  {
   "cell_type": "code",
   "execution_count": 26,
   "metadata": {},
   "outputs": [
    {
     "data": {
      "text/plain": [
       "count    288866.000000\n",
       "mean     128608.610913\n",
       "std       36376.811729\n",
       "min        5000.000000\n",
       "25%      125000.000000\n",
       "50%      150000.000000\n",
       "75%      150000.000000\n",
       "max      150000.000000\n",
       "Name: kilometer, dtype: float64"
      ]
     },
     "execution_count": 26,
     "metadata": {},
     "output_type": "execute_result"
    }
   ],
   "source": [
    "# в признаке kilometer все в порядке, исправления не требуются\n",
    "df['kilometer'].describe()"
   ]
  },
  {
   "cell_type": "code",
   "execution_count": 27,
   "metadata": {},
   "outputs": [
    {
     "data": {
      "text/plain": [
       "petrol      181620\n",
       "gasoline     87254\n",
       "unknown      14558\n",
       "lpg           4641\n",
       "cng            477\n",
       "hybrid         201\n",
       "other           70\n",
       "electric        45\n",
       "Name: fuel_type, dtype: int64"
      ]
     },
     "execution_count": 27,
     "metadata": {},
     "output_type": "execute_result"
    }
   ],
   "source": [
    "# заменим пропуски в признаке fuel_type на unknown так как мы не можем восстановить достоверные данные\n",
    "df['fuel_type'].fillna('unknown', inplace=True)\n",
    "df['fuel_type'].value_counts()"
   ]
  },
  {
   "cell_type": "code",
   "execution_count": 28,
   "metadata": {},
   "outputs": [
    {
     "data": {
      "text/plain": [
       "array(['audi', 'jeep', 'volkswagen', 'skoda', 'bmw', 'peugeot', 'ford',\n",
       "       'mazda', 'nissan', 'renault', 'mercedes_benz', 'seat', 'honda',\n",
       "       'fiat', 'opel', 'mini', 'smart', 'hyundai', 'alfa_romeo', 'subaru',\n",
       "       'volvo', 'mitsubishi', 'kia', 'lancia', 'citroen', 'toyota',\n",
       "       'chevrolet', 'dacia', 'suzuki', 'daihatsu', 'chrysler',\n",
       "       'sonstige_autos', 'jaguar', 'daewoo', 'rover', 'porsche', 'saab',\n",
       "       'land_rover', 'trabant', 'lada'], dtype=object)"
      ]
     },
     "execution_count": 28,
     "metadata": {},
     "output_type": "execute_result"
    }
   ],
   "source": [
    "# рассмотрим признак brand\n",
    "# проблем не обнаружено\n",
    "df['brand'].unique()"
   ]
  },
  {
   "cell_type": "code",
   "execution_count": 29,
   "metadata": {},
   "outputs": [
    {
     "data": {
      "text/plain": [
       "no         220981\n",
       "unknown     40776\n",
       "yes         27109\n",
       "Name: repaired, dtype: int64"
      ]
     },
     "execution_count": 29,
     "metadata": {},
     "output_type": "execute_result"
    }
   ],
   "source": [
    "# заменим пропуски в признаке repaired на unknown так как мы не можем восстановить достоверные данные\n",
    "df['repaired'].fillna('unknown', inplace=True)\n",
    "df['repaired'].value_counts()"
   ]
  },
  {
   "cell_type": "code",
   "execution_count": 30,
   "metadata": {},
   "outputs": [
    {
     "data": {
      "text/plain": [
       "81.51559532577623"
      ]
     },
     "execution_count": 30,
     "metadata": {},
     "output_type": "execute_result"
    }
   ],
   "source": [
    "# расчитаем сколько процентов от изначальных данных у нас осталось после обработки\n",
    "after = df.shape[0]\n",
    "after / before * 100"
   ]
  },
  {
   "cell_type": "markdown",
   "metadata": {},
   "source": [
    "После очистки данных осталось около 81,5% датасета. Есть мнение что удалить пропуски было бы лучшим вариантом но пока решено оставить заглушку."
   ]
  },
  {
   "cell_type": "code",
   "execution_count": 31,
   "metadata": {},
   "outputs": [
    {
     "data": {
      "text/html": [
       "<div>\n",
       "<style scoped>\n",
       "    .dataframe tbody tr th:only-of-type {\n",
       "        vertical-align: middle;\n",
       "    }\n",
       "\n",
       "    .dataframe tbody tr th {\n",
       "        vertical-align: top;\n",
       "    }\n",
       "\n",
       "    .dataframe thead th {\n",
       "        text-align: right;\n",
       "    }\n",
       "</style>\n",
       "<table border=\"1\" class=\"dataframe\">\n",
       "  <thead>\n",
       "    <tr style=\"text-align: right;\">\n",
       "      <th></th>\n",
       "      <th>price</th>\n",
       "      <th>vehicle_type</th>\n",
       "      <th>registration_year</th>\n",
       "      <th>gearbox</th>\n",
       "      <th>power</th>\n",
       "      <th>model</th>\n",
       "      <th>kilometer</th>\n",
       "      <th>fuel_type</th>\n",
       "      <th>brand</th>\n",
       "      <th>repaired</th>\n",
       "    </tr>\n",
       "  </thead>\n",
       "  <tbody>\n",
       "    <tr>\n",
       "      <th>0</th>\n",
       "      <td>18300</td>\n",
       "      <td>coupe</td>\n",
       "      <td>2011</td>\n",
       "      <td>manual</td>\n",
       "      <td>190</td>\n",
       "      <td>unknown</td>\n",
       "      <td>125000</td>\n",
       "      <td>gasoline</td>\n",
       "      <td>audi</td>\n",
       "      <td>yes</td>\n",
       "    </tr>\n",
       "    <tr>\n",
       "      <th>1</th>\n",
       "      <td>9800</td>\n",
       "      <td>suv</td>\n",
       "      <td>2004</td>\n",
       "      <td>auto</td>\n",
       "      <td>163</td>\n",
       "      <td>grand</td>\n",
       "      <td>125000</td>\n",
       "      <td>gasoline</td>\n",
       "      <td>jeep</td>\n",
       "      <td>unknown</td>\n",
       "    </tr>\n",
       "    <tr>\n",
       "      <th>2</th>\n",
       "      <td>1500</td>\n",
       "      <td>small</td>\n",
       "      <td>2001</td>\n",
       "      <td>manual</td>\n",
       "      <td>75</td>\n",
       "      <td>golf</td>\n",
       "      <td>150000</td>\n",
       "      <td>petrol</td>\n",
       "      <td>volkswagen</td>\n",
       "      <td>no</td>\n",
       "    </tr>\n",
       "    <tr>\n",
       "      <th>3</th>\n",
       "      <td>3600</td>\n",
       "      <td>small</td>\n",
       "      <td>2008</td>\n",
       "      <td>manual</td>\n",
       "      <td>69</td>\n",
       "      <td>fabia</td>\n",
       "      <td>90000</td>\n",
       "      <td>gasoline</td>\n",
       "      <td>skoda</td>\n",
       "      <td>no</td>\n",
       "    </tr>\n",
       "    <tr>\n",
       "      <th>4</th>\n",
       "      <td>650</td>\n",
       "      <td>sedan</td>\n",
       "      <td>1995</td>\n",
       "      <td>manual</td>\n",
       "      <td>102</td>\n",
       "      <td>3er</td>\n",
       "      <td>150000</td>\n",
       "      <td>petrol</td>\n",
       "      <td>bmw</td>\n",
       "      <td>yes</td>\n",
       "    </tr>\n",
       "  </tbody>\n",
       "</table>\n",
       "</div>"
      ],
      "text/plain": [
       "   price vehicle_type  registration_year gearbox  power    model  kilometer  \\\n",
       "0  18300        coupe               2011  manual    190  unknown     125000   \n",
       "1   9800          suv               2004    auto    163    grand     125000   \n",
       "2   1500        small               2001  manual     75     golf     150000   \n",
       "3   3600        small               2008  manual     69    fabia      90000   \n",
       "4    650        sedan               1995  manual    102      3er     150000   \n",
       "\n",
       "  fuel_type       brand repaired  \n",
       "0  gasoline        audi      yes  \n",
       "1  gasoline        jeep  unknown  \n",
       "2    petrol  volkswagen       no  \n",
       "3  gasoline       skoda       no  \n",
       "4    petrol         bmw      yes  "
      ]
     },
     "execution_count": 31,
     "metadata": {},
     "output_type": "execute_result"
    }
   ],
   "source": [
    "# сбросим индексы\n",
    "df.reset_index(drop=True, inplace=True)\n",
    "df.head()"
   ]
  },
  {
   "cell_type": "markdown",
   "metadata": {},
   "source": [
    "## Обучение моделей"
   ]
  },
  {
   "cell_type": "code",
   "execution_count": 32,
   "metadata": {},
   "outputs": [],
   "source": [
    "# разделим датасет на признаки и таргет\n",
    "X = df.drop('price', axis=1)\n",
    "y = df['price']\n",
    "rs = 42"
   ]
  },
  {
   "cell_type": "code",
   "execution_count": 33,
   "metadata": {},
   "outputs": [
    {
     "data": {
      "text/plain": [
       "'Размер тренировочной выборки: 231092 строки 9 столбцов'"
      ]
     },
     "metadata": {},
     "output_type": "display_data"
    },
    {
     "data": {
      "text/plain": [
       "'Размер тренировочного целевого признака: 231092 строки'"
      ]
     },
     "metadata": {},
     "output_type": "display_data"
    },
    {
     "data": {
      "text/plain": [
       "'Размер тестовой выборки: 57774 строк 9 столбцов'"
      ]
     },
     "metadata": {},
     "output_type": "display_data"
    },
    {
     "data": {
      "text/plain": [
       "'Размер тестового целевого признака: 57774 строк'"
      ]
     },
     "metadata": {},
     "output_type": "display_data"
    }
   ],
   "source": [
    "# разделим данные на тренировочные и валидационные\n",
    "X_train, X_test, y_train, y_test = train_test_split(X, y, test_size=0.2, random_state=rs)\n",
    "\n",
    "# проверим размеры наших выборок\n",
    "display(f'Размер тренировочной выборки: {X_train.shape[0]} строки {X_train.shape[1]} столбцов')\n",
    "display(f'Размер тренировочного целевого признака: {y_train.shape[0]} строки')\n",
    "display(f'Размер тестовой выборки: {X_test.shape[0]} строк {X_test.shape[1]} столбцов')\n",
    "display(f'Размер тестового целевого признака: {y_test.shape[0]} строк')"
   ]
  },
  {
   "cell_type": "code",
   "execution_count": 34,
   "metadata": {},
   "outputs": [],
   "source": [
    "# создадим список категориальных признаков\n",
    "cat_features = ['vehicle_type', 'gearbox', 'model', 'fuel_type', 'brand', 'repaired']"
   ]
  },
  {
   "cell_type": "code",
   "execution_count": 35,
   "metadata": {},
   "outputs": [
    {
     "name": "stdout",
     "output_type": "stream",
     "text": [
      "<class 'pandas.core.frame.DataFrame'>\n",
      "Int64Index: 231092 entries, 15284 to 121958\n",
      "Data columns (total 9 columns):\n",
      " #   Column             Non-Null Count   Dtype\n",
      "---  ------             --------------   -----\n",
      " 0   vehicle_type       231092 non-null  int16\n",
      " 1   registration_year  231092 non-null  int16\n",
      " 2   gearbox            231092 non-null  int16\n",
      " 3   power              231092 non-null  int16\n",
      " 4   model              231092 non-null  int16\n",
      " 5   kilometer          231092 non-null  int16\n",
      " 6   fuel_type          231092 non-null  int16\n",
      " 7   brand              231092 non-null  int16\n",
      " 8   repaired           231092 non-null  int16\n",
      "dtypes: int16(9)\n",
      "memory usage: 5.7 MB\n"
     ]
    }
   ],
   "source": [
    "# с помощью OrdinalEncoder закодируем наши признаки и приведем все к int16\n",
    "encoder = OrdinalEncoder(dtype=np.int16)\n",
    "encoder.fit(X_train[cat_features])\n",
    "X_train[cat_features] = encoder.transform(X_train[cat_features])\n",
    "X_train = X_train.astype(np.int16)\n",
    "X_train.info()"
   ]
  },
  {
   "cell_type": "code",
   "execution_count": 36,
   "metadata": {},
   "outputs": [
    {
     "name": "stdout",
     "output_type": "stream",
     "text": [
      "<class 'pandas.core.frame.DataFrame'>\n",
      "Int64Index: 57774 entries, 56107 to 271749\n",
      "Data columns (total 9 columns):\n",
      " #   Column             Non-Null Count  Dtype\n",
      "---  ------             --------------  -----\n",
      " 0   vehicle_type       57774 non-null  int16\n",
      " 1   registration_year  57774 non-null  int16\n",
      " 2   gearbox            57774 non-null  int16\n",
      " 3   power              57774 non-null  int16\n",
      " 4   model              57774 non-null  int16\n",
      " 5   kilometer          57774 non-null  int16\n",
      " 6   fuel_type          57774 non-null  int16\n",
      " 7   brand              57774 non-null  int16\n",
      " 8   repaired           57774 non-null  int16\n",
      "dtypes: int16(9)\n",
      "memory usage: 1.4 MB\n"
     ]
    }
   ],
   "source": [
    "# с помощью OrdinalEncoder закодируем наши признаки и приведем все к int16\n",
    "X_test[cat_features] = encoder.transform(X_test[cat_features])\n",
    "X_test = X_test.astype(np.int16)\n",
    "\n",
    "y_train = y_train.astype(np.int16)\n",
    "y_test = y_test.astype(np.int16)\n",
    "\n",
    "X_test.info()"
   ]
  },
  {
   "cell_type": "code",
   "execution_count": 37,
   "metadata": {},
   "outputs": [
    {
     "name": "stdout",
     "output_type": "stream",
     "text": [
      "{'max_depth': 16, 'n_estimators': 70}\n",
      "CPU times: user 34min 38s, sys: 9.64 s, total: 34min 48s\n",
      "Wall time: 34min 49s\n"
     ]
    },
    {
     "data": {
      "text/plain": [
       "1566.3004146511853"
      ]
     },
     "execution_count": 37,
     "metadata": {},
     "output_type": "execute_result"
    }
   ],
   "source": [
    "%%time\n",
    "# подберем лучшие параметры для модели RandomForestRegressor\n",
    "# выведем на экран лучшие параметры и rmse\n",
    "\n",
    "RFR = RandomForestRegressor(random_state=rs) \n",
    "params = {'max_depth': np.arange(2, 17, 2),\n",
    "          'n_estimators': np.arange(40, 71, 10)}\n",
    "\n",
    "grid = GridSearchCV(RFR, \n",
    "                    param_grid=params, \n",
    "                    scoring='neg_mean_squared_error')\n",
    "\n",
    "grid.fit(X_train, y_train)\n",
    "\n",
    "print(grid.best_params_)\n",
    "    \n",
    "rmse_RFR = (max(grid.cv_results_['mean_test_score']) * -1) ** .5\n",
    "rmse_RFR"
   ]
  },
  {
   "cell_type": "code",
   "execution_count": 41,
   "metadata": {
    "scrolled": false
   },
   "outputs": [
    {
     "name": "stdout",
     "output_type": "stream",
     "text": [
      "{'depth': 10, 'learning_rate': 0.2}\n",
      "CPU times: user 30min 46s, sys: 13.6 s, total: 31min\n",
      "Wall time: 32min\n"
     ]
    },
    {
     "data": {
      "text/plain": [
       "1470.9005651880886"
      ]
     },
     "execution_count": 41,
     "metadata": {},
     "output_type": "execute_result"
    }
   ],
   "source": [
    "%%time\n",
    "# подберем лучшие параметры для модели CatBoostRegressor\n",
    "# выведем на экран лучшие параметры и rmse\n",
    "\n",
    "CBR = CatBoostRegressor(loss_function='RMSE', random_state=rs, verbose=False) \n",
    "params = {'depth': [8, 10],\n",
    "          'learning_rate': np.arange(0.1, 0.4, 0.1)}\n",
    "\n",
    "grid = GridSearchCV(CBR,\n",
    "                    param_grid=params, \n",
    "                    scoring='neg_mean_squared_error')\n",
    "\n",
    "grid.fit(X_train, y_train)\n",
    "\n",
    "print(grid.best_params_)\n",
    "    \n",
    "rmse_CBR = (max(grid.cv_results_['mean_test_score']) * -1) ** .5\n",
    "rmse_CBR"
   ]
  },
  {
   "cell_type": "code",
   "execution_count": 44,
   "metadata": {},
   "outputs": [
    {
     "name": "stdout",
     "output_type": "stream",
     "text": [
      "{'learning_rate': 0.2, 'num_leaves': 100}\n",
      "CPU times: user 13min 15s, sys: 7.43 s, total: 13min 22s\n",
      "Wall time: 13min 28s\n"
     ]
    },
    {
     "data": {
      "text/plain": [
       "1512.5371241206137"
      ]
     },
     "execution_count": 44,
     "metadata": {},
     "output_type": "execute_result"
    }
   ],
   "source": [
    "%%time\n",
    "# подберем лучшие параметры для модели LGBMRegressor\n",
    "# выведем на экран лучшие параметры и rmse\n",
    "\n",
    "LGBMR = LGBMRegressor(random_state=rs) \n",
    "params = {'num_leaves': [50, 75, 100], \n",
    "          'learning_rate': [.1, .2]}\n",
    "\n",
    "grid = GridSearchCV(LGBMR,\n",
    "                    param_grid=params, \n",
    "                    scoring='neg_mean_squared_error')\n",
    "\n",
    "grid.fit(X_train, y_train)\n",
    "\n",
    "print(grid.best_params_)\n",
    "\n",
    "rmse_LGBMR = (max(grid.cv_results_['mean_test_score']) * -1) ** .5\n",
    "rmse_LGBMR"
   ]
  },
  {
   "cell_type": "markdown",
   "metadata": {},
   "source": [
    "Расчитаем время обучения, время предсказания и качество моделей."
   ]
  },
  {
   "cell_type": "markdown",
   "metadata": {},
   "source": [
    "RandomForestRegressor"
   ]
  },
  {
   "cell_type": "code",
   "execution_count": 45,
   "metadata": {},
   "outputs": [
    {
     "name": "stdout",
     "output_type": "stream",
     "text": [
      "CPU times: user 39 s, sys: 59.9 ms, total: 39.1 s\n",
      "Wall time: 39.2 s\n"
     ]
    },
    {
     "data": {
      "text/plain": [
       "RandomForestRegressor(max_depth=16, n_estimators=70, random_state=42)"
      ]
     },
     "execution_count": 45,
     "metadata": {},
     "output_type": "execute_result"
    }
   ],
   "source": [
    "%%time\n",
    "# выведем время обучения RandomForestRegressor\n",
    "\n",
    "RFR = RandomForestRegressor(random_state=rs, max_depth=16, n_estimators=70)\n",
    "RFR.fit(X_train, y_train)"
   ]
  },
  {
   "cell_type": "code",
   "execution_count": 46,
   "metadata": {},
   "outputs": [
    {
     "name": "stdout",
     "output_type": "stream",
     "text": [
      "CPU times: user 3.75 s, sys: 3 µs, total: 3.75 s\n",
      "Wall time: 3.76 s\n"
     ]
    }
   ],
   "source": [
    "%%time\n",
    "# выведем время предсказания RandomForestRegressor\n",
    "\n",
    "RFR_predict = RFR.predict(X_train)"
   ]
  },
  {
   "cell_type": "code",
   "execution_count": 47,
   "metadata": {},
   "outputs": [
    {
     "data": {
      "text/plain": [
       "1206.7490276132594"
      ]
     },
     "execution_count": 47,
     "metadata": {},
     "output_type": "execute_result"
    }
   ],
   "source": [
    "# выведем rmse для RandomForestRegressor\n",
    "\n",
    "RFR_rmse = mean_squared_error(y_train, RFR_predict, squared=False)\n",
    "RFR_rmse"
   ]
  },
  {
   "cell_type": "markdown",
   "metadata": {},
   "source": [
    "CatBoostRegressor"
   ]
  },
  {
   "cell_type": "code",
   "execution_count": 48,
   "metadata": {
    "scrolled": true
   },
   "outputs": [
    {
     "name": "stdout",
     "output_type": "stream",
     "text": [
      "0:\tlearn: 3931.3765849\ttotal: 78.9ms\tremaining: 1m 18s\n",
      "999:\tlearn: 1195.7098339\ttotal: 1m 16s\tremaining: 0us\n",
      "CPU times: user 1min 16s, sys: 332 ms, total: 1min 16s\n",
      "Wall time: 1min 18s\n"
     ]
    },
    {
     "data": {
      "text/plain": [
       "<catboost.core.CatBoostRegressor at 0x7f1a61ffd0d0>"
      ]
     },
     "execution_count": 48,
     "metadata": {},
     "output_type": "execute_result"
    }
   ],
   "source": [
    "%%time\n",
    "# выведем время обучения CatBoostRegressor\n",
    "\n",
    "CBR = CatBoostRegressor(loss_function='RMSE', random_state=rs, metric_period=1000, depth=10, learning_rate=0.2)\n",
    "CBR.fit(X_train, y_train)"
   ]
  },
  {
   "cell_type": "code",
   "execution_count": 49,
   "metadata": {},
   "outputs": [
    {
     "name": "stdout",
     "output_type": "stream",
     "text": [
      "CPU times: user 1.17 s, sys: 18 µs, total: 1.17 s\n",
      "Wall time: 1.17 s\n"
     ]
    }
   ],
   "source": [
    "%%time\n",
    "# выведем время предсказания CatBoostRegressor\n",
    "\n",
    "CBR_predict = CBR.predict(X_train)"
   ]
  },
  {
   "cell_type": "code",
   "execution_count": 50,
   "metadata": {},
   "outputs": [
    {
     "data": {
      "text/plain": [
       "1195.709833939465"
      ]
     },
     "execution_count": 50,
     "metadata": {},
     "output_type": "execute_result"
    }
   ],
   "source": [
    "# выведем rmse для CatBoostRegressor\n",
    "\n",
    "CBR_rmse = mean_squared_error(y_train, CBR_predict, squared=False)\n",
    "CBR_rmse"
   ]
  },
  {
   "cell_type": "markdown",
   "metadata": {},
   "source": [
    "LGBMRegressor"
   ]
  },
  {
   "cell_type": "code",
   "execution_count": 53,
   "metadata": {},
   "outputs": [
    {
     "name": "stdout",
     "output_type": "stream",
     "text": [
      "CPU times: user 10.1 s, sys: 44 ms, total: 10.1 s\n",
      "Wall time: 10.2 s\n"
     ]
    },
    {
     "data": {
      "text/plain": [
       "LGBMRegressor(learning_rate=0.2, num_leaves=100, random_state=42)"
      ]
     },
     "execution_count": 53,
     "metadata": {},
     "output_type": "execute_result"
    }
   ],
   "source": [
    "%%time\n",
    "# выведем время обучения LGBMRegressor\n",
    "\n",
    "LGBMR = LGBMRegressor(random_state=rs, learning_rate=0.2, num_leaves=100)\n",
    "LGBMR.fit(X_train, y_train)"
   ]
  },
  {
   "cell_type": "code",
   "execution_count": 54,
   "metadata": {},
   "outputs": [
    {
     "name": "stdout",
     "output_type": "stream",
     "text": [
      "CPU times: user 1.88 s, sys: 5.54 ms, total: 1.88 s\n",
      "Wall time: 1.9 s\n"
     ]
    }
   ],
   "source": [
    "%%time\n",
    "# выведем время предсказания LGBMRegressor\n",
    "\n",
    "LGBMR_predict = LGBMR.predict(X_train)"
   ]
  },
  {
   "cell_type": "code",
   "execution_count": 55,
   "metadata": {},
   "outputs": [
    {
     "data": {
      "text/plain": [
       "1394.751277191849"
      ]
     },
     "execution_count": 55,
     "metadata": {},
     "output_type": "execute_result"
    }
   ],
   "source": [
    "# выведем rmse для LGBMRegressor\n",
    "\n",
    "LGBMR_rmse = mean_squared_error(y_train, LGBMR_predict, squared=False)\n",
    "LGBMR_rmse"
   ]
  },
  {
   "cell_type": "code",
   "execution_count": 56,
   "metadata": {},
   "outputs": [
    {
     "data": {
      "text/html": [
       "<div>\n",
       "<style scoped>\n",
       "    .dataframe tbody tr th:only-of-type {\n",
       "        vertical-align: middle;\n",
       "    }\n",
       "\n",
       "    .dataframe tbody tr th {\n",
       "        vertical-align: top;\n",
       "    }\n",
       "\n",
       "    .dataframe thead th {\n",
       "        text-align: right;\n",
       "    }\n",
       "</style>\n",
       "<table border=\"1\" class=\"dataframe\">\n",
       "  <thead>\n",
       "    <tr style=\"text-align: right;\">\n",
       "      <th></th>\n",
       "      <th>rmse</th>\n",
       "      <th>train_time</th>\n",
       "      <th>prediction_time</th>\n",
       "    </tr>\n",
       "  </thead>\n",
       "  <tbody>\n",
       "    <tr>\n",
       "      <th>RandomForestRegressor</th>\n",
       "      <td>1206.749028</td>\n",
       "      <td>39.2 s</td>\n",
       "      <td>3.76 s</td>\n",
       "    </tr>\n",
       "    <tr>\n",
       "      <th>CatBoostRegressor</th>\n",
       "      <td>1195.709834</td>\n",
       "      <td>1min 18s</td>\n",
       "      <td>1.17 s</td>\n",
       "    </tr>\n",
       "    <tr>\n",
       "      <th>LGBMRegressor</th>\n",
       "      <td>1394.751277</td>\n",
       "      <td>10.2 s</td>\n",
       "      <td>1.9 s</td>\n",
       "    </tr>\n",
       "  </tbody>\n",
       "</table>\n",
       "</div>"
      ],
      "text/plain": [
       "                              rmse train_time prediction_time\n",
       "RandomForestRegressor  1206.749028     39.2 s          3.76 s\n",
       "CatBoostRegressor      1195.709834   1min 18s          1.17 s\n",
       "LGBMRegressor          1394.751277     10.2 s           1.9 s"
      ]
     },
     "execution_count": 56,
     "metadata": {},
     "output_type": "execute_result"
    }
   ],
   "source": [
    "# выведем на экран таблицу с итогами исследования\n",
    "models = ['RandomForestRegressor', 'CatBoostRegressor', 'LGBMRegressor']\n",
    "table = pd.DataFrame(np.array([RFR_rmse, CBR_rmse, LGBMR_rmse]), index=models)\n",
    "table.set_axis(['rmse'], axis=1, inplace=True)\n",
    "table['train_time'] = ['39.2 s', '1min 18s', '10.2 s']\n",
    "table['prediction_time'] = ['3.76 s', '1.17 s', '1.9 s']\n",
    "\n",
    "table"
   ]
  },
  {
   "cell_type": "markdown",
   "metadata": {},
   "source": [
    "DummyRegressor"
   ]
  },
  {
   "cell_type": "code",
   "execution_count": 58,
   "metadata": {},
   "outputs": [
    {
     "data": {
      "text/plain": [
       "4591.195962901054"
      ]
     },
     "execution_count": 58,
     "metadata": {},
     "output_type": "execute_result"
    }
   ],
   "source": [
    "# провеверим модели на адекватность сравнением с константной моделью\n",
    "dummy = DummyRegressor(strategy='mean')\n",
    "dummy.fit(X_train, y_train)\n",
    "dummy_predict = dummy.predict(X_train)\n",
    "\n",
    "dummy_rmse = mean_squared_error(y_train, dummy_predict, squared=False)\n",
    "dummy_rmse"
   ]
  },
  {
   "cell_type": "markdown",
   "metadata": {},
   "source": [
    "## Анализ моделей"
   ]
  },
  {
   "cell_type": "markdown",
   "metadata": {},
   "source": [
    "Были обучены 3 модели: RandomForestRegressor, CatBoostRegressor, LGBMRegressor. С помощью GridSearchCV подобраны лучшие параметры. Адекватность моделей подтверждена сравнением с показателями на константной моделе. По метрике RMSE и по скорости предсказания модель CatBoostRegressor значительно превзошла другие модели, проиграв лишь во времени обучения. Считаю что мы можем оставить для дальнейшей работы модель CatBoostRegressor так как она продемонстрировала лучшие результаты в 2 из 3 параметров оценки модели. Проверим модель CatBoostRegressor на тестовой выборке."
   ]
  },
  {
   "cell_type": "markdown",
   "metadata": {},
   "source": [
    "# Тестирование лучшей модели"
   ]
  },
  {
   "cell_type": "markdown",
   "metadata": {},
   "source": [
    "В данной ситуации рекомендую модель CatBoostRegressor. Посмотрим на показатели на тестовых данных."
   ]
  },
  {
   "cell_type": "code",
   "execution_count": 61,
   "metadata": {},
   "outputs": [
    {
     "name": "stdout",
     "output_type": "stream",
     "text": [
      "0:\tlearn: 3931.3765849\ttotal: 66.6ms\tremaining: 1m 6s\n",
      "999:\tlearn: 1195.7098339\ttotal: 58.9s\tremaining: 0us\n",
      "CPU times: user 59.1 s, sys: 177 ms, total: 59.3 s\n",
      "Wall time: 60 s\n"
     ]
    },
    {
     "data": {
      "text/plain": [
       "<catboost.core.CatBoostRegressor at 0x7f1a620554f0>"
      ]
     },
     "execution_count": 61,
     "metadata": {},
     "output_type": "execute_result"
    }
   ],
   "source": [
    "%%time\n",
    "# выведем время обучения CatBoostRegressor\n",
    "\n",
    "CBR = CatBoostRegressor(loss_function='RMSE', random_state=rs, metric_period=1000, depth=10, learning_rate=0.2)\n",
    "CBR.fit(X_train, y_train)"
   ]
  },
  {
   "cell_type": "code",
   "execution_count": 62,
   "metadata": {},
   "outputs": [
    {
     "name": "stdout",
     "output_type": "stream",
     "text": [
      "CPU times: user 292 ms, sys: 3 µs, total: 292 ms\n",
      "Wall time: 297 ms\n"
     ]
    }
   ],
   "source": [
    "%%time\n",
    "# выведем время предсказания CatBoostRegressor\n",
    "\n",
    "CBR_predict = CBR.predict(X_test)"
   ]
  },
  {
   "cell_type": "code",
   "execution_count": 63,
   "metadata": {},
   "outputs": [
    {
     "data": {
      "text/plain": [
       "1436.2098621307591"
      ]
     },
     "execution_count": 63,
     "metadata": {},
     "output_type": "execute_result"
    }
   ],
   "source": [
    "# выведем rmse для CatBoostRegressor\n",
    "\n",
    "CBR_rmse = mean_squared_error(y_test, CBR_predict, squared=False)\n",
    "CBR_rmse"
   ]
  },
  {
   "cell_type": "markdown",
   "metadata": {},
   "source": [
    "Модель CatBoostRegressor продемонстрировала на тестовых данных следующие показатели:\n",
    "\n",
    "    - train time - 60 s\n",
    "    - predict time - 297 ms\n",
    "    - RMSE - 1436.21"
   ]
  }
 ],
 "metadata": {
  "ExecuteTimeLog": [
   {
    "duration": 106,
    "start_time": "2023-02-15T09:44:11.237Z"
   },
   {
    "duration": 417,
    "start_time": "2023-02-15T09:44:20.548Z"
   },
   {
    "duration": 3387,
    "start_time": "2023-02-15T09:44:44.661Z"
   },
   {
    "duration": 20,
    "start_time": "2023-02-15T09:44:55.412Z"
   },
   {
    "duration": 966,
    "start_time": "2023-02-15T09:45:30.030Z"
   },
   {
    "duration": 119,
    "start_time": "2023-02-15T09:45:56.125Z"
   },
   {
    "duration": 52,
    "start_time": "2023-02-15T12:09:01.105Z"
   },
   {
    "duration": 38,
    "start_time": "2023-02-15T12:09:28.752Z"
   },
   {
    "duration": 45,
    "start_time": "2023-02-15T12:09:48.828Z"
   },
   {
    "duration": 52,
    "start_time": "2023-02-15T12:10:05.327Z"
   },
   {
    "duration": 59,
    "start_time": "2023-02-15T12:10:17.873Z"
   },
   {
    "duration": 417,
    "start_time": "2023-02-16T03:43:53.026Z"
   },
   {
    "duration": 3145,
    "start_time": "2023-02-16T03:43:53.992Z"
   },
   {
    "duration": 69,
    "start_time": "2023-02-16T09:13:57.926Z"
   },
   {
    "duration": 406,
    "start_time": "2023-02-16T09:14:09.527Z"
   },
   {
    "duration": 1158,
    "start_time": "2023-02-16T09:14:11.237Z"
   },
   {
    "duration": 30,
    "start_time": "2023-02-16T09:14:20.859Z"
   },
   {
    "duration": 9,
    "start_time": "2023-02-16T09:15:04.662Z"
   },
   {
    "duration": 8,
    "start_time": "2023-02-16T09:15:38.167Z"
   },
   {
    "duration": 9,
    "start_time": "2023-02-16T09:15:57.190Z"
   },
   {
    "duration": 154,
    "start_time": "2023-02-16T09:16:48.701Z"
   },
   {
    "duration": 163,
    "start_time": "2023-02-16T09:17:09.199Z"
   },
   {
    "duration": 14,
    "start_time": "2023-02-16T09:17:26.432Z"
   },
   {
    "duration": 92,
    "start_time": "2023-02-16T09:17:52.736Z"
   },
   {
    "duration": 101,
    "start_time": "2023-02-16T09:23:23.232Z"
   },
   {
    "duration": 10,
    "start_time": "2023-02-16T09:24:10.432Z"
   },
   {
    "duration": 64,
    "start_time": "2023-02-16T09:24:33.994Z"
   },
   {
    "duration": 67,
    "start_time": "2023-02-16T09:25:55.339Z"
   },
   {
    "duration": 10,
    "start_time": "2023-02-16T09:34:21.856Z"
   },
   {
    "duration": 166,
    "start_time": "2023-02-16T09:34:56.833Z"
   },
   {
    "duration": 400,
    "start_time": "2023-02-16T09:36:05.009Z"
   },
   {
    "duration": 869,
    "start_time": "2023-02-16T09:36:05.875Z"
   },
   {
    "duration": 166,
    "start_time": "2023-02-16T09:36:07.843Z"
   },
   {
    "duration": 410,
    "start_time": "2023-02-16T09:36:09.203Z"
   },
   {
    "duration": 64,
    "start_time": "2023-02-16T09:36:48.644Z"
   },
   {
    "duration": 767,
    "start_time": "2023-02-16T09:37:48.292Z"
   },
   {
    "duration": 792,
    "start_time": "2023-02-16T09:38:07.492Z"
   },
   {
    "duration": 797,
    "start_time": "2023-02-16T09:38:30.733Z"
   },
   {
    "duration": 753,
    "start_time": "2023-02-16T09:39:17.949Z"
   },
   {
    "duration": 373,
    "start_time": "2023-02-16T09:39:37.541Z"
   },
   {
    "duration": 832,
    "start_time": "2023-02-16T09:39:37.916Z"
   },
   {
    "duration": 159,
    "start_time": "2023-02-16T09:39:38.750Z"
   },
   {
    "duration": 405,
    "start_time": "2023-02-16T09:39:39.869Z"
   },
   {
    "duration": 850,
    "start_time": "2023-02-16T09:39:41.270Z"
   },
   {
    "duration": 100,
    "start_time": "2023-02-16T09:39:46.381Z"
   },
   {
    "duration": 12,
    "start_time": "2023-02-16T09:39:50.533Z"
   },
   {
    "duration": 64,
    "start_time": "2023-02-16T09:39:56.232Z"
   },
   {
    "duration": 268,
    "start_time": "2023-02-16T09:56:07.533Z"
   },
   {
    "duration": 259,
    "start_time": "2023-02-16T09:56:36.757Z"
   },
   {
    "duration": 303,
    "start_time": "2023-02-16T09:56:50.598Z"
   },
   {
    "duration": 10,
    "start_time": "2023-02-16T10:05:10.332Z"
   },
   {
    "duration": 23,
    "start_time": "2023-02-16T10:05:55.842Z"
   },
   {
    "duration": 25,
    "start_time": "2023-02-16T10:06:04.390Z"
   },
   {
    "duration": 24,
    "start_time": "2023-02-16T10:06:13.341Z"
   },
   {
    "duration": 23,
    "start_time": "2023-02-16T10:06:25.969Z"
   },
   {
    "duration": 20,
    "start_time": "2023-02-16T10:06:51.842Z"
   },
   {
    "duration": 22,
    "start_time": "2023-02-16T10:07:08.335Z"
   },
   {
    "duration": 21,
    "start_time": "2023-02-16T10:07:19.763Z"
   },
   {
    "duration": 22,
    "start_time": "2023-02-16T10:07:35.994Z"
   },
   {
    "duration": 23,
    "start_time": "2023-02-16T10:08:16.837Z"
   },
   {
    "duration": 21,
    "start_time": "2023-02-16T10:08:21.203Z"
   },
   {
    "duration": 8,
    "start_time": "2023-02-16T10:08:54.595Z"
   },
   {
    "duration": 19,
    "start_time": "2023-02-16T10:09:00.779Z"
   },
   {
    "duration": 17,
    "start_time": "2023-02-16T10:09:05.640Z"
   },
   {
    "duration": 20,
    "start_time": "2023-02-16T10:39:23.356Z"
   },
   {
    "duration": 19,
    "start_time": "2023-02-16T10:39:29.356Z"
   },
   {
    "duration": 17,
    "start_time": "2023-02-16T10:39:34.809Z"
   },
   {
    "duration": 24,
    "start_time": "2023-02-16T10:39:42.482Z"
   },
   {
    "duration": 60,
    "start_time": "2023-02-16T10:40:08.497Z"
   },
   {
    "duration": 9,
    "start_time": "2023-02-16T10:40:15.482Z"
   },
   {
    "duration": 7,
    "start_time": "2023-02-16T10:40:51.131Z"
   },
   {
    "duration": 12,
    "start_time": "2023-02-16T10:41:16.089Z"
   },
   {
    "duration": 27,
    "start_time": "2023-02-16T10:41:32.282Z"
   },
   {
    "duration": 7,
    "start_time": "2023-02-16T10:42:13.890Z"
   },
   {
    "duration": 18,
    "start_time": "2023-02-16T10:50:48.741Z"
   },
   {
    "duration": 20,
    "start_time": "2023-02-16T10:52:19.479Z"
   },
   {
    "duration": 16,
    "start_time": "2023-02-16T10:52:29.246Z"
   },
   {
    "duration": 22,
    "start_time": "2023-02-16T10:52:35.039Z"
   },
   {
    "duration": 127,
    "start_time": "2023-02-16T10:58:59.361Z"
   },
   {
    "duration": 376,
    "start_time": "2023-02-16T11:00:03.667Z"
   },
   {
    "duration": 924,
    "start_time": "2023-02-16T11:00:04.128Z"
   },
   {
    "duration": 170,
    "start_time": "2023-02-16T11:00:05.054Z"
   },
   {
    "duration": 411,
    "start_time": "2023-02-16T11:00:05.791Z"
   },
   {
    "duration": 786,
    "start_time": "2023-02-16T11:00:06.910Z"
   },
   {
    "duration": 109,
    "start_time": "2023-02-16T11:00:09.136Z"
   },
   {
    "duration": 12,
    "start_time": "2023-02-16T11:00:15.122Z"
   },
   {
    "duration": 76,
    "start_time": "2023-02-16T11:00:15.639Z"
   },
   {
    "duration": 270,
    "start_time": "2023-02-16T11:00:18.238Z"
   },
   {
    "duration": 32,
    "start_time": "2023-02-16T11:02:33.263Z"
   },
   {
    "duration": 40,
    "start_time": "2023-02-16T11:03:20.326Z"
   },
   {
    "duration": 11,
    "start_time": "2023-02-16T11:33:57.182Z"
   },
   {
    "duration": 5,
    "start_time": "2023-02-16T11:34:23.939Z"
   },
   {
    "duration": 167,
    "start_time": "2023-02-16T11:34:40.278Z"
   },
   {
    "duration": 10,
    "start_time": "2023-02-16T11:34:53.542Z"
   },
   {
    "duration": 15,
    "start_time": "2023-02-16T11:35:08.766Z"
   },
   {
    "duration": 8,
    "start_time": "2023-02-16T11:35:33.463Z"
   },
   {
    "duration": 476,
    "start_time": "2023-02-17T08:20:39.202Z"
   },
   {
    "duration": 3151,
    "start_time": "2023-02-17T08:20:39.857Z"
   },
   {
    "duration": 200,
    "start_time": "2023-02-17T08:20:43.010Z"
   },
   {
    "duration": 443,
    "start_time": "2023-02-17T08:20:44.346Z"
   },
   {
    "duration": 1011,
    "start_time": "2023-02-17T08:20:46.083Z"
   },
   {
    "duration": 125,
    "start_time": "2023-02-17T08:20:48.778Z"
   },
   {
    "duration": 352,
    "start_time": "2023-02-17T08:21:41.198Z"
   },
   {
    "duration": 71,
    "start_time": "2023-02-17T08:21:42.322Z"
   },
   {
    "duration": 429,
    "start_time": "2023-02-17T08:21:54.329Z"
   },
   {
    "duration": 964,
    "start_time": "2023-02-17T08:21:54.760Z"
   },
   {
    "duration": 201,
    "start_time": "2023-02-17T08:21:55.726Z"
   },
   {
    "duration": 462,
    "start_time": "2023-02-17T08:21:55.929Z"
   },
   {
    "duration": 939,
    "start_time": "2023-02-17T08:21:56.394Z"
   },
   {
    "duration": 138,
    "start_time": "2023-02-17T08:21:57.335Z"
   },
   {
    "duration": 14,
    "start_time": "2023-02-17T08:22:01.117Z"
   },
   {
    "duration": 83,
    "start_time": "2023-02-17T08:22:03.072Z"
   },
   {
    "duration": 350,
    "start_time": "2023-02-17T08:22:05.032Z"
   },
   {
    "duration": 12,
    "start_time": "2023-02-17T08:24:30.217Z"
   },
   {
    "duration": 11,
    "start_time": "2023-02-17T08:24:50.538Z"
   },
   {
    "duration": 106,
    "start_time": "2023-02-17T08:25:21.410Z"
   },
   {
    "duration": 4221,
    "start_time": "2023-02-17T08:26:25.281Z"
   },
   {
    "duration": 115,
    "start_time": "2023-02-17T08:27:28.411Z"
   },
   {
    "duration": 9,
    "start_time": "2023-02-17T08:27:41.123Z"
   },
   {
    "duration": 9,
    "start_time": "2023-02-17T08:27:46.355Z"
   },
   {
    "duration": 194,
    "start_time": "2023-02-17T08:27:51.915Z"
   },
   {
    "duration": 150,
    "start_time": "2023-02-17T08:28:30.228Z"
   },
   {
    "duration": 142,
    "start_time": "2023-02-17T08:28:34.803Z"
   },
   {
    "duration": 72,
    "start_time": "2023-02-17T08:29:02.771Z"
   },
   {
    "duration": 143,
    "start_time": "2023-02-17T08:29:06.715Z"
   },
   {
    "duration": 145,
    "start_time": "2023-02-17T08:29:53.188Z"
   },
   {
    "duration": 77,
    "start_time": "2023-02-17T08:30:21.836Z"
   },
   {
    "duration": 153,
    "start_time": "2023-02-17T08:30:27.923Z"
   },
   {
    "duration": 10,
    "start_time": "2023-02-17T08:31:00.156Z"
   },
   {
    "duration": 10,
    "start_time": "2023-02-17T08:31:03.452Z"
   },
   {
    "duration": 9,
    "start_time": "2023-02-17T08:31:07.353Z"
   },
   {
    "duration": 9,
    "start_time": "2023-02-17T08:31:11.668Z"
   },
   {
    "duration": 12,
    "start_time": "2023-02-17T08:33:49.510Z"
   },
   {
    "duration": 76,
    "start_time": "2023-02-17T08:34:43.102Z"
   },
   {
    "duration": 12,
    "start_time": "2023-02-17T08:34:47.102Z"
   },
   {
    "duration": 208,
    "start_time": "2023-02-17T08:35:45.207Z"
   },
   {
    "duration": 82,
    "start_time": "2023-02-17T08:36:12.263Z"
   },
   {
    "duration": 25,
    "start_time": "2023-02-17T08:36:21.124Z"
   },
   {
    "duration": 251,
    "start_time": "2023-02-17T08:36:27.615Z"
   },
   {
    "duration": 251,
    "start_time": "2023-02-17T08:36:31.355Z"
   },
   {
    "duration": 21,
    "start_time": "2023-02-17T08:36:34.815Z"
   },
   {
    "duration": 31,
    "start_time": "2023-02-17T08:36:37.866Z"
   },
   {
    "duration": 29,
    "start_time": "2023-02-17T08:36:49.495Z"
   },
   {
    "duration": 40,
    "start_time": "2023-02-17T08:36:57.407Z"
   },
   {
    "duration": 37,
    "start_time": "2023-02-17T08:37:03.687Z"
   },
   {
    "duration": 3682,
    "start_time": "2023-02-17T08:37:49.967Z"
   },
   {
    "duration": 1026,
    "start_time": "2023-02-17T08:37:53.660Z"
   },
   {
    "duration": 211,
    "start_time": "2023-02-17T08:37:54.688Z"
   },
   {
    "duration": 493,
    "start_time": "2023-02-17T08:37:54.901Z"
   },
   {
    "duration": 1012,
    "start_time": "2023-02-17T08:37:55.396Z"
   },
   {
    "duration": 176,
    "start_time": "2023-02-17T08:37:56.410Z"
   },
   {
    "duration": 15,
    "start_time": "2023-02-17T08:37:56.588Z"
   },
   {
    "duration": 128,
    "start_time": "2023-02-17T08:37:56.605Z"
   },
   {
    "duration": 373,
    "start_time": "2023-02-17T08:37:56.735Z"
   },
   {
    "duration": 100,
    "start_time": "2023-02-17T08:37:57.110Z"
   },
   {
    "duration": 178,
    "start_time": "2023-02-17T08:37:57.212Z"
   },
   {
    "duration": 12,
    "start_time": "2023-02-17T08:38:02.579Z"
   },
   {
    "duration": 200,
    "start_time": "2023-02-17T08:38:06.969Z"
   },
   {
    "duration": 116,
    "start_time": "2023-02-17T08:38:08.002Z"
   },
   {
    "duration": 24,
    "start_time": "2023-02-17T08:38:12.863Z"
   },
   {
    "duration": 38,
    "start_time": "2023-02-17T08:38:18.585Z"
   },
   {
    "duration": 41,
    "start_time": "2023-02-17T08:40:10.715Z"
   },
   {
    "duration": 54,
    "start_time": "2023-02-17T11:22:41.837Z"
   },
   {
    "duration": 7,
    "start_time": "2023-02-17T11:22:42.296Z"
   },
   {
    "duration": 3846,
    "start_time": "2023-02-17T11:22:46.016Z"
   },
   {
    "duration": 1054,
    "start_time": "2023-02-17T11:22:49.864Z"
   },
   {
    "duration": 197,
    "start_time": "2023-02-17T11:22:51.831Z"
   },
   {
    "duration": 502,
    "start_time": "2023-02-17T11:22:53.329Z"
   },
   {
    "duration": 1005,
    "start_time": "2023-02-17T11:22:54.832Z"
   },
   {
    "duration": 133,
    "start_time": "2023-02-17T11:22:55.927Z"
   },
   {
    "duration": 12,
    "start_time": "2023-02-17T11:22:56.989Z"
   },
   {
    "duration": 89,
    "start_time": "2023-02-17T11:22:58.184Z"
   },
   {
    "duration": 375,
    "start_time": "2023-02-17T11:22:59.272Z"
   },
   {
    "duration": 98,
    "start_time": "2023-02-17T11:23:01.000Z"
   },
   {
    "duration": 157,
    "start_time": "2023-02-17T11:23:02.984Z"
   },
   {
    "duration": 9,
    "start_time": "2023-02-17T11:23:04.176Z"
   },
   {
    "duration": 206,
    "start_time": "2023-02-17T11:23:06.184Z"
   },
   {
    "duration": 36,
    "start_time": "2023-02-17T11:23:07.376Z"
   },
   {
    "duration": 58,
    "start_time": "2023-02-17T11:31:55.221Z"
   },
   {
    "duration": 7,
    "start_time": "2023-02-17T11:33:00.213Z"
   },
   {
    "duration": 61,
    "start_time": "2023-02-17T11:33:47.885Z"
   },
   {
    "duration": 7,
    "start_time": "2023-02-17T11:34:15.779Z"
   },
   {
    "duration": 8,
    "start_time": "2023-02-17T11:34:28.422Z"
   },
   {
    "duration": 7,
    "start_time": "2023-02-17T11:34:43.702Z"
   },
   {
    "duration": 7,
    "start_time": "2023-02-17T11:34:54.605Z"
   },
   {
    "duration": 7,
    "start_time": "2023-02-17T11:35:09.326Z"
   },
   {
    "duration": 14,
    "start_time": "2023-02-17T11:35:19.247Z"
   },
   {
    "duration": 9,
    "start_time": "2023-02-17T11:35:29.860Z"
   },
   {
    "duration": 7,
    "start_time": "2023-02-17T11:35:57.863Z"
   },
   {
    "duration": 77,
    "start_time": "2023-02-17T11:36:14.503Z"
   },
   {
    "duration": 5,
    "start_time": "2023-02-17T11:36:30.823Z"
   },
   {
    "duration": 5,
    "start_time": "2023-02-17T11:36:33.936Z"
   },
   {
    "duration": 11,
    "start_time": "2023-02-17T11:36:38.725Z"
   },
   {
    "duration": 5,
    "start_time": "2023-02-17T11:36:42.807Z"
   },
   {
    "duration": 9,
    "start_time": "2023-02-17T11:37:19.562Z"
   },
   {
    "duration": 6,
    "start_time": "2023-02-17T11:37:27.872Z"
   },
   {
    "duration": 7,
    "start_time": "2023-02-17T11:37:40.224Z"
   },
   {
    "duration": 20,
    "start_time": "2023-02-17T11:38:01.239Z"
   },
   {
    "duration": 24,
    "start_time": "2023-02-17T11:43:38.772Z"
   },
   {
    "duration": 3620,
    "start_time": "2023-02-17T11:44:26.175Z"
   },
   {
    "duration": 1116,
    "start_time": "2023-02-17T11:44:29.796Z"
   },
   {
    "duration": 254,
    "start_time": "2023-02-17T11:44:30.914Z"
   },
   {
    "duration": 510,
    "start_time": "2023-02-17T11:44:31.170Z"
   },
   {
    "duration": 992,
    "start_time": "2023-02-17T11:44:31.682Z"
   },
   {
    "duration": 146,
    "start_time": "2023-02-17T11:44:32.676Z"
   },
   {
    "duration": 12,
    "start_time": "2023-02-17T11:44:32.823Z"
   },
   {
    "duration": 100,
    "start_time": "2023-02-17T11:44:32.851Z"
   },
   {
    "duration": 414,
    "start_time": "2023-02-17T11:44:33.474Z"
   },
   {
    "duration": 169,
    "start_time": "2023-02-17T11:44:35.698Z"
   },
   {
    "duration": 12,
    "start_time": "2023-02-17T11:44:36.690Z"
   },
   {
    "duration": 210,
    "start_time": "2023-02-17T11:44:37.386Z"
   },
   {
    "duration": 33,
    "start_time": "2023-02-17T11:44:46.905Z"
   },
   {
    "duration": 53,
    "start_time": "2023-02-17T11:44:56.074Z"
   },
   {
    "duration": 9,
    "start_time": "2023-02-17T11:44:59.587Z"
   },
   {
    "duration": 7,
    "start_time": "2023-02-17T11:45:00.766Z"
   },
   {
    "duration": 62,
    "start_time": "2023-02-17T11:46:17.643Z"
   },
   {
    "duration": 26,
    "start_time": "2023-02-17T11:46:27.129Z"
   },
   {
    "duration": 15,
    "start_time": "2023-02-17T11:46:33.587Z"
   },
   {
    "duration": 3674,
    "start_time": "2023-02-17T11:46:55.561Z"
   },
   {
    "duration": 1176,
    "start_time": "2023-02-17T11:46:59.238Z"
   },
   {
    "duration": 263,
    "start_time": "2023-02-17T11:47:00.416Z"
   },
   {
    "duration": 579,
    "start_time": "2023-02-17T11:47:00.683Z"
   },
   {
    "duration": 1337,
    "start_time": "2023-02-17T11:47:06.348Z"
   },
   {
    "duration": 183,
    "start_time": "2023-02-17T11:47:08.877Z"
   },
   {
    "duration": 13,
    "start_time": "2023-02-17T11:47:11.261Z"
   },
   {
    "duration": 99,
    "start_time": "2023-02-17T11:47:12.636Z"
   },
   {
    "duration": 464,
    "start_time": "2023-02-17T11:47:15.030Z"
   },
   {
    "duration": 6,
    "start_time": "2023-02-17T11:47:29.140Z"
   },
   {
    "duration": 9,
    "start_time": "2023-02-17T11:47:40.333Z"
   },
   {
    "duration": 10,
    "start_time": "2023-02-17T11:47:50.677Z"
   },
   {
    "duration": 8,
    "start_time": "2023-02-17T11:48:06.429Z"
   },
   {
    "duration": 16,
    "start_time": "2023-02-17T11:48:17.446Z"
   },
   {
    "duration": 159,
    "start_time": "2023-02-17T11:48:28.770Z"
   },
   {
    "duration": 13,
    "start_time": "2023-02-17T11:48:33.667Z"
   },
   {
    "duration": 32,
    "start_time": "2023-02-17T11:48:57.154Z"
   },
   {
    "duration": 13,
    "start_time": "2023-02-17T11:49:03.423Z"
   },
   {
    "duration": 62,
    "start_time": "2023-02-17T11:49:10.918Z"
   },
   {
    "duration": 91,
    "start_time": "2023-02-17T11:49:18.077Z"
   },
   {
    "duration": 10,
    "start_time": "2023-02-17T11:49:21.325Z"
   },
   {
    "duration": 7,
    "start_time": "2023-02-17T11:49:25.270Z"
   },
   {
    "duration": 23,
    "start_time": "2023-02-17T11:49:28.568Z"
   },
   {
    "duration": 23,
    "start_time": "2023-02-17T11:49:38.790Z"
   },
   {
    "duration": 31,
    "start_time": "2023-02-17T11:49:44.095Z"
   },
   {
    "duration": 15,
    "start_time": "2023-02-17T11:49:51.103Z"
   },
   {
    "duration": 16,
    "start_time": "2023-02-17T11:49:57.065Z"
   },
   {
    "duration": 31,
    "start_time": "2023-02-17T11:50:06.118Z"
   },
   {
    "duration": 7,
    "start_time": "2023-02-17T11:50:30.295Z"
   },
   {
    "duration": 178,
    "start_time": "2023-02-17T11:51:21.726Z"
   },
   {
    "duration": 1939,
    "start_time": "2023-02-17T11:51:59.888Z"
   },
   {
    "duration": 261,
    "start_time": "2023-02-17T11:52:30.121Z"
   },
   {
    "duration": 272,
    "start_time": "2023-02-17T11:52:40.669Z"
   },
   {
    "duration": 250,
    "start_time": "2023-02-17T11:52:49.832Z"
   },
   {
    "duration": 255,
    "start_time": "2023-02-17T11:53:01.649Z"
   },
   {
    "duration": 158,
    "start_time": "2023-02-17T11:53:30.144Z"
   },
   {
    "duration": 210,
    "start_time": "2023-02-17T11:53:44.555Z"
   },
   {
    "duration": 326,
    "start_time": "2023-02-17T11:54:17.092Z"
   },
   {
    "duration": 152,
    "start_time": "2023-02-17T11:54:30.855Z"
   },
   {
    "duration": 163,
    "start_time": "2023-02-17T11:54:39.697Z"
   },
   {
    "duration": 152,
    "start_time": "2023-02-17T11:55:09.972Z"
   },
   {
    "duration": 218,
    "start_time": "2023-02-17T11:55:17.706Z"
   },
   {
    "duration": 243,
    "start_time": "2023-02-17T11:55:51.781Z"
   },
   {
    "duration": 245,
    "start_time": "2023-02-17T11:55:56.820Z"
   },
   {
    "duration": 251,
    "start_time": "2023-02-17T11:56:02.046Z"
   },
   {
    "duration": 152,
    "start_time": "2023-02-17T11:56:16.898Z"
   },
   {
    "duration": 6,
    "start_time": "2023-02-17T11:56:48.539Z"
   },
   {
    "duration": 6,
    "start_time": "2023-02-17T11:57:42.234Z"
   },
   {
    "duration": 38,
    "start_time": "2023-02-17T12:02:43.844Z"
   },
   {
    "duration": 12,
    "start_time": "2023-02-17T12:02:53.046Z"
   },
   {
    "duration": 9,
    "start_time": "2023-02-17T12:03:02.526Z"
   },
   {
    "duration": 118,
    "start_time": "2023-02-17T12:03:56.574Z"
   },
   {
    "duration": 4023,
    "start_time": "2023-02-17T12:04:30.356Z"
   },
   {
    "duration": 3716,
    "start_time": "2023-02-17T12:04:43.275Z"
   },
   {
    "duration": 18,
    "start_time": "2023-02-17T12:04:49.839Z"
   },
   {
    "duration": 15,
    "start_time": "2023-02-17T12:04:58.431Z"
   },
   {
    "duration": 18,
    "start_time": "2023-02-17T12:05:06.170Z"
   },
   {
    "duration": 179,
    "start_time": "2023-02-17T12:05:16.346Z"
   },
   {
    "duration": 11559,
    "start_time": "2023-02-17T12:07:07.609Z"
   },
   {
    "duration": 104146,
    "start_time": "2023-02-17T12:07:29.764Z"
   },
   {
    "duration": 451,
    "start_time": "2023-02-17T12:10:10.603Z"
   },
   {
    "duration": 309,
    "start_time": "2023-02-17T12:11:00.882Z"
   },
   {
    "duration": 327,
    "start_time": "2023-02-17T12:11:06.680Z"
   },
   {
    "duration": 342,
    "start_time": "2023-02-17T12:11:51.036Z"
   },
   {
    "duration": 4068,
    "start_time": "2023-02-17T12:12:17.020Z"
   },
   {
    "duration": 1232,
    "start_time": "2023-02-17T12:12:21.091Z"
   },
   {
    "duration": 250,
    "start_time": "2023-02-17T12:12:22.326Z"
   },
   {
    "duration": 564,
    "start_time": "2023-02-17T12:12:22.845Z"
   },
   {
    "duration": 1193,
    "start_time": "2023-02-17T12:12:23.894Z"
   },
   {
    "duration": 148,
    "start_time": "2023-02-17T12:12:25.090Z"
   },
   {
    "duration": 21,
    "start_time": "2023-02-17T12:12:25.527Z"
   },
   {
    "duration": 99,
    "start_time": "2023-02-17T12:12:25.773Z"
   },
   {
    "duration": 431,
    "start_time": "2023-02-17T12:12:25.969Z"
   },
   {
    "duration": 207,
    "start_time": "2023-02-17T12:12:28.311Z"
   },
   {
    "duration": 460,
    "start_time": "2023-02-17T12:12:29.310Z"
   },
   {
    "duration": 10,
    "start_time": "2023-02-17T12:12:41.221Z"
   },
   {
    "duration": 25,
    "start_time": "2023-02-17T12:13:12.239Z"
   },
   {
    "duration": 34,
    "start_time": "2023-02-17T12:13:14.094Z"
   },
   {
    "duration": 66,
    "start_time": "2023-02-17T12:13:18.877Z"
   },
   {
    "duration": 11,
    "start_time": "2023-02-17T12:13:23.806Z"
   },
   {
    "duration": 182,
    "start_time": "2023-02-17T12:13:25.214Z"
   },
   {
    "duration": 13,
    "start_time": "2023-02-17T12:13:26.376Z"
   },
   {
    "duration": 52,
    "start_time": "2023-02-17T12:13:28.288Z"
   },
   {
    "duration": 6,
    "start_time": "2023-02-17T12:13:51.176Z"
   },
   {
    "duration": 30,
    "start_time": "2023-02-17T12:14:05.471Z"
   },
   {
    "duration": 33,
    "start_time": "2023-02-17T12:14:51.311Z"
   },
   {
    "duration": 84,
    "start_time": "2023-02-17T12:15:15.400Z"
   },
   {
    "duration": 48,
    "start_time": "2023-02-17T12:16:27.680Z"
   },
   {
    "duration": 10,
    "start_time": "2023-02-17T12:17:26.512Z"
   },
   {
    "duration": 16,
    "start_time": "2023-02-17T12:18:02.424Z"
   },
   {
    "duration": 135,
    "start_time": "2023-02-17T12:18:18.375Z"
   },
   {
    "duration": 185,
    "start_time": "2023-02-17T12:18:24.471Z"
   },
   {
    "duration": 414,
    "start_time": "2023-02-17T12:21:32.370Z"
   },
   {
    "duration": 335,
    "start_time": "2023-02-17T12:21:55.441Z"
   },
   {
    "duration": 308,
    "start_time": "2023-02-17T12:22:04.280Z"
   },
   {
    "duration": 292,
    "start_time": "2023-02-17T12:22:10.889Z"
   },
   {
    "duration": 168,
    "start_time": "2023-02-17T12:22:55.665Z"
   },
   {
    "duration": 143,
    "start_time": "2023-02-17T12:23:08.376Z"
   },
   {
    "duration": 160,
    "start_time": "2023-02-17T12:23:45.761Z"
   },
   {
    "duration": 36,
    "start_time": "2023-02-17T12:31:39.484Z"
   },
   {
    "duration": 44,
    "start_time": "2023-02-17T12:33:32.973Z"
   },
   {
    "duration": 48,
    "start_time": "2023-02-17T12:33:39.971Z"
   },
   {
    "duration": 132,
    "start_time": "2023-02-17T12:33:50.776Z"
   },
   {
    "duration": 233,
    "start_time": "2023-02-17T12:34:40.302Z"
   },
   {
    "duration": 47,
    "start_time": "2023-02-17T12:34:43.474Z"
   },
   {
    "duration": 45,
    "start_time": "2023-02-17T12:36:43.902Z"
   },
   {
    "duration": 15,
    "start_time": "2023-02-17T12:38:05.518Z"
   },
   {
    "duration": 14,
    "start_time": "2023-02-17T12:39:02.576Z"
   },
   {
    "duration": 3732,
    "start_time": "2023-02-17T12:40:26.575Z"
   },
   {
    "duration": 1198,
    "start_time": "2023-02-17T12:40:30.309Z"
   },
   {
    "duration": 221,
    "start_time": "2023-02-17T12:40:32.506Z"
   },
   {
    "duration": 544,
    "start_time": "2023-02-17T12:40:33.030Z"
   },
   {
    "duration": 1119,
    "start_time": "2023-02-17T12:40:34.477Z"
   },
   {
    "duration": 183,
    "start_time": "2023-02-17T12:40:36.954Z"
   },
   {
    "duration": 13,
    "start_time": "2023-02-17T12:40:38.597Z"
   },
   {
    "duration": 100,
    "start_time": "2023-02-17T12:40:39.734Z"
   },
   {
    "duration": 388,
    "start_time": "2023-02-17T12:40:45.979Z"
   },
   {
    "duration": 223,
    "start_time": "2023-02-17T12:40:47.902Z"
   },
   {
    "duration": 309,
    "start_time": "2023-02-17T12:40:49.580Z"
   },
   {
    "duration": 10,
    "start_time": "2023-02-17T12:40:50.775Z"
   },
   {
    "duration": 26,
    "start_time": "2023-02-17T12:40:51.430Z"
   },
   {
    "duration": 58,
    "start_time": "2023-02-17T12:40:52.831Z"
   },
   {
    "duration": 78,
    "start_time": "2023-02-17T12:40:53.317Z"
   },
   {
    "duration": 10,
    "start_time": "2023-02-17T12:40:53.831Z"
   },
   {
    "duration": 167,
    "start_time": "2023-02-17T12:40:54.376Z"
   },
   {
    "duration": 7,
    "start_time": "2023-02-17T12:40:55.006Z"
   },
   {
    "duration": 42,
    "start_time": "2023-02-17T12:40:55.542Z"
   },
   {
    "duration": 61,
    "start_time": "2023-02-17T12:40:56.118Z"
   },
   {
    "duration": 77,
    "start_time": "2023-02-17T12:40:56.711Z"
   },
   {
    "duration": 24,
    "start_time": "2023-02-17T12:40:57.483Z"
   },
   {
    "duration": 184,
    "start_time": "2023-02-17T12:40:58.206Z"
   },
   {
    "duration": 52,
    "start_time": "2023-02-17T12:40:59.485Z"
   },
   {
    "duration": 46,
    "start_time": "2023-02-17T12:41:00.081Z"
   },
   {
    "duration": 15,
    "start_time": "2023-02-17T12:41:00.806Z"
   },
   {
    "duration": 55,
    "start_time": "2023-02-17T12:41:40.638Z"
   },
   {
    "duration": 331,
    "start_time": "2023-02-17T12:42:41.207Z"
   },
   {
    "duration": 3663,
    "start_time": "2023-02-17T12:43:13.578Z"
   },
   {
    "duration": 1210,
    "start_time": "2023-02-17T12:43:17.243Z"
   },
   {
    "duration": 233,
    "start_time": "2023-02-17T12:43:18.456Z"
   },
   {
    "duration": 500,
    "start_time": "2023-02-17T12:43:18.691Z"
   },
   {
    "duration": 1069,
    "start_time": "2023-02-17T12:43:19.714Z"
   },
   {
    "duration": 151,
    "start_time": "2023-02-17T12:43:20.784Z"
   },
   {
    "duration": 12,
    "start_time": "2023-02-17T12:43:22.034Z"
   },
   {
    "duration": 107,
    "start_time": "2023-02-17T12:43:23.802Z"
   },
   {
    "duration": 398,
    "start_time": "2023-02-17T12:43:24.706Z"
   },
   {
    "duration": 172,
    "start_time": "2023-02-17T12:43:26.338Z"
   },
   {
    "duration": 343,
    "start_time": "2023-02-17T12:43:27.347Z"
   },
   {
    "duration": 21,
    "start_time": "2023-02-17T12:43:28.466Z"
   },
   {
    "duration": 29,
    "start_time": "2023-02-17T12:43:29.546Z"
   },
   {
    "duration": 57,
    "start_time": "2023-02-17T12:43:30.330Z"
   },
   {
    "duration": 53,
    "start_time": "2023-02-17T12:43:30.876Z"
   },
   {
    "duration": 9,
    "start_time": "2023-02-17T12:43:31.418Z"
   },
   {
    "duration": 142,
    "start_time": "2023-02-17T12:43:31.914Z"
   },
   {
    "duration": 7,
    "start_time": "2023-02-17T12:43:32.273Z"
   },
   {
    "duration": 30,
    "start_time": "2023-02-17T12:43:32.715Z"
   },
   {
    "duration": 53,
    "start_time": "2023-02-17T12:43:33.452Z"
   },
   {
    "duration": 60,
    "start_time": "2023-02-17T12:43:34.867Z"
   },
   {
    "duration": 24,
    "start_time": "2023-02-17T12:43:36.667Z"
   },
   {
    "duration": 141,
    "start_time": "2023-02-17T12:43:37.506Z"
   },
   {
    "duration": 45,
    "start_time": "2023-02-17T12:43:39.479Z"
   },
   {
    "duration": 67,
    "start_time": "2023-02-17T12:43:40.322Z"
   },
   {
    "duration": 23,
    "start_time": "2023-02-17T12:43:41.139Z"
   },
   {
    "duration": 30,
    "start_time": "2023-02-17T12:44:50.580Z"
   },
   {
    "duration": 72,
    "start_time": "2023-02-17T12:45:50.524Z"
   },
   {
    "duration": 7,
    "start_time": "2023-02-17T12:46:32.140Z"
   },
   {
    "duration": 8,
    "start_time": "2023-02-17T12:46:40.150Z"
   },
   {
    "duration": 36,
    "start_time": "2023-02-17T12:48:01.685Z"
   },
   {
    "duration": 42,
    "start_time": "2023-02-17T12:48:51.428Z"
   },
   {
    "duration": 21,
    "start_time": "2023-02-17T12:49:24.494Z"
   },
   {
    "duration": 99,
    "start_time": "2023-02-17T12:49:49.639Z"
   },
   {
    "duration": 64,
    "start_time": "2023-02-17T12:52:02.620Z"
   },
   {
    "duration": 122,
    "start_time": "2023-02-17T12:52:27.376Z"
   },
   {
    "duration": 358,
    "start_time": "2023-02-17T12:52:39.924Z"
   },
   {
    "duration": 3,
    "start_time": "2023-02-17T12:55:53.712Z"
   },
   {
    "duration": 3930,
    "start_time": "2023-02-17T12:56:29.282Z"
   },
   {
    "duration": 1214,
    "start_time": "2023-02-17T12:56:33.214Z"
   },
   {
    "duration": 331,
    "start_time": "2023-02-17T12:56:34.430Z"
   },
   {
    "duration": 628,
    "start_time": "2023-02-17T12:56:34.766Z"
   },
   {
    "duration": 1134,
    "start_time": "2023-02-17T12:56:35.396Z"
   },
   {
    "duration": 182,
    "start_time": "2023-02-17T12:56:36.531Z"
   },
   {
    "duration": 16,
    "start_time": "2023-02-17T12:56:36.719Z"
   },
   {
    "duration": 230,
    "start_time": "2023-02-17T12:56:36.737Z"
   },
   {
    "duration": 493,
    "start_time": "2023-02-17T12:56:36.972Z"
   },
   {
    "duration": 192,
    "start_time": "2023-02-17T12:56:37.472Z"
   },
   {
    "duration": 343,
    "start_time": "2023-02-17T12:56:37.670Z"
   },
   {
    "duration": 13,
    "start_time": "2023-02-17T12:56:38.015Z"
   },
   {
    "duration": 40,
    "start_time": "2023-02-17T12:56:38.031Z"
   },
   {
    "duration": 49,
    "start_time": "2023-02-17T12:56:38.074Z"
   },
   {
    "duration": 85,
    "start_time": "2023-02-17T12:56:38.126Z"
   },
   {
    "duration": 7,
    "start_time": "2023-02-17T12:56:38.212Z"
   },
   {
    "duration": 171,
    "start_time": "2023-02-17T12:56:38.220Z"
   },
   {
    "duration": 5,
    "start_time": "2023-02-17T12:56:38.393Z"
   },
   {
    "duration": 65,
    "start_time": "2023-02-17T12:56:38.400Z"
   },
   {
    "duration": 41,
    "start_time": "2023-02-17T12:56:38.473Z"
   },
   {
    "duration": 84,
    "start_time": "2023-02-17T12:56:38.516Z"
   },
   {
    "duration": 20,
    "start_time": "2023-02-17T12:56:38.602Z"
   },
   {
    "duration": 165,
    "start_time": "2023-02-17T12:56:38.624Z"
   },
   {
    "duration": 38,
    "start_time": "2023-02-17T12:56:38.790Z"
   },
   {
    "duration": 77,
    "start_time": "2023-02-17T12:56:38.830Z"
   },
   {
    "duration": 14,
    "start_time": "2023-02-17T12:56:38.909Z"
   },
   {
    "duration": 85,
    "start_time": "2023-02-17T12:56:38.924Z"
   },
   {
    "duration": 43,
    "start_time": "2023-02-17T12:56:39.013Z"
   },
   {
    "duration": 47,
    "start_time": "2023-02-17T12:56:39.683Z"
   },
   {
    "duration": 107,
    "start_time": "2023-02-17T12:56:40.731Z"
   },
   {
    "duration": 3,
    "start_time": "2023-02-17T12:56:42.118Z"
   },
   {
    "duration": 5,
    "start_time": "2023-02-17T12:57:04.679Z"
   },
   {
    "duration": 5,
    "start_time": "2023-02-17T12:57:59.284Z"
   },
   {
    "duration": 4,
    "start_time": "2023-02-17T12:58:30.481Z"
   },
   {
    "duration": 76,
    "start_time": "2023-02-17T12:59:16.936Z"
   },
   {
    "duration": 7,
    "start_time": "2023-02-17T12:59:17.769Z"
   },
   {
    "duration": 415,
    "start_time": "2023-02-17T12:59:48.513Z"
   },
   {
    "duration": 488,
    "start_time": "2023-02-17T12:59:55.409Z"
   },
   {
    "duration": 1405,
    "start_time": "2023-02-17T13:00:17.296Z"
   },
   {
    "duration": 8,
    "start_time": "2023-02-17T13:00:22.675Z"
   },
   {
    "duration": 1270,
    "start_time": "2023-02-17T13:00:22.690Z"
   },
   {
    "duration": 271,
    "start_time": "2023-02-17T13:00:23.968Z"
   },
   {
    "duration": 594,
    "start_time": "2023-02-17T13:00:24.243Z"
   },
   {
    "duration": 1163,
    "start_time": "2023-02-17T13:00:24.840Z"
   },
   {
    "duration": 166,
    "start_time": "2023-02-17T13:00:26.005Z"
   },
   {
    "duration": 15,
    "start_time": "2023-02-17T13:00:26.182Z"
   },
   {
    "duration": 117,
    "start_time": "2023-02-17T13:00:26.199Z"
   },
   {
    "duration": 545,
    "start_time": "2023-02-17T13:00:26.319Z"
   },
   {
    "duration": 240,
    "start_time": "2023-02-17T13:00:26.865Z"
   },
   {
    "duration": 396,
    "start_time": "2023-02-17T13:00:27.107Z"
   },
   {
    "duration": 10,
    "start_time": "2023-02-17T13:00:27.505Z"
   },
   {
    "duration": 40,
    "start_time": "2023-02-17T13:00:27.517Z"
   },
   {
    "duration": 51,
    "start_time": "2023-02-17T13:00:27.565Z"
   },
   {
    "duration": 89,
    "start_time": "2023-02-17T13:00:27.618Z"
   },
   {
    "duration": 6,
    "start_time": "2023-02-17T13:00:27.709Z"
   },
   {
    "duration": 182,
    "start_time": "2023-02-17T13:00:27.717Z"
   },
   {
    "duration": 6,
    "start_time": "2023-02-17T13:00:27.901Z"
   },
   {
    "duration": 53,
    "start_time": "2023-02-17T13:00:27.909Z"
   },
   {
    "duration": 46,
    "start_time": "2023-02-17T13:00:27.965Z"
   },
   {
    "duration": 77,
    "start_time": "2023-02-17T13:00:28.013Z"
   },
   {
    "duration": 18,
    "start_time": "2023-02-17T13:00:28.092Z"
   },
   {
    "duration": 175,
    "start_time": "2023-02-17T13:00:28.112Z"
   },
   {
    "duration": 39,
    "start_time": "2023-02-17T13:00:28.288Z"
   },
   {
    "duration": 86,
    "start_time": "2023-02-17T13:00:28.329Z"
   },
   {
    "duration": 97,
    "start_time": "2023-02-17T13:00:28.417Z"
   },
   {
    "duration": 82,
    "start_time": "2023-02-17T13:00:28.516Z"
   },
   {
    "duration": 33,
    "start_time": "2023-02-17T13:00:28.601Z"
   },
   {
    "duration": 87,
    "start_time": "2023-02-17T13:00:28.636Z"
   },
   {
    "duration": 5,
    "start_time": "2023-02-17T13:00:28.724Z"
   },
   {
    "duration": 455,
    "start_time": "2023-02-17T13:10:58.692Z"
   },
   {
    "duration": 1706,
    "start_time": "2023-02-17T13:14:08.901Z"
   },
   {
    "duration": 1137,
    "start_time": "2023-02-17T13:14:10.609Z"
   },
   {
    "duration": 238,
    "start_time": "2023-02-17T13:14:11.747Z"
   },
   {
    "duration": 531,
    "start_time": "2023-02-17T13:14:11.989Z"
   },
   {
    "duration": 1199,
    "start_time": "2023-02-17T13:14:12.522Z"
   },
   {
    "duration": 248,
    "start_time": "2023-02-17T13:14:13.724Z"
   },
   {
    "duration": 20,
    "start_time": "2023-02-17T13:14:13.975Z"
   },
   {
    "duration": 166,
    "start_time": "2023-02-17T13:14:13.997Z"
   },
   {
    "duration": 558,
    "start_time": "2023-02-17T13:14:14.165Z"
   },
   {
    "duration": 200,
    "start_time": "2023-02-17T13:14:14.726Z"
   },
   {
    "duration": 516,
    "start_time": "2023-02-17T13:14:14.928Z"
   },
   {
    "duration": 25,
    "start_time": "2023-02-17T13:14:15.445Z"
   },
   {
    "duration": 45,
    "start_time": "2023-02-17T13:14:15.474Z"
   },
   {
    "duration": 54,
    "start_time": "2023-02-17T13:14:15.522Z"
   },
   {
    "duration": 65,
    "start_time": "2023-02-17T13:14:15.580Z"
   },
   {
    "duration": 15,
    "start_time": "2023-02-17T13:14:15.647Z"
   },
   {
    "duration": 181,
    "start_time": "2023-02-17T13:14:15.664Z"
   },
   {
    "duration": 19,
    "start_time": "2023-02-17T13:14:15.847Z"
   },
   {
    "duration": 67,
    "start_time": "2023-02-17T13:14:15.869Z"
   },
   {
    "duration": 54,
    "start_time": "2023-02-17T13:14:15.938Z"
   },
   {
    "duration": 50,
    "start_time": "2023-02-17T13:14:15.994Z"
   },
   {
    "duration": 28,
    "start_time": "2023-02-17T13:14:16.056Z"
   },
   {
    "duration": 185,
    "start_time": "2023-02-17T13:14:16.086Z"
   },
   {
    "duration": 53,
    "start_time": "2023-02-17T13:14:16.278Z"
   },
   {
    "duration": 76,
    "start_time": "2023-02-17T13:14:16.334Z"
   },
   {
    "duration": 28,
    "start_time": "2023-02-17T13:14:16.412Z"
   },
   {
    "duration": 81,
    "start_time": "2023-02-17T13:14:16.443Z"
   },
   {
    "duration": 49,
    "start_time": "2023-02-17T13:14:16.527Z"
   },
   {
    "duration": 104,
    "start_time": "2023-02-17T13:14:16.577Z"
   },
   {
    "duration": 15,
    "start_time": "2023-02-17T13:14:16.684Z"
   },
   {
    "duration": 113,
    "start_time": "2023-02-17T13:14:54.614Z"
   },
   {
    "duration": 3,
    "start_time": "2023-02-17T13:20:54.559Z"
   },
   {
    "duration": 1420,
    "start_time": "2023-02-17T13:21:26.524Z"
   },
   {
    "duration": 11,
    "start_time": "2023-02-17T13:21:39.930Z"
   },
   {
    "duration": 12,
    "start_time": "2023-02-17T13:29:33.123Z"
   },
   {
    "duration": 5,
    "start_time": "2023-02-17T13:29:44.432Z"
   },
   {
    "duration": 143,
    "start_time": "2023-02-17T13:32:50.139Z"
   },
   {
    "duration": 5,
    "start_time": "2023-02-17T13:33:05.480Z"
   },
   {
    "duration": 32,
    "start_time": "2023-02-17T13:33:06.073Z"
   },
   {
    "duration": 31,
    "start_time": "2023-02-17T13:35:39.685Z"
   },
   {
    "duration": 35,
    "start_time": "2023-02-17T13:35:58.979Z"
   },
   {
    "duration": 5,
    "start_time": "2023-02-17T13:36:24.287Z"
   },
   {
    "duration": 45,
    "start_time": "2023-02-17T13:36:24.829Z"
   },
   {
    "duration": 49,
    "start_time": "2023-02-17T13:36:41.029Z"
   },
   {
    "duration": 51,
    "start_time": "2023-02-17T13:37:06.718Z"
   },
   {
    "duration": 17,
    "start_time": "2023-02-17T13:38:41.370Z"
   },
   {
    "duration": 10,
    "start_time": "2023-02-17T13:41:51.178Z"
   },
   {
    "duration": 11,
    "start_time": "2023-02-17T13:45:20.405Z"
   },
   {
    "duration": 9,
    "start_time": "2023-02-17T13:45:45.035Z"
   },
   {
    "duration": 73,
    "start_time": "2023-02-17T13:50:26.335Z"
   },
   {
    "duration": 5,
    "start_time": "2023-02-17T13:50:53.742Z"
   },
   {
    "duration": 66,
    "start_time": "2023-02-17T13:51:01.310Z"
   },
   {
    "duration": 12,
    "start_time": "2023-02-17T13:55:06.225Z"
   },
   {
    "duration": 20,
    "start_time": "2023-02-17T13:56:50.441Z"
   },
   {
    "duration": 349493,
    "start_time": "2023-02-17T13:57:14.938Z"
   },
   {
    "duration": 18,
    "start_time": "2023-02-17T14:03:11.493Z"
   },
   {
    "duration": 311899,
    "start_time": "2023-02-17T14:04:29.582Z"
   },
   {
    "duration": 1468869,
    "start_time": "2023-02-17T14:09:54.011Z"
   },
   {
    "duration": 1872475,
    "start_time": "2023-02-17T14:34:46.599Z"
   },
   {
    "duration": 3430577,
    "start_time": "2023-02-17T15:06:26.576Z"
   },
   {
    "duration": 2541170,
    "start_time": "2023-02-17T16:03:42.801Z"
   },
   {
    "duration": 11571377,
    "start_time": "2023-02-17T16:49:05.092Z"
   },
   {
    "duration": 94,
    "start_time": "2023-02-17T20:02:40.968Z"
   },
   {
    "duration": 75724,
    "start_time": "2023-02-17T20:03:08.564Z"
   },
   {
    "duration": 4719,
    "start_time": "2023-02-17T20:04:30.844Z"
   },
   {
    "duration": 1589,
    "start_time": "2023-02-17T20:04:52.543Z"
   },
   {
    "duration": 1033,
    "start_time": "2023-02-17T20:04:54.135Z"
   },
   {
    "duration": 223,
    "start_time": "2023-02-17T20:04:55.170Z"
   },
   {
    "duration": 498,
    "start_time": "2023-02-17T20:04:55.395Z"
   },
   {
    "duration": 1040,
    "start_time": "2023-02-17T20:04:55.895Z"
   },
   {
    "duration": 141,
    "start_time": "2023-02-17T20:04:56.937Z"
   },
   {
    "duration": 12,
    "start_time": "2023-02-17T20:04:57.080Z"
   },
   {
    "duration": 111,
    "start_time": "2023-02-17T20:04:57.093Z"
   },
   {
    "duration": 366,
    "start_time": "2023-02-17T20:04:57.206Z"
   },
   {
    "duration": 180,
    "start_time": "2023-02-17T20:04:57.574Z"
   },
   {
    "duration": 434,
    "start_time": "2023-02-17T20:04:57.756Z"
   },
   {
    "duration": 10,
    "start_time": "2023-02-17T20:04:58.191Z"
   },
   {
    "duration": 21,
    "start_time": "2023-02-17T20:04:58.202Z"
   },
   {
    "duration": 58,
    "start_time": "2023-02-17T20:04:58.226Z"
   },
   {
    "duration": 64,
    "start_time": "2023-02-17T20:04:58.286Z"
   },
   {
    "duration": 11,
    "start_time": "2023-02-17T20:04:58.353Z"
   },
   {
    "duration": 156,
    "start_time": "2023-02-17T20:04:58.370Z"
   },
   {
    "duration": 6,
    "start_time": "2023-02-17T20:04:58.527Z"
   },
   {
    "duration": 57,
    "start_time": "2023-02-17T20:04:58.534Z"
   },
   {
    "duration": 32,
    "start_time": "2023-02-17T20:04:58.592Z"
   },
   {
    "duration": 60,
    "start_time": "2023-02-17T20:04:58.626Z"
   },
   {
    "duration": 22,
    "start_time": "2023-02-17T20:04:58.688Z"
   },
   {
    "duration": 148,
    "start_time": "2023-02-17T20:04:58.711Z"
   },
   {
    "duration": 49,
    "start_time": "2023-02-17T20:04:58.860Z"
   },
   {
    "duration": 54,
    "start_time": "2023-02-17T20:04:58.911Z"
   },
   {
    "duration": 14,
    "start_time": "2023-02-17T20:04:58.967Z"
   },
   {
    "duration": 44,
    "start_time": "2023-02-17T20:04:58.983Z"
   },
   {
    "duration": 51,
    "start_time": "2023-02-17T20:04:59.030Z"
   },
   {
    "duration": 46,
    "start_time": "2023-02-17T20:04:59.083Z"
   },
   {
    "duration": 24,
    "start_time": "2023-02-17T20:04:59.131Z"
   },
   {
    "duration": 14,
    "start_time": "2023-02-17T20:04:59.156Z"
   },
   {
    "duration": 888,
    "start_time": "2023-02-17T20:04:59.172Z"
   },
   {
    "duration": 10,
    "start_time": "2023-02-17T20:05:00.062Z"
   },
   {
    "duration": 32,
    "start_time": "2023-02-17T20:05:00.074Z"
   },
   {
    "duration": 40,
    "start_time": "2023-02-17T20:05:04.245Z"
   },
   {
    "duration": 15425,
    "start_time": "2023-02-17T20:05:09.764Z"
   },
   {
    "duration": 80683,
    "start_time": "2023-02-17T20:06:46.085Z"
   },
   {
    "duration": 201,
    "start_time": "2023-02-17T20:08:15.838Z"
   },
   {
    "duration": 49394,
    "start_time": "2023-02-17T20:08:35.064Z"
   },
   {
    "duration": 79585,
    "start_time": "2023-02-17T20:09:37.367Z"
   },
   {
    "duration": 612613,
    "start_time": "2023-02-17T20:11:40.448Z"
   },
   {
    "duration": 1730174,
    "start_time": "2023-02-17T20:25:36.493Z"
   },
   {
    "duration": 180420,
    "start_time": "2023-02-17T21:01:27.941Z"
   },
   {
    "duration": 4,
    "start_time": "2023-02-17T21:05:25.506Z"
   },
   {
    "duration": 1063203,
    "start_time": "2023-02-17T21:05:31.768Z"
   },
   {
    "duration": 1525471,
    "start_time": "2023-02-17T21:23:18.930Z"
   },
   {
    "duration": 179908,
    "start_time": "2023-02-17T21:53:20.652Z"
   },
   {
    "duration": 6,
    "start_time": "2023-02-17T21:57:44.328Z"
   },
   {
    "duration": 4,
    "start_time": "2023-02-17T22:12:07.089Z"
   },
   {
    "duration": 4,
    "start_time": "2023-02-17T22:12:20.585Z"
   },
   {
    "duration": 4,
    "start_time": "2023-02-17T22:12:29.697Z"
   },
   {
    "duration": 4,
    "start_time": "2023-02-17T22:13:12.217Z"
   },
   {
    "duration": 3,
    "start_time": "2023-02-17T22:13:23.369Z"
   },
   {
    "duration": 551,
    "start_time": "2023-02-18T19:31:28.774Z"
   },
   {
    "duration": 0,
    "start_time": "2023-02-18T19:31:29.328Z"
   },
   {
    "duration": 0,
    "start_time": "2023-02-18T19:31:29.330Z"
   },
   {
    "duration": 0,
    "start_time": "2023-02-18T19:31:29.331Z"
   },
   {
    "duration": 0,
    "start_time": "2023-02-18T19:31:29.332Z"
   },
   {
    "duration": 0,
    "start_time": "2023-02-18T19:31:29.332Z"
   },
   {
    "duration": 0,
    "start_time": "2023-02-18T19:31:29.333Z"
   },
   {
    "duration": 0,
    "start_time": "2023-02-18T19:31:29.335Z"
   },
   {
    "duration": 0,
    "start_time": "2023-02-18T19:31:29.336Z"
   },
   {
    "duration": 0,
    "start_time": "2023-02-18T19:31:29.337Z"
   },
   {
    "duration": 0,
    "start_time": "2023-02-18T19:31:29.354Z"
   },
   {
    "duration": 0,
    "start_time": "2023-02-18T19:31:29.355Z"
   },
   {
    "duration": 0,
    "start_time": "2023-02-18T19:31:29.355Z"
   },
   {
    "duration": 0,
    "start_time": "2023-02-18T19:31:29.356Z"
   },
   {
    "duration": 0,
    "start_time": "2023-02-18T19:31:29.358Z"
   },
   {
    "duration": 0,
    "start_time": "2023-02-18T19:31:29.365Z"
   },
   {
    "duration": 0,
    "start_time": "2023-02-18T19:31:29.366Z"
   },
   {
    "duration": 0,
    "start_time": "2023-02-18T19:31:29.367Z"
   },
   {
    "duration": 1,
    "start_time": "2023-02-18T19:31:29.368Z"
   },
   {
    "duration": 0,
    "start_time": "2023-02-18T19:31:29.370Z"
   },
   {
    "duration": 0,
    "start_time": "2023-02-18T19:31:29.373Z"
   },
   {
    "duration": 0,
    "start_time": "2023-02-18T19:31:29.375Z"
   },
   {
    "duration": 0,
    "start_time": "2023-02-18T19:31:29.376Z"
   },
   {
    "duration": 0,
    "start_time": "2023-02-18T19:31:29.378Z"
   },
   {
    "duration": 0,
    "start_time": "2023-02-18T19:31:29.379Z"
   },
   {
    "duration": 0,
    "start_time": "2023-02-18T19:31:29.380Z"
   },
   {
    "duration": 0,
    "start_time": "2023-02-18T19:31:29.383Z"
   },
   {
    "duration": 0,
    "start_time": "2023-02-18T19:31:29.384Z"
   },
   {
    "duration": 0,
    "start_time": "2023-02-18T19:31:29.385Z"
   },
   {
    "duration": 0,
    "start_time": "2023-02-18T19:31:29.386Z"
   },
   {
    "duration": 0,
    "start_time": "2023-02-18T19:31:29.387Z"
   },
   {
    "duration": 0,
    "start_time": "2023-02-18T19:31:29.388Z"
   },
   {
    "duration": 0,
    "start_time": "2023-02-18T19:31:29.389Z"
   },
   {
    "duration": 0,
    "start_time": "2023-02-18T19:31:29.391Z"
   },
   {
    "duration": 0,
    "start_time": "2023-02-18T19:31:29.394Z"
   },
   {
    "duration": 0,
    "start_time": "2023-02-18T19:31:29.395Z"
   },
   {
    "duration": 0,
    "start_time": "2023-02-18T19:31:29.396Z"
   },
   {
    "duration": 0,
    "start_time": "2023-02-18T19:31:29.397Z"
   },
   {
    "duration": 0,
    "start_time": "2023-02-18T19:31:29.398Z"
   },
   {
    "duration": 0,
    "start_time": "2023-02-18T19:31:29.399Z"
   },
   {
    "duration": 0,
    "start_time": "2023-02-18T19:31:29.400Z"
   },
   {
    "duration": 5097,
    "start_time": "2023-02-18T19:32:19.964Z"
   },
   {
    "duration": 1705,
    "start_time": "2023-02-18T19:32:25.065Z"
   },
   {
    "duration": 350,
    "start_time": "2023-02-18T19:32:26.772Z"
   },
   {
    "duration": 598,
    "start_time": "2023-02-18T19:32:27.125Z"
   },
   {
    "duration": 1244,
    "start_time": "2023-02-18T19:32:27.729Z"
   },
   {
    "duration": 194,
    "start_time": "2023-02-18T19:32:28.975Z"
   },
   {
    "duration": 17,
    "start_time": "2023-02-18T19:32:29.171Z"
   },
   {
    "duration": 132,
    "start_time": "2023-02-18T19:32:29.191Z"
   },
   {
    "duration": 469,
    "start_time": "2023-02-18T19:32:29.327Z"
   },
   {
    "duration": 197,
    "start_time": "2023-02-18T19:32:29.798Z"
   },
   {
    "duration": 443,
    "start_time": "2023-02-18T19:32:29.997Z"
   },
   {
    "duration": 17,
    "start_time": "2023-02-18T19:32:30.442Z"
   },
   {
    "duration": 29,
    "start_time": "2023-02-18T19:32:30.462Z"
   },
   {
    "duration": 43,
    "start_time": "2023-02-18T19:32:30.494Z"
   },
   {
    "duration": 78,
    "start_time": "2023-02-18T19:32:30.553Z"
   },
   {
    "duration": 15,
    "start_time": "2023-02-18T19:32:30.634Z"
   },
   {
    "duration": 194,
    "start_time": "2023-02-18T19:32:30.652Z"
   },
   {
    "duration": 11,
    "start_time": "2023-02-18T19:32:30.847Z"
   },
   {
    "duration": 52,
    "start_time": "2023-02-18T19:32:30.860Z"
   },
   {
    "duration": 42,
    "start_time": "2023-02-18T19:32:30.914Z"
   },
   {
    "duration": 53,
    "start_time": "2023-02-18T19:32:30.957Z"
   },
   {
    "duration": 21,
    "start_time": "2023-02-18T19:32:31.013Z"
   },
   {
    "duration": 175,
    "start_time": "2023-02-18T19:32:31.036Z"
   },
   {
    "duration": 46,
    "start_time": "2023-02-18T19:32:31.213Z"
   },
   {
    "duration": 49,
    "start_time": "2023-02-18T19:32:31.261Z"
   },
   {
    "duration": 15,
    "start_time": "2023-02-18T19:32:31.311Z"
   },
   {
    "duration": 84,
    "start_time": "2023-02-18T19:32:31.328Z"
   },
   {
    "duration": 41,
    "start_time": "2023-02-18T19:32:31.414Z"
   },
   {
    "duration": 67,
    "start_time": "2023-02-18T19:32:31.456Z"
   },
   {
    "duration": 6,
    "start_time": "2023-02-18T19:32:31.525Z"
   },
   {
    "duration": 3,
    "start_time": "2023-02-18T19:32:31.554Z"
   },
   {
    "duration": 894,
    "start_time": "2023-02-18T19:32:31.559Z"
   },
   {
    "duration": 13,
    "start_time": "2023-02-18T19:32:32.457Z"
   },
   {
    "duration": 19,
    "start_time": "2023-02-18T19:32:32.473Z"
   },
   {
    "duration": 76,
    "start_time": "2023-02-18T19:32:32.495Z"
   },
   {
    "duration": 2559588,
    "start_time": "2023-02-18T19:32:32.575Z"
   },
   {
    "duration": 1775893,
    "start_time": "2023-02-18T20:15:12.165Z"
   },
   {
    "duration": 5083,
    "start_time": "2023-02-20T07:10:27.112Z"
   },
   {
    "duration": 3031,
    "start_time": "2023-02-20T07:11:55.075Z"
   },
   {
    "duration": 247,
    "start_time": "2023-02-20T07:12:02.451Z"
   },
   {
    "duration": 483,
    "start_time": "2023-02-20T07:12:07.035Z"
   },
   {
    "duration": 935,
    "start_time": "2023-02-20T07:12:08.442Z"
   },
   {
    "duration": 125,
    "start_time": "2023-02-20T07:12:21.946Z"
   },
   {
    "duration": 15,
    "start_time": "2023-02-20T07:12:28.079Z"
   },
   {
    "duration": 87,
    "start_time": "2023-02-20T07:12:31.298Z"
   },
   {
    "duration": 327,
    "start_time": "2023-02-20T07:12:49.611Z"
   },
   {
    "duration": 188,
    "start_time": "2023-02-20T07:12:55.386Z"
   },
   {
    "duration": 433,
    "start_time": "2023-02-20T07:12:59.786Z"
   },
   {
    "duration": 9,
    "start_time": "2023-02-20T07:13:12.771Z"
   },
   {
    "duration": 21,
    "start_time": "2023-02-20T07:13:13.330Z"
   },
   {
    "duration": 37,
    "start_time": "2023-02-20T07:13:20.011Z"
   },
   {
    "duration": 50,
    "start_time": "2023-02-20T07:14:14.156Z"
   },
   {
    "duration": 7,
    "start_time": "2023-02-20T07:14:15.123Z"
   },
   {
    "duration": 132,
    "start_time": "2023-02-20T07:14:15.787Z"
   },
   {
    "duration": 7,
    "start_time": "2023-02-20T07:14:16.699Z"
   },
   {
    "duration": 34,
    "start_time": "2023-02-20T07:14:18.636Z"
   },
   {
    "duration": 30,
    "start_time": "2023-02-20T07:14:19.251Z"
   },
   {
    "duration": 47,
    "start_time": "2023-02-20T07:14:20.739Z"
   },
   {
    "duration": 18,
    "start_time": "2023-02-20T07:14:22.794Z"
   },
   {
    "duration": 137,
    "start_time": "2023-02-20T07:14:25.427Z"
   },
   {
    "duration": 40,
    "start_time": "2023-02-20T07:14:32.708Z"
   },
   {
    "duration": 45,
    "start_time": "2023-02-20T07:14:37.180Z"
   },
   {
    "duration": 14,
    "start_time": "2023-02-20T07:14:41.435Z"
   },
   {
    "duration": 46,
    "start_time": "2023-02-20T07:14:50.531Z"
   },
   {
    "duration": 22,
    "start_time": "2023-02-20T07:14:52.835Z"
   },
   {
    "duration": 44,
    "start_time": "2023-02-20T07:14:55.003Z"
   },
   {
    "duration": 4,
    "start_time": "2023-02-20T07:14:58.564Z"
   },
   {
    "duration": 12,
    "start_time": "2023-02-20T07:18:16.038Z"
   },
   {
    "duration": 117,
    "start_time": "2023-02-20T07:20:03.021Z"
   },
   {
    "duration": 3,
    "start_time": "2023-02-20T07:20:06.798Z"
   },
   {
    "duration": 909,
    "start_time": "2023-02-20T07:20:07.587Z"
   },
   {
    "duration": 11,
    "start_time": "2023-02-20T07:20:12.741Z"
   },
   {
    "duration": 9,
    "start_time": "2023-02-20T07:20:19.319Z"
   },
   {
    "duration": 9,
    "start_time": "2023-02-20T07:20:37.247Z"
   },
   {
    "duration": 30,
    "start_time": "2023-02-20T07:20:38.447Z"
   },
   {
    "duration": 7,
    "start_time": "2023-02-20T07:25:22.543Z"
   },
   {
    "duration": 2311642,
    "start_time": "2023-02-20T07:25:41.014Z"
   },
   {
    "duration": 349935,
    "start_time": "2023-02-20T08:27:16.499Z"
   },
   {
    "duration": 129,
    "start_time": "2023-02-20T08:33:21.436Z"
   },
   {
    "duration": 2170741,
    "start_time": "2023-02-20T08:33:43.188Z"
   },
   {
    "duration": 2352308,
    "start_time": "2023-02-20T09:17:35.741Z"
   },
   {
    "duration": 2315,
    "start_time": "2023-02-20T10:24:17.370Z"
   },
   {
    "duration": 34960,
    "start_time": "2023-02-20T10:29:13.907Z"
   },
   {
    "duration": 968,
    "start_time": "2023-02-20T10:29:55.486Z"
   },
   {
    "duration": 6,
    "start_time": "2023-02-20T10:30:00.637Z"
   },
   {
    "duration": 65404,
    "start_time": "2023-02-20T10:32:16.589Z"
   },
   {
    "duration": 65467,
    "start_time": "2023-02-20T10:33:39.872Z"
   },
   {
    "duration": 291,
    "start_time": "2023-02-20T10:34:53.780Z"
   },
   {
    "duration": 6,
    "start_time": "2023-02-20T10:35:04.401Z"
   },
   {
    "duration": 53777,
    "start_time": "2023-02-20T10:37:04.462Z"
   },
   {
    "duration": 521,
    "start_time": "2023-02-20T10:38:27.361Z"
   },
   {
    "duration": 6,
    "start_time": "2023-02-20T10:38:50.649Z"
   },
   {
    "duration": 6,
    "start_time": "2023-02-20T10:39:05.135Z"
   },
   {
    "duration": 7,
    "start_time": "2023-02-20T10:39:55.355Z"
   },
   {
    "duration": 6,
    "start_time": "2023-02-20T10:45:19.061Z"
   },
   {
    "duration": 9,
    "start_time": "2023-02-20T10:45:50.797Z"
   },
   {
    "duration": 8,
    "start_time": "2023-02-20T10:46:19.157Z"
   },
   {
    "duration": 15,
    "start_time": "2023-02-20T10:46:58.483Z"
   },
   {
    "duration": 17,
    "start_time": "2023-02-20T10:51:00.056Z"
   },
   {
    "duration": 16,
    "start_time": "2023-02-20T10:51:31.202Z"
   },
   {
    "duration": 14,
    "start_time": "2023-02-20T10:51:54.023Z"
   },
   {
    "duration": 8,
    "start_time": "2023-02-20T10:52:11.815Z"
   },
   {
    "duration": 12,
    "start_time": "2023-02-20T10:52:39.103Z"
   },
   {
    "duration": 16,
    "start_time": "2023-02-20T10:52:42.416Z"
   },
   {
    "duration": 12,
    "start_time": "2023-02-20T10:52:51.384Z"
   },
   {
    "duration": 11,
    "start_time": "2023-02-20T10:52:58.431Z"
   },
   {
    "duration": 13,
    "start_time": "2023-02-20T10:54:02.576Z"
   },
   {
    "duration": 12,
    "start_time": "2023-02-20T10:55:06.824Z"
   },
   {
    "duration": 11,
    "start_time": "2023-02-20T10:55:25.091Z"
   },
   {
    "duration": 4144,
    "start_time": "2023-02-20T11:03:21.516Z"
   },
   {
    "duration": 1022,
    "start_time": "2023-02-20T11:03:25.662Z"
   },
   {
    "duration": 223,
    "start_time": "2023-02-20T11:03:26.686Z"
   },
   {
    "duration": 527,
    "start_time": "2023-02-20T11:03:26.911Z"
   },
   {
    "duration": 1041,
    "start_time": "2023-02-20T11:03:27.440Z"
   },
   {
    "duration": 143,
    "start_time": "2023-02-20T11:03:28.483Z"
   },
   {
    "duration": 13,
    "start_time": "2023-02-20T11:03:28.628Z"
   },
   {
    "duration": 100,
    "start_time": "2023-02-20T11:03:28.643Z"
   },
   {
    "duration": 353,
    "start_time": "2023-02-20T11:03:28.746Z"
   },
   {
    "duration": 187,
    "start_time": "2023-02-20T11:03:29.101Z"
   },
   {
    "duration": 445,
    "start_time": "2023-02-20T11:03:29.290Z"
   },
   {
    "duration": 10,
    "start_time": "2023-02-20T11:03:29.737Z"
   },
   {
    "duration": 25,
    "start_time": "2023-02-20T11:03:29.749Z"
   },
   {
    "duration": 34,
    "start_time": "2023-02-20T11:03:29.778Z"
   },
   {
    "duration": 71,
    "start_time": "2023-02-20T11:03:29.814Z"
   },
   {
    "duration": 6,
    "start_time": "2023-02-20T11:03:29.887Z"
   },
   {
    "duration": 167,
    "start_time": "2023-02-20T11:03:29.895Z"
   },
   {
    "duration": 7,
    "start_time": "2023-02-20T11:03:30.064Z"
   },
   {
    "duration": 63,
    "start_time": "2023-02-20T11:03:30.073Z"
   },
   {
    "duration": 115,
    "start_time": "2023-02-20T11:03:30.137Z"
   },
   {
    "duration": 160,
    "start_time": "2023-02-20T11:03:30.254Z"
   },
   {
    "duration": 57,
    "start_time": "2023-02-20T11:03:30.416Z"
   },
   {
    "duration": 235,
    "start_time": "2023-02-20T11:03:30.475Z"
   },
   {
    "duration": 40,
    "start_time": "2023-02-20T11:03:30.712Z"
   },
   {
    "duration": 83,
    "start_time": "2023-02-20T11:03:30.753Z"
   },
   {
    "duration": 101,
    "start_time": "2023-02-20T11:03:30.838Z"
   },
   {
    "duration": 77,
    "start_time": "2023-02-20T11:03:30.941Z"
   },
   {
    "duration": 28,
    "start_time": "2023-02-20T11:03:31.020Z"
   },
   {
    "duration": 102,
    "start_time": "2023-02-20T11:03:31.050Z"
   },
   {
    "duration": 58,
    "start_time": "2023-02-20T11:03:31.154Z"
   },
   {
    "duration": 52,
    "start_time": "2023-02-20T11:03:31.214Z"
   },
   {
    "duration": 41,
    "start_time": "2023-02-20T11:03:31.268Z"
   },
   {
    "duration": 953,
    "start_time": "2023-02-20T11:03:31.311Z"
   },
   {
    "duration": 9,
    "start_time": "2023-02-20T11:03:32.265Z"
   },
   {
    "duration": 63,
    "start_time": "2023-02-20T11:03:32.276Z"
   },
   {
    "duration": 2199112,
    "start_time": "2023-02-20T11:03:32.340Z"
   },
   {
    "duration": 1835277,
    "start_time": "2023-02-20T11:40:11.454Z"
   },
   {
    "duration": 242724,
    "start_time": "2023-02-20T12:10:46.733Z"
   },
   {
    "duration": 33335,
    "start_time": "2023-02-20T12:14:49.459Z"
   },
   {
    "duration": 925,
    "start_time": "2023-02-20T12:15:22.796Z"
   },
   {
    "duration": 13,
    "start_time": "2023-02-20T12:15:23.725Z"
   },
   {
    "duration": 64381,
    "start_time": "2023-02-20T12:15:23.739Z"
   },
   {
    "duration": 262,
    "start_time": "2023-02-20T12:16:28.122Z"
   },
   {
    "duration": 6,
    "start_time": "2023-02-20T12:16:28.386Z"
   },
   {
    "duration": 10865,
    "start_time": "2023-02-20T12:16:28.393Z"
   },
   {
    "duration": 507,
    "start_time": "2023-02-20T12:16:39.339Z"
   },
   {
    "duration": 6,
    "start_time": "2023-02-20T12:16:39.848Z"
   },
   {
    "duration": 13,
    "start_time": "2023-02-20T12:16:39.855Z"
   },
   {
    "duration": 76,
    "start_time": "2023-02-20T12:16:39.869Z"
   },
   {
    "duration": 11,
    "start_time": "2023-02-20T13:46:15.576Z"
   },
   {
    "duration": 5412,
    "start_time": "2023-02-22T11:38:10.030Z"
   },
   {
    "duration": 3182,
    "start_time": "2023-02-22T11:38:15.445Z"
   },
   {
    "duration": 210,
    "start_time": "2023-02-22T11:38:18.629Z"
   },
   {
    "duration": 497,
    "start_time": "2023-02-22T11:38:18.841Z"
   },
   {
    "duration": 1036,
    "start_time": "2023-02-22T11:38:19.341Z"
   },
   {
    "duration": 140,
    "start_time": "2023-02-22T11:38:20.379Z"
   },
   {
    "duration": 13,
    "start_time": "2023-02-22T11:38:21.118Z"
   },
   {
    "duration": 105,
    "start_time": "2023-02-22T11:38:21.721Z"
   },
   {
    "duration": 437,
    "start_time": "2023-02-22T11:38:22.476Z"
   },
   {
    "duration": 186,
    "start_time": "2023-02-22T11:38:24.226Z"
   },
   {
    "duration": 446,
    "start_time": "2023-02-22T11:38:24.675Z"
   },
   {
    "duration": 10,
    "start_time": "2023-02-22T11:38:29.127Z"
   },
   {
    "duration": 20,
    "start_time": "2023-02-22T11:38:29.579Z"
   },
   {
    "duration": 34,
    "start_time": "2023-02-22T11:38:33.866Z"
   },
   {
    "duration": 48,
    "start_time": "2023-02-22T11:38:34.381Z"
   },
   {
    "duration": 7,
    "start_time": "2023-02-22T11:38:38.267Z"
   },
   {
    "duration": 131,
    "start_time": "2023-02-22T11:38:38.867Z"
   },
   {
    "duration": 7,
    "start_time": "2023-02-22T11:39:51.217Z"
   },
   {
    "duration": 35,
    "start_time": "2023-02-22T11:40:06.819Z"
   },
   {
    "duration": 101,
    "start_time": "2023-02-22T11:40:35.250Z"
   },
   {
    "duration": 89,
    "start_time": "2023-02-22T11:40:46.179Z"
   },
   {
    "duration": 4132,
    "start_time": "2023-02-22T11:41:05.313Z"
   },
   {
    "duration": 1049,
    "start_time": "2023-02-22T11:41:09.448Z"
   },
   {
    "duration": 150,
    "start_time": "2023-02-22T11:41:15.330Z"
   },
   {
    "duration": 150,
    "start_time": "2023-02-22T11:41:24.518Z"
   },
   {
    "duration": 4105,
    "start_time": "2023-02-22T11:41:40.674Z"
   },
   {
    "duration": 1146,
    "start_time": "2023-02-22T11:41:49.718Z"
   },
   {
    "duration": 168,
    "start_time": "2023-02-22T11:41:52.738Z"
   },
   {
    "duration": 504,
    "start_time": "2023-02-22T11:42:07.250Z"
   },
   {
    "duration": 1103,
    "start_time": "2023-02-22T11:42:08.621Z"
   },
   {
    "duration": 138,
    "start_time": "2023-02-22T11:42:09.850Z"
   },
   {
    "duration": 14,
    "start_time": "2023-02-22T11:42:11.321Z"
   },
   {
    "duration": 93,
    "start_time": "2023-02-22T11:42:11.731Z"
   },
   {
    "duration": 438,
    "start_time": "2023-02-22T11:42:12.164Z"
   },
   {
    "duration": 187,
    "start_time": "2023-02-22T11:42:13.222Z"
   },
   {
    "duration": 481,
    "start_time": "2023-02-22T11:42:14.059Z"
   },
   {
    "duration": 10,
    "start_time": "2023-02-22T11:42:15.213Z"
   },
   {
    "duration": 33,
    "start_time": "2023-02-22T11:42:15.939Z"
   },
   {
    "duration": 36,
    "start_time": "2023-02-22T11:42:16.750Z"
   },
   {
    "duration": 54,
    "start_time": "2023-02-22T11:42:17.491Z"
   },
   {
    "duration": 8,
    "start_time": "2023-02-22T11:42:18.586Z"
   },
   {
    "duration": 146,
    "start_time": "2023-02-22T11:42:19.069Z"
   },
   {
    "duration": 8,
    "start_time": "2023-02-22T11:42:19.715Z"
   },
   {
    "duration": 37,
    "start_time": "2023-02-22T11:42:21.586Z"
   },
   {
    "duration": 33,
    "start_time": "2023-02-22T11:42:23.977Z"
   },
   {
    "duration": 54,
    "start_time": "2023-02-22T11:42:25.442Z"
   },
   {
    "duration": 17,
    "start_time": "2023-02-22T11:42:27.355Z"
   },
   {
    "duration": 156,
    "start_time": "2023-02-22T11:42:28.054Z"
   },
   {
    "duration": 36,
    "start_time": "2023-02-22T11:42:29.491Z"
   },
   {
    "duration": 47,
    "start_time": "2023-02-22T11:42:32.266Z"
   },
   {
    "duration": 14,
    "start_time": "2023-02-22T11:42:33.510Z"
   },
   {
    "duration": 52,
    "start_time": "2023-02-22T11:42:34.227Z"
   },
   {
    "duration": 23,
    "start_time": "2023-02-22T11:42:35.918Z"
   },
   {
    "duration": 55,
    "start_time": "2023-02-22T11:42:36.226Z"
   },
   {
    "duration": 5,
    "start_time": "2023-02-22T11:42:38.209Z"
   },
   {
    "duration": 12,
    "start_time": "2023-02-22T11:43:26.916Z"
   },
   {
    "duration": 13,
    "start_time": "2023-02-22T11:43:55.342Z"
   },
   {
    "duration": 71,
    "start_time": "2023-02-22T11:43:56.863Z"
   },
   {
    "duration": 17,
    "start_time": "2023-02-22T11:44:31.829Z"
   },
   {
    "duration": 2,
    "start_time": "2023-02-22T11:44:48.381Z"
   },
   {
    "duration": 737,
    "start_time": "2023-02-22T11:46:06.315Z"
   },
   {
    "duration": 201,
    "start_time": "2023-02-22T11:46:56.085Z"
   },
   {
    "duration": 183,
    "start_time": "2023-02-22T11:47:07.790Z"
   },
   {
    "duration": 32,
    "start_time": "2023-02-22T11:48:43.734Z"
   },
   {
    "duration": 3916,
    "start_time": "2023-02-22T11:49:09.648Z"
   },
   {
    "duration": 989,
    "start_time": "2023-02-22T11:49:14.416Z"
   },
   {
    "duration": 150,
    "start_time": "2023-02-22T11:49:15.408Z"
   },
   {
    "duration": 488,
    "start_time": "2023-02-22T11:49:15.560Z"
   },
   {
    "duration": 1036,
    "start_time": "2023-02-22T11:49:16.050Z"
   },
   {
    "duration": 150,
    "start_time": "2023-02-22T11:49:17.089Z"
   },
   {
    "duration": 14,
    "start_time": "2023-02-22T11:49:17.241Z"
   },
   {
    "duration": 101,
    "start_time": "2023-02-22T11:49:17.257Z"
   },
   {
    "duration": 393,
    "start_time": "2023-02-22T11:49:17.360Z"
   },
   {
    "duration": 187,
    "start_time": "2023-02-22T11:49:17.755Z"
   },
   {
    "duration": 433,
    "start_time": "2023-02-22T11:49:18.621Z"
   },
   {
    "duration": 9,
    "start_time": "2023-02-22T11:49:19.057Z"
   },
   {
    "duration": 35,
    "start_time": "2023-02-22T11:49:19.689Z"
   },
   {
    "duration": 52,
    "start_time": "2023-02-22T11:49:20.457Z"
   },
   {
    "duration": 55,
    "start_time": "2023-02-22T11:49:20.819Z"
   },
   {
    "duration": 8,
    "start_time": "2023-02-22T11:49:21.448Z"
   },
   {
    "duration": 149,
    "start_time": "2023-02-22T11:49:21.883Z"
   },
   {
    "duration": 7,
    "start_time": "2023-02-22T11:49:22.246Z"
   },
   {
    "duration": 43,
    "start_time": "2023-02-22T11:49:22.619Z"
   },
   {
    "duration": 55,
    "start_time": "2023-02-22T11:49:23.518Z"
   },
   {
    "duration": 49,
    "start_time": "2023-02-22T11:49:24.180Z"
   },
   {
    "duration": 21,
    "start_time": "2023-02-22T11:49:25.361Z"
   },
   {
    "duration": 133,
    "start_time": "2023-02-22T11:49:25.689Z"
   },
   {
    "duration": 33,
    "start_time": "2023-02-22T11:49:26.338Z"
   },
   {
    "duration": 48,
    "start_time": "2023-02-22T11:49:27.520Z"
   },
   {
    "duration": 14,
    "start_time": "2023-02-22T11:49:28.606Z"
   },
   {
    "duration": 44,
    "start_time": "2023-02-22T11:49:29.066Z"
   },
   {
    "duration": 22,
    "start_time": "2023-02-22T11:49:30.219Z"
   },
   {
    "duration": 43,
    "start_time": "2023-02-22T11:49:31.207Z"
   },
   {
    "duration": 5,
    "start_time": "2023-02-22T11:49:32.674Z"
   },
   {
    "duration": 11,
    "start_time": "2023-02-22T11:49:41.339Z"
   },
   {
    "duration": 14,
    "start_time": "2023-02-22T11:49:44.398Z"
   },
   {
    "duration": 69,
    "start_time": "2023-02-22T11:49:46.066Z"
   },
   {
    "duration": 3,
    "start_time": "2023-02-22T11:49:47.153Z"
   },
   {
    "duration": 705,
    "start_time": "2023-02-22T11:49:49.257Z"
   },
   {
    "duration": 175,
    "start_time": "2023-02-22T11:49:51.330Z"
   },
   {
    "duration": 2089910,
    "start_time": "2023-02-22T11:53:46.281Z"
   },
   {
    "duration": 360234,
    "start_time": "2023-02-22T12:36:30.416Z"
   },
   {
    "duration": 31561,
    "start_time": "2023-02-22T12:42:33.094Z"
   },
   {
    "duration": 1884011,
    "start_time": "2023-02-22T12:43:06.694Z"
   },
   {
    "duration": 1920766,
    "start_time": "2023-02-22T13:17:32.620Z"
   },
   {
    "duration": 10,
    "start_time": "2023-02-22T14:01:10.082Z"
   },
   {
    "duration": 8,
    "start_time": "2023-02-22T14:01:22.106Z"
   },
   {
    "duration": 808033,
    "start_time": "2023-02-22T14:12:45.917Z"
   },
   {
    "duration": 39157,
    "start_time": "2023-02-22T15:34:35.278Z"
   },
   {
    "duration": 3765,
    "start_time": "2023-02-22T15:35:14.442Z"
   },
   {
    "duration": 5,
    "start_time": "2023-02-22T15:35:18.209Z"
   },
   {
    "duration": 78029,
    "start_time": "2023-02-22T15:35:55.590Z"
   },
   {
    "duration": 1177,
    "start_time": "2023-02-22T15:37:13.621Z"
   },
   {
    "duration": 6,
    "start_time": "2023-02-22T15:37:14.800Z"
   },
   {
    "duration": 9,
    "start_time": "2023-02-22T15:49:29.406Z"
   },
   {
    "duration": 12,
    "start_time": "2023-02-22T22:48:22.644Z"
   },
   {
    "duration": 10204,
    "start_time": "2023-02-22T22:48:42.444Z"
   },
   {
    "duration": 1907,
    "start_time": "2023-02-22T22:48:52.650Z"
   },
   {
    "duration": 5,
    "start_time": "2023-02-22T22:48:54.559Z"
   },
   {
    "duration": 11,
    "start_time": "2023-02-22T22:49:28.093Z"
   },
   {
    "duration": 15,
    "start_time": "2023-02-22T22:55:16.301Z"
   },
   {
    "duration": 9,
    "start_time": "2023-02-22T22:55:35.824Z"
   },
   {
    "duration": 4,
    "start_time": "2023-02-22T22:57:42.753Z"
   },
   {
    "duration": 64,
    "start_time": "2023-02-22T22:58:26.210Z"
   },
   {
    "duration": 59994,
    "start_time": "2023-02-22T22:59:07.962Z"
   },
   {
    "duration": 300,
    "start_time": "2023-02-22T23:00:07.958Z"
   },
   {
    "duration": 5,
    "start_time": "2023-02-22T23:00:08.260Z"
   },
   {
    "duration": 89,
    "start_time": "2023-02-22T23:03:17.668Z"
   },
   {
    "duration": 83,
    "start_time": "2023-02-22T23:08:27.325Z"
   }
  ],
  "kernelspec": {
   "display_name": "Python 3 (ipykernel)",
   "language": "python",
   "name": "python3"
  },
  "language_info": {
   "codemirror_mode": {
    "name": "ipython",
    "version": 3
   },
   "file_extension": ".py",
   "mimetype": "text/x-python",
   "name": "python",
   "nbconvert_exporter": "python",
   "pygments_lexer": "ipython3",
   "version": "3.9.16"
  },
  "toc": {
   "base_numbering": 1,
   "nav_menu": {},
   "number_sections": true,
   "sideBar": true,
   "skip_h1_title": true,
   "title_cell": "Table of Contents",
   "title_sidebar": "Contents",
   "toc_cell": false,
   "toc_position": {},
   "toc_section_display": true,
   "toc_window_display": false
  }
 },
 "nbformat": 4,
 "nbformat_minor": 2
}
